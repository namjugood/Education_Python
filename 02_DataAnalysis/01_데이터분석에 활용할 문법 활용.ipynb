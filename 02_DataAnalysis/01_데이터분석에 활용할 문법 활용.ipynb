{
 "cells": [
  {
   "cell_type": "code",
   "execution_count": 1,
   "metadata": {},
   "outputs": [
    {
     "name": "stdout",
     "output_type": "stream",
     "text": [
      "['The', 'quick', 'brown', 'fox', 'jumps', 'over', 'the', 'lazy', 'dog']\n"
     ]
    }
   ],
   "source": [
    "# split() : 괄호안에 지정한 문자를 기준으로 문자열을 분해\n",
    "# (아무것도 지정하지않고 괄호만 있으면 공백-spacebar을 기준으로 분해)\n",
    "# 결과는 리스트 형태로 리턴됩니다\n",
    "string = \"The quick brown fox jumps over the lazy dog\"\n",
    "string_list = string.split()\n",
    "print(string_list)"
   ]
  },
  {
   "cell_type": "code",
   "execution_count": 2,
   "metadata": {},
   "outputs": [
    {
     "name": "stdout",
     "output_type": "stream",
     "text": [
      " 6x 3=18\n",
      " 6x 3=18\n"
     ]
    }
   ],
   "source": [
    "# print문의 출력 양식 지정 두 가지\n",
    "print(\"%2dx%2d=%2d\" % (6, 3, 6*3))\n",
    "print(\"{0:2d}x{1:2d}={2:2d}\".format(6, 3, 6*3))"
   ]
  },
  {
   "cell_type": "code",
   "execution_count": 3,
   "metadata": {},
   "outputs": [],
   "source": [
    "# 날짜 데이터\n",
    "from datetime import date, time, datetime, timedelta"
   ]
  },
  {
   "cell_type": "code",
   "execution_count": 4,
   "metadata": {},
   "outputs": [
    {
     "name": "stdout",
     "output_type": "stream",
     "text": [
      "today: 2021-03-02\n",
      "년 : 2021\n",
      "월 : 3\n",
      "일 : 2\n"
     ]
    }
   ],
   "source": [
    "# 오늘 날짜를 얻어서 변수에 저장\n",
    "today = date.today()\n",
    "print(\"today: {0!s}\" .format(today))  # today값 오늘날짜\n",
    "print(\"년 : {0!s}\" .format(today.year))  #년도\n",
    "print(\"월 : {0!s}\" .format(today.month))  #월\n",
    "print(\"일 : {0!s}\" .format(today.day))  #일"
   ]
  },
  {
   "cell_type": "code",
   "execution_count": 6,
   "metadata": {},
   "outputs": [
    {
     "name": "stdout",
     "output_type": "stream",
     "text": [
      "날짜시간: 2021-03-02 13:26:32.956125\n",
      "시 : 13\n",
      "분 : 26\n",
      "초 : 32\n"
     ]
    }
   ],
   "source": [
    "# time 시간데이터를 따로 다루는 경우도 있지만, \n",
    "# 시간데이터는 보통 datetime을 이용하여 시간과 날짜를 한 번에 쓰는 경우가 많습니다\n",
    "current_datetime=datetime.today() # 현재시간까지 포함한 오늘 날짜 추출\n",
    "print(\"날짜시간: {0!s}\" .format(current_datetime))  # 오늘 날짜와 현재시간 출력\n",
    "print(\"시 : {0!s}\" .format(current_datetime.hour))  \n",
    "print(\"분 : {0!s}\" .format(current_datetime.minute)) \n",
    "print(\"초 : {0!s}\" .format(current_datetime.second)) \n",
    "# {0!s} : format에 의해 출력으로 전달된 데이터가 문자형이 아니더라도 문자로 출력"
   ]
  },
  {
   "cell_type": "code",
   "execution_count": 7,
   "metadata": {},
   "outputs": [
    {
     "name": "stdout",
     "output_type": "stream",
     "text": [
      "yesterday: 2021-03-01\n"
     ]
    }
   ],
   "source": [
    "# 오늘기준 하루 전날 출력하기\n",
    "# \"상대적 날짜 -1일\" 이라는 날짜데이터를 생성 -> one_day 변수에 저장\n",
    "# 시간의 질량 값(~시간, ~분)\n",
    "one_day = timedelta(days=-1)\n",
    "# -1일을 오늘 날짜에 합산하고 그 결과를 yesterday에 저장\n",
    "yesterday = today + one_day\n",
    "# yesterday 출력\n",
    "print(\"yesterday: {0!s}\".format(yesterday))"
   ]
  },
  {
   "cell_type": "code",
   "execution_count": 8,
   "metadata": {},
   "outputs": [
    {
     "name": "stdout",
     "output_type": "stream",
     "text": [
      "-1\n",
      "57600\n"
     ]
    }
   ],
   "source": [
    "# -8시간 저장\n",
    "eight_hours = timedelta(hours=-8)\n",
    "# -8에 대한 day값과 second값\n",
    "print(\"{0!s}\".format(eight_hours.days))  # 하루가 시작하는 0시 기준 -8시간 : 1일전\n",
    "print(\"{0!s}\".format(eight_hours.seconds))\n",
    "# 60초 * 60분 * 8시간 = 28,800\n",
    "# 60초 * 60분 * 24시간 = 86,400\n",
    "# -28,800이라는 시간은 어제의 86,400(24시간)-28,800(-8시간)\n",
    "# 출력 : 57,600\n",
    "# 날짜는 1일전의 날짜"
   ]
  },
  {
   "cell_type": "code",
   "execution_count": 11,
   "metadata": {},
   "outputs": [
    {
     "name": "stdout",
     "output_type": "stream",
     "text": [
      "03/02/2021\n",
      "Mar 02, 2021\n",
      "2021-03-02\n",
      "March 02, 2021\n"
     ]
    }
   ],
   "source": [
    "print(\"{:s}\".format(today.strftime('%m/%d/%Y')))\n",
    "print(\"{:s}\".format(today.strftime('%b %d, %Y')))\n",
    "print(\"{:s}\".format(today.strftime('%Y-%m-%d')))\n",
    "print(\"{:s}\".format(today.strftime('%B %d, %Y')))"
   ]
  },
  {
   "cell_type": "code",
   "execution_count": 15,
   "metadata": {},
   "outputs": [
    {
     "name": "stdout",
     "output_type": "stream",
     "text": [
      "[0, 1, 2, 3, 4, 5, 6, 7, 8, 9]\n",
      "[0, 1, 2, 3, 4, 5, 6, 7, 8, 9]\n",
      "[0, 1, 4, 9, 16, 25, 36, 49, 64, 81]\n"
     ]
    }
   ],
   "source": [
    "# 반복실행문의 간단 사용\n",
    "myData = [0,1,2,3,4,5,6,7,8,9]\n",
    "\n",
    "# 반복실행문의 일반 사용 예\n",
    "copyMyData = []\n",
    "for x in myData :\n",
    "    copyMyData.append(x)\n",
    "print(copyMyData)\n",
    "\n",
    "# 반복실행문의 간단 사용 예\n",
    "copyMyData = [ x for x in myData]\n",
    "# 반복문에 의해 생성된 0,1,2,3,4,5,6,7,8,9 가 []에 전달\n",
    "# for문 안에 있는 x값을 꺼내놓는 형식, 꺼낸 값은 다음값에 의해\n",
    "# 없어지는것이 아니라 계속 남아 있음\n",
    "print(copyMyData)\n",
    "\n",
    "# x for x in myData : myData 리스트에 있는 값들이 x 변수에 전달되어 반복실행\n",
    "# 반복실행 안에서 실행해야 할 내용이 x변수를 이용한 단순연산에 가깝다면,\n",
    "# 아래의 내용은 반복실행 앞에서 x변수로 연산식을 표현해줍니다\n",
    "copyMyData = [x*x for x in myData]\n",
    "print(copyMyData)\n",
    "# x*x for x in myData 이 명령의 실행결과는 0, 1, 4, 9 ... 이므로,\n",
    "# 명령의 외부에서 이를 리스트나 튜플로 만들 때, 다수의 값으로 연산할 수 있는\n",
    "# 함수에 적용하고자 하는 동작이 필요합니다\n",
    "# 위의 예제는 x*x for x in myData 명령을 [ ]로 감싸서 결과들의 리스트를 생성했습니다"
   ]
  },
  {
   "cell_type": "code",
   "execution_count": 17,
   "metadata": {},
   "outputs": [
    {
     "name": "stdout",
     "output_type": "stream",
     "text": [
      "[5, 6, 7, 8, 9]\n",
      "[10, 12, 14, 16, 18]\n",
      "[25, 36, 49, 64, 81]\n"
     ]
    }
   ],
   "source": [
    "myData = [0,1,2,3,4,5,6,7,8,9]\n",
    "# 간결하게 실행되는 for문 축약 - if문 적용\n",
    "resultList = [ x for x in myData if x>=5 ]\n",
    "print(resultList)\n",
    "resultList = [ x*2 for x in myData if x>=5 ]\n",
    "print(resultList)\n",
    "resultList = [ x*x for x in myData if x>=5 ]\n",
    "print(resultList)"
   ]
  },
  {
   "cell_type": "code",
   "execution_count": 18,
   "metadata": {},
   "outputs": [
    {
     "name": "stdout",
     "output_type": "stream",
     "text": [
      "[[4, 5, 6], [7, 8, 9]]\n"
     ]
    }
   ],
   "source": [
    "myData = [ [1,2,3],[4,5,6],[7,8,9] ]\n",
    "resultList = [ row for row in myData if row[2] > 5 ]\n",
    "print(resultList)"
   ]
  },
  {
   "cell_type": "code",
   "execution_count": 19,
   "metadata": {},
   "outputs": [
    {
     "name": "stdout",
     "output_type": "stream",
     "text": [
      "{'customer2': 9, 'customer3': 11}\n"
     ]
    }
   ],
   "source": [
    "# 딕셔너리 데이터에 조건을 적용한 필터링(간략 for문 사용)\n",
    "my_dictionary = { 'customer1':7, 'customer2':9, 'customer3':11 }\n",
    "# items()함수를 이용하여 키 값과 밸류 값을 key, value에 차례로 전달\n",
    "# if문에 의하여 value값이 10초과인 것만 골라서 key:value 구성 후\n",
    "# { } 딕셔너리로 구성\n",
    "my_results = {key : value for key, value in my_dictionary.items() if value > 8}\n",
    "print(my_results)"
   ]
  },
  {
   "cell_type": "markdown",
   "metadata": {},
   "source": [
    "### 파이썬 데이터 분석에 필수로 사용되는 모듈\n",
    "#### import pandas as pd - 판다스 : 데이터 가공 처리에 필요한 기능 제공\n",
    "#### import numpy as np - 넘파이 : 수학적인 처리에 필요한 기능 제공\n",
    "* as 뒤의 단어는 import문 이후에 사용할 모듈의 별칭"
   ]
  },
  {
   "cell_type": "code",
   "execution_count": 20,
   "metadata": {},
   "outputs": [],
   "source": [
    "import pandas as pd\n",
    "import numpy as np"
   ]
  },
  {
   "cell_type": "markdown",
   "metadata": {},
   "source": [
    "* 넘파이의 np.arange(10,22)는 10부터 21까지의 숫자발생\n",
    "* reshape(3,4)는 최초 생성된 1행 12열짜리 (10~21)모양을 3행 4열로 변경"
   ]
  },
  {
   "cell_type": "code",
   "execution_count": 23,
   "metadata": {},
   "outputs": [
    {
     "name": "stdout",
     "output_type": "stream",
     "text": [
      "[10 11 12 13 14 15 16 17 18 19 20 21]\n",
      "[[10 11 12 13]\n",
      " [14 15 16 17]\n",
      " [18 19 20 21]]\n"
     ]
    }
   ],
   "source": [
    "a = np.arange(10,22)\n",
    "# 넘파이의 arange의 결과는 리스트가 아니라 1행 12열짜리 행렬로 리턴됩니다\n",
    "print(a)\n",
    "b = a.reshape(3,4)\n",
    "# 실행결과는 3행 4열짜리 행렬\n",
    "print(b)\n",
    "# 2차원 리스트와 다르게 \",\"가 없음"
   ]
  },
  {
   "cell_type": "markdown",
   "metadata": {},
   "source": [
    "* index는 행번호에 사용할 요소를 리스트로 입력받는 요소\n",
    "* columns는 열제목으로 사용할 요소를 리스트로 입력 받는 요소\n",
    "* 판다스의 DataFrame : 행과 열로 이루어져있는 판다스의 대표적 2차원 데이터 구조\n",
    "* 한 개의 열을 의미하는 Series들이 모여 만들어진 구조입니다.\n",
    "* 판다스의 Series : 한 개의 열 이름과 다수의 값들이 존재하는 1차원 데이터 구조"
   ]
  },
  {
   "cell_type": "code",
   "execution_count": 24,
   "metadata": {},
   "outputs": [
    {
     "name": "stdout",
     "output_type": "stream",
     "text": [
      "    A   B   C   D\n",
      "a  10  11  12  13\n",
      "b  14  15  16  17\n",
      "c  18  19  20  21\n"
     ]
    }
   ],
   "source": [
    "df = pd.DataFrame( b, index=[\"a\", \"b\", \"c\"], columns=[\"A\",\"B\",\"C\",\"D\"])\n",
    "print(df)\n",
    "# 행렬이 아닌 또다른 구조"
   ]
  },
  {
   "cell_type": "code",
   "execution_count": 25,
   "metadata": {},
   "outputs": [
    {
     "name": "stdout",
     "output_type": "stream",
     "text": [
      "A    10\n",
      "B    11\n",
      "C    12\n",
      "D    13\n",
      "Name: a, dtype: int32\n"
     ]
    }
   ],
   "source": [
    "# 행 이름으로 행을 필터링\n",
    "# loc는 [ ]와 함께 사용되는 행 지정 명령\n",
    "# 아래와 같이 사용하면 인덱스 'a'행의 내용을 컬럼 이름과 함께 보여줍니다\n",
    "# 마지막 행에 인덱스의 이름과 자리를 차지하고 있는 데이터의 자료형을 출력합니다\n",
    "# int32는 32비트(4바이트)형 정수\n",
    "print(df.loc['a'])"
   ]
  },
  {
   "cell_type": "code",
   "execution_count": 26,
   "metadata": {},
   "outputs": [
    {
     "name": "stdout",
     "output_type": "stream",
     "text": [
      "a    10\n",
      "b    14\n",
      "c    18\n",
      "Name: A, dtype: int32\n"
     ]
    }
   ],
   "source": [
    "# 열 이름으로 열을 필터링\n",
    "# 열의 필터링은 이미 Series 단위로 구분되어있는 열을 필터링하기 때문에\n",
    "# 아래와 같이 loc없이 열이름만 표현합니다\n",
    "print(df['A'])"
   ]
  },
  {
   "cell_type": "code",
   "execution_count": 28,
   "metadata": {},
   "outputs": [
    {
     "name": "stdout",
     "output_type": "stream",
     "text": [
      "    A   B   C   D\n",
      "b  14  15  16  17\n",
      "c  18  19  20  21\n"
     ]
    }
   ],
   "source": [
    "# 슬라이싱 한 인덱스 적용\n",
    "# 두 개 이상의 인덱스 표현부터 세로로 출력하지 않고 원래의 표 형식을 갖춰서 출력\n",
    "print(df.loc[\"b\":\"c\"])"
   ]
  },
  {
   "cell_type": "code",
   "execution_count": 39,
   "metadata": {},
   "outputs": [
    {
     "name": "stdout",
     "output_type": "stream",
     "text": [
      "    A   B   C   D\n",
      "a  10  11  12  13\n",
      "b  14  15  16  17\n",
      "c  18  19  20  21\n",
      "\n",
      "    A   B   C   D\n",
      "b  14  15  16  17\n",
      "c  18  19  20  21\n"
     ]
    }
   ],
   "source": [
    "print(df[\"B\":])\n",
    "print()\n",
    "# 행의 검색은 index값으로 검색하고, 열 들의 검색을 열의 제목으로 검색합니다\n",
    "# 따라서 열 제목의 검색은 슬라이싱을 적용하지 않고 값에 의한 비교로 주로 적용합니다\n",
    "print( df[ df['A']>=14 ] )\n",
    "\n",
    "# 열의 제목 중 제외하고 싶은 내용은 drop을 이용하여 따로 연산한 결과를 얻거나\n",
    "# 표시하고자 하는 열 제목만 지목하여 필터링합니다(다음 단원에서 자세히 학습)"
   ]
  }
 ],
 "metadata": {
  "kernelspec": {
   "display_name": "Python 3",
   "language": "python",
   "name": "python3"
  },
  "language_info": {
   "codemirror_mode": {
    "name": "ipython",
    "version": 3
   },
   "file_extension": ".py",
   "mimetype": "text/x-python",
   "name": "python",
   "nbconvert_exporter": "python",
   "pygments_lexer": "ipython3",
   "version": "3.8.5"
  }
 },
 "nbformat": 4,
 "nbformat_minor": 4
}
