{
 "cells": [
  {
   "cell_type": "code",
   "execution_count": 1,
   "metadata": {},
   "outputs": [],
   "source": [
    "# 여러 파일의 정보 및 병합 등의 내용\n",
    "import csv\n",
    "# 와일드카드 문자 등을 이용한 다수의 파일을 오픈하고 다룰 수 있게 하는 모듈\n",
    "import glob\n",
    "# 파일의 경로 및 이름을 다루는 모듈\n",
    "import os"
   ]
  },
  {
   "cell_type": "code",
   "execution_count": 2,
   "metadata": {},
   "outputs": [
    {
     "name": "stdout",
     "output_type": "stream",
     "text": [
      "['C:/Users/JAVA01/Python/02_DataAnalysis\\\\sales_february_2014.csv', 'C:/Users/JAVA01/Python/02_DataAnalysis\\\\sales_january_2014.csv', 'C:/Users/JAVA01/Python/02_DataAnalysis\\\\sales_march_2014.csv']\n"
     ]
    }
   ],
   "source": [
    "fileList = glob.glob( os.path.join('C:/Users/JAVA01/Python/02_DataAnalysis', \\\n",
    "                                  'sales_*.csv')) # 경로지정시 '/'나 '\\\\'로 써야함\n",
    "print(fileList)"
   ]
  },
  {
   "cell_type": "code",
   "execution_count": 3,
   "metadata": {},
   "outputs": [
    {
     "name": "stdout",
     "output_type": "stream",
     "text": [
      "sales_february_2014.csv:\t[1:d] rows \t5 columns\n",
      "sales_january_2014.csv:\t[1:d] rows \t5 columns\n",
      "sales_march_2014.csv:\t[1:d] rows \t5 columns\n",
      "Number of files: 3\n"
     ]
    }
   ],
   "source": [
    "file_counter=0\n",
    "for inputFile in fileList:\n",
    "    #print(inputFile)\n",
    "    # 반복실행 중의 각각의 파일 이름으로 파일 오픈\n",
    "    with open(inputFile, 'r', newline='') as csv_in_file:\n",
    "        filereader = csv.reader(csv_in_file)\n",
    "        header = next(filereader)\n",
    "        row_counter = 1\n",
    "        # 헤더 이후의 데이터들로 반복실행\n",
    "        for row in filereader:\n",
    "            row_counter = row_counter + 1\n",
    "    # os.path.basename(input_file) : 파일명\n",
    "    # len(header) : header 리스트의 개수, 열의 개수\n",
    "    print('{0:s}:\\t[1:d] rows \\t{2:d} columns'.format(os.path.basename(inputFile), row_counter, len(header)))\n",
    "    file_counter += 1  # 파일개수 마운트\n",
    "print('Number of files: {0:d}'.format(file_counter))"
   ]
  },
  {
   "cell_type": "code",
   "execution_count": 4,
   "metadata": {},
   "outputs": [
    {
     "name": "stdout",
     "output_type": "stream",
     "text": [
      "['Customer ID', 'Customer Name', 'Invoice Number', 'Sale Amount', 'Purchase Date']\n",
      "['9876', 'Daniel Farber', '100-0008', '$1,115.00', '2/2/14']\n",
      "['8765', 'Laney Stone', '100-0009', '$1,367.00', '2/8/14']\n",
      "['7654', 'Roger Lipney', '100-0010', '$2,135.00', '2/15/14']\n",
      "['6543', 'Thomas Haines', '100-0011', '$1,346.00', '2/17/14']\n",
      "['5432', 'Anushka Vaz', '100-0012', '$1,560.00', '2/21/14']\n",
      "['4321', 'Harriet Cooper', '100-0013', '$1,852.00', '2/25/14']\n",
      "['1234', 'John Smith', '100-0002', '$1,200.00', '1/1/14']\n",
      "['2345', 'Mary Harrison', '100-0003', '$1,425.00', '1/6/14']\n",
      "['3456', 'Lucy Gomez', '100-0004', '$1,390.00', '1/11/14']\n",
      "['4567', 'Rupert Jones', '100-0005', '$1,257.00', '1/18/14']\n",
      "['5678', 'Jenny Walters', '100-0006', '$1,725.00', '1/24/14']\n",
      "['6789', 'Samantha Donaldson', '100-0007', '$1,995.00', '1/31/14']\n",
      "['1234', 'John Smith', '100-0014', '$1,350.00', '3/4/14']\n",
      "['8765', 'Tony Song', '100-0015', '$1,167.00', '3/8/14']\n",
      "['2345', 'Mary Harrison', '100-0016', '$1,789.00', '3/17/14']\n",
      "['6543', 'Rachel Paz', '100-0017', '$2,042.00', '3/22/14']\n",
      "['3456', 'Lucy Gomez', '100-0018', '$1,511.00', '3/28/14']\n",
      "['4321', 'Susan Wallace', '100-0019', '$2,280.00', '3/30/14']\n"
     ]
    }
   ],
   "source": [
    "# 멀티파일 합치기 - 파이썬\n",
    "import csv\n",
    "import glob\n",
    "import os\n",
    "# 첫 번째 읽어온 파일인지에 대한 플래그 변수(표시)\n",
    "firstFile=True\n",
    "# 첫 번째 파일을 읽은 후 false로 값을 변경합니다\n",
    "# 두 번째부터 읽어온 파일에서는 맨 첫 줄을 지나치기 위해 값을 저장 & 활용합니다\n",
    "fileList = glob.glob( os.path.join('C:/Users/JAVA01/Python/02_DataAnalysis','sales_*.csv'))\n",
    "for inputFile in fileList:\n",
    "    with open(inputFile, 'r', newline='\\n') as csv_in_file:\n",
    "        # 파일 쓰기용 open 옵션\n",
    "        # \"w\" : 새로 쓰기\n",
    "        # \"a\" : 이어서 쓰기\n",
    "        with open('salesMergePython.csv', 'a', newline='\\n') as csv_out_file:\n",
    "            filereader = csv.reader(csv_in_file)\n",
    "            filewriter = csv.writer(csv_out_file)\n",
    "            if firstFile :\n",
    "                for row in filereader:\n",
    "                    filewriter.writerow(row)\n",
    "                    print(row)\n",
    "                firstFile = False\n",
    "            else:\n",
    "                header = next(filereader)\n",
    "                for row in filereader:\n",
    "                    filewriter.writerow(row)\n",
    "                    print(row)"
   ]
  },
  {
   "cell_type": "code",
   "execution_count": 5,
   "metadata": {},
   "outputs": [],
   "source": [
    "# 멀티파일 합치기 - 판다스\n",
    "import pandas as pd\n",
    "import glob\n",
    "import os\n",
    "fileList = glob.glob( os.path.join('C:/Users/JAVA01/Python/02_DataAnalysis','sales_*.csv'))\n",
    "all_data_frames = []\n",
    "for file in fileList:\n",
    "    data_frame = pd.read_csv(file, index_col=None)\n",
    "    # print(data_frame)\n",
    "    all_data_frames.append(data_frame)\n",
    "# print()\n",
    "# print(all_data_frames)\n",
    "# axis = 0(행 단위의 처리)\n",
    "# pd.concat() : 데이터 프레임 형식으로 연결, ignore_index=ture : 현재 인덱스 무시\n",
    "data_frame_concat = pd.concat(all_data_frames, axis=0, ignore_index=True)\n",
    "data_frame_concat.to_csv('salseMergePandas.csv', index=False)\n",
    "# print(data_frame_concat)"
   ]
  },
  {
   "cell_type": "code",
   "execution_count": 6,
   "metadata": {},
   "outputs": [
    {
     "name": "stdout",
     "output_type": "stream",
     "text": [
      "['file_name', 'total_sales', 'average_sales']\n",
      "['sales_february_2014.csv', 9375.0, '1562.50']\n",
      "['sales_january_2014.csv', 8992.0, '1498.67']\n",
      "['sales_march_2014.csv', 10139.0, '1689.83']\n"
     ]
    }
   ],
   "source": [
    "# 멀티 파일에서의 합계 평균 - 파이썬\n",
    "import csv\n",
    "import glob\n",
    "import os\n",
    "\n",
    "# 세 개의 파일을 각각 sales_amount에 대해 합계 평균을 내고 한 개의 파일에 씁니다\n",
    "output_header_list = ['file_name','total_sales','average_sales']\n",
    "# with open('SumAverage.csv' ,'a',newline='') as csv_out_file:\n",
    "#    filewriter = csv.writer(csv_out_file)\n",
    "\n",
    "# with를 사용하지 않고 파일 오픈\n",
    "csv_out_file = open('SumAverage.csv', 'w', newline='')\n",
    "filewriter = csv.writer(csv_out_file)\n",
    "\n",
    "# 파일이름, 합계, 평균, 열제목 출력\n",
    "filewriter.writerow(output_header_list)\n",
    "print(output_header_list)\n",
    "\n",
    "fileList = glob.glob( os.path.join('C:/Users/JAVA01/Python/02_DataAnalysis','sales_*.csv'))\n",
    "\n",
    "for inputFile in fileList:\n",
    "    with open(inputFile, 'r', newline='') as csv_in_file:\n",
    "        filereader = csv.reader(csv_in_file)\n",
    "        \n",
    "        # 각 파일별로 출력될 내용이 저장될 리스트를 생성\n",
    "        output_list = []\n",
    "        \n",
    "        # 첫 번째 출력내용 : 경로를 뺀 파일의 이름 output_list에 append\n",
    "        output_list.append(os.path.basename(inputFile))\n",
    "        \n",
    "        # 헤더를 읽어내어 실제 데이터부터 읽어올 준비를 합니다\n",
    "        header = next(filereader)\n",
    "        \n",
    "        # 합계와 개수를 계산하여 저장할 변수들을 생성하고 0으로 초기화\n",
    "        total_sales = 0.0\n",
    "        number_of_sales = 0.0\n",
    "        \n",
    "        # 라인단위의 반복실행\n",
    "        for row in filereader:\n",
    "            # 합계 : Sale Amount 값에서 '$'제거 / 천 단위 구분기호(,) 제거 / float형으로 변환 / total_sales에 합산\n",
    "            total_sales += float( row[3].strip('$').replace(',','') )\n",
    "            number_of_sales += 1.0  # 합산된 Coast 값의 개수 카운트\n",
    "        # 평균 계산 후 소수점 두자리까지로 조절된 문자로 저장\n",
    "        average_sales = '{0:.2f}'.format(total_sales / number_of_sales)\n",
    "        # 출력내용 리스트에 합계, 평균 순으로 저장\n",
    "        output_list.append(total_sales)\n",
    "        output_list.append(average_sales)\n",
    "        # 파일과 화면에 write\n",
    "        filewriter.writerow(output_list)\n",
    "        print(output_list)\n",
    "# with를 사용하지 않았으므로 파일을 close합니다\n",
    "csv_out_file.close()"
   ]
  },
  {
   "cell_type": "code",
   "execution_count": 11,
   "metadata": {},
   "outputs": [
    {
     "name": "stdout",
     "output_type": "stream",
     "text": [
      "average: 0    1350.0\n",
      "dtype: float64\n",
      "average: 0    1258.5\n",
      "dtype: float64\n",
      "average: 0    1435.333333\n",
      "dtype: float64\n",
      "average: 0    1587.0\n",
      "dtype: float64\n",
      "average: 0    1571.8\n",
      "dtype: float64\n",
      "average: 0    1689.833333\n",
      "dtype: float64\n",
      "                 file_name  total_sales  average_sales\n",
      "0  sales_february_2014.csv       1350.0    1350.000000\n",
      "1  sales_february_2014.csv       2517.0    1258.500000\n",
      "2  sales_february_2014.csv       4306.0    1435.333333\n",
      "3  sales_february_2014.csv       6348.0    1587.000000\n",
      "4  sales_february_2014.csv       7859.0    1571.800000\n",
      "5  sales_february_2014.csv      10139.0    1689.833333\n",
      "average: 0    1350.0\n",
      "dtype: float64\n",
      "average: 0    1258.5\n",
      "dtype: float64\n",
      "average: 0    1435.333333\n",
      "dtype: float64\n",
      "average: 0    1587.0\n",
      "dtype: float64\n",
      "average: 0    1571.8\n",
      "dtype: float64\n",
      "average: 0    1689.833333\n",
      "dtype: float64\n",
      "                  file_name  total_sales  average_sales\n",
      "0   sales_february_2014.csv       1350.0    1350.000000\n",
      "1   sales_february_2014.csv       2517.0    1258.500000\n",
      "2   sales_february_2014.csv       4306.0    1435.333333\n",
      "3   sales_february_2014.csv       6348.0    1587.000000\n",
      "4   sales_february_2014.csv       7859.0    1571.800000\n",
      "5   sales_february_2014.csv      10139.0    1689.833333\n",
      "6    sales_january_2014.csv       1350.0    1350.000000\n",
      "7    sales_january_2014.csv       2517.0    1258.500000\n",
      "8    sales_january_2014.csv       4306.0    1435.333333\n",
      "9    sales_january_2014.csv       6348.0    1587.000000\n",
      "10   sales_january_2014.csv       7859.0    1571.800000\n",
      "11   sales_january_2014.csv      10139.0    1689.833333\n",
      "average: 0    1350.0\n",
      "dtype: float64\n",
      "average: 0    1258.5\n",
      "dtype: float64\n",
      "average: 0    1435.333333\n",
      "dtype: float64\n",
      "average: 0    1587.0\n",
      "dtype: float64\n",
      "average: 0    1571.8\n",
      "dtype: float64\n",
      "average: 0    1689.833333\n",
      "dtype: float64\n",
      "                  file_name  total_sales  average_sales\n",
      "0   sales_february_2014.csv       1350.0    1350.000000\n",
      "1   sales_february_2014.csv       2517.0    1258.500000\n",
      "2   sales_february_2014.csv       4306.0    1435.333333\n",
      "3   sales_february_2014.csv       6348.0    1587.000000\n",
      "4   sales_february_2014.csv       7859.0    1571.800000\n",
      "5   sales_february_2014.csv      10139.0    1689.833333\n",
      "6    sales_january_2014.csv       1350.0    1350.000000\n",
      "7    sales_january_2014.csv       2517.0    1258.500000\n",
      "8    sales_january_2014.csv       4306.0    1435.333333\n",
      "9    sales_january_2014.csv       6348.0    1587.000000\n",
      "10   sales_january_2014.csv       7859.0    1571.800000\n",
      "11   sales_january_2014.csv      10139.0    1689.833333\n",
      "12     sales_march_2014.csv       1350.0    1350.000000\n",
      "13     sales_march_2014.csv       2517.0    1258.500000\n",
      "14     sales_march_2014.csv       4306.0    1435.333333\n",
      "15     sales_march_2014.csv       6348.0    1587.000000\n",
      "16     sales_march_2014.csv       7859.0    1571.800000\n",
      "17     sales_march_2014.csv      10139.0    1689.833333\n"
     ]
    }
   ],
   "source": [
    "import pandas as pd\n",
    "import glob\n",
    "import os\n",
    "fileList = glob.glob( os.path.join('C:/Users/JAVA01/Python/02_DataAnalysis','sales_*.csv'))\n",
    "all_data_frames = []\n",
    "for file in fileList:\n",
    "    data_frames = pd.read_csv(file)\n",
    "    # print(data_frame.loc[:,'Sale Amount'])\n",
    "    k = []\n",
    "    for value in data_frame.loc[:, 'Sale Amount']:\n",
    "        # print(value)\n",
    "        k.append( float( value.strip('$').replace(',','') ) )\n",
    "        total_sales=pd.DataFrame(k).sum()\n",
    "        average_sales = pd.DataFrame(k).mean()\n",
    "        print(\"average:\",average_sales)\n",
    "    \n",
    "        # 딕셔너리 형태로 파일이름과 합계 평균을 구성\n",
    "        data = {'file_name' : os.path.basename(file), 'total_sales' : total_sales, \\\n",
    "               'average_sales' : average_sales}\n",
    "        # 생성되어있는 all_data_frames에 하나씩 append합니다\n",
    "        all_data_frames.append(pd.DataFrame (data, columns=['file_name', 'total_sales', 'average_sales']))\n",
    "    # all_data_frames에 들어있는 데이터들을 데이터 프레임 형태로 연결 결합\n",
    "    \n",
    "    data_frames_concat = pd.concat(all_data_frames, axis = 0, ignore_index=True)\n",
    "    data_frames_concat.to_csv('SumAveragePandas.csv', index=False)\n",
    "    print(data_frames_concat)"
   ]
  },
  {
   "cell_type": "markdown",
   "metadata": {},
   "source": [
    "### 세 개 파일의 총 합계 총 평균\n",
    "* 세 개의 파일 모두 읽어옴\n",
    "* 세 개의 파일 내용을 하나로 합침\n",
    "* 평균, 합계 계산\n",
    "* 파일에 출력"
   ]
  },
  {
   "cell_type": "code",
   "execution_count": 68,
   "metadata": {},
   "outputs": [
    {
     "name": "stdout",
     "output_type": "stream",
     "text": [
      "[1350.0, 1167.0, 1789.0, 2042.0, 1511.0, 2280.0, 1350.0, 1167.0, 1789.0, 2042.0, 1511.0, 2280.0, 1350.0, 1167.0, 1789.0, 2042.0, 1511.0, 2280.0]\n",
      "['file_name', 'All_total', 'All_average']\n",
      "['sales_*.csv', 30417.0, 1689.8333333333333]\n"
     ]
    }
   ],
   "source": [
    "import pandas as pd\n",
    "import glob\n",
    "import os\n",
    "import csv\n",
    "fileList = glob.glob( os.path.join('C:/Users/JAVA01/Python/02_DataAnalysis','sales_*.csv'))\n",
    "\n",
    "all_data_frames=[]\n",
    "# 파일별 반복 실행문 시작\n",
    "for file in fileList:\n",
    "    # 파일을 열고\n",
    "    data_frames = pd.read_csv(file)\n",
    "    # 파일을 모두 읽어와서 all_data_frames에 append\n",
    "    all_data_frames.append(data_frame)\n",
    "# 하나의 데이터 프레임으로 연결\n",
    "data_frame_concat = pd.concat(all_data_frames, axis=0, ignore_index=True)\n",
    "# print(data_frame_concat)\n",
    "# 합계 평균 계산\n",
    "# k = []\n",
    "# for value in data_frame_concat.loc[:, 'Sale Amount']:\n",
    "#     k.append( float( value.strip('$').replace(',','') ) )\n",
    "# allTotal = pd.DataFrame(k).sum()\n",
    "# allAverage = pd.DataFrame(k).mean()\n",
    "# k = [ value for value in data_frame_concat.loc[:, 'Sale Amount'] ]\n",
    "# k = [ float( value.strip('$').replace(',','') ) for value in data_frame_concat.loc[:, 'Sale Amount'] ]\n",
    "All_total = pd.DataFrame( [ float( value.strip('$').replace(',','') ) for value in data_frame_concat \\\n",
    "                           .loc[:, 'Sale Amount'] ] ).sum()\n",
    "All_average = pd.DataFrame( [ float( value.strip('$').replace(',','') ) for value in data_frame_concat \\\n",
    "                           .loc[:, 'Sale Amount'] ] ).mean()\n",
    "print(k)\n",
    "\n",
    "# 화면 및 파일 출력\n",
    "# print(All_total)\n",
    "# print(All_average)\n",
    "data_frames_concat.to_csv('SumAveragePandas2.csv', index=False)\n",
    "# 출력 헤더를 저장한 리스트\n",
    "output_header_list = ['file_name', 'All_total', 'All_average']\n",
    "# 출력 파일 오픈\n",
    "csv_out_file = open('out_total_average.csv', 'a', newline='\\n')\n",
    "filewriter = csv.writer(csv_out_file)\n",
    "# 헤더 내용 출력\n",
    "filewriter.writerow(output_header_list)\n",
    "print(output_header_list)\n",
    "# 출력 내용(파일명, 총 합계, 총 평균)을 리스트에 저장\n",
    "output_data_list = ['sales_*.csv', All_total[0], All_average[0] ]\n",
    "# 파일과 화면에 출력\n",
    "filewriter.writerow(output_data_list)\n",
    "print(output_data_list)\n",
    "csv_out_file.close()"
   ]
  },
  {
   "cell_type": "code",
   "execution_count": 3,
   "metadata": {},
   "outputs": [
    {
     "name": "stdout",
     "output_type": "stream",
     "text": [
      "0    9375.0\n",
      "dtype: float64\n",
      "0    1562.5\n",
      "dtype: float64\n",
      "0    8992.0\n",
      "dtype: float64\n",
      "0    1498.666667\n",
      "dtype: float64\n",
      "0    10139.0\n",
      "dtype: float64\n",
      "0    1689.833333\n",
      "dtype: float64\n",
      "                 file_name  All_total  All_average\n",
      "0  sales_february_2014.csv     9375.0  1562.500000\n",
      "1   sales_january_2014.csv     8992.0  1498.666667\n",
      "2     sales_march_2014.csv    10139.0  1689.833333\n",
      "\n"
     ]
    }
   ],
   "source": [
    "# 개별파일에 대한 합계 평균 & 모든 파일에 대한 합계 평균을 한 시트에 표현하기\n",
    "\n",
    "import pandas as pd\n",
    "import glob\n",
    "import os\n",
    "import csv\n",
    "fileList = glob.glob( os.path.join('C:/Users/JAVA01/Python/02_DataAnalysis','sales_*.csv'))\n",
    "all_data_frames=[]\n",
    "\n",
    "# 개별 파일에 대한 합계 평균\n",
    "for file in fileList:\n",
    "    # 파일 오픈\n",
    "    data_frame = pd.read_csv(file, index_col=None)\n",
    "    # 합계 계산(압축 for와 .sum() 사용)\n",
    "    total_sales =pd.DataFrame( [float(  value.strip('$').replace(',','') ) \\\n",
    "                              for value in data_frame.loc[:, 'Sale Amount']]).sum()\n",
    "    # 평균 계산(압축 for와 .mean() 사용)\n",
    "    average_sales =pd.DataFrame( [float(  value.strip('$').replace(',','') ) \\\n",
    "                                for value in data_frame.loc[:, 'Sale Amount']]).mean()\n",
    "    print(total_sales)\n",
    "    print(average_sales)\n",
    "    # 파일 이름과 계산된 값들로 딕셔너리 구성\n",
    "    data = {'file_name' : os.path.basename(file), 'All_total' : total_sales, 'All_average' : average_sales}\n",
    "    # 딕셔너리를 데이터 프레임으로 변환 -> all_data_frames 리스트에 append\n",
    "    all_data_frames.append( pd.DataFrame ( data, columns=['file_name', 'All_total', 'All_average'] ) )\n",
    "# all_data_frames 리스트를 데이터 프레임으로 변환(.concat() 사용)    \n",
    "data_frames_concat = pd.concat(all_data_frames, axis = 0, ignore_index=True)\n",
    "# 데이터 프레임으로 변환된 내용을 출력파일로 출력\n",
    "data_frames_concat.to_csv('Ex1.csv', index=False)\n",
    "print(data_frames_concat)\n",
    "print()\n",
    "\n",
    "# 파일 세 개를 합친 합계 평균\n",
    "\n",
    "    \n",
    "    "
   ]
  },
  {
   "cell_type": "code",
   "execution_count": 9,
   "metadata": {},
   "outputs": [
    {
     "name": "stdout",
     "output_type": "stream",
     "text": [
      "\n",
      "['file_name', 'All_total', 'All_average']\n",
      "['sales_*.csv', 10139.0, 1689.8333333333333]\n"
     ]
    }
   ],
   "source": [
    "for file in fileList:\n",
    "    data_frame = pd.read_csv(file, index_col=None)\n",
    "    all_data_frames.append(data_frame)\n",
    "data_frame_concat = pd.concat(all_data_frames, axis=0, ignore_index=True)\n",
    "total_sales =pd.DataFrame( [float( value.strip('$').replace(',','') ) \\\n",
    "                              for value in data_frame.loc[:, 'Sale Amount']]).sum()\n",
    "average_sales =pd.DataFrame( [float( value.strip('$').replace(',','') ) \\\n",
    "                            for value in data_frame.loc[:, 'Sale Amount']]).mean()\n",
    "output_header_list = ['file_name', 'All_total', 'All_average']\n",
    "csv_out_file = open('Ex1.csv', 'a', newline='\\n')\n",
    "filewriter = csv.writer(csv_out_file)\n",
    "filewriter.writerow('\\n')  # 파일 별 값들과 전체 값들 사이의 공백\n",
    "print()\n",
    "data_frames_concat.to_csv('Ex1.csv', index=False)\n",
    "filewriter.writerow(output_header_list)\n",
    "print(output_header_list)\n",
    "output_data_list = ['sales_*.csv', total_sales[0], average_sales[0] ]\n",
    "filewriter.writerow(output_data_list)\n",
    "print(output_data_list)\n",
    "csv_out_file.close()"
   ]
  },
  {
   "cell_type": "code",
   "execution_count": null,
   "metadata": {},
   "outputs": [],
   "source": []
  }
 ],
 "metadata": {
  "kernelspec": {
   "display_name": "Python 3",
   "language": "python",
   "name": "python3"
  },
  "language_info": {
   "codemirror_mode": {
    "name": "ipython",
    "version": 3
   },
   "file_extension": ".py",
   "mimetype": "text/x-python",
   "name": "python",
   "nbconvert_exporter": "python",
   "pygments_lexer": "ipython3",
   "version": "3.8.5"
  },
  "toc": {
   "base_numbering": 1,
   "nav_menu": {},
   "number_sections": true,
   "sideBar": true,
   "skip_h1_title": false,
   "title_cell": "Table of Contents",
   "title_sidebar": "Contents",
   "toc_cell": false,
   "toc_position": {},
   "toc_section_display": true,
   "toc_window_display": false
  },
  "varInspector": {
   "cols": {
    "lenName": 16,
    "lenType": 16,
    "lenVar": 40
   },
   "kernels_config": {
    "python": {
     "delete_cmd_postfix": "",
     "delete_cmd_prefix": "del ",
     "library": "var_list.py",
     "varRefreshCmd": "print(var_dic_list())"
    },
    "r": {
     "delete_cmd_postfix": ") ",
     "delete_cmd_prefix": "rm(",
     "library": "var_list.r",
     "varRefreshCmd": "cat(var_dic_list()) "
    }
   },
   "types_to_exclude": [
    "module",
    "function",
    "builtin_function_or_method",
    "instance",
    "_Feature"
   ],
   "window_display": false
  }
 },
 "nbformat": 4,
 "nbformat_minor": 4
}
