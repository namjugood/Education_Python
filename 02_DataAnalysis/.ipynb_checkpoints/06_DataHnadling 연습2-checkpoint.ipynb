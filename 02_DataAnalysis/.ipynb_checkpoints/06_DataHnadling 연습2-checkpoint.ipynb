{
 "cells": [
  {
   "cell_type": "code",
   "execution_count": 1,
   "metadata": {},
   "outputs": [],
   "source": [
    "import pandas as pd\n",
    "marathon_2015 = pd.read_csv(\"marathon_results_2015.csv\")\n",
    "marathon_2016 = pd.read_csv(\"marathon_results_2016.csv\")\n",
    "marathon_2017 = pd.read_csv(\"marathon_results_2017.csv\")"
   ]
  },
  {
   "cell_type": "code",
   "execution_count": 2,
   "metadata": {},
   "outputs": [],
   "source": [
    "# 참가년도 컬럼추가\n",
    "marathon_2015['Year'] = '2015'\n",
    "marathon_2016['Year'] = '2016'\n",
    "marathon_2017['Year'] = '2017'"
   ]
  },
  {
   "cell_type": "code",
   "execution_count": 4,
   "metadata": {},
   "outputs": [],
   "source": [
    "marathon_2015_2017 = pd.concat([marathon_2015, marathon_2016, marathon_2017], ignore_index=True)"
   ]
  },
  {
   "cell_type": "code",
   "execution_count": 7,
   "metadata": {},
   "outputs": [
    {
     "data": {
      "text/html": [
       "<div>\n",
       "<style scoped>\n",
       "    .dataframe tbody tr th:only-of-type {\n",
       "        vertical-align: middle;\n",
       "    }\n",
       "\n",
       "    .dataframe tbody tr th {\n",
       "        vertical-align: top;\n",
       "    }\n",
       "\n",
       "    .dataframe thead th {\n",
       "        text-align: right;\n",
       "    }\n",
       "</style>\n",
       "<table border=\"1\" class=\"dataframe\">\n",
       "  <thead>\n",
       "    <tr style=\"text-align: right;\">\n",
       "      <th></th>\n",
       "      <th>Unnamed: 0</th>\n",
       "      <th>Bib</th>\n",
       "      <th>Name</th>\n",
       "      <th>Age</th>\n",
       "      <th>M/F</th>\n",
       "      <th>City</th>\n",
       "      <th>State</th>\n",
       "      <th>Country</th>\n",
       "      <th>Citizen</th>\n",
       "      <th>Unnamed: 9</th>\n",
       "      <th>5K</th>\n",
       "      <th>10K</th>\n",
       "      <th>15K</th>\n",
       "      <th>20K</th>\n",
       "      <th>Half</th>\n",
       "      <th>25K</th>\n",
       "      <th>30K</th>\n",
       "      <th>35K</th>\n",
       "      <th>40K</th>\n",
       "      <th>Pace</th>\n",
       "      <th>Proj Time</th>\n",
       "      <th>Official Time</th>\n",
       "      <th>Overall</th>\n",
       "      <th>Gender</th>\n",
       "      <th>Division</th>\n",
       "      <th>Year</th>\n",
       "      <th>Unnamed: 8</th>\n",
       "    </tr>\n",
       "  </thead>\n",
       "  <tbody>\n",
       "    <tr>\n",
       "      <th>0</th>\n",
       "      <td>0.0</td>\n",
       "      <td>3</td>\n",
       "      <td>Desisa, Lelisa</td>\n",
       "      <td>25</td>\n",
       "      <td>M</td>\n",
       "      <td>Ambo</td>\n",
       "      <td>NaN</td>\n",
       "      <td>ETH</td>\n",
       "      <td>NaN</td>\n",
       "      <td>NaN</td>\n",
       "      <td>0:14:43</td>\n",
       "      <td>0:29:43</td>\n",
       "      <td>0:44:57</td>\n",
       "      <td>1:00:29</td>\n",
       "      <td>1:04:02</td>\n",
       "      <td>1:16:07</td>\n",
       "      <td>1:32:00</td>\n",
       "      <td>1:47:59</td>\n",
       "      <td>2:02:39</td>\n",
       "      <td>0:04:56</td>\n",
       "      <td>-</td>\n",
       "      <td>2:09:17</td>\n",
       "      <td>1</td>\n",
       "      <td>1</td>\n",
       "      <td>1</td>\n",
       "      <td>2015</td>\n",
       "      <td>NaN</td>\n",
       "    </tr>\n",
       "    <tr>\n",
       "      <th>1</th>\n",
       "      <td>1.0</td>\n",
       "      <td>4</td>\n",
       "      <td>Tsegay, Yemane Adhane</td>\n",
       "      <td>30</td>\n",
       "      <td>M</td>\n",
       "      <td>Addis Ababa</td>\n",
       "      <td>NaN</td>\n",
       "      <td>ETH</td>\n",
       "      <td>NaN</td>\n",
       "      <td>NaN</td>\n",
       "      <td>0:14:43</td>\n",
       "      <td>0:29:43</td>\n",
       "      <td>0:44:58</td>\n",
       "      <td>1:00:28</td>\n",
       "      <td>1:04:01</td>\n",
       "      <td>1:16:07</td>\n",
       "      <td>1:31:59</td>\n",
       "      <td>1:47:59</td>\n",
       "      <td>2:02:42</td>\n",
       "      <td>0:04:58</td>\n",
       "      <td>-</td>\n",
       "      <td>2:09:48</td>\n",
       "      <td>2</td>\n",
       "      <td>2</td>\n",
       "      <td>2</td>\n",
       "      <td>2015</td>\n",
       "      <td>NaN</td>\n",
       "    </tr>\n",
       "  </tbody>\n",
       "</table>\n",
       "</div>"
      ],
      "text/plain": [
       "   Unnamed: 0 Bib                   Name  Age M/F         City State Country  \\\n",
       "0         0.0   3         Desisa, Lelisa   25   M         Ambo   NaN     ETH   \n",
       "1         1.0   4  Tsegay, Yemane Adhane   30   M  Addis Ababa   NaN     ETH   \n",
       "\n",
       "  Citizen Unnamed: 9       5K      10K      15K      20K     Half      25K  \\\n",
       "0     NaN        NaN  0:14:43  0:29:43  0:44:57  1:00:29  1:04:02  1:16:07   \n",
       "1     NaN        NaN  0:14:43  0:29:43  0:44:58  1:00:28  1:04:01  1:16:07   \n",
       "\n",
       "       30K      35K      40K     Pace Proj Time Official Time  Overall  \\\n",
       "0  1:32:00  1:47:59  2:02:39  0:04:56         -       2:09:17        1   \n",
       "1  1:31:59  1:47:59  2:02:42  0:04:58         -       2:09:48        2   \n",
       "\n",
       "   Gender  Division  Year Unnamed: 8  \n",
       "0       1         1  2015        NaN  \n",
       "1       2         2  2015        NaN  "
      ]
     },
     "execution_count": 7,
     "metadata": {},
     "output_type": "execute_result"
    }
   ],
   "source": [
    "pd.options.display.max_columns=27\n",
    "marathon_2015_2017.head(2)"
   ]
  },
  {
   "cell_type": "code",
   "execution_count": 6,
   "metadata": {},
   "outputs": [
    {
     "name": "stdout",
     "output_type": "stream",
     "text": [
      "<class 'pandas.core.frame.DataFrame'>\n",
      "RangeIndex: 79638 entries, 0 to 79637\n",
      "Data columns (total 27 columns):\n",
      " #   Column         Non-Null Count  Dtype  \n",
      "---  ------         --------------  -----  \n",
      " 0   Unnamed: 0     53008 non-null  float64\n",
      " 1   Bib            79638 non-null  object \n",
      " 2   Name           79638 non-null  object \n",
      " 3   Age            79638 non-null  int64  \n",
      " 4   M/F            79638 non-null  object \n",
      " 5   City           79637 non-null  object \n",
      " 6   State          70645 non-null  object \n",
      " 7   Country        79638 non-null  object \n",
      " 8   Citizen        3440 non-null   object \n",
      " 9   Unnamed: 9     158 non-null    object \n",
      " 10  5K             79638 non-null  object \n",
      " 11  10K            79638 non-null  object \n",
      " 12  15K            79638 non-null  object \n",
      " 13  20K            79638 non-null  object \n",
      " 14  Half           79638 non-null  object \n",
      " 15  25K            79638 non-null  object \n",
      " 16  30K            79638 non-null  object \n",
      " 17  35K            79638 non-null  object \n",
      " 18  40K            79638 non-null  object \n",
      " 19  Pace           79638 non-null  object \n",
      " 20  Proj Time      79638 non-null  object \n",
      " 21  Official Time  79638 non-null  object \n",
      " 22  Overall        79638 non-null  int64  \n",
      " 23  Gender         79638 non-null  int64  \n",
      " 24  Division       79638 non-null  int64  \n",
      " 25  Year           79638 non-null  object \n",
      " 26  Unnamed: 8     83 non-null     object \n",
      "dtypes: float64(1), int64(4), object(22)\n",
      "memory usage: 16.4+ MB\n"
     ]
    }
   ],
   "source": [
    "marathon_2015_2017.info()"
   ]
  },
  {
   "cell_type": "code",
   "execution_count": 8,
   "metadata": {},
   "outputs": [
    {
     "data": {
      "text/plain": [
       "Unnamed: 0       26630\n",
       "Bib                  0\n",
       "Name                 0\n",
       "Age                  0\n",
       "M/F                  0\n",
       "City                 1\n",
       "State             8993\n",
       "Country              0\n",
       "Citizen          76198\n",
       "Unnamed: 9       79480\n",
       "5K                   0\n",
       "10K                  0\n",
       "15K                  0\n",
       "20K                  0\n",
       "Half                 0\n",
       "25K                  0\n",
       "30K                  0\n",
       "35K                  0\n",
       "40K                  0\n",
       "Pace                 0\n",
       "Proj Time            0\n",
       "Official Time        0\n",
       "Overall              0\n",
       "Gender               0\n",
       "Division             0\n",
       "Year                 0\n",
       "Unnamed: 8       79555\n",
       "dtype: int64"
      ]
     },
     "execution_count": 8,
     "metadata": {},
     "output_type": "execute_result"
    }
   ],
   "source": [
    "marathon_2015_2017.isnull().sum()"
   ]
  },
  {
   "cell_type": "code",
   "execution_count": 9,
   "metadata": {},
   "outputs": [
    {
     "data": {
      "text/html": [
       "<div>\n",
       "<style scoped>\n",
       "    .dataframe tbody tr th:only-of-type {\n",
       "        vertical-align: middle;\n",
       "    }\n",
       "\n",
       "    .dataframe tbody tr th {\n",
       "        vertical-align: top;\n",
       "    }\n",
       "\n",
       "    .dataframe thead th {\n",
       "        text-align: right;\n",
       "    }\n",
       "</style>\n",
       "<table border=\"1\" class=\"dataframe\">\n",
       "  <thead>\n",
       "    <tr style=\"text-align: right;\">\n",
       "      <th></th>\n",
       "      <th>Name</th>\n",
       "      <th>Age</th>\n",
       "      <th>M/F</th>\n",
       "      <th>City</th>\n",
       "      <th>State</th>\n",
       "      <th>Country</th>\n",
       "      <th>5K</th>\n",
       "      <th>10K</th>\n",
       "      <th>15K</th>\n",
       "      <th>20K</th>\n",
       "      <th>Half</th>\n",
       "      <th>25K</th>\n",
       "      <th>30K</th>\n",
       "      <th>35K</th>\n",
       "      <th>40K</th>\n",
       "      <th>Pace</th>\n",
       "      <th>Official Time</th>\n",
       "      <th>Overall</th>\n",
       "      <th>Gender</th>\n",
       "      <th>Division</th>\n",
       "      <th>Year</th>\n",
       "    </tr>\n",
       "  </thead>\n",
       "  <tbody>\n",
       "    <tr>\n",
       "      <th>0</th>\n",
       "      <td>Desisa, Lelisa</td>\n",
       "      <td>25</td>\n",
       "      <td>M</td>\n",
       "      <td>Ambo</td>\n",
       "      <td>NaN</td>\n",
       "      <td>ETH</td>\n",
       "      <td>0:14:43</td>\n",
       "      <td>0:29:43</td>\n",
       "      <td>0:44:57</td>\n",
       "      <td>1:00:29</td>\n",
       "      <td>1:04:02</td>\n",
       "      <td>1:16:07</td>\n",
       "      <td>1:32:00</td>\n",
       "      <td>1:47:59</td>\n",
       "      <td>2:02:39</td>\n",
       "      <td>0:04:56</td>\n",
       "      <td>2:09:17</td>\n",
       "      <td>1</td>\n",
       "      <td>1</td>\n",
       "      <td>1</td>\n",
       "      <td>2015</td>\n",
       "    </tr>\n",
       "    <tr>\n",
       "      <th>1</th>\n",
       "      <td>Tsegay, Yemane Adhane</td>\n",
       "      <td>30</td>\n",
       "      <td>M</td>\n",
       "      <td>Addis Ababa</td>\n",
       "      <td>NaN</td>\n",
       "      <td>ETH</td>\n",
       "      <td>0:14:43</td>\n",
       "      <td>0:29:43</td>\n",
       "      <td>0:44:58</td>\n",
       "      <td>1:00:28</td>\n",
       "      <td>1:04:01</td>\n",
       "      <td>1:16:07</td>\n",
       "      <td>1:31:59</td>\n",
       "      <td>1:47:59</td>\n",
       "      <td>2:02:42</td>\n",
       "      <td>0:04:58</td>\n",
       "      <td>2:09:48</td>\n",
       "      <td>2</td>\n",
       "      <td>2</td>\n",
       "      <td>2</td>\n",
       "      <td>2015</td>\n",
       "    </tr>\n",
       "  </tbody>\n",
       "</table>\n",
       "</div>"
      ],
      "text/plain": [
       "                    Name  Age M/F         City State Country       5K  \\\n",
       "0         Desisa, Lelisa   25   M         Ambo   NaN     ETH  0:14:43   \n",
       "1  Tsegay, Yemane Adhane   30   M  Addis Ababa   NaN     ETH  0:14:43   \n",
       "\n",
       "       10K      15K      20K     Half      25K      30K      35K      40K  \\\n",
       "0  0:29:43  0:44:57  1:00:29  1:04:02  1:16:07  1:32:00  1:47:59  2:02:39   \n",
       "1  0:29:43  0:44:58  1:00:28  1:04:01  1:16:07  1:31:59  1:47:59  2:02:42   \n",
       "\n",
       "      Pace Official Time  Overall  Gender  Division  Year  \n",
       "0  0:04:56       2:09:17        1       1         1  2015  \n",
       "1  0:04:58       2:09:48        2       2         2  2015  "
      ]
     },
     "execution_count": 9,
     "metadata": {},
     "output_type": "execute_result"
    }
   ],
   "source": [
    "marathon_2015_2017 = marathon_2015_2017.drop(['Unnamed: 0','Bib','Citizen','Unnamed: 9',\\\n",
    "                                              'Proj Time','Unnamed: 8'], axis=1)\n",
    "marathon_2015_2017.head(2)"
   ]
  },
  {
   "cell_type": "code",
   "execution_count": 10,
   "metadata": {},
   "outputs": [
    {
     "data": {
      "text/plain": [
       "0   0 days 00:14:43\n",
       "1   0 days 00:14:43\n",
       "Name: 5K, dtype: timedelta64[ns]"
      ]
     },
     "execution_count": 10,
     "metadata": {},
     "output_type": "execute_result"
    }
   ],
   "source": [
    "# 수학적 연산에 대한 기능이 많은 numpy 모듈 임포트\n",
    "import numpy as np\n",
    "# .to_timedelta() : 문자형 시간데이터를 타임델타 형식으로 변환하는 판다스 함수\n",
    "marathon_2015_2017['5K'] = pd.to_timedelta(marathon_2015_2017['5K'])\n",
    "marathon_2015_2017['5K'].head(2)"
   ]
  },
  {
   "cell_type": "code",
   "execution_count": 11,
   "metadata": {},
   "outputs": [
    {
     "data": {
      "text/plain": [
       "0    883.0\n",
       "1    883.0\n",
       "Name: 5K, dtype: float64"
      ]
     },
     "execution_count": 11,
     "metadata": {},
     "output_type": "execute_result"
    }
   ],
   "source": [
    "# 'm8[s]' : 판다스에서 제공하는 타임델타에서 표현하는 '초(second)'단위 형식\n",
    "marathon_2015_2017['5K'] = marathon_2015_2017['5K'].astype('m8[s]')\n",
    "marathon_2015_2017['5K'].head(2)"
   ]
  },
  {
   "cell_type": "code",
   "execution_count": 12,
   "metadata": {},
   "outputs": [
    {
     "data": {
      "text/plain": [
       "0    883\n",
       "1    883\n",
       "Name: 5K, dtype: int64"
      ]
     },
     "execution_count": 12,
     "metadata": {},
     "output_type": "execute_result"
    }
   ],
   "source": [
    "# 고용량(8Byte-64bit)의 정수로 변환\n",
    "marathon_2015_2017['5K'] = marathon_2015_2017['5K'].astype(np.int64)\n",
    "marathon_2015_2017['5K'].head(2)"
   ]
  },
  {
   "cell_type": "code",
   "execution_count": 13,
   "metadata": {},
   "outputs": [],
   "source": [
    "marathon_2015_2017['10K'] = pd.to_timedelta(marathon_2015_2017['10K'])\n",
    "marathon_2015_2017['10K'] = marathon_2015_2017['10K'].astype('m8[s]').astype(np.int64)"
   ]
  },
  {
   "cell_type": "code",
   "execution_count": 16,
   "metadata": {},
   "outputs": [
    {
     "data": {
      "text/html": [
       "<div>\n",
       "<style scoped>\n",
       "    .dataframe tbody tr th:only-of-type {\n",
       "        vertical-align: middle;\n",
       "    }\n",
       "\n",
       "    .dataframe tbody tr th {\n",
       "        vertical-align: top;\n",
       "    }\n",
       "\n",
       "    .dataframe thead th {\n",
       "        text-align: right;\n",
       "    }\n",
       "</style>\n",
       "<table border=\"1\" class=\"dataframe\">\n",
       "  <thead>\n",
       "    <tr style=\"text-align: right;\">\n",
       "      <th></th>\n",
       "      <th>Name</th>\n",
       "      <th>Age</th>\n",
       "      <th>M/F</th>\n",
       "      <th>City</th>\n",
       "      <th>State</th>\n",
       "      <th>Country</th>\n",
       "      <th>5K</th>\n",
       "      <th>10K</th>\n",
       "      <th>15K</th>\n",
       "      <th>20K</th>\n",
       "      <th>Half</th>\n",
       "      <th>25K</th>\n",
       "      <th>30K</th>\n",
       "      <th>35K</th>\n",
       "      <th>40K</th>\n",
       "      <th>Pace</th>\n",
       "      <th>Official Time</th>\n",
       "      <th>Overall</th>\n",
       "      <th>Gender</th>\n",
       "      <th>Division</th>\n",
       "      <th>Year</th>\n",
       "    </tr>\n",
       "  </thead>\n",
       "  <tbody>\n",
       "    <tr>\n",
       "      <th>0</th>\n",
       "      <td>Desisa, Lelisa</td>\n",
       "      <td>25</td>\n",
       "      <td>M</td>\n",
       "      <td>Ambo</td>\n",
       "      <td>NaN</td>\n",
       "      <td>ETH</td>\n",
       "      <td>883</td>\n",
       "      <td>1783</td>\n",
       "      <td>2697</td>\n",
       "      <td>3629</td>\n",
       "      <td>3842</td>\n",
       "      <td>4567</td>\n",
       "      <td>5520</td>\n",
       "      <td>6479</td>\n",
       "      <td>7359</td>\n",
       "      <td>296</td>\n",
       "      <td>7757</td>\n",
       "      <td>1</td>\n",
       "      <td>1</td>\n",
       "      <td>1</td>\n",
       "      <td>2015</td>\n",
       "    </tr>\n",
       "    <tr>\n",
       "      <th>1</th>\n",
       "      <td>Tsegay, Yemane Adhane</td>\n",
       "      <td>30</td>\n",
       "      <td>M</td>\n",
       "      <td>Addis Ababa</td>\n",
       "      <td>NaN</td>\n",
       "      <td>ETH</td>\n",
       "      <td>883</td>\n",
       "      <td>1783</td>\n",
       "      <td>2698</td>\n",
       "      <td>3628</td>\n",
       "      <td>3841</td>\n",
       "      <td>4567</td>\n",
       "      <td>5519</td>\n",
       "      <td>6479</td>\n",
       "      <td>7362</td>\n",
       "      <td>298</td>\n",
       "      <td>7788</td>\n",
       "      <td>2</td>\n",
       "      <td>2</td>\n",
       "      <td>2</td>\n",
       "      <td>2015</td>\n",
       "    </tr>\n",
       "  </tbody>\n",
       "</table>\n",
       "</div>"
      ],
      "text/plain": [
       "                    Name  Age M/F         City State Country   5K   10K   15K  \\\n",
       "0         Desisa, Lelisa   25   M         Ambo   NaN     ETH  883  1783  2697   \n",
       "1  Tsegay, Yemane Adhane   30   M  Addis Ababa   NaN     ETH  883  1783  2698   \n",
       "\n",
       "    20K  Half   25K   30K   35K   40K  Pace  Official Time  Overall  Gender  \\\n",
       "0  3629  3842  4567  5520  6479  7359   296           7757        1       1   \n",
       "1  3628  3841  4567  5519  6479  7362   298           7788        2       2   \n",
       "\n",
       "   Division  Year  \n",
       "0         1  2015  \n",
       "1         2  2015  "
      ]
     },
     "execution_count": 16,
     "metadata": {},
     "output_type": "execute_result"
    }
   ],
   "source": [
    "marathon_2015_2017['15K'] = pd.to_timedelta(marathon_2015_2017['15K'])\n",
    "marathon_2015_2017['20K'] = pd.to_timedelta(marathon_2015_2017['20K'])\n",
    "marathon_2015_2017['Half'] = pd.to_timedelta(marathon_2015_2017['Half'])\n",
    "marathon_2015_2017['25K'] = pd.to_timedelta(marathon_2015_2017['25K'])\n",
    "marathon_2015_2017['30K'] = pd.to_timedelta(marathon_2015_2017['30K'])\n",
    "marathon_2015_2017['35K'] = pd.to_timedelta(marathon_2015_2017['35K'])\n",
    "marathon_2015_2017['40K'] = pd.to_timedelta(marathon_2015_2017['40K'])\n",
    "marathon_2015_2017['Pace'] = pd.to_timedelta(marathon_2015_2017['Pace'])\n",
    "marathon_2015_2017['Official Time'] = pd.to_timedelta(marathon_2015_2017['Official Time'])\n",
    "\n",
    "marathon_2015_2017['15K'] = marathon_2015_2017['15K'].astype('m8[s]').astype(np.int64)\n",
    "marathon_2015_2017['20K'] = marathon_2015_2017['20K'].astype('m8[s]').astype(np.int64)\n",
    "marathon_2015_2017['Half'] = marathon_2015_2017['Half'].astype('m8[s]').astype(np.int64)\n",
    "marathon_2015_2017['25K'] = marathon_2015_2017['25K'].astype('m8[s]').astype(np.int64)\n",
    "marathon_2015_2017['30K'] = marathon_2015_2017['30K'].astype('m8[s]').astype(np.int64)\n",
    "marathon_2015_2017['35K'] = marathon_2015_2017['35K'].astype('m8[s]').astype(np.int64)\n",
    "marathon_2015_2017['40K'] = marathon_2015_2017['40K'].astype('m8[s]').astype(np.int64)\n",
    "marathon_2015_2017['Pace'] = marathon_2015_2017['Pace'].astype('m8[s]').astype(np.int64)\n",
    "marathon_2015_2017['Official Time'] = marathon_2015_2017['Official Time'].astype('m8[s]').astype(np.int64)\n",
    "marathon_2015_2017.head(2)"
   ]
  },
  {
   "cell_type": "code",
   "execution_count": 17,
   "metadata": {},
   "outputs": [
    {
     "name": "stdout",
     "output_type": "stream",
     "text": [
      "<class 'pandas.core.frame.DataFrame'>\n",
      "RangeIndex: 79638 entries, 0 to 79637\n",
      "Data columns (total 21 columns):\n",
      " #   Column         Non-Null Count  Dtype \n",
      "---  ------         --------------  ----- \n",
      " 0   Name           79638 non-null  object\n",
      " 1   Age            79638 non-null  int64 \n",
      " 2   M/F            79638 non-null  object\n",
      " 3   City           79637 non-null  object\n",
      " 4   State          70645 non-null  object\n",
      " 5   Country        79638 non-null  object\n",
      " 6   5K             79638 non-null  int64 \n",
      " 7   10K            79638 non-null  int64 \n",
      " 8   15K            79638 non-null  int64 \n",
      " 9   20K            79638 non-null  int64 \n",
      " 10  Half           79638 non-null  int64 \n",
      " 11  25K            79638 non-null  int64 \n",
      " 12  30K            79638 non-null  int64 \n",
      " 13  35K            79638 non-null  int64 \n",
      " 14  40K            79638 non-null  int64 \n",
      " 15  Pace           79638 non-null  int64 \n",
      " 16  Official Time  79638 non-null  int64 \n",
      " 17  Overall        79638 non-null  int64 \n",
      " 18  Gender         79638 non-null  int64 \n",
      " 19  Division       79638 non-null  int64 \n",
      " 20  Year           79638 non-null  object\n",
      "dtypes: int64(15), object(6)\n",
      "memory usage: 12.8+ MB\n"
     ]
    }
   ],
   "source": [
    "marathon_2015_2017.info()"
   ]
  },
  {
   "cell_type": "code",
   "execution_count": 18,
   "metadata": {},
   "outputs": [],
   "source": [
    "marathon_2015_2017.to_csv(\"marathon_2015_2017.csv\", index=None, header=True)"
   ]
  }
 ],
 "metadata": {
  "kernelspec": {
   "display_name": "Python 3",
   "language": "python",
   "name": "python3"
  },
  "language_info": {
   "codemirror_mode": {
    "name": "ipython",
    "version": 3
   },
   "file_extension": ".py",
   "mimetype": "text/x-python",
   "name": "python",
   "nbconvert_exporter": "python",
   "pygments_lexer": "ipython3",
   "version": "3.8.5"
  }
 },
 "nbformat": 4,
 "nbformat_minor": 4
}
