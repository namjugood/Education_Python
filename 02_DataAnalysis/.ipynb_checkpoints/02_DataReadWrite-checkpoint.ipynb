{
 "cells": [
  {
   "cell_type": "markdown",
   "metadata": {},
   "source": [
    "### 파이썬 문법에 의한 데이터 입출력"
   ]
  },
  {
   "cell_type": "markdown",
   "metadata": {},
   "source": [
    "* 'data.csv'파일을 읽기 모드로 오픈, 라인은 \\n으로 구분, 파일을 오픈한 후 오픈파일을 filereader로 명칭\n",
    "* f=open(\"data.csv\", \"r\", newline='\\n')\n",
    "* f.close()\n",
    "* 파일을 열고 모두 읽고 닫는 역할을 한 문장으로 표현한 예\n",
    "* with open(\"data.csv\", \"r\", newline='\\n') as filereader:"
   ]
  },
  {
   "cell_type": "code",
   "execution_count": 8,
   "metadata": {},
   "outputs": [
    {
     "name": "stdout",
     "output_type": "stream",
     "text": [
      "['Supplier Name', 'Invoice Number', 'Part Number', 'Cost', 'Purchase Date\\r\\n']\n",
      "['Supplier X', '001-1001', '2341', '$500.00', '2014-01-20']\n",
      "['Supplier X', '001-1001', '2341', '$500.00', '2014-01-20']\n",
      "['Supplier X', '001-1001', '5467', '$750.00', '2014-01-20']\n",
      "['Supplier X', '001-1001', '5467', '$750.00', '2014-01-20']\n",
      "['Supplier Y', '50-9501', '7009', '$250.00', '2014-01-30']\n",
      "['Supplier Y', '50-9501', '7009', '$250.00', '2014-01-30']\n",
      "['Supplier Y', '50-9501', '6650', '$125.00', '2014-02-03']\n",
      "['Supplier Y', '50-9501', '6650', '$125.00', '2014-02-03']\n",
      "['Supplier Z', '920-4804', '3321', '$615.00', '2014-02-03']\n",
      "['Supplier Z', '920-4804', '3321', '$615.00', '2014-10-14']\n",
      "['Supplier Z', '920-4804', '3321', '$615.00', '2014-02-17']\n",
      "['Supplier Z', '920-4804', '3321', '$615.00', '2014-02-24']\n"
     ]
    }
   ],
   "source": [
    "# \"data.csv\" : open하여 읽어올 파일의 이름\n",
    "# \"r\" : 파일 오픈 형식 - r은 읽기 전용,ㅡ w는 쓰기 전용\n",
    "# \"\\n\" : 라인 및 데이터 단위(리스트에 저장될 각 요소)를 구분할 기호\n",
    "# filereader : 읽어온 데이터(리스트 데이터)가 저장되는 변수의 이름\n",
    "# with 다음 행 부터 파일이 닫히는 곳까지 들여쓰기를 하여, \n",
    "# 파일이 닫히기 전까지 할 수 있는 작업들을 기술합니다\n",
    "with open(\"data.csv\", \"r\", newline='\\n') as filereader:\n",
    "    header = filereader.readline()  # 읽어온 파일의 내용 중 한 줄 read\n",
    "    header_list = header.split(',')\n",
    "    print(header_list)\n",
    "    \n",
    "    # 쓰기 위한 파일 오픈\n",
    "    with open(\"output_data.csv\", \"w\", newline='\\n') as filewriter:\n",
    "        # csv 파일은 각 데이터가 ','로 구분되어 있는 형식\n",
    "        # 따라서 각 리스트 사이에 ','를 넣고 하나의 문자데이터로 만들어 출력\n",
    "        filewriter.write(','.join( map(str, header_list) ) + '\\n')\n",
    "        # map(str, header_list) : 리스트의 각 요소를 모두 문자형식으로 변환\n",
    "        # ','.join(리스트 이름) -> 리스트의 각 요소 사이에 ','를 넣어 하나의 문자열 생성\n",
    "        # 리스트 요소 사이로 ','가 끼어드는 형식의 변환입니다\n",
    "        for row in filereader:   # 읽어온 파일의 내용(리스트)을 반복문에 적용\n",
    "            row = row.strip() # 양 옆 공백 제거\n",
    "            row_list = row.split(',')  # 열 별 분할\n",
    "            print(row_list)  # 한 행의 데이터 리스트 출력\n",
    "            filewriter.write(','.join( map( str, row_list) ) +'\\n')"
   ]
  },
  {
   "cell_type": "code",
   "execution_count": 9,
   "metadata": {},
   "outputs": [
    {
     "name": "stdout",
     "output_type": "stream",
     "text": [
      "   Supplier Name Invoice Number  Part Number     Cost Purchase Date\n",
      "0     Supplier X       001-1001         2341  $500.00    2014-01-20\n",
      "1     Supplier X       001-1001         2341  $500.00    2014-01-20\n",
      "2     Supplier X       001-1001         5467  $750.00    2014-01-20\n",
      "3     Supplier X       001-1001         5467  $750.00    2014-01-20\n",
      "4     Supplier Y        50-9501         7009  $250.00    2014-01-30\n",
      "5     Supplier Y        50-9501         7009  $250.00    2014-01-30\n",
      "6     Supplier Y        50-9501         6650  $125.00    2014-02-03\n",
      "7     Supplier Y        50-9501         6650  $125.00    2014-02-03\n",
      "8     Supplier Z       920-4804         3321  $615.00    2014-02-03\n",
      "9     Supplier Z       920-4804         3321  $615.00    2014-10-14\n",
      "10    Supplier Z       920-4804         3321  $615.00    2014-02-17\n",
      "11    Supplier Z       920-4804         3321  $615.00    2014-02-24\n"
     ]
    }
   ],
   "source": [
    "import pandas as pd\n",
    "\n",
    "data_frame = pd.read_csv(\"data.csv\")\n",
    "# read_csv로 읽어온 데이터는 DataFrame 형식으로 저장됩니다.\n",
    "# 행 인덱스는 0부터 행 갯수만큼 생성, 컬럼명은 파일에 있는 헤더 이름으로 성절\n",
    "print(data_frame)\n",
    "data_frame.to_csv(\"output_bypandas.csv\", index=False)\n",
    "# 행 인덱스 없이 파일에 출력"
   ]
  },
  {
   "cell_type": "markdown",
   "metadata": {},
   "source": [
    "### 파이썬 기본 문법으로 필터링"
   ]
  },
  {
   "cell_type": "code",
   "execution_count": 14,
   "metadata": {},
   "outputs": [
    {
     "name": "stdout",
     "output_type": "stream",
     "text": [
      "['Supplier Name', 'Invoice Number', 'Part Number', 'Cost', 'Purchase Date']\n",
      "['Supplier X', '001-1001', '5467', '$750.00', '2014-01-20']\n",
      "['Supplier X', '001-1001', '5467', '$750.00', '2014-01-20']\n",
      "['Supplier Z', '920-4804', '3321', '$615.00', '2014-02-03']\n",
      "['Supplier Z', '920-4804', '3321', '$615.00', '2014-10-14']\n",
      "['Supplier Z', '920-4804', '3321', '$615.00', '2014-02-17']\n",
      "['Supplier Z', '920-4804', '3321', '$615.00', '2014-02-24']\n"
     ]
    }
   ],
   "source": [
    "# 서플라이어가 z이거나 코스트가 600이상인 데이터만 추출\n",
    "import csv  # 파이썬의 csv파일 전용 모듈을 임포트\n",
    "with open('data.csv', 'r', newline='\\n') as csv_in_file:\n",
    "    with open('out.csv', 'w', newline='\\n') as csv_out_file:\n",
    "        # 파일 읽기 핸들러를 filereader변수에 저장\n",
    "        filereader = csv.reader(csv_in_file)\n",
    "        # 파일 쓰기 핸들러를 filewriter변수에 저장\n",
    "        filewriter = csv.writer(csv_out_file)\n",
    "        # 파일 읽기 핸들러를 이용하여 다음 라인(현재로는 첫 줄) read\n",
    "        header = next(filereader)\n",
    "        # ','로 구분하여 리스트 데이터를 읽어왔으므로 별도의 가공없이 csv에 출력\n",
    "        # csv 모듈의 기능을 이용하여 데이터를 읽으면, 이전 예제의 split이 적용된 리스트로\n",
    "        # 리턴됩니다\n",
    "        filewriter.writerow(header)\n",
    "        print(header)\n",
    "        # 읽어온 데이터들을 반복실행문에 적용하여 라인단위로 처리합니다\n",
    "        for row in filereader:\n",
    "            # 리스트의 첫 번째 요소를 문자로 변환 -> 양 옆으로 공백 제거\n",
    "            supplier = str(row[0]).strip()\n",
    "            # cost값을 양 옆에 있을수 있는 '$'를 제거하고, 천 단위 구분 기호를 빈칸으로 대체한 후 변수에 저장\n",
    "            cost = str(row[3]).strip('$').replace(',','')\n",
    "            if (supplier == 'Supplier Z') or (float(cost) > 600.0) :\n",
    "                filewriter.writerow(row)\n",
    "                print(row)"
   ]
  },
  {
   "cell_type": "markdown",
   "metadata": {},
   "source": [
    "### pandas를 이용한 필터링"
   ]
  },
  {
   "cell_type": "code",
   "execution_count": 25,
   "metadata": {},
   "outputs": [
    {
     "name": "stdout",
     "output_type": "stream",
     "text": [
      "   Supplier Name Invoice Number  Part Number   Cost Purchase Date\n",
      "2     Supplier X       001-1001         5467  750.0    2014-01-20\n",
      "3     Supplier X       001-1001         5467  750.0    2014-01-20\n",
      "8     Supplier Z       920-4804         3321  615.0    2014-02-03\n",
      "9     Supplier Z       920-4804         3321  615.0    2014-10-14\n",
      "10    Supplier Z       920-4804         3321  615.0    2014-02-17\n",
      "11    Supplier Z       920-4804         3321  615.0    2014-02-24\n"
     ]
    }
   ],
   "source": [
    "# 서플라이어가 z이거나 코스트가 600 이상인 데이터만 추출\n",
    "import pandas as pd\n",
    "data_frame = pd.read_csv(\"data.csv\")\n",
    "# read_csv로 읽어온 파일의 내용을 자동으로 판다스에서 제공하는 data_frame 형식으로\n",
    "# 읽어와서 저장합니다\n",
    "# index(0부터 시작하는 정수)가 생기고, column으로 파일의 첫 라인(열 제목)이 사용됩니다\n",
    "# print(data_frame)\n",
    "# print(data_frame['Cost'])\n",
    "# print(data_frame['Cost'].str.strip('$'))\n",
    "# print(data_frame['Cost'].str.strip('$').astype(float))\n",
    "# data_frame['Cost']의 값을 문자로 : .str\n",
    "# 위 결과에서 양 옆에 있을지 모를 '$' 제거 : strip('$')\n",
    "# 위 결과값을 다시 float형으로 변경 : astype(float) - ','와 상관없이 변형\n",
    "# 열 하나에 필요한 가공을 한 뒤 그 데이터를 다시 열 이름으로 지목한 열 데이터로 대체\n",
    "data_frame['Cost'] = data_frame['Cost'].str.strip('$').astype(float)\n",
    "# print(data_frame)\n",
    "\n",
    "# 조건에 맞는 데이터를 필터링합니다.  (.loc사용)\n",
    "# 필터링 대상 열에, 각 데이터의 True/False가 리턴되는 연산을 적용합니다\n",
    "\n",
    "# 문자열.contains('A') : 해당 문자열에 'A'가 포함되면 True 리턴\n",
    "# print(data_frame.loc[data_frame['Supplier Name'].str.contains('Z')])\n",
    "\n",
    "# data_frame['Cost']>600.0 : 해당 컬럼 값 600 이상 True 리턴\n",
    "# print(data_frame.loc[data_frame['Cost']>600.0])\n",
    "# 필터링 연산시 True 리턴된 행만 필터링합니다\n",
    "\n",
    "condition = data_frame.loc[ (data_frame['Supplier Name'].str.contains('Z')) | \\\n",
    "                           (data_frame['Cost']>600.0), :]\n",
    "# data_frame.loc[ : , : ] 행과 열 동시 필터링\n",
    "# 열의 값으로 행을 필터링하고, 열은 모든 열 대상\n",
    "# 필터링한 데이터 프레임 구조데이터를 condition 변수에 다시 저장합니다\n",
    "print(condition)\n",
    "condition.to_csv(\"out2.csv\", index=False)"
   ]
  },
  {
   "cell_type": "markdown",
   "metadata": {},
   "source": [
    "### 연습문제\n",
    "* 아래 리스트에 담겨있는 날짜에 해당하는 데이터만 필터링하여 out3.csv에 저장하세요\n",
    "* 파이썬 문법을 이용하세요"
   ]
  },
  {
   "cell_type": "code",
   "execution_count": 26,
   "metadata": {},
   "outputs": [
    {
     "name": "stdout",
     "output_type": "stream",
     "text": [
      "['Supplier Name', 'Invoice Number', 'Part Number', 'Cost', 'Purchase Date']\n",
      "['Supplier X', '001-1001', '2341', '$500.00', '2014-01-20']\n",
      "['Supplier X', '001-1001', '2341', '$500.00', '2014-01-20']\n",
      "['Supplier X', '001-1001', '5467', '$750.00', '2014-01-20']\n",
      "['Supplier X', '001-1001', '5467', '$750.00', '2014-01-20']\n",
      "['Supplier Y', '50-9501', '7009', '$250.00', '2014-01-30']\n",
      "['Supplier Y', '50-9501', '7009', '$250.00', '2014-01-30']\n"
     ]
    }
   ],
   "source": [
    "import csv\n",
    "important_dates = ['2014-01-20', '2014-01-30']\n",
    "# if 날짜데이터 in important_dates : 와 같은 명령을 이용하세요\n",
    "with open('data.csv', 'r', newline='\\n') as csv_in:\n",
    "    with open('out3.csv', 'w', newline='\\n') as csv_out:\n",
    "        filereader = csv.reader(csv_in)\n",
    "        filewriter = csv.writer(csv_out)\n",
    "        header = next(filereader)\n",
    "        filewriter.writerow(header)\n",
    "        print(header)\n",
    "        \n",
    "        for row in filereader:\n",
    "            if row[4] in important_dates:  # 지정된 important_dates규칙으로 row[4]번째 항목을 걸러내라\n",
    "                print(row)\n",
    "                filewriter.writerow(row)"
   ]
  },
  {
   "cell_type": "markdown",
   "metadata": {},
   "source": [
    "### 리스트에 담겨있는 특정 날짜들에 해당하는 행만 추출 - pandas"
   ]
  },
  {
   "cell_type": "code",
   "execution_count": 30,
   "metadata": {},
   "outputs": [
    {
     "name": "stdout",
     "output_type": "stream",
     "text": [
      "  Supplier Name Invoice Number  Part Number     Cost Purchase Date\n",
      "0    Supplier X       001-1001         2341  $500.00    2014-01-20\n",
      "1    Supplier X       001-1001         2341  $500.00    2014-01-20\n",
      "2    Supplier X       001-1001         5467  $750.00    2014-01-20\n",
      "3    Supplier X       001-1001         5467  $750.00    2014-01-20\n",
      "4    Supplier Y        50-9501         7009  $250.00    2014-01-30\n",
      "5    Supplier Y        50-9501         7009  $250.00    2014-01-30\n"
     ]
    }
   ],
   "source": [
    "import pandas as pd\n",
    "data_frame = pd.read_csv(\"data.csv\")\n",
    "important_dates = ['2014-01-20', '2014-01-30']\n",
    "# .isin() : 파이썬의 in처럼 괄호안의 내용 중 하나가 포함되었는지 체크하는 함수\n",
    "# .loc 안의 조건 : data_frame['Purchase Date']값이\n",
    "# .isin(important_dates)으로 체크해서 있는 값인지 검사\n",
    "condition = data_frame.loc[ data_frame['Purchase Date'].isin(important_dates), : ]\n",
    "condition.to_csv(\"out3.csv\", index=False)\n",
    "print(condition)"
   ]
  },
  {
   "cell_type": "markdown",
   "metadata": {},
   "source": [
    "### 정규표현식의 매칭 결과로 필터링 - 파이썬 문법"
   ]
  },
  {
   "cell_type": "code",
   "execution_count": 55,
   "metadata": {},
   "outputs": [
    {
     "name": "stdout",
     "output_type": "stream",
     "text": [
      "['Supplier Name', 'Invoice Number', 'Part Number', 'Cost', 'Purchase Date']\n",
      "['Supplier X', '001-1001', '2341', '$500.00', '2014-01-20']\n",
      "['Supplier X', '001-1001', '2341', '$500.00', '2014-01-20']\n",
      "['Supplier X', '001-1001', '5467', '$750.00', '2014-01-20']\n",
      "['Supplier X', '001-1001', '5467', '$750.00', '2014-01-20']\n"
     ]
    }
   ],
   "source": [
    "# invoice Number 가 '001-'로 시작하는 행을 필터링\n",
    "import csv\n",
    "import re\n",
    "pattern = re.compile(r'(?P<my_pattern>^001-.*)', re.I)\n",
    "with open(\"data.csv\", \"r\", newline='\\n') as csv_in_file:\n",
    "    with open(\"out4.csv\", 'w', newline='\\n') as csv_out_file:\n",
    "        filereader = csv.reader(csv_in_file)\n",
    "        filewriter = csv.writer(csv_out_file)\n",
    "        header = next(filereader)\n",
    "        filewriter.writerow(header)\n",
    "        print(header)\n",
    "        for row in filereader:\n",
    "            if pattern.search(row[1]):  # 지정된 important_dates에 한해서 row[4]번째 항목을 걸러내라\n",
    "                print(row)\n",
    "                filewriter.writerow(row)"
   ]
  },
  {
   "cell_type": "markdown",
   "metadata": {},
   "source": [
    "### 정규표현식의 매칭 결과로 필터링 - pandas 활용"
   ]
  },
  {
   "cell_type": "code",
   "execution_count": 56,
   "metadata": {},
   "outputs": [
    {
     "name": "stdout",
     "output_type": "stream",
     "text": [
      "  Supplier Name Invoice Number  Part Number     Cost Purchase Date\n",
      "0    Supplier X       001-1001         2341  $500.00    2014-01-20\n",
      "1    Supplier X       001-1001         2341  $500.00    2014-01-20\n",
      "2    Supplier X       001-1001         5467  $750.00    2014-01-20\n",
      "3    Supplier X       001-1001         5467  $750.00    2014-01-20\n"
     ]
    }
   ],
   "source": [
    "import pandas as pd\n",
    "data_frame = pd.read_csv(\"data.csv\")\n",
    "condition = data_frame.loc[data_frame['Invoice Number'].str.startswith('001-'), :]\n",
    "condition.to_csv(\"out4.csv\", index=False)\n",
    "print(condition)"
   ]
  },
  {
   "cell_type": "markdown",
   "metadata": {},
   "source": [
    "### 열 제목이 아닌 열 번호를 이용한 필터링 - 파이썬문법"
   ]
  },
  {
   "cell_type": "code",
   "execution_count": 59,
   "metadata": {},
   "outputs": [
    {
     "name": "stdout",
     "output_type": "stream",
     "text": [
      "['Supplier Name', 'Part Number', 'Purchase Date']\n",
      "['Supplier X', '2341', '2014-01-20']\n",
      "['Supplier X', '2341', '2014-01-20']\n",
      "['Supplier X', '5467', '2014-01-20']\n",
      "['Supplier X', '5467', '2014-01-20']\n",
      "['Supplier Y', '7009', '2014-01-30']\n",
      "['Supplier Y', '7009', '2014-01-30']\n",
      "['Supplier Y', '6650', '2014-02-03']\n",
      "['Supplier Y', '6650', '2014-02-03']\n",
      "['Supplier Z', '3321', '2014-02-03']\n",
      "['Supplier Z', '3321', '2014-10-14']\n",
      "['Supplier Z', '3321', '2014-02-17']\n",
      "['Supplier Z', '3321', '2014-02-24']\n"
     ]
    }
   ],
   "source": [
    "# 열 번호ㅗ를 선택하여 파일 출력 & 화면 출력\n",
    "import csv\n",
    "my_columns = [0,2,4]\n",
    "with open('data.csv', 'r', newline='') as csv_in_file:\n",
    "    with open('out5.csv', 'w', newline='') as csv_out_file:\n",
    "        filereader = csv.reader(csv_in_file)\n",
    "        filewriter = csv.writer(csv_out_file)\n",
    "        # 열 제목들 중에서도 0,2,4번째 제목을 선택해야 하므로 \n",
    "        # 따로 next를 사용해 읽지않고, 모두 반복문 내에서 읽습니다\n",
    "        for row in filereader:\n",
    "            # 한 행에 대해 0,2,4 열의 데이터만 모아 하나의 리스트(outputRow)에 넣고, \n",
    "            # 출력하기 위한 리스트(outputRow)를 먼저 생성합니다\n",
    "            outputRow = []\n",
    "            # 열 번호 리스트가 갖고 있는 열 번호들로 반복 실행합니다\n",
    "            for i in my_columns:\n",
    "                # 한 행에서 해당 컬럼에 해당하는 값들만 outputRow에 append합니다\n",
    "                outputRow.append(row[i])\n",
    "            # 모여진 한 행의 리스트를 화면과 파일에 출력\n",
    "            filewriter.writerow(outputRow)\n",
    "            print(outputRow)"
   ]
  },
  {
   "cell_type": "markdown",
   "metadata": {},
   "source": [
    "### 열 제목이 아닌 열 번호를 이용한 필터링 - pandas"
   ]
  },
  {
   "cell_type": "code",
   "execution_count": 60,
   "metadata": {},
   "outputs": [
    {
     "name": "stdout",
     "output_type": "stream",
     "text": [
      "   Supplier Name  Part Number     Cost\n",
      "0     Supplier X         2341  $500.00\n",
      "1     Supplier X         2341  $500.00\n",
      "2     Supplier X         5467  $750.00\n",
      "3     Supplier X         5467  $750.00\n",
      "4     Supplier Y         7009  $250.00\n",
      "5     Supplier Y         7009  $250.00\n",
      "6     Supplier Y         6650  $125.00\n",
      "7     Supplier Y         6650  $125.00\n",
      "8     Supplier Z         3321  $615.00\n",
      "9     Supplier Z         3321  $615.00\n",
      "10    Supplier Z         3321  $615.00\n",
      "11    Supplier Z         3321  $615.00\n"
     ]
    }
   ],
   "source": [
    "# 열 번호로 열을 필터링 - 판다스\n",
    "import pandas as pd\n",
    "data_frame = pd.read_csv(\"data.csv\")\n",
    "#.iloc 인덱스 번호, 열 번호로만 필터링하기 위해 제공되는 기능\n",
    "condition = data_frame.iloc[ : , [0,2,3]]\n",
    "condition.to_csv(\"out.csv\", index=False)\n",
    "print(condition)"
   ]
  },
  {
   "cell_type": "markdown",
   "metadata": {},
   "source": [
    "### 열 이름으로 열 선택 - 파이썬 문법"
   ]
  },
  {
   "cell_type": "code",
   "execution_count": 62,
   "metadata": {},
   "outputs": [
    {
     "name": "stdout",
     "output_type": "stream",
     "text": [
      "['Supplier Name', 'Invoice Number', 'Purchase Date']\n",
      "['Supplier X', '001-1001', '2014-01-20']\n",
      "['Supplier X', '001-1001', '2014-01-20']\n",
      "['Supplier X', '001-1001', '2014-01-20']\n",
      "['Supplier X', '001-1001', '2014-01-20']\n",
      "['Supplier Y', '50-9501', '2014-01-30']\n",
      "['Supplier Y', '50-9501', '2014-01-30']\n",
      "['Supplier Y', '50-9501', '2014-02-03']\n",
      "['Supplier Y', '50-9501', '2014-02-03']\n",
      "['Supplier Z', '920-4804', '2014-02-03']\n",
      "['Supplier Z', '920-4804', '2014-10-14']\n",
      "['Supplier Z', '920-4804', '2014-02-17']\n",
      "['Supplier Z', '920-4804', '2014-02-24']\n"
     ]
    }
   ],
   "source": [
    "myCols = ['Supplier Name', 'Invoice Number', 'Purchase Date']\n",
    "with open('data.csv', 'r', newline='') as csv_in_file:\n",
    "    with open('out6.csv', 'w', newline='') as csv_out_file:\n",
    "        filereader = csv.reader(csv_in_file)\n",
    "        filewriter = csv.writer(csv_out_file)\n",
    "        header = next(filereader)\n",
    "        # myCols에 담긴 컬럼명들이 현재 파일 제목(header)의 몇 번째 열 제목들인지\n",
    "        # index값을 추출하여 별도의 리스트에 저장(append)합니다\n",
    "        # 열 번호가 담길 별도의 리스트 생성\n",
    "        #---------------------------추가내용-----------------------------\n",
    "        myColsIndex = []\n",
    "        # header 변수에 저장된 열 제목들의 개수만큼 반복실행\n",
    "        for iv in range(len(header)):\n",
    "            #header[iv] 값이 myCols중에 존재한다면 iv값을 리스트에 저장\n",
    "            if header[iv] in myCols:\n",
    "                myColsIndex.append(iv)\n",
    "        filewriter.writerow(myCols)\n",
    "        print(myCols)\n",
    "        #----------------------------------------------------------------\n",
    "        for row in filereader:\n",
    "            outputRow = []\n",
    "            for i in myColsIndex:\n",
    "                outputRow.append( row[i] )\n",
    "            filewriter.writerow(outputRow)\n",
    "            print(outputRow)"
   ]
  },
  {
   "cell_type": "code",
   "execution_count": 64,
   "metadata": {},
   "outputs": [
    {
     "name": "stdout",
     "output_type": "stream",
     "text": [
      "   Supplier Name Invoice Number Purchase Date\n",
      "0     Supplier X       001-1001    2014-01-20\n",
      "1     Supplier X       001-1001    2014-01-20\n",
      "2     Supplier X       001-1001    2014-01-20\n",
      "3     Supplier X       001-1001    2014-01-20\n",
      "4     Supplier Y        50-9501    2014-01-30\n",
      "5     Supplier Y        50-9501    2014-01-30\n",
      "6     Supplier Y        50-9501    2014-02-03\n",
      "7     Supplier Y        50-9501    2014-02-03\n",
      "8     Supplier Z       920-4804    2014-02-03\n",
      "9     Supplier Z       920-4804    2014-10-14\n",
      "10    Supplier Z       920-4804    2014-02-17\n",
      "11    Supplier Z       920-4804    2014-02-24\n"
     ]
    }
   ],
   "source": [
    "import pandas as pd\n",
    "data_frame = pd.read_csv(\"data.csv\")\n",
    "condition = data_frame.loc[:,['Supplier Name', 'Invoice Number', 'Purchase Date']]\n",
    "condition.to_csv(\"out6.csv\", index=False)\n",
    "print(condition)"
   ]
  },
  {
   "cell_type": "code",
   "execution_count": 1,
   "metadata": {},
   "outputs": [
    {
     "name": "stdout",
     "output_type": "stream",
     "text": [
      "   Supplier Name Invoice Number  Part Number     Cost Purchase Date\n",
      "3     Supplier X       001-1001         5467  $750.00    2014-01-20\n",
      "4     Supplier Y        50-9501         7009  $250.00    2014-01-30\n",
      "5     Supplier Y        50-9501         7009  $250.00    2014-01-30\n",
      "6     Supplier Y        50-9501         6650  $125.00    2014-02-03\n",
      "7     Supplier Y        50-9501         6650  $125.00    2014-02-03\n",
      "8     Supplier Z       920-4804         3321  $615.00    2014-02-03\n",
      "9     Supplier Z       920-4804         3321  $615.00    2014-10-14\n",
      "10    Supplier Z       920-4804         3321  $615.00    2014-02-17\n",
      "11    Supplier Z       920-4804         3321  $615.00    2014-02-24\n"
     ]
    }
   ],
   "source": [
    "# 필요없는 행들 제외 - 판다스\n",
    "import pandas as pd\n",
    "data_frame = pd.read_csv('data.csv')\n",
    "#print(data_frame)\n",
    "data_frame = data_frame.drop([0,1,2]) # 옵션없이 사용하면 행을 삭제\n",
    "print(data_frame)"
   ]
  },
  {
   "cell_type": "code",
   "execution_count": 2,
   "metadata": {},
   "outputs": [
    {
     "name": "stdout",
     "output_type": "stream",
     "text": [
      "    Part Number     Cost\n",
      "0          2341  $500.00\n",
      "1          2341  $500.00\n",
      "2          5467  $750.00\n",
      "3          5467  $750.00\n",
      "4          7009  $250.00\n",
      "5          7009  $250.00\n",
      "6          6650  $125.00\n",
      "7          6650  $125.00\n",
      "8          3321  $615.00\n",
      "9          3321  $615.00\n",
      "10         3321  $615.00\n",
      "11         3321  $615.00\n"
     ]
    }
   ],
   "source": [
    "# 필요없는 열들 제외 - 판다스\n",
    "import pandas as pd\n",
    "data_frame = pd.read_csv('data.csv')\n",
    "#print(data_frame)\n",
    "data_frame = data_frame.drop(['Supplier Name', 'Invoice Number', 'Purchase Date'], axis=1)\n",
    "# axis : 열방향으로 동작하는 매개변수\n",
    "print(data_frame)"
   ]
  },
  {
   "cell_type": "code",
   "execution_count": 12,
   "metadata": {},
   "outputs": [
    {
     "name": "stdout",
     "output_type": "stream",
     "text": [
      "3  Supplier Name Invoice Number Part Number      Cost Purchase Date\n",
      "4     Supplier X       001-1001        2341  $500.00      1/20/2014\n",
      "5     Supplier X       001-1001        2341  $500.00      1/20/2014\n",
      "6     Supplier X       001-1001        5467  $750.00      1/20/2014\n",
      "7     Supplier X       001-1001        5467  $750.00      1/20/2014\n",
      "8     Supplier Y        50-9501        7009  $250.00      1/30/2014\n",
      "9     Supplier Y        50-9501        7009  $250.00      1/30/2014\n",
      "10    Supplier Y        50-9505        6650  $125.00       2/3/2014\n",
      "11    Supplier Y        50-9505        6650  $125.00       2/3/2014\n",
      "12    Supplier Z       920-4803        3321  $615.00       2/3/2014\n",
      "13    Supplier Z       920-4804        3321  $615.00      2/10/2014\n",
      "14    Supplier Z       920-4805        3321  $615.00      2/17/2014\n",
      "15    Supplier Z       920-4806        3321  $615.00      2/24/2014\n"
     ]
    }
   ],
   "source": [
    "# 필요없는 행의 삭제\n",
    "data_frame = data_frame.drop([0,1,2,16,17,18])\n",
    "# 데이터의 첫 번째 행을 추출 & 데이터의 열 제목으로 대입합니다\n",
    "data_frame.columns = data_frame.iloc[0]\n",
    "data_frame = data_frame.drop([3])\n",
    "print(data_frame)"
   ]
  },
  {
   "cell_type": "code",
   "execution_count": 14,
   "metadata": {},
   "outputs": [
    {
     "name": "stdout",
     "output_type": "stream",
     "text": [
      "   Supplier Name Invoice Number  Part Number      Cost Purchase Date\n",
      "0     Supplier X       001-1001         2341  $500.00      1/20/2014\n",
      "1     Supplier X       001-1001         2341  $500.00      1/20/2014\n",
      "2     Supplier X       001-1001         5467  $750.00      1/20/2014\n",
      "3     Supplier X       001-1001         5467  $750.00      1/20/2014\n",
      "4     Supplier Y        50-9501         7009  $250.00      1/30/2014\n",
      "5     Supplier Y        50-9501         7009  $250.00      1/30/2014\n",
      "6     Supplier Y        50-9505         6650  $125.00       2/3/2014\n",
      "7     Supplier Y        50-9505         6650  $125.00       2/3/2014\n",
      "8     Supplier Z       920-4803         3321  $615.00       2/3/2014\n",
      "9     Supplier Z       920-4804         3321  $615.00      2/10/2014\n",
      "10    Supplier Z       920-4805         3321  $615.00      2/17/2014\n",
      "11    Supplier Z       920-4806         3321  $615.00      2/24/2014\n"
     ]
    }
   ],
   "source": [
    "# 헤더의 추가 - 판다스\n",
    "import pandas as pd\n",
    "header_list = ['Supplier Name','Invoice Number','Part Number','Cost','Purchase Date']\n",
    "\n",
    "# 현재 읽어오는 파일의 데이터에는 헤더가 없으니 내가 제시한 header_list로 컬럼이름을 대신\n",
    "# 사용하라는 명령\n",
    "data_frame = pd.read_csv('data2.csv', header=None, names=header_list)\n",
    "data_frame.to_csv('out7.csv', index=False)\n",
    "print(data_frame)"
   ]
  },
  {
   "cell_type": "code",
   "execution_count": null,
   "metadata": {},
   "outputs": [],
   "source": []
  }
 ],
 "metadata": {
  "kernelspec": {
   "display_name": "Python 3",
   "language": "python",
   "name": "python3"
  },
  "language_info": {
   "codemirror_mode": {
    "name": "ipython",
    "version": 3
   },
   "file_extension": ".py",
   "mimetype": "text/x-python",
   "name": "python",
   "nbconvert_exporter": "python",
   "pygments_lexer": "ipython3",
   "version": "3.8.5"
  }
 },
 "nbformat": 4,
 "nbformat_minor": 4
}
