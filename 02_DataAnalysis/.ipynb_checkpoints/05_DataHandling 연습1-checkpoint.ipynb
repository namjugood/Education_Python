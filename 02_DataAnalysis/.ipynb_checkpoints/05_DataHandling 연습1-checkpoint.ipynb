{
 "cells": [
  {
   "cell_type": "code",
   "execution_count": 47,
   "metadata": {},
   "outputs": [
    {
     "name": "stdout",
     "output_type": "stream",
     "text": [
      "<class 'pandas.core.frame.DataFrame'>\n",
      "RangeIndex: 26410 entries, 0 to 26409\n",
      "Data columns (total 25 columns):\n",
      " #   Column         Non-Null Count  Dtype \n",
      "---  ------         --------------  ----- \n",
      " 0   Unnamed: 0     26410 non-null  int64 \n",
      " 1   Bib            26410 non-null  object\n",
      " 2   Name           26410 non-null  object\n",
      " 3   Age            26410 non-null  int64 \n",
      " 4   M/F            26410 non-null  object\n",
      " 5   City           26410 non-null  object\n",
      " 6   State          22815 non-null  object\n",
      " 7   Country        26410 non-null  object\n",
      " 8   Citizen        1254 non-null   object\n",
      " 9   Unnamed: 9     91 non-null     object\n",
      " 10  5K             26410 non-null  object\n",
      " 11  10K            26410 non-null  object\n",
      " 12  15K            26410 non-null  object\n",
      " 13  20K            26410 non-null  object\n",
      " 14  Half           26410 non-null  object\n",
      " 15  25K            26410 non-null  object\n",
      " 16  30K            26410 non-null  object\n",
      " 17  35K            26410 non-null  object\n",
      " 18  40K            26410 non-null  object\n",
      " 19  Pace           26410 non-null  object\n",
      " 20  Proj Time      26410 non-null  object\n",
      " 21  Official Time  26410 non-null  object\n",
      " 22  Overall        26410 non-null  int64 \n",
      " 23  Gender         26410 non-null  int64 \n",
      " 24  Division       26410 non-null  int64 \n",
      "dtypes: int64(5), object(20)\n",
      "memory usage: 5.0+ MB\n"
     ]
    }
   ],
   "source": [
    "import pandas as pd\n",
    "marathon_2017 = pd.read_csv(\"marathon_results_2017.csv\")\n",
    "marathon_2017.info()"
   ]
  },
  {
   "cell_type": "code",
   "execution_count": 48,
   "metadata": {},
   "outputs": [
    {
     "data": {
      "text/html": [
       "<div>\n",
       "<style scoped>\n",
       "    .dataframe tbody tr th:only-of-type {\n",
       "        vertical-align: middle;\n",
       "    }\n",
       "\n",
       "    .dataframe tbody tr th {\n",
       "        vertical-align: top;\n",
       "    }\n",
       "\n",
       "    .dataframe thead th {\n",
       "        text-align: right;\n",
       "    }\n",
       "</style>\n",
       "<table border=\"1\" class=\"dataframe\">\n",
       "  <thead>\n",
       "    <tr style=\"text-align: right;\">\n",
       "      <th></th>\n",
       "      <th>Unnamed: 0</th>\n",
       "      <th>Bib</th>\n",
       "      <th>Name</th>\n",
       "      <th>Age</th>\n",
       "      <th>M/F</th>\n",
       "      <th>City</th>\n",
       "      <th>State</th>\n",
       "      <th>Country</th>\n",
       "      <th>Citizen</th>\n",
       "      <th>Unnamed: 9</th>\n",
       "      <th>5K</th>\n",
       "      <th>10K</th>\n",
       "      <th>15K</th>\n",
       "      <th>20K</th>\n",
       "      <th>Half</th>\n",
       "      <th>25K</th>\n",
       "      <th>30K</th>\n",
       "      <th>35K</th>\n",
       "      <th>40K</th>\n",
       "      <th>Pace</th>\n",
       "      <th>Proj Time</th>\n",
       "      <th>Official Time</th>\n",
       "      <th>Overall</th>\n",
       "      <th>Gender</th>\n",
       "      <th>Division</th>\n",
       "    </tr>\n",
       "  </thead>\n",
       "  <tbody>\n",
       "    <tr>\n",
       "      <th>0</th>\n",
       "      <td>0</td>\n",
       "      <td>11</td>\n",
       "      <td>Kirui, Geoffrey</td>\n",
       "      <td>24</td>\n",
       "      <td>M</td>\n",
       "      <td>Keringet</td>\n",
       "      <td>NaN</td>\n",
       "      <td>KEN</td>\n",
       "      <td>NaN</td>\n",
       "      <td>NaN</td>\n",
       "      <td>0:15:25</td>\n",
       "      <td>0:30:28</td>\n",
       "      <td>0:45:44</td>\n",
       "      <td>1:01:15</td>\n",
       "      <td>1:04:35</td>\n",
       "      <td>1:16:59</td>\n",
       "      <td>1:33:01</td>\n",
       "      <td>1:48:19</td>\n",
       "      <td>2:02:53</td>\n",
       "      <td>0:04:57</td>\n",
       "      <td>-</td>\n",
       "      <td>2:09:37</td>\n",
       "      <td>1</td>\n",
       "      <td>1</td>\n",
       "      <td>1</td>\n",
       "    </tr>\n",
       "    <tr>\n",
       "      <th>1</th>\n",
       "      <td>1</td>\n",
       "      <td>17</td>\n",
       "      <td>Rupp, Galen</td>\n",
       "      <td>30</td>\n",
       "      <td>M</td>\n",
       "      <td>Portland</td>\n",
       "      <td>OR</td>\n",
       "      <td>USA</td>\n",
       "      <td>NaN</td>\n",
       "      <td>NaN</td>\n",
       "      <td>0:15:24</td>\n",
       "      <td>0:30:27</td>\n",
       "      <td>0:45:44</td>\n",
       "      <td>1:01:15</td>\n",
       "      <td>1:04:35</td>\n",
       "      <td>1:16:59</td>\n",
       "      <td>1:33:01</td>\n",
       "      <td>1:48:19</td>\n",
       "      <td>2:03:14</td>\n",
       "      <td>0:04:58</td>\n",
       "      <td>-</td>\n",
       "      <td>2:09:58</td>\n",
       "      <td>2</td>\n",
       "      <td>2</td>\n",
       "      <td>2</td>\n",
       "    </tr>\n",
       "    <tr>\n",
       "      <th>2</th>\n",
       "      <td>2</td>\n",
       "      <td>23</td>\n",
       "      <td>Osako, Suguru</td>\n",
       "      <td>25</td>\n",
       "      <td>M</td>\n",
       "      <td>Machida-City</td>\n",
       "      <td>NaN</td>\n",
       "      <td>JPN</td>\n",
       "      <td>NaN</td>\n",
       "      <td>NaN</td>\n",
       "      <td>0:15:25</td>\n",
       "      <td>0:30:29</td>\n",
       "      <td>0:45:44</td>\n",
       "      <td>1:01:16</td>\n",
       "      <td>1:04:36</td>\n",
       "      <td>1:17:00</td>\n",
       "      <td>1:33:01</td>\n",
       "      <td>1:48:31</td>\n",
       "      <td>2:03:38</td>\n",
       "      <td>0:04:59</td>\n",
       "      <td>-</td>\n",
       "      <td>2:10:28</td>\n",
       "      <td>3</td>\n",
       "      <td>3</td>\n",
       "      <td>3</td>\n",
       "    </tr>\n",
       "  </tbody>\n",
       "</table>\n",
       "</div>"
      ],
      "text/plain": [
       "   Unnamed: 0 Bib             Name  Age M/F          City State Country  \\\n",
       "0           0  11  Kirui, Geoffrey   24   M      Keringet   NaN     KEN   \n",
       "1           1  17      Rupp, Galen   30   M      Portland    OR     USA   \n",
       "2           2  23    Osako, Suguru   25   M  Machida-City   NaN     JPN   \n",
       "\n",
       "  Citizen Unnamed: 9       5K      10K      15K      20K     Half      25K  \\\n",
       "0     NaN        NaN  0:15:25  0:30:28  0:45:44  1:01:15  1:04:35  1:16:59   \n",
       "1     NaN        NaN  0:15:24  0:30:27  0:45:44  1:01:15  1:04:35  1:16:59   \n",
       "2     NaN        NaN  0:15:25  0:30:29  0:45:44  1:01:16  1:04:36  1:17:00   \n",
       "\n",
       "       30K      35K      40K     Pace Proj Time Official Time  Overall  \\\n",
       "0  1:33:01  1:48:19  2:02:53  0:04:57         -       2:09:37        1   \n",
       "1  1:33:01  1:48:19  2:03:14  0:04:58         -       2:09:58        2   \n",
       "2  1:33:01  1:48:31  2:03:38  0:04:59         -       2:10:28        3   \n",
       "\n",
       "   Gender  Division  \n",
       "0       1         1  \n",
       "1       2         2  \n",
       "2       3         3  "
      ]
     },
     "execution_count": 48,
     "metadata": {},
     "output_type": "execute_result"
    }
   ],
   "source": [
    "# 지정한 열 개수만큼은 ... 없이 표시하도록 설정합니다\n",
    "pd.options.display.max_columns = 25\n",
    "marathon_2017.head(3)"
   ]
  },
  {
   "cell_type": "code",
   "execution_count": 49,
   "metadata": {},
   "outputs": [
    {
     "data": {
      "text/plain": [
       "Unnamed: 0           0\n",
       "Bib                  0\n",
       "Name                 0\n",
       "Age                  0\n",
       "M/F                  0\n",
       "City                 0\n",
       "State             3595\n",
       "Country              0\n",
       "Citizen          25156\n",
       "Unnamed: 9       26319\n",
       "5K                   0\n",
       "10K                  0\n",
       "15K                  0\n",
       "20K                  0\n",
       "Half                 0\n",
       "25K                  0\n",
       "30K                  0\n",
       "35K                  0\n",
       "40K                  0\n",
       "Pace                 0\n",
       "Proj Time            0\n",
       "Official Time        0\n",
       "Overall              0\n",
       "Gender               0\n",
       "Division             0\n",
       "dtype: int64"
      ]
     },
     "execution_count": 49,
     "metadata": {},
     "output_type": "execute_result"
    }
   ],
   "source": [
    "# isnull과 sum을 이용하여 컬럼별 결측치를 표시합니다\n",
    "marathon_2017.isnull().sum()"
   ]
  },
  {
   "cell_type": "code",
   "execution_count": 50,
   "metadata": {},
   "outputs": [
    {
     "data": {
      "text/plain": [
       "Index(['Unnamed: 0', 'Bib', 'Name', 'Age', 'M/F', 'City', 'State', 'Country',\n",
       "       'Citizen', 'Unnamed: 9', '5K', '10K', '15K', '20K', 'Half', '25K',\n",
       "       '30K', '35K', '40K', 'Pace', 'Proj Time', 'Official Time', 'Overall',\n",
       "       'Gender', 'Division'],\n",
       "      dtype='object')"
      ]
     },
     "execution_count": 50,
     "metadata": {},
     "output_type": "execute_result"
    }
   ],
   "source": [
    "# 각 컬럼의 이름을 출력합니다\n",
    "marathon_2017.columns"
   ]
  },
  {
   "cell_type": "code",
   "execution_count": 51,
   "metadata": {},
   "outputs": [
    {
     "data": {
      "text/plain": [
       "Index(['Name', 'Age', 'M/F', 'City', 'State', 'Country', 'Citizen', '5K',\n",
       "       '10K', '15K', '20K', 'Half', '25K', '30K', '35K', '40K', 'Pace',\n",
       "       'Proj Time', 'Official Time', 'Overall', 'Gender', 'Division'],\n",
       "      dtype='object')"
      ]
     },
     "execution_count": 51,
     "metadata": {},
     "output_type": "execute_result"
    }
   ],
   "source": [
    "# drop을 이용하여 'Unnamed:0','Bib','Unnamed:9' 컬럼을 삭제합니다\n",
    "marathon_2017_dp = marathon_2017.drop(['Unnamed: 0','Bib','Unnamed: 9'], axis=1)\n",
    "marathon_2017_dp.columns"
   ]
  },
  {
   "cell_type": "code",
   "execution_count": 52,
   "metadata": {},
   "outputs": [
    {
     "data": {
      "text/plain": [
       "Index(['Name', 'Age', 'M/F', 'City', 'State', 'Country', 'Citizen', '5K',\n",
       "       '10K', '15K', '20K', 'Half', '25K', '30K', '35K', '40K', 'Pace',\n",
       "       'Proj Time', 'Official Time', 'Overall', 'Gender', 'Division',\n",
       "       'Senior'],\n",
       "      dtype='object')"
      ]
     },
     "execution_count": 52,
     "metadata": {},
     "output_type": "execute_result"
    }
   ],
   "source": [
    "# Age가 60이상인 곳에 True, 아닌곳에 False라고 입력된 'Senior'컬럼 추가\n",
    "#marathon_2017_dp['Senior'] = marathon_2017_dp['Age'].apply(lambda x : 'True' if x >=60 else 'False')\n",
    "marathon_2017_dp['Senior'] = marathon_2017_dp['Age'] > 60\n",
    "marathon_2017_dp.columns"
   ]
  },
  {
   "cell_type": "code",
   "execution_count": 53,
   "metadata": {},
   "outputs": [],
   "source": [
    "# 모든 값이 '2017'로 입력된 'Year'컬럼 추가\n",
    "# marathon_2017_dp['Year'] = marathon_2017_dp['Year'].fillna('2017')\n",
    "marathon_2017_dp['Year'] = '2017'"
   ]
  },
  {
   "cell_type": "code",
   "execution_count": 54,
   "metadata": {},
   "outputs": [],
   "source": [
    "def to_seconds(record):\n",
    "    hms = record.str.split(\":\", n=2, expand=True)  # Series이므로 스플릿불가 오류, 문자로 변형해줘야 함\n",
    "    return hms[0].astype(int) * 3600 + hms[1].astype(int) * 60 + hms[2].astype(int)\n",
    "    print(hms)"
   ]
  },
  {
   "cell_type": "code",
   "execution_count": 36,
   "metadata": {},
   "outputs": [
    {
     "data": {
      "text/plain": [
       "['2', '03', '20']"
      ]
     },
     "execution_count": 36,
     "metadata": {},
     "output_type": "execute_result"
    }
   ],
   "source": [
    "\"2:03:20\".split(':')"
   ]
  },
  {
   "cell_type": "code",
   "execution_count": 56,
   "metadata": {},
   "outputs": [
    {
     "data": {
      "text/plain": [
       "0    7777\n",
       "1    7798\n",
       "2    7828\n",
       "Name: Official Time Sec, dtype: int32"
      ]
     },
     "execution_count": 56,
     "metadata": {},
     "output_type": "execute_result"
    }
   ],
   "source": [
    "marathon_2017_dp['Official Time Sec'] = to_seconds(marathon_2017_dp['Official Time'])\n",
    "marathon_2017_dp['Official Time Sec'].head(3)"
   ]
  },
  {
   "cell_type": "code",
   "execution_count": null,
   "metadata": {},
   "outputs": [],
   "source": []
  }
 ],
 "metadata": {
  "kernelspec": {
   "display_name": "Python 3",
   "language": "python",
   "name": "python3"
  },
  "language_info": {
   "codemirror_mode": {
    "name": "ipython",
    "version": 3
   },
   "file_extension": ".py",
   "mimetype": "text/x-python",
   "name": "python",
   "nbconvert_exporter": "python",
   "pygments_lexer": "ipython3",
   "version": "3.8.5"
  }
 },
 "nbformat": 4,
 "nbformat_minor": 4
}
