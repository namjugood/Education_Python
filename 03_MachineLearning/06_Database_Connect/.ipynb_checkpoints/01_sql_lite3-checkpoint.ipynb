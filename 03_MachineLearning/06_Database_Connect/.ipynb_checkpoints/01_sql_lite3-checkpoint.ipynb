{
 "cells": [
  {
   "cell_type": "code",
   "execution_count": 1,
   "metadata": {},
   "outputs": [],
   "source": [
    "import sqlite3"
   ]
  },
  {
   "cell_type": "code",
   "execution_count": 2,
   "metadata": {},
   "outputs": [],
   "source": [
    "# 데이터베이스 연결 - 자바JSP 에서의 Connection 객체 같은 역할의 변수  con  사용\n",
    "con = sqlite3.connect(':memory:')"
   ]
  },
  {
   "cell_type": "code",
   "execution_count": 3,
   "metadata": {},
   "outputs": [
    {
     "data": {
      "text/plain": [
       "<sqlite3.Cursor at 0x1e78df16420>"
      ]
     },
     "execution_count": 3,
     "metadata": {},
     "output_type": "execute_result"
    }
   ],
   "source": [
    "query = \"\"\"CREATE TABLE sales\n",
    "            (customer VARCHAR(20), \n",
    "             product VARCHAR(40),\n",
    "             amount FLOAT,\n",
    "             date DATE);\"\"\"\n",
    "con.execute(query)"
   ]
  },
  {
   "cell_type": "code",
   "execution_count": 4,
   "metadata": {},
   "outputs": [],
   "source": [
    "con.commit()"
   ]
  },
  {
   "cell_type": "code",
   "execution_count": 5,
   "metadata": {},
   "outputs": [],
   "source": [
    "# 몇개의 레코드를 테이블에 insert\n",
    "data = [('Richard Lucas', 'Notepad', 2.50, '2014-01-02'),\n",
    "        ('Jenny Kim', 'Binder', 4.15, '2014-01-15'),\n",
    "        ('Svetlana Crow', 'Printer', 155.75, '2014-02-03'),\n",
    "        ('Stephen Randolph', 'Computer', 679.40, '2014-02-20')]\n",
    "# 각 레코드는 리스트의 요소들.  각 리스트 요소들은 튜플들"
   ]
  },
  {
   "cell_type": "code",
   "execution_count": 6,
   "metadata": {},
   "outputs": [
    {
     "data": {
      "text/plain": [
       "<sqlite3.Cursor at 0x1e78df16030>"
      ]
     },
     "execution_count": 6,
     "metadata": {},
     "output_type": "execute_result"
    }
   ],
   "source": [
    "# sql 문 \n",
    "sql = \"INSERT INTO sales VALUES(?, ?, ?, ?)\"\n",
    "con.executemany(sql, data)"
   ]
  },
  {
   "cell_type": "code",
   "execution_count": 7,
   "metadata": {},
   "outputs": [],
   "source": [
    "# Sales 테이블 조회\n",
    "cursor = con.execute(\"SELECT * FROM sales\")\n",
    "# cursor 에서 레코드들을 추출\n",
    "rows = cursor.fetchall()"
   ]
  },
  {
   "cell_type": "code",
   "execution_count": 13,
   "metadata": {},
   "outputs": [
    {
     "name": "stdout",
     "output_type": "stream",
     "text": [
      "Richard Lucas\t\tNotepad\t\t2.5\t\t2014-01-02\t\t\n",
      "Jenny Kim\t\tBinder\t\t4.15\t\t2014-01-15\t\t\n",
      "Svetlana Crow\t\tPrinter\t\t155.75\t\t2014-02-03\t\t\n",
      "Stephen Randolph\tComputer\t\t679.4\t\t2014-02-20\t\t\n"
     ]
    }
   ],
   "source": [
    "for row in rows:\n",
    "    for k in row:\n",
    "        if len(str(k))>=16: print(k, end='\\t')\n",
    "        else : print(k, end='\\t\\t')\n",
    "    print()"
   ]
  },
  {
   "cell_type": "code",
   "execution_count": 14,
   "metadata": {},
   "outputs": [],
   "source": [
    "query = \"\"\"CREATE TABLE IF NOT EXISTS Suppliers\n",
    "                (Supplier_Name VARCHAR(20), \n",
    "                Invoice_Number VARCHAR(20),\n",
    "                Part_Number VARCHAR(20),\n",
    "                Cost FLOAT,\n",
    "                Purchase_Date DATE);\"\"\"\n",
    "con.execute(query)\n",
    "con.commit()"
   ]
  },
  {
   "cell_type": "code",
   "execution_count": 15,
   "metadata": {},
   "outputs": [
    {
     "data": {
      "text/plain": [
       "['Supplier Name', 'Invoice Number', 'Part Number', 'Cost', 'Purchase Date']"
      ]
     },
     "execution_count": 15,
     "metadata": {},
     "output_type": "execute_result"
    }
   ],
   "source": [
    "import csv\n",
    "#csv 파일 오픈 및 읽어옴\n",
    "file_reader = csv.reader(open('data.csv', 'r'), delimiter=',')\n",
    "header = next(file_reader, None)\n",
    "header"
   ]
  },
  {
   "cell_type": "code",
   "execution_count": 16,
   "metadata": {},
   "outputs": [
    {
     "name": "stdout",
     "output_type": "stream",
     "text": [
      "['Supplier X', '001-1001', '2341', '$500.00', '2014-01-20']\n",
      "['Supplier X', '001-1001', '2341', '$500.00', '2014-01-20']\n",
      "['Supplier X', '001-1001', '5467', '$750.00', '2014-01-20']\n",
      "['Supplier X', '001-1001', '5467', '$750.00', '2014-01-20']\n",
      "['Supplier Y', '50-9501', '7009', '$250.00', '2014-01-30']\n",
      "['Supplier Y', '50-9501', '7009', '$250.00', '2014-01-30']\n",
      "['Supplier Y', '50-9501', '6650', '$125.00', '2014-02-03']\n",
      "['Supplier Y', '50-9501', '6650', '$125.00', '2014-02-03']\n",
      "['Supplier Z', '920-4804', '3321', '$615.00', '2014-02-03']\n",
      "['Supplier Z', '920-4804', '3321', '$615.00', '2014-10-14']\n",
      "['Supplier Z', '920-4804', '3321', '$615.00', '2014-02-17']\n",
      "['Supplier Z', '920-4804', '3321', '$615.00', '2014-02-24']\n"
     ]
    }
   ],
   "source": [
    "for row in file_reader:\n",
    "    data = [] \n",
    "    for column_index in range(len(header)):\n",
    "        data.append(row[column_index])\n",
    "    print(data)\n",
    "    con.execute(\"INSERT INTO Suppliers VALUES (?, ?, ?, ?, ?);\", data)\n",
    "con.commit()"
   ]
  },
  {
   "cell_type": "code",
   "execution_count": 17,
   "metadata": {},
   "outputs": [
    {
     "name": "stdout",
     "output_type": "stream",
     "text": [
      "['Supplier Name', 'Invoice Number', 'Part Number', 'Cost', 'Purchase Date']\n",
      "['Supplier X', '001-1001', '2341', '$500.00', '2014-01-20']\n",
      "['Supplier X', '001-1001', '2341', '$500.00', '2014-01-20']\n",
      "['Supplier X', '001-1001', '5467', '$750.00', '2014-01-20']\n",
      "['Supplier X', '001-1001', '5467', '$750.00', '2014-01-20']\n",
      "['Supplier Y', '50-9501', '7009', '$250.00', '2014-01-30']\n",
      "['Supplier Y', '50-9501', '7009', '$250.00', '2014-01-30']\n",
      "['Supplier Y', '50-9501', '6650', '$125.00', '2014-02-03']\n",
      "['Supplier Y', '50-9501', '6650', '$125.00', '2014-02-03']\n",
      "['Supplier Z', '920-4804', '3321', '$615.00', '2014-02-03']\n",
      "['Supplier Z', '920-4804', '3321', '$615.00', '2014-10-14']\n",
      "['Supplier Z', '920-4804', '3321', '$615.00', '2014-02-17']\n",
      "['Supplier Z', '920-4804', '3321', '$615.00', '2014-02-24']\n"
     ]
    }
   ],
   "source": [
    "# 테이블 조회\n",
    "output = con.execute(\"SELECT * FROM Suppliers\")\n",
    "rows = output.fetchall()\n",
    "# 헤더와 함께 내용 출력\n",
    "print(header)\n",
    "for row in rows:\n",
    "    output = []\n",
    "    for column_index in range(len(row)):\n",
    "        output.append(str(row[column_index]))\n",
    "    print(output)"
   ]
  },
  {
   "cell_type": "code",
   "execution_count": 18,
   "metadata": {},
   "outputs": [
    {
     "data": {
      "text/plain": [
       "<sqlite3.Cursor at 0x1e78df40180>"
      ]
     },
     "execution_count": 18,
     "metadata": {},
     "output_type": "execute_result"
    }
   ],
   "source": [
    "data = [10.5, '2020-05-07', 'Richard Lucas']\n",
    "con.execute(\"UPDATE sales SET amount=?, date=? WHERE customer=?;\", data)"
   ]
  },
  {
   "cell_type": "code",
   "execution_count": 20,
   "metadata": {},
   "outputs": [
    {
     "name": "stdout",
     "output_type": "stream",
     "text": [
      "Richard Lucas\tNotepad\t10.5\t2020-05-07\t\n",
      "Jenny Kim\tBinder\t4.15\t2014-01-15\t\n",
      "Svetlana Crow\tPrinter\t155.75\t2014-02-03\t\n",
      "Stephen Randolph\tComputer\t679.4\t2014-02-20\t\n"
     ]
    }
   ],
   "source": [
    "cursor = con.execute(\"SELECT * FROM sales\")\n",
    "rows = cursor.fetchall()\n",
    "for row in rows:\n",
    "    for k in row:\n",
    "        print(k, end='\\t')\n",
    "    print()"
   ]
  },
  {
   "cell_type": "code",
   "execution_count": 21,
   "metadata": {},
   "outputs": [
    {
     "data": {
      "text/plain": [
       "<sqlite3.Cursor at 0x1e78dfdaa40>"
      ]
     },
     "execution_count": 21,
     "metadata": {},
     "output_type": "execute_result"
    }
   ],
   "source": [
    "query = \"DROP TABLE sales;\"\n",
    "con.execute(query)"
   ]
  },
  {
   "cell_type": "code",
   "execution_count": null,
   "metadata": {},
   "outputs": [],
   "source": []
  }
 ],
 "metadata": {
  "kernelspec": {
   "display_name": "Python 3",
   "language": "python",
   "name": "python3"
  },
  "language_info": {
   "codemirror_mode": {
    "name": "ipython",
    "version": 3
   },
   "file_extension": ".py",
   "mimetype": "text/x-python",
   "name": "python",
   "nbconvert_exporter": "python",
   "pygments_lexer": "ipython3",
   "version": "3.8.5"
  }
 },
 "nbformat": 4,
 "nbformat_minor": 4
}
