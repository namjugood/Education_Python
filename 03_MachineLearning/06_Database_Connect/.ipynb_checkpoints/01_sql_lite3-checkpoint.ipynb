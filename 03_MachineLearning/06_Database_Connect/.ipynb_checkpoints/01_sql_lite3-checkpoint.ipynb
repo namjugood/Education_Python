{
 "cells": [
  {
   "cell_type": "code",
   "execution_count": 14,
   "metadata": {},
   "outputs": [],
   "source": [
    "import sqlite3"
   ]
  },
  {
   "cell_type": "code",
   "execution_count": 15,
   "metadata": {},
   "outputs": [],
   "source": [
    "# 데이터베이스 연결 - 자바JSP에서의 Connection 객체같은 역할의 변수 con 사용\n",
    "con = sqlite3.connect(':memory:')"
   ]
  },
  {
   "cell_type": "code",
   "execution_count": 16,
   "metadata": {},
   "outputs": [
    {
     "data": {
      "text/plain": [
       "<sqlite3.Cursor at 0x2ab6ad5e650>"
      ]
     },
     "execution_count": 16,
     "metadata": {},
     "output_type": "execute_result"
    }
   ],
   "source": [
    "query = \"\"\"CREATE TABLE sales\n",
    "            (customer VARCHAR(20), \n",
    "             product VARCHAR(40),\n",
    "             amount FLOAT,\n",
    "             date DATE);\"\"\"\n",
    "con.execute(query)"
   ]
  },
  {
   "cell_type": "code",
   "execution_count": 17,
   "metadata": {},
   "outputs": [],
   "source": [
    "con.commit()"
   ]
  },
  {
   "cell_type": "code",
   "execution_count": 18,
   "metadata": {},
   "outputs": [],
   "source": [
    "# 몇 개의 레코드를 테이블에 insert\n",
    "data = [('Richard Lucas', 'Notepad', 2.50, '2014-01-02'),\n",
    "        ('Jenny Kim', 'Binder', 4.15, '2014-01-15'),\n",
    "        ('Svetlana Crow', 'Printer', 155.75, '2014-01-15'),\n",
    "        ('Stephen Randolph', 'computer', 679.40, '2014-02-20')]\n",
    "# 각 레코드는 리스트의 요소들. 각 리스트 요소들은 튜플들"
   ]
  },
  {
   "cell_type": "code",
   "execution_count": 19,
   "metadata": {},
   "outputs": [
    {
     "data": {
      "text/plain": [
       "<sqlite3.Cursor at 0x2ab6aed32d0>"
      ]
     },
     "execution_count": 19,
     "metadata": {},
     "output_type": "execute_result"
    }
   ],
   "source": [
    "# sql문\n",
    "sql = \"INSERT INTO sales VALUES(?,?,?,?)\"\n",
    "con.executemany(sql, data)"
   ]
  },
  {
   "cell_type": "code",
   "execution_count": 20,
   "metadata": {},
   "outputs": [],
   "source": [
    "# Sales 테이블 조회\n",
    "cursor = con.execute(\"SELECT * FROM sales\")\n",
    "# cursor에서 레코드들을 추출\n",
    "rows = cursor.fetchall()"
   ]
  },
  {
   "cell_type": "code",
   "execution_count": 21,
   "metadata": {},
   "outputs": [
    {
     "name": "stdout",
     "output_type": "stream",
     "text": [
      "Richard Lucas\t\tNotepad\t\t2.5\t\t2014-01-02\t\t\n",
      "Jenny Kim\t\tBinder\t\t4.15\t\t2014-01-15\t\t\n",
      "Svetlana Crow\t\tPrinter\t\t155.75\t\t2014-01-15\t\t\n",
      "Stephen Randolph\tcomputer\t\t679.4\t\t2014-02-20\t\t\n"
     ]
    }
   ],
   "source": [
    "for row in rows:\n",
    "    for k in row:\n",
    "        if len(str(k)) >=16: print(k, end='\\t')\n",
    "        else : print(k, end='\\t\\t')\n",
    "    print()"
   ]
  },
  {
   "cell_type": "code",
   "execution_count": 22,
   "metadata": {},
   "outputs": [],
   "source": [
    "query = \"\"\"CREATE TABLE IF NOT EXISTS Suppliers\n",
    "            (Supplier_Name VARCHAR(20), \n",
    "             Invoice_Number VARCHAR(40),\n",
    "             Part_Number VACHAR(20),\n",
    "             Cost FLOAT\n",
    "             Purchase_Date DATE);\"\"\"\n",
    "con.execute(query)\n",
    "con.commit()"
   ]
  },
  {
   "cell_type": "code",
   "execution_count": 23,
   "metadata": {},
   "outputs": [
    {
     "data": {
      "text/plain": [
       "['Supplier Name', 'Invoice Number', 'Part Number', 'Cost', 'Purchase Date']"
      ]
     },
     "execution_count": 23,
     "metadata": {},
     "output_type": "execute_result"
    }
   ],
   "source": [
    "import csv\n",
    "#csv 파일 오픈 및 읽어옴\n",
    "file_reader = csv.reader(open('data.csv', 'r'), delimiter=',')\n",
    "header = next(file_reader, None)\n",
    "header"
   ]
  },
  {
   "cell_type": "code",
   "execution_count": 36,
   "metadata": {},
   "outputs": [
    {
     "ename": "IndexError",
     "evalue": "tuple index out of range",
     "output_type": "error",
     "traceback": [
      "\u001b[1;31m---------------------------------------------------------------------------\u001b[0m",
      "\u001b[1;31mIndexError\u001b[0m                                Traceback (most recent call last)",
      "\u001b[1;32m<ipython-input-36-a6b018c1ad2e>\u001b[0m in \u001b[0;36m<module>\u001b[1;34m\u001b[0m\n\u001b[0;32m      2\u001b[0m     \u001b[0mdata\u001b[0m\u001b[1;33m=\u001b[0m\u001b[1;33m[\u001b[0m\u001b[1;33m]\u001b[0m\u001b[1;33m\u001b[0m\u001b[1;33m\u001b[0m\u001b[0m\n\u001b[0;32m      3\u001b[0m     \u001b[1;32mfor\u001b[0m \u001b[0mcolumn_index\u001b[0m \u001b[1;32min\u001b[0m \u001b[0mrange\u001b[0m\u001b[1;33m(\u001b[0m\u001b[0mlen\u001b[0m\u001b[1;33m(\u001b[0m\u001b[0mheader\u001b[0m\u001b[1;33m)\u001b[0m\u001b[1;33m)\u001b[0m\u001b[1;33m:\u001b[0m\u001b[1;33m\u001b[0m\u001b[1;33m\u001b[0m\u001b[0m\n\u001b[1;32m----> 4\u001b[1;33m         \u001b[0mdata\u001b[0m\u001b[1;33m.\u001b[0m\u001b[0mappend\u001b[0m\u001b[1;33m(\u001b[0m\u001b[0mrow\u001b[0m\u001b[1;33m[\u001b[0m\u001b[0mcolumn_index\u001b[0m\u001b[1;33m]\u001b[0m\u001b[1;33m)\u001b[0m\u001b[1;33m\u001b[0m\u001b[1;33m\u001b[0m\u001b[0m\n\u001b[0m\u001b[0;32m      5\u001b[0m     \u001b[0mprint\u001b[0m\u001b[1;33m(\u001b[0m\u001b[0mdata\u001b[0m\u001b[1;33m)\u001b[0m\u001b[1;33m\u001b[0m\u001b[1;33m\u001b[0m\u001b[0m\n\u001b[0;32m      6\u001b[0m     \u001b[0mcon\u001b[0m\u001b[1;33m.\u001b[0m\u001b[0mexecute\u001b[0m\u001b[1;33m(\u001b[0m\u001b[1;34m\"INSERT INTO Suppliers VALUES(?,?,?,?,?);\"\u001b[0m\u001b[1;33m,\u001b[0m \u001b[0mdata\u001b[0m\u001b[1;33m)\u001b[0m\u001b[1;33m\u001b[0m\u001b[1;33m\u001b[0m\u001b[0m\n",
      "\u001b[1;31mIndexError\u001b[0m: tuple index out of range"
     ]
    }
   ],
   "source": [
    "for fow in file_reader:\n",
    "    data=[]\n",
    "    for column_index in range(len(header)):\n",
    "        data.append(row[column_index])\n",
    "    print(data)\n",
    "    con.execute(\"INSERT INTO Suppliers VALUES (?,?,?,?,?);\", data)\n",
    "con.commit()"
   ]
  },
  {
   "cell_type": "code",
   "execution_count": 25,
   "metadata": {},
   "outputs": [
    {
     "name": "stdout",
     "output_type": "stream",
     "text": [
      "['Supplier Name', 'Invoice Number', 'Part Number', 'Cost', 'Purchase Date']\n"
     ]
    }
   ],
   "source": [
    "# 테이블 조회\n",
    "output = con.execute(\"SELECT * FROM Suppliers\")\n",
    "rows = output.fetchall()\n",
    "# 헤더와 함께 내용 출력\n",
    "print(header)\n",
    "for row in rows:\n",
    "    output = []\n",
    "    for column_index in range(len(row)):\n",
    "        output.append(str(row[column_index]))\n",
    "    print(output)"
   ]
  },
  {
   "cell_type": "code",
   "execution_count": 30,
   "metadata": {},
   "outputs": [
    {
     "data": {
      "text/plain": [
       "<sqlite3.Cursor at 0x2ab6aede0a0>"
      ]
     },
     "execution_count": 30,
     "metadata": {},
     "output_type": "execute_result"
    }
   ],
   "source": [
    "data = [10.5, '2020-05-07', 'Richard Lucas']\n",
    "con.execute(\"UPDATE sales SET amount=?, date=? WHERE customer=?;\", data)"
   ]
  },
  {
   "cell_type": "code",
   "execution_count": 34,
   "metadata": {},
   "outputs": [
    {
     "name": "stdout",
     "output_type": "stream",
     "text": [
      "Richard Lucas\tNotepad\t10.5\t2020-05-07\t\n",
      "Jenny Kim\tBinder\t4.15\t2014-01-15\t\n",
      "Svetlana Crow\tPrinter\t155.75\t2014-01-15\t\n",
      "Stephen Randolph\tcomputer\t679.4\t2014-02-20\t\n"
     ]
    }
   ],
   "source": [
    "cursor = con.execute(\"SELECT * FROM sales\")\n",
    "rows = cursor.fetchall()\n",
    "for row in rows:\n",
    "    for k in row:\n",
    "        print(k, end='\\t')\n",
    "    print()"
   ]
  },
  {
   "cell_type": "code",
   "execution_count": 37,
   "metadata": {},
   "outputs": [
    {
     "data": {
      "text/plain": [
       "<sqlite3.Cursor at 0x2ab6ae98490>"
      ]
     },
     "execution_count": 37,
     "metadata": {},
     "output_type": "execute_result"
    }
   ],
   "source": [
    "query = \"DROP TABLE sales;\"\n",
    "con.execute(query)"
   ]
  },
  {
   "cell_type": "code",
   "execution_count": null,
   "metadata": {},
   "outputs": [],
   "source": []
  }
 ],
 "metadata": {
  "kernelspec": {
   "display_name": "Python 3",
   "language": "python",
   "name": "python3"
  },
  "language_info": {
   "codemirror_mode": {
    "name": "ipython",
    "version": 3
   },
   "file_extension": ".py",
   "mimetype": "text/x-python",
   "name": "python",
   "nbconvert_exporter": "python",
   "pygments_lexer": "ipython3",
   "version": "3.8.5"
  },
  "varInspector": {
   "cols": {
    "lenName": 16,
    "lenType": 16,
    "lenVar": 40
   },
   "kernels_config": {
    "python": {
     "delete_cmd_postfix": "",
     "delete_cmd_prefix": "del ",
     "library": "var_list.py",
     "varRefreshCmd": "print(var_dic_list())"
    },
    "r": {
     "delete_cmd_postfix": ") ",
     "delete_cmd_prefix": "rm(",
     "library": "var_list.r",
     "varRefreshCmd": "cat(var_dic_list()) "
    }
   },
   "types_to_exclude": [
    "module",
    "function",
    "builtin_function_or_method",
    "instance",
    "_Feature"
   ],
   "window_display": false
  }
 },
 "nbformat": 4,
 "nbformat_minor": 4
}
