{
 "cells": [
  {
   "cell_type": "code",
   "execution_count": 1,
   "metadata": {},
   "outputs": [],
   "source": [
    "import cx_Oracle"
   ]
  },
  {
   "cell_type": "code",
   "execution_count": 12,
   "metadata": {},
   "outputs": [],
   "source": [
    "# 데이터 베이스에 연결\n",
    "con = cx_Oracle.connect('scott','tiger','localhost:1521/xe')"
   ]
  },
  {
   "cell_type": "code",
   "execution_count": 19,
   "metadata": {},
   "outputs": [
    {
     "data": {
      "text/plain": [
       "<cx_Oracle.Cursor on <cx_Oracle.Connection to scott@localhost:1521/xe>>"
      ]
     },
     "execution_count": 19,
     "metadata": {},
     "output_type": "execute_result"
    }
   ],
   "source": [
    "# dept 테이블 조회 후 출력\n",
    "query = \"Select * from dept\"\n",
    "cur = con.cursor() # 객체 생성\n",
    "cur.execute(query)"
   ]
  },
  {
   "cell_type": "code",
   "execution_count": 20,
   "metadata": {},
   "outputs": [
    {
     "name": "stdout",
     "output_type": "stream",
     "text": [
      "10 \t ACCOUNTING \t NEW YORK\n",
      "20 \t RESEARCH \t DALLAS\n",
      "30 \t SALES \t CHICAGO\n",
      "40 \t OPERATIONS \t BOSTON\n"
     ]
    }
   ],
   "source": [
    "for a,b,c in cur:\n",
    "    print(a,'\\t',b,'\\t',c)"
   ]
  },
  {
   "cell_type": "code",
   "execution_count": 23,
   "metadata": {},
   "outputs": [],
   "source": [
    "query = \"\"\"create table product_(\n",
    "product_id number primary key,\n",
    "product_name varchar2(50),\n",
    "price number default 0,\n",
    "description varchar2(100),\n",
    "image varchar2(30)\n",
    ")\"\"\"\n",
    "cur.execute(query)"
   ]
  },
  {
   "cell_type": "code",
   "execution_count": null,
   "metadata": {},
   "outputs": [],
   "source": [
    "# 레코드 insert - 1 개의 데이터 insert\n",
    "sql = \"insert into product_ values(:1, :2, :3, :4, :5)\"\n",
    "data = (2, '레몬', 1500, '레몬에 함유된 구연산-피로회복에 좋음', 'lemon.jpg')\n",
    "cur.execute(sql, data)"
   ]
  },
  {
   "cell_type": "code",
   "execution_count": 26,
   "metadata": {},
   "outputs": [],
   "source": [
    "con.commit()"
   ]
  },
  {
   "cell_type": "code",
   "execution_count": 27,
   "metadata": {},
   "outputs": [],
   "source": [
    "# 복수개의 데이터 삽입\n",
    "sql = \"insert into product_ values(:1, :2, :3, :4, :5)\"\n",
    "items=[\n",
    "        (1, '사과', 10000, '청도 꿀 사과 당도가 매우 높음', 'apple.jpg'),\n",
    "        (3, '오렌지', 2000, '비타민C가 풍부, 생과일 주스용', 'orange.jpg'),\n",
    "        (4, '키위', 1300, '다이어트나 미용에 좋음', 'kiwi.jpg'),\n",
    "        (5, '포도', 1200, '폴리페놀을 다량 함유', 'grape.jpg'),\n",
    "        (6, '딸기', 3000, '플로보노이드 다량 함유', 'strawberry.jpg')\n",
    "]\n",
    "\n",
    "cur.arraysize = len(items)  # 리스트의 갯수 전달\n",
    "cur.executemany(sql, items)\n",
    "con.commit()"
   ]
  },
  {
   "cell_type": "code",
   "execution_count": 28,
   "metadata": {},
   "outputs": [],
   "source": [
    "# 전체 데이터 조회\n",
    "def select_table():\n",
    "    sql = \"select * from product_\"\n",
    "    cur.execute(sql)\n",
    "    for row in cur:\n",
    "        for field in row:\n",
    "            print(field, end='\\t')\n",
    "        print()"
   ]
  },
  {
   "cell_type": "code",
   "execution_count": 29,
   "metadata": {},
   "outputs": [
    {
     "name": "stdout",
     "output_type": "stream",
     "text": [
      "2\t레몬\t1500\t레몬에 함유된 구연산-피로회복에 좋음\tlemon.jpg\t\n",
      "1\t사과\t10000\t청도 꿀 사과 당도가 매우 높음\tapple.jpg\t\n",
      "3\t오렌지\t2000\t비타민C가 풍부, 생과일 주스용\torange.jpg\t\n",
      "4\t키위\t1300\t다이어트나 미용에 좋음\tkiwi.jpg\t\n",
      "5\t포도\t1200\t폴리페놀을 다량 함유\tgrape.jpg\t\n",
      "6\t딸기\t3000\t플로보노이드 다량 함유\tstrawberry.jpg\t\n"
     ]
    }
   ],
   "source": [
    "select_table()"
   ]
  },
  {
   "cell_type": "code",
   "execution_count": 30,
   "metadata": {},
   "outputs": [
    {
     "name": "stdout",
     "output_type": "stream",
     "text": [
      "2\t레몬\t1500\t레몬에 함유된 구연산-피로회복에 좋음\tlemon.jpg\t\n",
      "1\t사과\t10000\t청도 꿀 사과 당도가 매우 높음\tapple.jpg\t\n",
      "3\t오렌지\t2000\t비타민C가 풍부, 생과일 주스용\torange.jpg\t\n",
      "4\t키위\t25000\t다이어트나 미용에 좋음\tkiwi.jpg\t\n",
      "5\t포도\t1200\t폴리페놀을 다량 함유\tgrape.jpg\t\n",
      "6\t딸기\t3000\t플로보노이드 다량 함유\tstrawberry.jpg\t\n"
     ]
    }
   ],
   "source": [
    "# 데이터의 수정\n",
    "sql = \"update product_ set price= :1 where product_id = :2\"\n",
    "data = (25000, 4)\n",
    "cur.execute(sql, data)\n",
    "con.commit()\n",
    "select_table()"
   ]
  },
  {
   "cell_type": "code",
   "execution_count": 31,
   "metadata": {},
   "outputs": [
    {
     "name": "stdout",
     "output_type": "stream",
     "text": [
      "2\t레몬\t1500\t레몬에 함유된 구연산-피로회복에 좋음\tlemon.jpg\t\n",
      "1\t사과\t10000\t청도 꿀 사과 당도가 매우 높음\tapple.jpg\t\n",
      "3\t오렌지\t2000\t비타민C가 풍부, 생과일 주스용\torange.jpg\t\n",
      "4\t키위\t25000\t다이어트나 미용에 좋음\tkiwi.jpg\t\n",
      "5\t포도\t1200\t폴리페놀을 다량 함유\tgrape.jpg\t\n"
     ]
    }
   ],
   "source": [
    "sql = \"delete from product_ where product_id = 6\"\n",
    "cur.execute(sql)\n",
    "con.commit()\n",
    "select_table()"
   ]
  },
  {
   "cell_type": "code",
   "execution_count": null,
   "metadata": {},
   "outputs": [],
   "source": []
  }
 ],
 "metadata": {
  "kernelspec": {
   "display_name": "Python 3",
   "language": "python",
   "name": "python3"
  },
  "language_info": {
   "codemirror_mode": {
    "name": "ipython",
    "version": 3
   },
   "file_extension": ".py",
   "mimetype": "text/x-python",
   "name": "python",
   "nbconvert_exporter": "python",
   "pygments_lexer": "ipython3",
   "version": "3.8.5"
  }
 },
 "nbformat": 4,
 "nbformat_minor": 4
}
