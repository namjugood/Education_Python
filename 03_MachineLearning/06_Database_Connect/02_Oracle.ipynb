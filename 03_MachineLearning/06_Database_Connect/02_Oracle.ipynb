{
 "cells": [
  {
   "cell_type": "markdown",
   "metadata": {},
   "source": [
    "## cx_oracle 설치 법\n",
    "- anaconda prompt 관리자 모드 실행\n",
    "- pip install cx_oracle"
   ]
  },
  {
   "cell_type": "code",
   "execution_count": 36,
   "metadata": {},
   "outputs": [],
   "source": [
    "import cx_Oracle"
   ]
  },
  {
   "cell_type": "code",
   "execution_count": 37,
   "metadata": {},
   "outputs": [],
   "source": [
    "# 데이터베이스에 연결\n",
    "con = cx_Oracle.connect('scott','tiger','localhost:1521/xe')"
   ]
  },
  {
   "cell_type": "code",
   "execution_count": 53,
   "metadata": {},
   "outputs": [
    {
     "name": "stdout",
     "output_type": "stream",
     "text": [
      "10 ACCOUNTING NEW YORK\n",
      "20 RESEARCH DALLAS\n",
      "30 SALES CHICAGO\n",
      "40 OPERATIONS BOSTON\n"
     ]
    }
   ],
   "source": [
    "# dept 테이블 조회 후 출력\n",
    "query = \"Select * from dept\"\n",
    "cur = con.cursor() # 객체 생성\n",
    "cur.execute(query)\n",
    "for a,b,c in cur:\n",
    "    print(a,b,c)"
   ]
  },
  {
   "cell_type": "code",
   "execution_count": 54,
   "metadata": {},
   "outputs": [
    {
     "ename": "DatabaseError",
     "evalue": "ORA-00955: name is already used by an existing object",
     "output_type": "error",
     "traceback": [
      "\u001b[1;31m---------------------------------------------------------------------------\u001b[0m",
      "\u001b[1;31mDatabaseError\u001b[0m                             Traceback (most recent call last)",
      "\u001b[1;32m<ipython-input-54-dbb5aa38ae4f>\u001b[0m in \u001b[0;36m<module>\u001b[1;34m\u001b[0m\n\u001b[0;32m      6\u001b[0m              \u001b[0mimage\u001b[0m \u001b[0mvarchar2\u001b[0m\u001b[1;33m(\u001b[0m\u001b[1;36m30\u001b[0m\u001b[1;33m)\u001b[0m\u001b[1;33m\u001b[0m\u001b[1;33m\u001b[0m\u001b[0m\n\u001b[0;32m      7\u001b[0m              )\"\"\"\n\u001b[1;32m----> 8\u001b[1;33m \u001b[0mcur\u001b[0m\u001b[1;33m.\u001b[0m\u001b[0mexecute\u001b[0m\u001b[1;33m(\u001b[0m\u001b[0mquery\u001b[0m\u001b[1;33m)\u001b[0m\u001b[1;33m\u001b[0m\u001b[1;33m\u001b[0m\u001b[0m\n\u001b[0m",
      "\u001b[1;31mDatabaseError\u001b[0m: ORA-00955: name is already used by an existing object"
     ]
    }
   ],
   "source": [
    "query = \"\"\"CREATE TABLE product_(\n",
    "             product_id number primary key, \n",
    "             product_name VARCHAR2(50),\n",
    "             price number default 0,\n",
    "             description varchar2(100),\n",
    "             image varchar2(30)\n",
    "             )\"\"\"\n",
    "cur.execute(query)"
   ]
  },
  {
   "cell_type": "code",
   "execution_count": 56,
   "metadata": {},
   "outputs": [],
   "source": [
    "con.commit()"
   ]
  },
  {
   "cell_type": "code",
   "execution_count": 57,
   "metadata": {},
   "outputs": [
    {
     "ename": "DatabaseError",
     "evalue": "ORA-01008: not all variables bound",
     "output_type": "error",
     "traceback": [
      "\u001b[1;31m---------------------------------------------------------------------------\u001b[0m",
      "\u001b[1;31mDatabaseError\u001b[0m                             Traceback (most recent call last)",
      "\u001b[1;32m<ipython-input-57-6b2b128a53e0>\u001b[0m in \u001b[0;36m<module>\u001b[1;34m\u001b[0m\n\u001b[0;32m      9\u001b[0m ]\n\u001b[0;32m     10\u001b[0m \u001b[0mcur\u001b[0m\u001b[1;33m.\u001b[0m\u001b[0marraysize\u001b[0m \u001b[1;33m=\u001b[0m \u001b[0mlen\u001b[0m\u001b[1;33m(\u001b[0m\u001b[0mitems\u001b[0m\u001b[1;33m)\u001b[0m  \u001b[1;31m# 리스트의 개수 전달\u001b[0m\u001b[1;33m\u001b[0m\u001b[1;33m\u001b[0m\u001b[0m\n\u001b[1;32m---> 11\u001b[1;33m \u001b[0mcur\u001b[0m\u001b[1;33m.\u001b[0m\u001b[0mexecutemany\u001b[0m\u001b[1;33m(\u001b[0m\u001b[0msql\u001b[0m\u001b[1;33m,\u001b[0m \u001b[0mitems\u001b[0m\u001b[1;33m)\u001b[0m\u001b[1;33m\u001b[0m\u001b[1;33m\u001b[0m\u001b[0m\n\u001b[0m\u001b[0;32m     12\u001b[0m \u001b[0mcon\u001b[0m\u001b[1;33m.\u001b[0m\u001b[0mcommit\u001b[0m\u001b[1;33m(\u001b[0m\u001b[1;33m)\u001b[0m\u001b[1;33m\u001b[0m\u001b[1;33m\u001b[0m\u001b[0m\n",
      "\u001b[1;31mDatabaseError\u001b[0m: ORA-01008: not all variables bound"
     ]
    }
   ],
   "source": [
    "# 복수개의 데이터 삽입\n",
    "sql = \"insert into product_ values(:1,:2,:3,:4,:4,:5)\"\n",
    "items=[\n",
    "        (1, '사과', 10000, '청도 꿀 사과 당도가 매우 높음', 'apple.jpg'),\n",
    "        (3, '오렌지', 2000, '비타민c가 풍부, 생과일 주스용', 'orange.jpg'),\n",
    "        (4, '키위', 1300, '다이어트나 미용에 좋음', 'kiwi.jpg'),\n",
    "        (5, '포도', 1200, '폴리페놀을 다량 함유', 'grape.jpg'),\n",
    "        (6, '딸기', 3000, '플로보노이드 다량 함유', 'strawberry.jpg')\n",
    "]\n",
    "cur.arraysize = len(items)  # 리스트의 개수 전달\n",
    "cur.executemany(sql, items)\n",
    "con.commit()"
   ]
  },
  {
   "cell_type": "code",
   "execution_count": 64,
   "metadata": {},
   "outputs": [],
   "source": [
    "# 전체 데이터 조회\n",
    "def select_table():\n",
    "    sql = \"select * from product_\"\n",
    "    cur.execute(sql)\n",
    "    for row in cur:\n",
    "        for field in row:\n",
    "            print(field, end='\\t')\n",
    "        print()"
   ]
  },
  {
   "cell_type": "code",
   "execution_count": 65,
   "metadata": {},
   "outputs": [],
   "source": [
    "select_table()"
   ]
  },
  {
   "cell_type": "code",
   "execution_count": 62,
   "metadata": {},
   "outputs": [],
   "source": [
    "# 데이터의 수정\n",
    "sql = \"update product_ set price= :1 where product_id= :2\"\n",
    "data = (25000,4)\n",
    "cur.execute(sql, data)\n",
    "con.commit()\n",
    "select_table()"
   ]
  },
  {
   "cell_type": "code",
   "execution_count": 63,
   "metadata": {},
   "outputs": [],
   "source": [
    "sql = \"delete from product_ where product_id = 6\"\n",
    "cur.execute(sql)\n",
    "con.commit()\n",
    "select_table()"
   ]
  },
  {
   "cell_type": "code",
   "execution_count": null,
   "metadata": {},
   "outputs": [],
   "source": []
  }
 ],
 "metadata": {
  "kernelspec": {
   "display_name": "Python 3",
   "language": "python",
   "name": "python3"
  },
  "language_info": {
   "codemirror_mode": {
    "name": "ipython",
    "version": 3
   },
   "file_extension": ".py",
   "mimetype": "text/x-python",
   "name": "python",
   "nbconvert_exporter": "python",
   "pygments_lexer": "ipython3",
   "version": "3.8.5"
  },
  "varInspector": {
   "cols": {
    "lenName": 16,
    "lenType": 16,
    "lenVar": 40
   },
   "kernels_config": {
    "python": {
     "delete_cmd_postfix": "",
     "delete_cmd_prefix": "del ",
     "library": "var_list.py",
     "varRefreshCmd": "print(var_dic_list())"
    },
    "r": {
     "delete_cmd_postfix": ") ",
     "delete_cmd_prefix": "rm(",
     "library": "var_list.r",
     "varRefreshCmd": "cat(var_dic_list()) "
    }
   },
   "types_to_exclude": [
    "module",
    "function",
    "builtin_function_or_method",
    "instance",
    "_Feature"
   ],
   "window_display": false
  }
 },
 "nbformat": 4,
 "nbformat_minor": 4
}
