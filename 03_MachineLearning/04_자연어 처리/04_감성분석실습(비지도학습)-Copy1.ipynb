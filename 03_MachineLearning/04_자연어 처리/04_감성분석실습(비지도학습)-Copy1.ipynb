{
 "cells": [
  {
   "cell_type": "markdown",
   "metadata": {},
   "source": [
    "# 비 지도 학습 기반 감성 분석 소개\n",
    "## SentiWordNet을 이용한 Sentiment Analysis\n",
    "* WordNet Synset과 SentiWordNet SentiSynset 클래스의 이해"
   ]
  },
  {
   "cell_type": "code",
   "execution_count": 18,
   "metadata": {},
   "outputs": [],
   "source": [
    "from nltk.corpus import wordnet as wn\n",
    "import pandas as pd"
   ]
  },
  {
   "cell_type": "code",
   "execution_count": 19,
   "metadata": {},
   "outputs": [
    {
     "name": "stdout",
     "output_type": "stream",
     "text": [
      "synsets() 반환 type :  <class 'list'>\n",
      "synsets() 반환 값 개수 :  7\n",
      "synsets() 반환 값 :  [Synset('sun.n.01'), Synset('sunlight.n.01'), Synset('sun.n.03'), Synset('sun.n.04'), Synset('sunday.n.01'), Synset('sun.v.01'), Synset('sun.v.02')]\n"
     ]
    }
   ],
   "source": [
    "term = 'sun'\n",
    "# 'present'라는 단어로 wordnet의 synsets(단어의 의미와 구성 및 품사, 유사어 등을 \n",
    "# 저장하고 있는 객체)생성\n",
    "synsets = wn.synsets(term)\n",
    "print('synsets() 반환 type : ', type(synsets))\n",
    "print('synsets() 반환 값 개수 : ', len(synsets))\n",
    "print('synsets() 반환 값 : ', synsets)"
   ]
  },
  {
   "cell_type": "code",
   "execution_count": 20,
   "metadata": {
    "scrolled": false
   },
   "outputs": [
    {
     "name": "stdout",
     "output_type": "stream",
     "text": [
      "#### synset 이름 :  sun.n.01 ####\n",
      "POS :  noun.object\n",
      "Definition: the star that is the source of light and heat for the planets in the solar system\n",
      "Lemmas: ['sun', 'Sun']\n",
      "#### synset 이름 :  sunlight.n.01 ####\n",
      "POS :  noun.phenomenon\n",
      "Definition: the rays of the sun\n",
      "Lemmas: ['sunlight', 'sunshine', 'sun']\n",
      "#### synset 이름 :  sun.n.03 ####\n",
      "POS :  noun.person\n",
      "Definition: a person considered as a source of warmth or energy or glory etc\n",
      "Lemmas: ['sun']\n",
      "#### synset 이름 :  sun.n.04 ####\n",
      "POS :  noun.object\n",
      "Definition: any star around which a planetary system revolves\n",
      "Lemmas: ['sun']\n",
      "#### synset 이름 :  sunday.n.01 ####\n",
      "POS :  noun.time\n",
      "Definition: first day of the week; observed as a day of rest and worship by most Christians\n",
      "Lemmas: ['Sunday', \"Lord's_Day\", 'Dominicus', 'Sun']\n",
      "#### synset 이름 :  sun.v.01 ####\n",
      "POS :  verb.body\n",
      "Definition: expose one's body to the sun\n",
      "Lemmas: ['sun', 'sunbathe']\n",
      "#### synset 이름 :  sun.v.02 ####\n",
      "POS :  verb.perception\n",
      "Definition: expose to the rays of the sun or affect by exposure to the sun\n",
      "Lemmas: ['sun', 'insolate', 'solarize', 'solarise']\n"
     ]
    }
   ],
   "source": [
    "for synset in synsets:\n",
    "    print('#### synset 이름 : ', synset.name(),'####')  # 해당 단어\n",
    "    print('POS : ', synset.lexname())  # 해당의 형태(명사 동사 등)\n",
    "    print('Definition:', synset.definition())  # 해당 단어의 정의\n",
    "    print('Lemmas:', synset.lemma_names()) # 해당 단어의 유사어"
   ]
  },
  {
   "cell_type": "code",
   "execution_count": 21,
   "metadata": {},
   "outputs": [
    {
     "name": "stdout",
     "output_type": "stream",
     "text": [
      "a tall perennial woody plant having a main trunk and branches forming a distinct elevated crown; includes both gymnosperms and angiosperms\n",
      "\n",
      "large feline of forests in most of Asia having a tawny coat with black stripes; endangered\n"
     ]
    }
   ],
   "source": [
    "#synset 객체를 단어별로 생성합니다\n",
    "tree = wn.synset('tree.n.01')\n",
    "lion = wn.synset('lion.n.01')\n",
    "tiger = wn.synset('tiger.n.02')\n",
    "cat = wn.synset('cat.n.01')\n",
    "dog = wn.synset('dog.n.01')\n",
    "print(tree.definition())\n",
    "print()\n",
    "print(tiger.definition())"
   ]
  },
  {
   "cell_type": "code",
   "execution_count": 22,
   "metadata": {},
   "outputs": [
    {
     "name": "stdout",
     "output_type": "stream",
     "text": [
      "tree.n.01\n"
     ]
    }
   ],
   "source": [
    "print(tree.name())"
   ]
  },
  {
   "cell_type": "code",
   "execution_count": 23,
   "metadata": {},
   "outputs": [
    {
     "name": "stdout",
     "output_type": "stream",
     "text": [
      "tree\n"
     ]
    }
   ],
   "source": [
    "print(tree.name().split('.')[0])"
   ]
  },
  {
   "cell_type": "code",
   "execution_count": 24,
   "metadata": {},
   "outputs": [
    {
     "name": "stdout",
     "output_type": "stream",
     "text": [
      "['tree', 'lion', 'tiger', 'cat', 'dog']\n"
     ]
    }
   ],
   "source": [
    "entities = [tree, lion, tiger, cat, dog]\n",
    "entity_names = [ entity.name().split('.')[0] for entity in entities]\n",
    "print(entity_names)"
   ]
  },
  {
   "cell_type": "code",
   "execution_count": 25,
   "metadata": {},
   "outputs": [
    {
     "name": "stdout",
     "output_type": "stream",
     "text": [
      "0.3333333333333333\n"
     ]
    }
   ],
   "source": [
    "print(entities[1].path_similarity(entities[2],2))\n",
    "# 각 단어끼리의 유사성 체크"
   ]
  },
  {
   "cell_type": "code",
   "execution_count": 26,
   "metadata": {},
   "outputs": [
    {
     "name": "stdout",
     "output_type": "stream",
     "text": [
      "[[1.0, 0.07, 0.07, 0.08, 0.12], [0.07, 1.0, 0.33, 0.25, 0.17], [0.07, 0.33, 1.0, 0.25, 0.17], [0.08, 0.25, 0.25, 1.0, 0.2], [0.12, 0.17, 0.17, 0.2, 1.0]]\n"
     ]
    }
   ],
   "source": [
    "# entities[0]으로 전체 데이터와 유사도 측정 : 결과가 리스트\n",
    "# entities[1]으로 전체 데이터와 유사도 측정 : 결과가 리스트\n",
    "# entities[2]으로 전체 데이터와 유사도 측정 : 결과가 리스트\n",
    "# entities[3]으로 전체 데이터와 유사도 측정 : 결과가 리스트\n",
    "# entities[4]으로 전체 데이터와 유사도 측정 : 결과가 리스트\n",
    "# 결과 리스트들을 별도의 리스트에 appned\n",
    "similarities = []\n",
    "for en1 in entities:\n",
    "    similarity = [round(en1.path_similarity(en2), 2) for en2 in entities]\n",
    "    similarities.append(similarity)\n",
    "print(similarities)"
   ]
  },
  {
   "cell_type": "code",
   "execution_count": 27,
   "metadata": {},
   "outputs": [
    {
     "data": {
      "text/html": [
       "<div>\n",
       "<style scoped>\n",
       "    .dataframe tbody tr th:only-of-type {\n",
       "        vertical-align: middle;\n",
       "    }\n",
       "\n",
       "    .dataframe tbody tr th {\n",
       "        vertical-align: top;\n",
       "    }\n",
       "\n",
       "    .dataframe thead th {\n",
       "        text-align: right;\n",
       "    }\n",
       "</style>\n",
       "<table border=\"1\" class=\"dataframe\">\n",
       "  <thead>\n",
       "    <tr style=\"text-align: right;\">\n",
       "      <th></th>\n",
       "      <th>tree</th>\n",
       "      <th>lion</th>\n",
       "      <th>tiger</th>\n",
       "      <th>cat</th>\n",
       "      <th>dog</th>\n",
       "    </tr>\n",
       "  </thead>\n",
       "  <tbody>\n",
       "    <tr>\n",
       "      <th>tree</th>\n",
       "      <td>1.00</td>\n",
       "      <td>0.07</td>\n",
       "      <td>0.07</td>\n",
       "      <td>0.08</td>\n",
       "      <td>0.12</td>\n",
       "    </tr>\n",
       "    <tr>\n",
       "      <th>lion</th>\n",
       "      <td>0.07</td>\n",
       "      <td>1.00</td>\n",
       "      <td>0.33</td>\n",
       "      <td>0.25</td>\n",
       "      <td>0.17</td>\n",
       "    </tr>\n",
       "    <tr>\n",
       "      <th>tiger</th>\n",
       "      <td>0.07</td>\n",
       "      <td>0.33</td>\n",
       "      <td>1.00</td>\n",
       "      <td>0.25</td>\n",
       "      <td>0.17</td>\n",
       "    </tr>\n",
       "    <tr>\n",
       "      <th>cat</th>\n",
       "      <td>0.08</td>\n",
       "      <td>0.25</td>\n",
       "      <td>0.25</td>\n",
       "      <td>1.00</td>\n",
       "      <td>0.20</td>\n",
       "    </tr>\n",
       "    <tr>\n",
       "      <th>dog</th>\n",
       "      <td>0.12</td>\n",
       "      <td>0.17</td>\n",
       "      <td>0.17</td>\n",
       "      <td>0.20</td>\n",
       "      <td>1.00</td>\n",
       "    </tr>\n",
       "  </tbody>\n",
       "</table>\n",
       "</div>"
      ],
      "text/plain": [
       "       tree  lion  tiger   cat   dog\n",
       "tree   1.00  0.07   0.07  0.08  0.12\n",
       "lion   0.07  1.00   0.33  0.25  0.17\n",
       "tiger  0.07  0.33   1.00  0.25  0.17\n",
       "cat    0.08  0.25   0.25  1.00  0.20\n",
       "dog    0.12  0.17   0.17  0.20  1.00"
      ]
     },
     "execution_count": 27,
     "metadata": {},
     "output_type": "execute_result"
    }
   ],
   "source": [
    "similarity_df = pd.DataFrame(similarities, columns=entity_names, index=entity_names)\n",
    "similarity_df"
   ]
  },
  {
   "cell_type": "code",
   "execution_count": 32,
   "metadata": {},
   "outputs": [],
   "source": [
    "import nltk \n",
    "from nltk.corpus import sentiwordnet as swn"
   ]
  },
  {
   "cell_type": "code",
   "execution_count": 34,
   "metadata": {},
   "outputs": [
    {
     "name": "stdout",
     "output_type": "stream",
     "text": [
      "father 긍정감성 지수 : 0.0\n",
      "father 부정감성 지수 : 0.0\n",
      "father 객관성 지수 : 1.0\n",
      "\n",
      "fabulous 긍정감성 지수 : 0.875\n",
      "fabulous 부정감성 지수 : 0.125\n",
      "fabulous 객관성 지수 : 0.0\n"
     ]
    }
   ],
   "source": [
    "father = swn.senti_synset('father.n.01')\n",
    "print('father 긍정감성 지수 :', father.pos_score())\n",
    "print('father 부정감성 지수 :', father.neg_score())\n",
    "print('father 객관성 지수 :', father.obj_score())\n",
    "print()\n",
    "fabulous = swn.senti_synset('fabulous.a.01')\n",
    "print('fabulous 긍정감성 지수 :', fabulous.pos_score())\n",
    "print('fabulous 부정감성 지수 :', fabulous.neg_score())\n",
    "print('fabulous 객관성 지수 :', fabulous.obj_score())"
   ]
  },
  {
   "cell_type": "code",
   "execution_count": null,
   "metadata": {},
   "outputs": [],
   "source": []
  }
 ],
 "metadata": {
  "kernelspec": {
   "display_name": "Python 3",
   "language": "python",
   "name": "python3"
  },
  "language_info": {
   "codemirror_mode": {
    "name": "ipython",
    "version": 3
   },
   "file_extension": ".py",
   "mimetype": "text/x-python",
   "name": "python",
   "nbconvert_exporter": "python",
   "pygments_lexer": "ipython3",
   "version": "3.8.5"
  },
  "varInspector": {
   "cols": {
    "lenName": 16,
    "lenType": 16,
    "lenVar": 40
   },
   "kernels_config": {
    "python": {
     "delete_cmd_postfix": "",
     "delete_cmd_prefix": "del ",
     "library": "var_list.py",
     "varRefreshCmd": "print(var_dic_list())"
    },
    "r": {
     "delete_cmd_postfix": ") ",
     "delete_cmd_prefix": "rm(",
     "library": "var_list.r",
     "varRefreshCmd": "cat(var_dic_list()) "
    }
   },
   "types_to_exclude": [
    "module",
    "function",
    "builtin_function_or_method",
    "instance",
    "_Feature"
   ],
   "window_display": false
  }
 },
 "nbformat": 4,
 "nbformat_minor": 4
}
