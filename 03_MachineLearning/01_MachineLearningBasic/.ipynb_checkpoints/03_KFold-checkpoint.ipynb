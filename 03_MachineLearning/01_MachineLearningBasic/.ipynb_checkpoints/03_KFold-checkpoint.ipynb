{
 "cells": [
  {
   "cell_type": "markdown",
   "metadata": {},
   "source": [
    "### 교차검증\n",
    "* K폴드 : 데이터를 바꿔가며 반복적으로 학습시켜 그때마다의 정확도를 높이는 방법"
   ]
  },
  {
   "cell_type": "code",
   "execution_count": 1,
   "metadata": {},
   "outputs": [],
   "source": [
    "# 각 모듈들 임포트\n",
    "from sklearn.datasets import load_iris\n",
    "from sklearn.tree import DecisionTreeClassifier\n",
    "from sklearn.metrics import accuracy_score\n",
    "# K폴드 교차 검증을 위한 모듈 임포트\n",
    "from sklearn.model_selection import KFold\n",
    "import numpy as np\n",
    "import pandas as pd\n",
    "from sklearn.model_selection import train_test_split"
   ]
  },
  {
   "cell_type": "code",
   "execution_count": 3,
   "metadata": {},
   "outputs": [],
   "source": [
    "# 5개의 데이터세트로 분리하는 KFold 객체 생성\n",
    "kfold = KFold(n_splits=5)\n",
    "# 각 다섯개의 세트별로 계산된 정확도를 담을 리스트 생성\n",
    "cv_accuracy = []"
   ]
  },
  {
   "cell_type": "code",
   "execution_count": 4,
   "metadata": {},
   "outputs": [],
   "source": [
    "# 데이터 로드\n",
    "iris = load_iris()\n",
    "# 피쳐와 타겟 분리 저장\n",
    "features = iris.data\n",
    "label = iris.target\n",
    "# 결정트리 객체 생성\n",
    "dt_clf = DecisionTreeClassifier()"
   ]
  },
  {
   "cell_type": "code",
   "execution_count": 6,
   "metadata": {},
   "outputs": [
    {
     "name": "stdout",
     "output_type": "stream",
     "text": [
      "split # 1\n",
      "train index :\n",
      " [ 30  31  32  33  34  35  36  37  38  39  40  41  42  43  44  45  46  47\n",
      "  48  49  50  51  52  53  54  55  56  57  58  59  60  61  62  63  64  65\n",
      "  66  67  68  69  70  71  72  73  74  75  76  77  78  79  80  81  82  83\n",
      "  84  85  86  87  88  89  90  91  92  93  94  95  96  97  98  99 100 101\n",
      " 102 103 104 105 106 107 108 109 110 111 112 113 114 115 116 117 118 119\n",
      " 120 121 122 123 124 125 126 127 128 129 130 131 132 133 134 135 136 137\n",
      " 138 139 140 141 142 143 144 145 146 147 148 149]\n",
      "test index :\n",
      " [ 0  1  2  3  4  5  6  7  8  9 10 11 12 13 14 15 16 17 18 19 20 21 22 23\n",
      " 24 25 26 27 28 29]\n",
      "\n",
      "split # 2\n",
      "train index :\n",
      " [  0   1   2   3   4   5   6   7   8   9  10  11  12  13  14  15  16  17\n",
      "  18  19  20  21  22  23  24  25  26  27  28  29  60  61  62  63  64  65\n",
      "  66  67  68  69  70  71  72  73  74  75  76  77  78  79  80  81  82  83\n",
      "  84  85  86  87  88  89  90  91  92  93  94  95  96  97  98  99 100 101\n",
      " 102 103 104 105 106 107 108 109 110 111 112 113 114 115 116 117 118 119\n",
      " 120 121 122 123 124 125 126 127 128 129 130 131 132 133 134 135 136 137\n",
      " 138 139 140 141 142 143 144 145 146 147 148 149]\n",
      "test index :\n",
      " [30 31 32 33 34 35 36 37 38 39 40 41 42 43 44 45 46 47 48 49 50 51 52 53\n",
      " 54 55 56 57 58 59]\n",
      "\n",
      "split # 3\n",
      "train index :\n",
      " [  0   1   2   3   4   5   6   7   8   9  10  11  12  13  14  15  16  17\n",
      "  18  19  20  21  22  23  24  25  26  27  28  29  30  31  32  33  34  35\n",
      "  36  37  38  39  40  41  42  43  44  45  46  47  48  49  50  51  52  53\n",
      "  54  55  56  57  58  59  90  91  92  93  94  95  96  97  98  99 100 101\n",
      " 102 103 104 105 106 107 108 109 110 111 112 113 114 115 116 117 118 119\n",
      " 120 121 122 123 124 125 126 127 128 129 130 131 132 133 134 135 136 137\n",
      " 138 139 140 141 142 143 144 145 146 147 148 149]\n",
      "test index :\n",
      " [60 61 62 63 64 65 66 67 68 69 70 71 72 73 74 75 76 77 78 79 80 81 82 83\n",
      " 84 85 86 87 88 89]\n",
      "\n",
      "split # 4\n",
      "train index :\n",
      " [  0   1   2   3   4   5   6   7   8   9  10  11  12  13  14  15  16  17\n",
      "  18  19  20  21  22  23  24  25  26  27  28  29  30  31  32  33  34  35\n",
      "  36  37  38  39  40  41  42  43  44  45  46  47  48  49  50  51  52  53\n",
      "  54  55  56  57  58  59  60  61  62  63  64  65  66  67  68  69  70  71\n",
      "  72  73  74  75  76  77  78  79  80  81  82  83  84  85  86  87  88  89\n",
      " 120 121 122 123 124 125 126 127 128 129 130 131 132 133 134 135 136 137\n",
      " 138 139 140 141 142 143 144 145 146 147 148 149]\n",
      "test index :\n",
      " [ 90  91  92  93  94  95  96  97  98  99 100 101 102 103 104 105 106 107\n",
      " 108 109 110 111 112 113 114 115 116 117 118 119]\n",
      "\n",
      "split # 5\n",
      "train index :\n",
      " [  0   1   2   3   4   5   6   7   8   9  10  11  12  13  14  15  16  17\n",
      "  18  19  20  21  22  23  24  25  26  27  28  29  30  31  32  33  34  35\n",
      "  36  37  38  39  40  41  42  43  44  45  46  47  48  49  50  51  52  53\n",
      "  54  55  56  57  58  59  60  61  62  63  64  65  66  67  68  69  70  71\n",
      "  72  73  74  75  76  77  78  79  80  81  82  83  84  85  86  87  88  89\n",
      "  90  91  92  93  94  95  96  97  98  99 100 101 102 103 104 105 106 107\n",
      " 108 109 110 111 112 113 114 115 116 117 118 119]\n",
      "test index :\n",
      " [120 121 122 123 124 125 126 127 128 129 130 131 132 133 134 135 136 137\n",
      " 138 139 140 141 142 143 144 145 146 147 148 149]\n",
      "\n"
     ]
    }
   ],
   "source": [
    "n=1\n",
    "for train_index, test_index in kfold.split(features):\n",
    "    print('split #',n)\n",
    "    print('train index :\\n',train_index)\n",
    "    print('test index :\\n', test_index)\n",
    "    n = n+1\n",
    "    print()"
   ]
  },
  {
   "cell_type": "code",
   "execution_count": 116,
   "metadata": {},
   "outputs": [
    {
     "name": "stdout",
     "output_type": "stream",
     "text": [
      "#1번째 k폴드의 정확도 : 1.000, 학습데이터 개수 : 120,        테스트데이터개수 : 30\n",
      "#2번째 k폴드의 정확도 : 1.000, 학습데이터 개수 : 120,        테스트데이터개수 : 30\n",
      "#3번째 k폴드의 정확도 : 0.900, 학습데이터 개수 : 120,        테스트데이터개수 : 30\n",
      "#4번째 k폴드의 정확도 : 0.933, 학습데이터 개수 : 120,        테스트데이터개수 : 30\n",
      "#5번째 k폴드의 정확도 : 0.800, 학습데이터 개수 : 120,        테스트데이터개수 : 30\n",
      "## 평균 검증 정확도 :  0.9120370370370371\n"
     ]
    }
   ],
   "source": [
    "# 다섯번의 학습, 테스트데이터들의 인덱스들을 kfold가 발생\n",
    "# 발생된 인덱스로 features와 label에 인덱싱하여 대상 데이터들을 얻어냄\n",
    "# 얻어낸 데이터는 각 변수 X_train, X_test, y_train, y_test에 저장\n",
    "cnt = 0\n",
    "for train_index, test_index in kfold.split(features):\n",
    "    X_train, X_test = features[train_index], features[test_index]\n",
    "    y_train, y_test = label[train_index], label[test_index]\n",
    "    dt_clf.fit(X_train, y_train)  # 학습\n",
    "    pred = dt_clf.predict(X_test)  # 테스트예측\n",
    "    # 실제데이터와 예측데이터로 정확도 계산\n",
    "    accuracy = accuracy_score(y_test, pred)\n",
    "    cnt = cnt + 1\n",
    "    # shape의 결과(행 개수, 열 개수)에서 [0] 데이터(행 개수)로 각 데이터 수 추출\n",
    "    train_size = X_train.shape[0]\n",
    "    test_size = X_test.shape[0]\n",
    "    # 정확도, 학습데이터 수, 테스트데이터 수 순으로 출력\n",
    "    print('#{0}번째 k폴드의 정확도 : {1:.3f}, 학습데이터 개수 : {2},\\\n",
    "        테스트데이터개수 : {3}'.format(cnt, accuracy, train_size, test_size))\n",
    "    # 다섯개의 정확도의 평균을 계산하기 위해 정확도를 리스트에 저장\n",
    "    cv_accuracy.append(accuracy)\n",
    "# 개별 iterration별 정확도를 합하여 평균 정확도 계산\n",
    "print('## 평균 검증 정확도 : ', np.mean(cv_accuracy))"
   ]
  },
  {
   "cell_type": "code",
   "execution_count": 118,
   "metadata": {},
   "outputs": [
    {
     "data": {
      "text/plain": [
       "2    50\n",
       "1    50\n",
       "0    50\n",
       "Name: label, dtype: int64"
      ]
     },
     "execution_count": 118,
     "metadata": {},
     "output_type": "execute_result"
    }
   ],
   "source": [
    "iris = load_iris()\n",
    "# 데이터 프레임으로 변경\n",
    "iris_df = pd.DataFrame(data=iris.data, columns=iris.feature_names)\n",
    "# 라벨 컬럼 만들어서 타겟 합류\n",
    "iris_df['label'] = iris.target\n",
    "iris_df['label'].value_counts()"
   ]
  },
  {
   "cell_type": "code",
   "execution_count": 119,
   "metadata": {},
   "outputs": [
    {
     "name": "stdout",
     "output_type": "stream",
     "text": [
      "split # 1\n",
      "train index :\n",
      " [ 50  51  52  53  54  55  56  57  58  59  60  61  62  63  64  65  66  67\n",
      "  68  69  70  71  72  73  74  75  76  77  78  79  80  81  82  83  84  85\n",
      "  86  87  88  89  90  91  92  93  94  95  96  97  98  99 100 101 102 103\n",
      " 104 105 106 107 108 109 110 111 112 113 114 115 116 117 118 119 120 121\n",
      " 122 123 124 125 126 127 128 129 130 131 132 133 134 135 136 137 138 139\n",
      " 140 141 142 143 144 145 146 147 148 149]\n",
      "test index :\n",
      " [ 0  1  2  3  4  5  6  7  8  9 10 11 12 13 14 15 16 17 18 19 20 21 22 23\n",
      " 24 25 26 27 28 29 30 31 32 33 34 35 36 37 38 39 40 41 42 43 44 45 46 47\n",
      " 48 49]\n",
      "\n",
      "split # 2\n",
      "train index :\n",
      " [  0   1   2   3   4   5   6   7   8   9  10  11  12  13  14  15  16  17\n",
      "  18  19  20  21  22  23  24  25  26  27  28  29  30  31  32  33  34  35\n",
      "  36  37  38  39  40  41  42  43  44  45  46  47  48  49 100 101 102 103\n",
      " 104 105 106 107 108 109 110 111 112 113 114 115 116 117 118 119 120 121\n",
      " 122 123 124 125 126 127 128 129 130 131 132 133 134 135 136 137 138 139\n",
      " 140 141 142 143 144 145 146 147 148 149]\n",
      "test index :\n",
      " [50 51 52 53 54 55 56 57 58 59 60 61 62 63 64 65 66 67 68 69 70 71 72 73\n",
      " 74 75 76 77 78 79 80 81 82 83 84 85 86 87 88 89 90 91 92 93 94 95 96 97\n",
      " 98 99]\n",
      "\n",
      "split # 3\n",
      "train index :\n",
      " [ 0  1  2  3  4  5  6  7  8  9 10 11 12 13 14 15 16 17 18 19 20 21 22 23\n",
      " 24 25 26 27 28 29 30 31 32 33 34 35 36 37 38 39 40 41 42 43 44 45 46 47\n",
      " 48 49 50 51 52 53 54 55 56 57 58 59 60 61 62 63 64 65 66 67 68 69 70 71\n",
      " 72 73 74 75 76 77 78 79 80 81 82 83 84 85 86 87 88 89 90 91 92 93 94 95\n",
      " 96 97 98 99]\n",
      "test index :\n",
      " [100 101 102 103 104 105 106 107 108 109 110 111 112 113 114 115 116 117\n",
      " 118 119 120 121 122 123 124 125 126 127 128 129 130 131 132 133 134 135\n",
      " 136 137 138 139 140 141 142 143 144 145 146 147 148 149]\n",
      "\n"
     ]
    }
   ],
   "source": [
    "kfold = KFold(n_splits=3) # 데이터 셋을 3번에 나누겠다는 뜻\n",
    "n = 1\n",
    "for train_index, test_index in kfold.split(iris_df):\n",
    "    print('split #',n)\n",
    "    print('train index :\\n',train_index)\n",
    "    print('test index :\\n', test_index)\n",
    "    n = n+1\n",
    "    print()"
   ]
  },
  {
   "cell_type": "code",
   "execution_count": 124,
   "metadata": {},
   "outputs": [
    {
     "name": "stdout",
     "output_type": "stream",
     "text": [
      "## 교차검증: 1\n",
      "학습 데이터 타겟 분포 : \n",
      " 2    50\n",
      "1    50\n",
      "Name: label, dtype: int64\n",
      "예측 데이터 타겟 분포 : \n",
      " 0    50\n",
      "Name: label, dtype: int64\n",
      "## 교차검증: 2\n",
      "학습 데이터 타겟 분포 : \n",
      " 2    50\n",
      "0    50\n",
      "Name: label, dtype: int64\n",
      "예측 데이터 타겟 분포 : \n",
      " 1    50\n",
      "Name: label, dtype: int64\n",
      "## 교차검증: 3\n",
      "학습 데이터 타겟 분포 : \n",
      " 1    50\n",
      "0    50\n",
      "Name: label, dtype: int64\n",
      "예측 데이터 타겟 분포 : \n",
      " 2    50\n",
      "Name: label, dtype: int64\n"
     ]
    }
   ],
   "source": [
    "kfold = KFold(n_splits=3)\n",
    "n_inter = 0\n",
    "for train_index, test_index in kfold.split(iris_df):\n",
    "    n_inter += 1\n",
    "    label_train = iris_df['label'].iloc[train_index]\n",
    "    label_test = iris_df['label'].iloc[test_index]\n",
    "    print('## 교차검증: {0}'.format(n_inter))\n",
    "    print('학습 데이터 타겟 분포 : \\n', label_train.value_counts())\n",
    "    print('예측 데이터 타겟 분포 : \\n', label_test.value_counts())"
   ]
  },
  {
   "cell_type": "code",
   "execution_count": 126,
   "metadata": {},
   "outputs": [
    {
     "name": "stdout",
     "output_type": "stream",
     "text": [
      "#1 정확도 : 0.000, 학습데이터 크기(개수) : 100,        검증데이터 크기 : 50\n",
      "#2 정확도 : 0.000, 학습데이터 크기(개수) : 100,        검증데이터 크기 : 50\n",
      "#3 정확도 : 0.000, 학습데이터 크기(개수) : 100,        검증데이터 크기 : 50\n",
      "## 평균 검증 정확도 :  0.0\n"
     ]
    }
   ],
   "source": [
    "cnt = 0\n",
    "cv_accuracy = []\n",
    "for train_index, test_index in kfold.split(iris_df):\n",
    "    X_train, X_test = features[train_index], features[test_index]\n",
    "    y_train, y_test = label[train_index], label[test_index]\n",
    "    dt_clf.fit(X_train, y_train)  # 학습\n",
    "    pred = dt_clf.predict(X_test)  # 테스트예측\n",
    "    accuracy = accuracy_score(y_test, pred)\n",
    "    cnt = cnt + 1\n",
    "    # shape의 결과(행 개수, 열 개수)에서 [0] 데이터(행 개수)로 각 데이터 수 추출\n",
    "    train_size = X_train.shape[0]\n",
    "    test_size = X_test.shape[0]\n",
    "    print('#{0} 정확도 : {1:.3f}, 학습데이터 크기(개수) : {2},\\\n",
    "        검증데이터 크기 : {3}'.format(cnt, accuracy, train_size, test_size))\n",
    "    # 다섯개의 정확도의 평균을 계산하기 위해 정확도를 리스트에 저장\n",
    "    cv_accuracy.append(accuracy)\n",
    "# 개별 iterration별 정확도를 합하여 평균 정확도 계산\n",
    "print('## 평균 검증 정확도 : ', np.mean(cv_accuracy))"
   ]
  },
  {
   "cell_type": "code",
   "execution_count": 128,
   "metadata": {},
   "outputs": [],
   "source": [
    "# 학습데이터와 검증데이터가 완벽히 나뉘어 결과가 0으로 나오는 오류를 해결하기 위한 모듈\n",
    "# 고른분포를 만드는 기능\n",
    "from sklearn.model_selection import StratifiedKFold\n",
    "skf = StratifiedKFold(n_splits=3)"
   ]
  },
  {
   "cell_type": "code",
   "execution_count": 129,
   "metadata": {},
   "outputs": [
    {
     "name": "stdout",
     "output_type": "stream",
     "text": [
      "## 교차 검증: 1\n",
      "학습 레이블 데이터 분포:\n",
      " 2    34\n",
      "1    33\n",
      "0    33\n",
      "Name: label, dtype: int64\n",
      "검증 레이블 데이터 분포:\n",
      " 1    17\n",
      "0    17\n",
      "2    16\n",
      "Name: label, dtype: int64\n",
      "## 교차 검증: 2\n",
      "학습 레이블 데이터 분포:\n",
      " 1    34\n",
      "2    33\n",
      "0    33\n",
      "Name: label, dtype: int64\n",
      "검증 레이블 데이터 분포:\n",
      " 2    17\n",
      "0    17\n",
      "1    16\n",
      "Name: label, dtype: int64\n",
      "## 교차 검증: 3\n",
      "학습 레이블 데이터 분포:\n",
      " 0    34\n",
      "2    33\n",
      "1    33\n",
      "Name: label, dtype: int64\n",
      "검증 레이블 데이터 분포:\n",
      " 2    17\n",
      "1    17\n",
      "0    16\n",
      "Name: label, dtype: int64\n"
     ]
    }
   ],
   "source": [
    "n_inter = 0\n",
    "for train_index, test_index in skf.split(iris_df, iris_df['label']):\n",
    "    n_inter += 1\n",
    "    label_train = iris_df['label'].iloc[train_index]\n",
    "    label_test = iris_df['label'].iloc[test_index]\n",
    "    print('## 교차 검증: {0}'.format(n_inter))\n",
    "    print('학습 레이블 데이터 분포:\\n', label_train.value_counts())\n",
    "    print('검증 레이블 데이터 분포:\\n', label_test.value_counts())"
   ]
  },
  {
   "cell_type": "code",
   "execution_count": 338,
   "metadata": {},
   "outputs": [
    {
     "name": "stdout",
     "output_type": "stream",
     "text": [
      "#1 정확도 : 0.980, 학습데이터 크기(개수) : 100,        검증데이터 크기 : 50\n",
      "#2 정확도 : 0.940, 학습데이터 크기(개수) : 100,        검증데이터 크기 : 50\n",
      "#3 정확도 : 0.980, 학습데이터 크기(개수) : 100,        검증데이터 크기 : 50\n",
      "## 평균 검증 정확도 :  0.9666666666666667\n"
     ]
    }
   ],
   "source": [
    "skf = StratifiedKFold(n_splits=3)\n",
    "cnt = 0\n",
    "cv_accuracy = []\n",
    "for train_index, test_index in skf.split(iris_df, iris_df['label']):\n",
    "    X_train, X_test = features[train_index], features[test_index]\n",
    "    y_train, y_test = label[train_index], label[test_index]\n",
    "    dt_clf.fit(X_train, y_train)  # 학습\n",
    "    pred = dt_clf.predict(X_test)  # 테스트예측\n",
    "    accuracy = accuracy_score(y_test, pred)\n",
    "    cnt = cnt + 1\n",
    "    # shape의 결과(행 개수, 열 개수)에서 [0] 데이터(행 개수)로 각 데이터 수 추출\n",
    "    train_size = X_train.shape[0]\n",
    "    test_size = X_test.shape[0]\n",
    "    print('#{0} 정확도 : {1:.3f}, 학습데이터 크기(개수) : {2},\\\n",
    "        검증데이터 크기 : {3}'.format(cnt, accuracy, train_size, test_size))\n",
    "    # 다섯개의 정확도의 평균을 계산하기 위해 정확도를 리스트에 저장\n",
    "    cv_accuracy.append(accuracy)\n",
    "# 개별 iterration별 정확도를 합하여 평균 정확도 계산\n",
    "print('## 평균 검증 정확도 : ', np.mean(cv_accuracy))"
   ]
  },
  {
   "cell_type": "markdown",
   "metadata": {},
   "source": [
    "### cross_val_score"
   ]
  },
  {
   "cell_type": "code",
   "execution_count": 339,
   "metadata": {},
   "outputs": [],
   "source": [
    "from sklearn.model_selection import cross_val_score"
   ]
  },
  {
   "cell_type": "code",
   "execution_count": 340,
   "metadata": {},
   "outputs": [],
   "source": [
    "iris_data = load_iris()\n",
    "dt_clf = DecisionTreeClassifier()\n",
    "data = iris_data.data\n",
    "label = iris_data.target"
   ]
  },
  {
   "cell_type": "code",
   "execution_count": 342,
   "metadata": {},
   "outputs": [],
   "source": [
    "scores = cross_val_score(dt_clf, data, label, scoring='accuracy', cv=3)\n",
    "# 교차 검증 세트(cv)는 3개\n",
    "# scoring = 'accuracy' 평가도구 - 정확도\n",
    "# 머신러닝 알고리즘(esimator) : dt_clf - DecisionTreeClassifier\n",
    "# data : feacher\n",
    "# label : target\n",
    "# 균등 교차 검증의 결과가 scores리스트에 저장됨"
   ]
  },
  {
   "cell_type": "code",
   "execution_count": 343,
   "metadata": {},
   "outputs": [
    {
     "name": "stdout",
     "output_type": "stream",
     "text": [
      "교차 검증별 정확도 : [0.98 0.92 0.98]\n",
      "평균 검증 정확도 : 0.96\n"
     ]
    }
   ],
   "source": [
    "print(\"교차 검증별 정확도 :\",scores)\n",
    "print(\"평균 검증 정확도 :\", np.mean(scores))"
   ]
  },
  {
   "cell_type": "code",
   "execution_count": null,
   "metadata": {},
   "outputs": [],
   "source": []
  }
 ],
 "metadata": {
  "kernelspec": {
   "display_name": "Python 3",
   "language": "python",
   "name": "python3"
  },
  "language_info": {
   "codemirror_mode": {
    "name": "ipython",
    "version": 3
   },
   "file_extension": ".py",
   "mimetype": "text/x-python",
   "name": "python",
   "nbconvert_exporter": "python",
   "pygments_lexer": "ipython3",
   "version": "3.8.5"
  },
  "toc": {
   "base_numbering": 1,
   "nav_menu": {},
   "number_sections": true,
   "sideBar": true,
   "skip_h1_title": false,
   "title_cell": "Table of Contents",
   "title_sidebar": "Contents",
   "toc_cell": false,
   "toc_position": {},
   "toc_section_display": true,
   "toc_window_display": false
  },
  "varInspector": {
   "cols": {
    "lenName": 16,
    "lenType": 16,
    "lenVar": 40
   },
   "kernels_config": {
    "python": {
     "delete_cmd_postfix": "",
     "delete_cmd_prefix": "del ",
     "library": "var_list.py",
     "varRefreshCmd": "print(var_dic_list())"
    },
    "r": {
     "delete_cmd_postfix": ") ",
     "delete_cmd_prefix": "rm(",
     "library": "var_list.r",
     "varRefreshCmd": "cat(var_dic_list()) "
    }
   },
   "types_to_exclude": [
    "module",
    "function",
    "builtin_function_or_method",
    "instance",
    "_Feature"
   ],
   "window_display": false
  }
 },
 "nbformat": 4,
 "nbformat_minor": 4
}
