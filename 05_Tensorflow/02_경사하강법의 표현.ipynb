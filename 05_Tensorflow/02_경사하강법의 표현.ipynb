{
 "cells": [
  {
   "cell_type": "code",
   "execution_count": 44,
   "metadata": {},
   "outputs": [],
   "source": [
    "import numpy as np\n",
    "from tkinter import *\n",
    "from matplotlib.figure import Figure\n",
    "from matplotlib.backends.backend_tkagg import FigureCanvasTkAgg\n",
    "# 애니메이션 을 활용할 모듈 임포트\n",
    "from matplotlib.animation import FuncAnimation\n",
    "import math"
   ]
  },
  {
   "cell_type": "code",
   "execution_count": 45,
   "metadata": {},
   "outputs": [],
   "source": [
    "# 토끼 의 그래프를 그리기 위한 차트 준비\n",
    "fig = Figure(figsize=(5,3), dpi=100)\n",
    "ax = fig.add_subplot(111)\n",
    "ax.set_xlim(0, 11)\n",
    "ax.set_ylim(0, 11)\n",
    "# h_xdata, h_ydata : 토끼의 구간별 거리 데이터\n",
    "# x_list, y_list : 토끼 그래프 주변에 회귀선을 찾기 위한 가상의 그래프가 \n",
    "# 그려질 데이터\n",
    "h_xdata, h_ydata, x_list, y_list = [], [], [], []"
   ]
  },
  {
   "cell_type": "code",
   "execution_count": 46,
   "metadata": {},
   "outputs": [],
   "source": [
    "grad_fig = Figure( figsize=(5,3), dpi=100)\n",
    "grad_ax=grad_fig.add_subplot(111)\n",
    "grad_ax.set_xlim(-0.1, 1.1)\n",
    "grad_ax.set_ylim(0, 100)\n",
    "t_xdata, t_ydata = [], []"
   ]
  },
  {
   "cell_type": "code",
   "execution_count": 47,
   "metadata": {},
   "outputs": [],
   "source": [
    "def update():\n",
    "    # 토끼의 속도를 표시하고 있는 스핀 박스 값 추출\n",
    "    h_a = float(h_aSpbox.get())\n",
    "    # 0부터 10까지 11개의 타임데이터(x 축데이터 )생성후 그 수 만큼 반복실행\n",
    "    for t in np.linspace(0, 10, 11):\n",
    "        # 시간에 속도를 곱해서 y 축데이터 계산 & x , y 축데이터를 리스트에 저장\n",
    "        h_y = h_a * t\n",
    "        h_xdata.append(t)\n",
    "        h_ydata.append(h_y)\n",
    "    ax.set_xlabel('Time(hour)')\n",
    "    ax.set_ylabel('Distance(km)')\n",
    "    ax.set_title('Linear Regression')\n",
    "    ax.plot(h_xdata,h_ydata, 'ro', label='Rabbit')\n",
    "    ax.legend()\n",
    "    fig.canvas.draw()"
   ]
  },
  {
   "cell_type": "code",
   "execution_count": 48,
   "metadata": {},
   "outputs": [],
   "source": [
    "def showLines():\n",
    "    # 스핀 박스 값들을 추출\n",
    "    h_a = float(h_aSpbox.get()) # 토끼의 속도 \n",
    "    h_s = float(h_sSpbox.get()) # 회귀선의 간격\n",
    "    # 속도(1) + 회귀선간격(0.1) * 5  를 저장합니다 \n",
    "    a_val = h_a + (h_s * 5)  \n",
    "    # 저장값 1.5     1.5부터 0.5 까지 0.1 씩줄이며 반복하기 위한 준비  \n",
    "    h_xdata = []\n",
    "    h_ydata = []\n",
    "    # x 좌표값으로 반복 실행\n",
    "    for i in np.linspace(0, 10, 11):\n",
    "        a = a_val - (i*h_s)  # a_val 값 1.5 부터 0.1 씩 뺀값 1.5~0.5 값 발생\n",
    "        # 계산된 a값(기울기)로 10번의 연산을 하여 10개으이 x 좌표값과 y좌표값을 계산\n",
    "        for t in np.linspace(0,10,11):\n",
    "            # 계산된 좌표값들을 리스트에 저장\n",
    "            h_y = a*t\n",
    "            h_xdata.append(t)\n",
    "            h_ydata.append(h_y)\n",
    "        # x 좌표값과 y 좌표값으로 차트 드로잉\n",
    "        ax.plot(h_xdata,h_ydata, alpha=0.2)\n",
    "    fig.canvas.draw()"
   ]
  },
  {
   "cell_type": "code",
   "execution_count": 49,
   "metadata": {},
   "outputs": [],
   "source": [
    "# 애니메이션 적용을 위한 차트의 최초 설정 \n",
    "# 이름 부여(ln, dn, : 튜플 형식의 변수)\n",
    "ln, = grad_ax.plot(0, 0)  # 라인차트\n",
    "dn, = grad_ax.plot([], [], 'ro')  # 스캐터 차트\n",
    "# 위 동작에서 차트가 그려지지는 않습니다. 이는 차트의 정류와 형식을 초기화하는 동작\n",
    "# 차트가 1회에 한번씩 덧그려지면서 현재 데이터의 표시동작을 반복하며, \n",
    "# 애니메이션 효과를 낼 예정입니다"
   ]
  },
  {
   "cell_type": "code",
   "execution_count": 50,
   "metadata": {},
   "outputs": [],
   "source": [
    "# 애니메이션 차트 초기화 함수 -   animate 함수의 일부요소로 사용됩니다\n",
    "def init():\n",
    "    grad_ax.set_xlim(-0.1, 1.1)\n",
    "    grad_ax.set_ylim(0, 100)\n",
    "    return dn, ln,    "
   ]
  },
  {
   "cell_type": "code",
   "execution_count": 51,
   "metadata": {},
   "outputs": [],
   "source": [
    "# 기준속도(기울기 : 1)과  다른 기울기(매개변수로 전달) 간의 코스트값 계산 함수\n",
    "def get_cost(a_val):\n",
    "    h_a = float(h_aSpbox.get()) # 윈도우에 설정된 속도(기울기) 추출\n",
    "    cost = 0\n",
    "    for i in range(0, 11, 1):\n",
    "        cost += pow( (a_val*i - h_a*i), 2)\n",
    "    return cost"
   ]
  },
  {
   "cell_type": "code",
   "execution_count": 52,
   "metadata": {},
   "outputs": [],
   "source": [
    "# 애니메이션 동작에 관련하고 있는 함수 (dn 을 이용하여 점(scatter)을 찍는 동작)\n",
    "def animateFrame(frame):\n",
    "    h_a = float(h_aSpbox.get()) \n",
    "    h_s = float(h_sSpbox.get())\n",
    "    a_val = h_a + (h_s * 5)  # 최고 속도(프레임 시작값)\n",
    "    i = frame * h_s   # 각 프레임의 x 좌표값\n",
    "    a = a_val - i  # 각 프레임의 속도\n",
    "    # 최고 속도에서 각 프레임별로 -0.1 씩 계산하며 프레임별 속도 생성\n",
    "    t_xdata.append(i)  # x 좌표값 저장\n",
    "    t_ydata.append(get_cost(a))  # 프레임별 속도를 전달한 함수로 코스트값 계산 저장\n",
    "    dn.set_data(t_xdata, t_ydata)  # 좌표값으로 애니메이션 설정(dn 사용)\n",
    "    return dn, ln,   # 준비된 애니메이션 차트 리턴"
   ]
  },
  {
   "cell_type": "code",
   "execution_count": 53,
   "metadata": {},
   "outputs": [],
   "source": [
    "def gradient():\n",
    "    # grad_fig : 그려질 차트 이름(위에서 이미 생성완료)\n",
    "    # animateFrame : 애니매이션 동작이 들어있는 함수이름\n",
    "    # frames=np.linspace(0, 10, 11) : 애니메이션 프레임의 번호(갯수결정)\n",
    "    # init_func=init : 애니메이션 시작전 초기화 함수 설정\n",
    "    ani = FuncAnimation(grad_fig, animateFrame, frames=np.linspace(0, 10, 11), \\\n",
    "                       init_func=init)\n",
    "    # 함수가 호출이 되면 animateFrame 함수에 frames 에 있는 숫자들이 전달인수로\n",
    "    # 전달됩니다.(한번에 11개의 데이터가 한번 호출에 모두 전달되는 형식 이지만.....\n",
    "    # 하나씩 전달되어 11번을 호출한다고 생각하면 이해에 도움이 됩니다.)\n",
    "    \n",
    "    # animateFrame 함수에 0~10 까지 11개의 숫자를 보내고, 11개의 차트를 리턴받아\n",
    "    # grad_fig 에 그립니다. FuncAnimation  함수가 11개의 차트를 차례로 애니메이션처럼\n",
    "    # 그립니다\n",
    "    \n",
    "    \\grad_ax.set_title('Gradient descent')\n",
    "    grad_ax.set_ylabel(\"Total Cost\")\n",
    "    grad_ax.set_xlabel(\"Variance\")\n",
    "    grad_fig.canvas.draw()"
   ]
  },
  {
   "cell_type": "code",
   "execution_count": 54,
   "metadata": {},
   "outputs": [],
   "source": [
    "#main\n",
    "main = Tk()\n",
    "main.title(\"토끼의 선형회귀\")\n",
    "main.geometry()\n",
    "label=Label(main, text='토끼의 선형회귀')\n",
    "label.config(font=(\"굴림\", 18))\n",
    "label.grid(row=0,column=0,columnspan=4)\n",
    "h_aVal = DoubleVar(value=1.0)\n",
    "h_aSpbox = Spinbox(main, textvariable=h_aVal ,from_=0, to=10, increment=1)\n",
    "h_aSpbox.config(state='readonly')\n",
    "h_aSpbox.grid(row=1,column=2)\n",
    "h_aLabel=Label(main, text='토끼의 시속 (km/h) : ')                \n",
    "h_aLabel.grid(row=1,column=0,columnspan=2)\n",
    "h_sVal  = DoubleVar(value=0.1)\n",
    "h_sSpbox = Spinbox(main, textvariable=h_sVal ,from_=0, to=2, increment=0.01)\n",
    "h_sSpbox.config(state='readonly')\n",
    "h_sSpbox.grid(row=2,column=2)\n",
    "h_sLabel=Label(main, text='회귀선 간격 (km/h) : ')                \n",
    "h_sLabel.grid(row=2,column=0,columnspan=2)\n",
    "btn1 = Button(main,text=\"Run\",width=20,height=3,command=lambda:update())\n",
    "btn1.grid(row=3, column=0)\n",
    "btn2 = Button(main,text=\"Lines\",width=20,height=3,command=lambda:showLines())\n",
    "btn2.grid(row=3, column=1)\n",
    "btn3 = Button(main,text=\"Gradient\",width=20,height=3,command=lambda:gradient())\n",
    "btn3.grid(row=3, column=2)\n",
    "\n",
    "canvas = FigureCanvasTkAgg(fig, main)\n",
    "canvas.get_tk_widget().grid(row=4,column=0,columnspan=4)\n",
    "\n",
    "grad_canvas = FigureCanvasTkAgg(grad_fig, main)\n",
    "grad_canvas.get_tk_widget().grid(row=5,column=0,columnspan=4) "
   ]
  },
  {
   "cell_type": "code",
   "execution_count": 55,
   "metadata": {},
   "outputs": [],
   "source": [
    "main.mainloop()"
   ]
  },
  {
   "cell_type": "code",
   "execution_count": null,
   "metadata": {},
   "outputs": [],
   "source": []
  },
  {
   "cell_type": "code",
   "execution_count": null,
   "metadata": {},
   "outputs": [],
   "source": []
  }
 ],
 "metadata": {
  "kernelspec": {
   "display_name": "Python 3",
   "language": "python",
   "name": "python3"
  },
  "language_info": {
   "codemirror_mode": {
    "name": "ipython",
    "version": 3
   },
   "file_extension": ".py",
   "mimetype": "text/x-python",
   "name": "python",
   "nbconvert_exporter": "python",
   "pygments_lexer": "ipython3",
   "version": "3.8.5"
  }
 },
 "nbformat": 4,
 "nbformat_minor": 4
}
