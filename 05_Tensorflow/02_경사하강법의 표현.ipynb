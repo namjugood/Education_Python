{
 "cells": [
  {
   "cell_type": "code",
   "execution_count": 1,
   "metadata": {},
   "outputs": [],
   "source": [
    "import numpy as np\n",
    "from tkinter import *\n",
    "from matplotlib.figure import Figure\n",
    "from matplotlib.backends.backend_tkagg import FigureCanvasTkAgg\n",
    "# 애니메이션을 활용할 모듈 임포트\n",
    "from matplotlib.animation import FuncAnimation\n",
    "import math"
   ]
  },
  {
   "cell_type": "code",
   "execution_count": null,
   "metadata": {},
   "outputs": [],
   "source": [
    "# 토끼의 그래프를 그리기 위한 차트 준비\n",
    "fig = Figure(figsize=(5,3), dpi=100)\n",
    "ax = fig.add_subplot(111)\n",
    "ax.set_xlim(0, 11)\n",
    "ax.set_ylim(0, 11)\n",
    "# h_xdata, h_ydata : 토끼의 구간별 거리 데이터\n",
    "# x_list, y_list : 토끼 그래프 주변에 회귀선을 찾기 위한 가상의 그래프가 그려질 데이터\n",
    "h_xdata, y_ydata, x_list, y_list = [], [], [], []"
   ]
  },
  {
   "cell_type": "code",
   "execution_count": null,
   "metadata": {},
   "outputs": [],
   "source": [
    "grad.fig = Figure(figsize=(5,3), dpi=100)\n",
    "grad_ax = grad_fig.add_subplot(111)\n",
    "grad_ax.set_xlim(-0.1, 1.1)\n",
    "grad_ax.set_ylim(0, 100)\n",
    "t_xdata, t_ydata = [], []"
   ]
  },
  {
   "cell_type": "code",
   "execution_count": null,
   "metadata": {},
   "outputs": [],
   "source": [
    "# main\n",
    "main = Tk()\n",
    "main.title(\"토끼의 선형회귀\")\n",
    "main.geometry()\n",
    "label = Lable(main, text='토끼의 선형회귀')\n",
    "label.config(font=(\"굴림\", 18))\n",
    "label.grid(row=0, column=0, columnspan=4)\n",
    "h_aVal = DoubleVar(value=1.0)\n",
    "h_aSpbox = Spinbox(main, textvariable=h_aVal, from_=0, to=10, increment=1)\n",
    "h_aSpbox.config(state='readonly')\n",
    "h_aSpbox.grid(row=1, column=2)\n",
    "h_aLabel = Label(main, text='토끼의 시속(km/h) : ')\n",
    "h_sBal = DoubleVar(value=0.1)\n",
    "h_sSpbox = Spinbox(main, textvariable=h_sVal, from_=0, to=2, increment=0.01)\n",
    "h_sSpbox.config(state='readonly')                   \n",
    "h_aSpbox.grid(row=2, column=2)\n",
    "h_sLabel = Label(main, text='회귀선 간격(km/h) : ')\n",
    "h_sLabel.grid(row=2, column=0, columnspan=2)\n",
    "\n",
    "btn1 = Button(main.text=\"Run\", width=20, height=3, command=lambda:update())\n",
    "btn1.grid(row=3, column=0)\n",
    "btn2 = Button(main.text=\"Lines\", width=20, height=3, command=lambda:showLines())\n",
    "btn2.grid(row=3, column=1)\n",
    "btn3 = Button(main.text=\"Gradient\", width=20, height=3, command=lambda:gradient())\n",
    "btn3.grid(row=3, column=2)\n",
    "\n",
    "canvas = FigureCanvasTkAgg(fig, main)\n",
    "canvas.get_tk_widget().grid(row=4, column=0, columnspan=4)\n",
    "\n",
    "grad_canvas = FigureCanvasTkAgg(grad_fig, main)\n",
    "grad_canvas.get_tk_widget().grid(row=5, column=0, columnspan=4)"
   ]
  }
 ],
 "metadata": {
  "kernelspec": {
   "display_name": "Python 3",
   "language": "python",
   "name": "python3"
  },
  "language_info": {
   "codemirror_mode": {
    "name": "ipython",
    "version": 3
   },
   "file_extension": ".py",
   "mimetype": "text/x-python",
   "name": "python",
   "nbconvert_exporter": "python",
   "pygments_lexer": "ipython3",
   "version": "3.8.5"
  },
  "varInspector": {
   "cols": {
    "lenName": 16,
    "lenType": 16,
    "lenVar": 40
   },
   "kernels_config": {
    "python": {
     "delete_cmd_postfix": "",
     "delete_cmd_prefix": "del ",
     "library": "var_list.py",
     "varRefreshCmd": "print(var_dic_list())"
    },
    "r": {
     "delete_cmd_postfix": ") ",
     "delete_cmd_prefix": "rm(",
     "library": "var_list.r",
     "varRefreshCmd": "cat(var_dic_list()) "
    }
   },
   "types_to_exclude": [
    "module",
    "function",
    "builtin_function_or_method",
    "instance",
    "_Feature"
   ],
   "window_display": false
  }
 },
 "nbformat": 4,
 "nbformat_minor": 4
}
