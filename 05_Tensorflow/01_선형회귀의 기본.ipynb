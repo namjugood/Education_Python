{
 "cells": [
  {
   "cell_type": "code",
   "execution_count": 60,
   "metadata": {},
   "outputs": [],
   "source": [
    "import numpy as np\n",
    "# 윈도우 창의 객체를 얻어오기 위한 모듈\n",
    "from tkinter import *\n",
    "# 차트를 그리기 위한 모듈\n",
    "from matplotlib.figure import Figure\n",
    "# 윈도우창에 표시할 차트와  윈도우창을 연결하고, 차트를 윈도우 창에 얹어서 사용하기\n",
    "# 위한 모듈\n",
    "from matplotlib.backends.backend_tkagg import FigureCanvasTkAgg\n",
    "# 수학적 함수들을 사용하기 위한 모듈 임포트\n",
    "import math"
   ]
  },
  {
   "cell_type": "code",
   "execution_count": 61,
   "metadata": {},
   "outputs": [],
   "source": [
    "fig = Figure( figsize=(5,4), dpi=100)\n",
    "# 현재 fig 에 그려질 차트를 1 행 1열의 첫번째 서브 플랏으로 위치시킵니다\n",
    "ax = fig.add_subplot(111)\n",
    "# 차트에 그려질 데이터 를 담을 리스트 생성\n",
    "t_xdata, t_ydata, h_xdata, h_ydata = [], [], [], [] "
   ]
  },
  {
   "cell_type": "code",
   "execution_count": 62,
   "metadata": {},
   "outputs": [],
   "source": [
    "def update():\n",
    "    # 각 스핀박의 값들을 얻어서 각 변수에 저장합니다\n",
    "    t_a = float(t_aSpbox.get())  # 거북이의 시속\n",
    "    t_b = float(t_bSpbox.get())  # 거북이의 출발위치\n",
    "    h_a = float(h_aSpbox.get())  # 토끼의 시속 (토끼의 출발위치는 0)\n",
    "    # 위 값들로만 알수 있는 건 거북이가 속도가 느려서 좀 앞에서 출발\n",
    "    # 뒤에서 출발한 토끼가 거북이와 만나는 지점을 그래프상에서 확인가능\n",
    "    \n",
    "    # 토끼 거북이가 이동하면서 만나는 지점 이후..만났다는 상태를 저장할 변수를 초기화\n",
    "    doMeet = False\n",
    "    \n",
    "    # np.linspace(0, 10, 101) : 0 부터 10까지 101 개의 균일간격의 숫자(실수)를 발생\n",
    "    for t in np.linspace(0, 10, 101):\n",
    "        # 토끼 & 거북이의 X축 데이터를 해당 리스트에 append gkqslek\n",
    "        t_xdata.append(t)\n",
    "        h_xdata.append(t)\n",
    "        # 토끼의 시속, 거북이의 시속으로 계산된 각 구간별 위치(y축 데이터)를\n",
    "        # 해당 리스트에 저장\n",
    "        t_y = t_a * t + t_b\n",
    "        h_y = h_a * t\n",
    "        t_ydata.append(t_y)\n",
    "        h_ydata.append(h_y)\n",
    "        \n",
    "        # 토끼가 거북이를 추월한는 순간\n",
    "        if( h_y >= t_y and (doMeet==False) ):\n",
    "            doMeet = True\n",
    "            # 당시의 시간과 거리를 별도의 변수에 저장\n",
    "            meetTime = t  # 만난 지점의 x 좌표 - 이는 곧 만난 시간\n",
    "            meetDistance = t_y # 만난 지점의 y 좌표 - 이는 곧 만난 거리\n",
    "    # 축제목 표시\n",
    "    ax.set_xlabel('Time(h)')\n",
    "    ax.set_ylabel('Distance(km)')\n",
    "    # 라인 차트 표시 2개\n",
    "    ax.plot(t_xdata,t_ydata)\n",
    "    ax.plot(h_xdata,h_ydata)\n",
    "    \n",
    "    # 둘이 만났으면 만난시간과 고리를 타이틀로 표시\n",
    "    # 못만났으면 타이틀에 그들은 만나지 못할꺼에요\n",
    "    if(doMeet):\n",
    "        ax.set_title('The Turtle overcome from ' + str(meetTime) + 'Times(s), ' \\\n",
    "                                                + str(meetDistance) + 'Dist(km)')\n",
    "        ax.plot(meetTime, meetDistance, 'ro')\n",
    "    else:\n",
    "        ax.set_title('They will not meet T.T')\n",
    "    \n",
    "    \n",
    "    fig.canvas.draw()"
   ]
  },
  {
   "cell_type": "code",
   "execution_count": 63,
   "metadata": {},
   "outputs": [
    {
     "data": {
      "text/plain": [
       "array([ 0. ,  0.1,  0.2,  0.3,  0.4,  0.5,  0.6,  0.7,  0.8,  0.9,  1. ,\n",
       "        1.1,  1.2,  1.3,  1.4,  1.5,  1.6,  1.7,  1.8,  1.9,  2. ,  2.1,\n",
       "        2.2,  2.3,  2.4,  2.5,  2.6,  2.7,  2.8,  2.9,  3. ,  3.1,  3.2,\n",
       "        3.3,  3.4,  3.5,  3.6,  3.7,  3.8,  3.9,  4. ,  4.1,  4.2,  4.3,\n",
       "        4.4,  4.5,  4.6,  4.7,  4.8,  4.9,  5. ,  5.1,  5.2,  5.3,  5.4,\n",
       "        5.5,  5.6,  5.7,  5.8,  5.9,  6. ,  6.1,  6.2,  6.3,  6.4,  6.5,\n",
       "        6.6,  6.7,  6.8,  6.9,  7. ,  7.1,  7.2,  7.3,  7.4,  7.5,  7.6,\n",
       "        7.7,  7.8,  7.9,  8. ,  8.1,  8.2,  8.3,  8.4,  8.5,  8.6,  8.7,\n",
       "        8.8,  8.9,  9. ,  9.1,  9.2,  9.3,  9.4,  9.5,  9.6,  9.7,  9.8,\n",
       "        9.9, 10. ])"
      ]
     },
     "execution_count": 63,
     "metadata": {},
     "output_type": "execute_result"
    }
   ],
   "source": [
    "np.linspace(0, 10, 101)\n",
    "# 첫번째 인수 부터 두번째 인수 까지 세번째 인수의 수만큼 균일한 숫자 발생"
   ]
  },
  {
   "cell_type": "code",
   "execution_count": 64,
   "metadata": {},
   "outputs": [],
   "source": [
    "# 윈도우 객체를 생성해서  main 변수에 저장하고   컨트롤 변수로 사용\n",
    "main = Tk()\n",
    "# 생성한 윈도우의 타이틀 설정\n",
    "main.title(\"토끼와 거북이\")\n",
    "# 윈도우의 크기와 위치를 설정\n",
    "main.geometry()\n",
    "# 라벨 생성 - main 위에 위치시킬 라벨\n",
    "label = Label(main, text='토끼와 거북이의 달리기 기록')\n",
    "# 라벨의 환경설정\n",
    "label.config(font=('굴림', 18))\n",
    "# 메인윈도우 위에서의 상세위치\n",
    "label.grid(row=0,column=0,columnspan=4)\n",
    "\n",
    "# 거북이 시속 라벨과 스핀박스\n",
    "# textvariable:초기값 -> t_aVal 변수값으로, \n",
    "# 최소값 0, 최대값 1, 한번 클릭시 증감량 1, 텍스트정렬 오른쪽\n",
    "t_aVal  = DoubleVar(value=1.0)\n",
    "t_aSpbox = Spinbox(main, textvariable=t_aVal, from_=0, to=10, increment=1, \\\n",
    "                                                                   justify=RIGHT)\n",
    "# 스핀박스에 달려 있는 버튼으로의 조작 . 그외에 는 수정 불가\n",
    "t_aSpbox.config(state='readonly')\n",
    "# main 윈도우상의 상세 위치\n",
    "t_aSpbox.grid(row=1, column=1)\n",
    "# 라벨 생성\n",
    "t_aLabel = Label(main, text='거북이 시속(km/h) : ')\n",
    "# 라벨 위치\n",
    "t_aLabel.grid(row=1, column=0)\n",
    "\n",
    "t_bVal  = DoubleVar(value=4.0)  # 거북이 시작위치\n",
    "h_aVal  = DoubleVar(value=2.0)  # 토끼의 시속\n",
    "t_bSpbox = Spinbox(main, textvariable=t_bVal, from_=0, to=10, increment=1, \\\n",
    "                                                                       justify=RIGHT)\n",
    "t_bSpbox.config(state='readonly')\n",
    "t_bSpbox.grid(row=2, column=1)\n",
    "t_bLabel = Label(main, text='거북이 시작위치(km) : ')\n",
    "t_bLabel.grid(row=2, column=0)\n",
    "h_aSpbox = Spinbox(main, textvariable=h_aVal, from_=0, to=10, increment=1, \\\n",
    "                                                                       justify=RIGHT)\n",
    "h_aSpbox.config(state='readonly')\n",
    "h_aSpbox.grid(row=3, column=1)\n",
    "h_aLabel = Label(main, text='토끼 시속(km/h) : ')\n",
    "h_aLabel.grid(row=3, column=0)\n",
    "\n",
    "# 버튼텍스: Run, 가로 크기 20, 세로크기 5, 실행함수 : update()\n",
    "btn = Button(main, text='Run', width=20, height=5, command=lambda:update())\n",
    "# 1행 2열에 위치시키되, 가로2열만큰, 세로 3행만큼 크기 확장)\n",
    "btn.grid(row=1,column=2,columnspan=2,rowspan=3 )\n",
    "\n",
    "# 차트 그릴 자리를 마련하는 캔버스 생성과 main 윈도우에 얹어 놓기 위한 연결 생성\n",
    "canvas = FigureCanvasTkAgg(fig, main)\n",
    "# main 윈도우 상의 캔버스 위치 지정\n",
    "canvas.get_tk_widget().grid(row=4,column=0,columnspan=3) "
   ]
  },
  {
   "cell_type": "code",
   "execution_count": 65,
   "metadata": {},
   "outputs": [],
   "source": [
    "main.mainloop()"
   ]
  },
  {
   "cell_type": "code",
   "execution_count": null,
   "metadata": {},
   "outputs": [],
   "source": []
  }
 ],
 "metadata": {
  "kernelspec": {
   "display_name": "Python 3",
   "language": "python",
   "name": "python3"
  },
  "language_info": {
   "codemirror_mode": {
    "name": "ipython",
    "version": 3
   },
   "file_extension": ".py",
   "mimetype": "text/x-python",
   "name": "python",
   "nbconvert_exporter": "python",
   "pygments_lexer": "ipython3",
   "version": "3.8.5"
  }
 },
 "nbformat": 4,
 "nbformat_minor": 4
}
