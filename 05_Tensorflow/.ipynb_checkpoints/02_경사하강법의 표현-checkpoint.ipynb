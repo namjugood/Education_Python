{
 "cells": [
  {
   "cell_type": "code",
   "execution_count": 40,
   "metadata": {},
   "outputs": [],
   "source": [
    "import numpy as np\n",
    "from tkinter import *\n",
    "from matplotlib.figure import Figure\n",
    "from matplotlib.backends.backend_tkagg import FigureCanvasTkAgg\n",
    "# 애니메이션을 활용할 모듈 임포트\n",
    "from matplotlib.animation import FuncAnimation\n",
    "import math"
   ]
  },
  {
   "cell_type": "code",
   "execution_count": 41,
   "metadata": {},
   "outputs": [],
   "source": [
    "# 토끼의 그래프를 그리기 위한 차트 준비\n",
    "fig = Figure(figsize=(5,3), dpi=100)\n",
    "ax = fig.add_subplot(111)\n",
    "ax.set_xlim(0, 11)\n",
    "ax.set_ylim(0, 11)\n",
    "# h_xdata, h_ydata : 토끼의 구간별 거리 데이터\n",
    "# x_list, y_list : 토끼 그래프 주변에 회귀선을 찾기 위한 가상의 그래프가 그려질 데이터\n",
    "h_xdata, h_ydata, x_list, y_list = [], [], [], []"
   ]
  },
  {
   "cell_type": "code",
   "execution_count": 42,
   "metadata": {},
   "outputs": [],
   "source": [
    "grad_fig = Figure(figsize=(5,3), dpi=100)\n",
    "grad_ax = grad_fig.add_subplot(111)\n",
    "grad_ax.set_xlim(-0.1, 1.1)\n",
    "grad_ax.set_ylim(0, 100)\n",
    "t_xdata, t_ydata = [], []"
   ]
  },
  {
   "cell_type": "code",
   "execution_count": 43,
   "metadata": {},
   "outputs": [],
   "source": [
    "def update():\n",
    "    # 토끼의 속도를 표시하고 있는 스핀박스 값 추출\n",
    "    h_a = float(h_aSpbox.get())\n",
    "    # 0부터 10까지 11개의 타임데이터(x축 데이터) 생성 후 그 수만큼 반복실행\n",
    "    for t in np.linspace(0, 10, 11):\n",
    "        # 시간에 속도를 곱해서 y축 데이터 계산 & x, y축 데이터를 리스트에 저장\n",
    "        h_y = h_a * t\n",
    "        h_xdata.append(t)\n",
    "        h_ydata.append(t)\n",
    "    ax.set_xlabel('Time(hour)')\n",
    "    ax.set_ylabel('Distance(km)')\n",
    "    ax.set_title('Linear Regression')\n",
    "    ax.plot(h_xdata, h_ydata, 'ro', label='Rabbit')\n",
    "    ax.legend()\n",
    "    fig.canvas.draw()"
   ]
  },
  {
   "cell_type": "code",
   "execution_count": 44,
   "metadata": {},
   "outputs": [],
   "source": [
    "def showLines():\n",
    "    # 스핀박스 값들을 추출\n",
    "    h_a = float(h_aSpbox.get()) # 토끼의 속도\n",
    "    h_s = float(h_sSpbox.get()) # 회귀선의 간격\n",
    "    \n",
    "    h_xdatadata = []\n",
    "    h_ydata = []\n",
    "    \n",
    "    # 속도 + 회귀선 간격 * 5 를 저장합니다\n",
    "    a_val = h_a + (h_s * 5)  # 저장값 1.5  1.5부터 0.5까지 0.1씩 줄이며 반복하기 위한 준비\n",
    "    h_xdata=[]\n",
    "    h_ydata=[]\n",
    "    # x좌표 값으로 반복실행\n",
    "    for i in np.linspace(0, 10, 11):    \n",
    "        a = a_val - (i * h_s) # a_val값 1.5qnxj 0.1씩 뺀 값 1.5~0.5의 값 발생\n",
    "        # 계산된 a값(기울기)로 10번의 연산을 하여 10개의 x좌표값과 y좌표값을 계산\n",
    "        for t in np.linspace(0, 10, 11):\n",
    "            # 계산된 좌표값들을 h_xdata에 저장\n",
    "            h_y = a*t\n",
    "            h_xdata.appned(t)\n",
    "            h_ydata.append(h_y)\n",
    "        # x좌표값과 y좌표값으로 차트 드로잉\n",
    "        ax.plot(h_xdata, h_ydata, alpha=0.2)\n",
    "    fig.canvas.draw()"
   ]
  },
  {
   "cell_type": "code",
   "execution_count": 45,
   "metadata": {},
   "outputs": [],
   "source": [
    "# 애니메이션 적용을 위한 차트의 최초 설정\n",
    "# 이름부여(ln, dn, : 튜플 형식의 변수)\n",
    "ln, = grad_ax.plot(0, 0)  # 라인차트\n",
    "dn, = grad_ax.plot([], [], 'ro')  # 스캐터 차트\n",
    "# 위 동작에서 차트가 그려지지는 않습니다. 이는 차트의 종류와 형식을 초기화하는 동작\n",
    "# 차트가 1회에 한 번식 덧그려지면서 위 동작과 현재 데이터 표시동작을 반복하며, \n",
    "# 애니메이션 효과를 낼 예정입니다"
   ]
  },
  {
   "cell_type": "code",
   "execution_count": 46,
   "metadata": {},
   "outputs": [],
   "source": [
    "# 애니메이션 차트 초기화 함수 - animate 함수의 일부요소로 사용됩니다\n",
    "def init():\n",
    "    grad_ax.set_xlim(-0.1, 1.1)\n",
    "    grad_ax.set_ylim(0, 100)\n",
    "    return dn, ln,"
   ]
  },
  {
   "cell_type": "code",
   "execution_count": 47,
   "metadata": {},
   "outputs": [],
   "source": [
    "# 기준속도(기울기 : 1)과 다른 기울기(매개변수로 전달) 간의 코스트값 계산 함수\n",
    "def get_cost(a_val):\n",
    "    h_a = float(h_aSpbox.get()) # 윈도우에 설정된 속도(기울기) 추출\n",
    "    cost = 0\n",
    "    for i in range(0, 11, 1):\n",
    "        cost += pow( (a_val * i - h_a*i), 2)\n",
    "    return cost"
   ]
  },
  {
   "cell_type": "code",
   "execution_count": 48,
   "metadata": {},
   "outputs": [],
   "source": [
    "def animateFrame(frame):\n",
    "    h_a = float(h_aSpbox.get())\n",
    "    h_s = float(h_sSpbox.get())\n",
    "    a_val = h_a + (h_s * 5)  # 최고속도(프레임 시작값)\n",
    "    i = frame * h_s  # 각 프레임의 x좌표 값\n",
    "    a = a_val - i  # 각 프레임의 속도\n",
    "    # 최고 속도에서 각 프레임별로 -0.1씩 계산하며 프레임별 속도 생성\n",
    "    t_xdata.append(i)  # x좌표값 저장\n",
    "    t_ydata.append(get_cost(a))  # 프레임별 속도를 전달한 함수로 코스트값 계산 저장\n",
    "    dn.set_data(t_xdata, t_ydata)  # 좌표값으로 애니메이션 설정(dn 사용)\n",
    "    return dn, ln,  # 준비된 애니메이션 차트 리턴"
   ]
  },
  {
   "cell_type": "code",
   "execution_count": 49,
   "metadata": {},
   "outputs": [],
   "source": [
    "def gradient():\n",
    "    # grad_fig : 그려질 차트 이름(위에서 이미 생성완료)\n",
    "    # animateFrame : 애니메이션 동작이 들어있는 함수이름\n",
    "    # frames = np.linspace(0, 10, 11) : 애니메이션 프레임의 번호(개수 설정)\n",
    "    # init_func = init : 애니메이션 시작 전 초기화ㅓ 함수 설정\n",
    "    ani = FuncAnimation(grad_fig, animateFrame, frames=np.linspace(0, 10, 11), \\\n",
    "                       init_func = init)\n",
    "    # 함수가 호출이 되면 animateFrame 함수에 frames에 있는 숫자들이 전달인수로 전달됩니다.\n",
    "    # (한 번에 11개의 데이터가 한 번 호출에 모두 전달되는 형식이지만\n",
    "    # 하나씩 전달되어 11번을 호출한다고 생각하면 이해헤 도움이 됩니다)\n",
    "    \n",
    "    # animateFrame 함수에 0~10까지 11개의 숫자를 보내고, 11개의 차트를 리턴받아grad_fig에\n",
    "    # 그립니다. FuncAnimation 함수가 11개의 차트를 차례로 애니메이션처럼 그립니다.\n",
    "    grad_ax.set_title('Gradiend descent')\n",
    "    grad_ax.set_ylabel(\"Total Cost\")\n",
    "    grad_ax.set_xlabel(\"Variance\")\n",
    "    grad_fig.canvas.draw()    "
   ]
  },
  {
   "cell_type": "code",
   "execution_count": 50,
   "metadata": {},
   "outputs": [],
   "source": [
    "# main\n",
    "main = Tk()\n",
    "main.title(\"토끼의 선형회귀\")\n",
    "main.geometry()\n",
    "label = Label(main, text='토끼의 선형회귀')\n",
    "label.config(font=(\"굴림\", 18))\n",
    "label.grid(row=0, column=0, columnspan=4)\n",
    "h_aVal = DoubleVar(value=1.0)\n",
    "h_aSpbox = Spinbox(main, textvariable=h_aVal, from_=0, to=10, increment=1)\n",
    "h_aSpbox.config(state='readonly')\n",
    "h_aSpbox.grid(row=1, column=2)\n",
    "h_aLabel = Label(main, text='토끼의 시속(km/h) : ')\n",
    "h_sVal = DoubleVar(value=0.1)\n",
    "h_sSpbox = Spinbox(main, textvariable=h_sVal, from_=0, to=2, increment=0.01)\n",
    "h_sSpbox.config(state='readonly')                   \n",
    "h_aSpbox.grid(row=1, column=2)\n",
    "h_sLabel = Label(main, text='회귀선 간격(km/h) : ')\n",
    "h_sLabel.grid(row=2, column=0, columnspan=2)\n",
    "\n",
    "btn1 = Button(main, text=\"Run\", width=20, height=3, command=lambda:update())\n",
    "btn1.grid(row=3, column=0)\n",
    "btn2 = Button(main, text=\"Lines\", width=20, height=3, command=lambda:showLines())\n",
    "btn2.grid(row=3, column=1)\n",
    "btn3 = Button(main, text=\"Gradient\", width=20, height=3, command=lambda:gradient())\n",
    "btn3.grid(row=3, column=2)\n",
    "\n",
    "canvas = FigureCanvasTkAgg(fig, main)\n",
    "canvas.get_tk_widget().grid(row=4, column=0, columnspan=4)\n",
    "\n",
    "grad_canvas = FigureCanvasTkAgg(grad_fig, main)\n",
    "grad_canvas.get_tk_widget().grid(row=5, column=0, columnspan=4)"
   ]
  },
  {
   "cell_type": "code",
   "execution_count": 51,
   "metadata": {},
   "outputs": [
    {
     "name": "stderr",
     "output_type": "stream",
     "text": [
      "Exception in Tkinter callback\n",
      "Traceback (most recent call last):\n",
      "  File \"C:\\Users\\204\\anaconda3\\lib\\tkinter\\__init__.py\", line 1883, in __call__\n",
      "    return self.func(*args)\n",
      "  File \"<ipython-input-50-d735b706ca49>\", line 22, in <lambda>\n",
      "    btn2 = Button(main, text=\"Lines\", width=20, height=3, command=lambda:showLines())\n",
      "  File \"<ipython-input-44-c9d38af0c5f6>\", line 20, in showLines\n",
      "    h_xdata.appned(t)\n",
      "AttributeError: 'list' object has no attribute 'appned'\n"
     ]
    }
   ],
   "source": [
    "main.mainloop()"
   ]
  },
  {
   "cell_type": "code",
   "execution_count": null,
   "metadata": {},
   "outputs": [],
   "source": []
  }
 ],
 "metadata": {
  "kernelspec": {
   "display_name": "Python 3",
   "language": "python",
   "name": "python3"
  },
  "language_info": {
   "codemirror_mode": {
    "name": "ipython",
    "version": 3
   },
   "file_extension": ".py",
   "mimetype": "text/x-python",
   "name": "python",
   "nbconvert_exporter": "python",
   "pygments_lexer": "ipython3",
   "version": "3.8.5"
  },
  "varInspector": {
   "cols": {
    "lenName": 16,
    "lenType": 16,
    "lenVar": 40
   },
   "kernels_config": {
    "python": {
     "delete_cmd_postfix": "",
     "delete_cmd_prefix": "del ",
     "library": "var_list.py",
     "varRefreshCmd": "print(var_dic_list())"
    },
    "r": {
     "delete_cmd_postfix": ") ",
     "delete_cmd_prefix": "rm(",
     "library": "var_list.r",
     "varRefreshCmd": "cat(var_dic_list()) "
    }
   },
   "types_to_exclude": [
    "module",
    "function",
    "builtin_function_or_method",
    "instance",
    "_Feature"
   ],
   "window_display": false
  }
 },
 "nbformat": 4,
 "nbformat_minor": 4
}
