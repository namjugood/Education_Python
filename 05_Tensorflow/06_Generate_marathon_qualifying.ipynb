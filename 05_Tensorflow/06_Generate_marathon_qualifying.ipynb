{
 "cells": [
  {
   "cell_type": "markdown",
   "metadata": {},
   "source": [
    "1. 성별과 연령별 합격시간의 표를 참고하여 기존 marathon_2015_2017데이터에 Qualifying 컬럼을 추가합니다\n",
    "2. 최종기록이 해당기록보다 늦으면 0, 빠르면 1로 저장합니다\n",
    "3. 처리가 완료된 파일을 marathon_2015_2017_qualifying.csv 파일로 저장합니다\n",
    "4. 저장된 파일을 불러와서 학습하고 특정 참가자의 Qualifying을 예측합니다"
   ]
  },
  {
   "cell_type": "code",
   "execution_count": 15,
   "metadata": {},
   "outputs": [],
   "source": [
    "import pandas as pd\n",
    "import numpy as np\n",
    "marathon_qualifying_time = pd.read_csv(\"./marathon_qualifying_time.csv\")\n",
    "#marathon_qualifying_time.head()"
   ]
  },
  {
   "cell_type": "code",
   "execution_count": 16,
   "metadata": {},
   "outputs": [],
   "source": [
    "# 나이를 제외한 남녀 기록들만 추출\n",
    "qualifying_time = pd.DataFrame(marathon_qualifying_time, columns=['F', 'M'])\n",
    "#qualifying_time.head()"
   ]
  },
  {
   "cell_type": "code",
   "execution_count": 17,
   "metadata": {},
   "outputs": [],
   "source": [
    "# 필터링 된 기록들을 모두 초(s)로 변환\n",
    "qualifying_time['F'] = pd.to_timedelta(qualifying_time['F'])\n",
    "qualifying_time['M'] = pd.to_timedelta(qualifying_time['M'])\n",
    "qualifying_time['F'] = qualifying_time['F'].astype('m8[s]').astype(np.int64)\n",
    "qualifying_time['M'] = qualifying_time['M'].astype('m8[s]').astype(np.int64)"
   ]
  },
  {
   "cell_type": "code",
   "execution_count": 18,
   "metadata": {},
   "outputs": [],
   "source": [
    "# qualifying_time.head()"
   ]
  },
  {
   "cell_type": "code",
   "execution_count": 19,
   "metadata": {},
   "outputs": [],
   "source": [
    "# 마라톤 기록 불러와서, 성별 1,0으로 변경 qualifying 컬럼 추가\n",
    "marathon_2015_2017 = pd.read_csv(\"./marathon_2015_2017.csv\")\n",
    "marathon_2015_2017['M/F'] = marathon_2015_2017['M/F'].map({'M':1, 'F':0})\n",
    "# 성별, 나이, 페이스, 최종기록, 년도 qualifying 컬럼을 갖는 빈 데이터 프레임 생성\n",
    "marathon_2015_2017_qualifying = pd.DataFrame(\\\n",
    "        columns=['M/F','Age','Pace','Official Time','Year','qualifying'])"
   ]
  },
  {
   "cell_type": "code",
   "execution_count": 20,
   "metadata": {},
   "outputs": [],
   "source": [
    "# qualifying_time 데이터를 리스트로 변환\n",
    "qualifying_time_list = qualifying_time.values.tolist()"
   ]
  },
  {
   "cell_type": "code",
   "execution_count": 23,
   "metadata": {},
   "outputs": [],
   "source": [
    "for index, record in marathon_2015_2017.iterrows():\n",
    "    # qualifying_time_list[ record.Age-18 ][ record['M/F'] ]\n",
    "    # -> 현재 레코드에서 나이값과 성별값으로 행렬 검색의 결과\n",
    "    qualifying_standard = qualifying_time_list[record.Age-18][record['M/F']]\n",
    "    # 현재 레크도의 최종기록이 qualifying_standard 빠르면 qualifying_status =1,\n",
    "    # 아니면 0 저장\n",
    "    qualifying_status = 1\n",
    "    if(record['Official Time'] > qualifying_standard):\n",
    "        qualifying_status = 0\n",
    "    \n",
    "    # 레코드에서 각 필요값들과, 방금 계산한 qualifying_status값을 이용해서 상단에\n",
    "    # 생성해 놓은 marathon_2015_2017_qualifying에 추가(딕셔너리 -> 데이터프레임)\n",
    "    marathon_2015_2017_qualifying = marathon_2015_2017_qualifying.append(\n",
    "            {'M/F':record['M/F'], 'Age':record['Age'], 'Pace':record['Pace'],\n",
    "            'Official Time':record['Official Time'], 'Year':record['Year'],\n",
    "            'qualifying':qualifying_status}, ignore_index=True)\n",
    "#최종 완성된 데이터프레임을 파일로 저장합니다.\n",
    "marathon_2015_2017_qualifying.to_csv(\"./marathon_qualifying.csv\", \\\n",
    "                                                        index=None, header=True)\n",
    "    "
   ]
  }
 ],
 "metadata": {
  "kernelspec": {
   "display_name": "Python 3",
   "language": "python",
   "name": "python3"
  },
  "language_info": {
   "codemirror_mode": {
    "name": "ipython",
    "version": 3
   },
   "file_extension": ".py",
   "mimetype": "text/x-python",
   "name": "python",
   "nbconvert_exporter": "python",
   "pygments_lexer": "ipython3",
   "version": "3.8.5"
  },
  "varInspector": {
   "cols": {
    "lenName": 16,
    "lenType": 16,
    "lenVar": 40
   },
   "kernels_config": {
    "python": {
     "delete_cmd_postfix": "",
     "delete_cmd_prefix": "del ",
     "library": "var_list.py",
     "varRefreshCmd": "print(var_dic_list())"
    },
    "r": {
     "delete_cmd_postfix": ") ",
     "delete_cmd_prefix": "rm(",
     "library": "var_list.r",
     "varRefreshCmd": "cat(var_dic_list()) "
    }
   },
   "types_to_exclude": [
    "module",
    "function",
    "builtin_function_or_method",
    "instance",
    "_Feature"
   ],
   "window_display": false
  }
 },
 "nbformat": 4,
 "nbformat_minor": 4
}
