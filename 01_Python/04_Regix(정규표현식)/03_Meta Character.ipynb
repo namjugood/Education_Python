{
 "cells": [
  {
   "cell_type": "code",
   "execution_count": 1,
   "metadata": {},
   "outputs": [],
   "source": [
    "import re"
   ]
  },
  {
   "cell_type": "markdown",
   "metadata": {},
   "source": [
    "### 메타캐릭터(메타문자) : ^,$,| 등의 글자로 패턴을 표현한 글자들"
   ]
  },
  {
   "cell_type": "code",
   "execution_count": 2,
   "metadata": {},
   "outputs": [
    {
     "name": "stdout",
     "output_type": "stream",
     "text": [
      "<re.Match object; span=(5, 9), match='Crow'>\n",
      "None\n"
     ]
    }
   ],
   "source": [
    "# | : or의 의미로 사용. a|b는 a 또는 b의 의미\n",
    "import re\n",
    "p = re.compile('Crow|Servo')\n",
    "m = p.search('HelloCrow')\n",
    "print(m)\n",
    "m = p.match('HelloCorw')\n",
    "print(m)\n",
    "# match는 대상 문자열의 맨 처음부터 매칭을 검색하므로 현재는 매칭 대상이 없음"
   ]
  },
  {
   "cell_type": "code",
   "execution_count": 3,
   "metadata": {},
   "outputs": [
    {
     "name": "stdout",
     "output_type": "stream",
     "text": [
      "<re.Match object; span=(0, 4), match='Life'>\n",
      "None\n",
      "<re.Match object; span=(12, 17), match='short'>\n",
      "None\n"
     ]
    }
   ],
   "source": [
    "# ^ : ^abc는 abc로 시작하는 의미의 정규식\n",
    "# $ : abc$는 abc로 끝나는 의미의 정규식\n",
    "print(re.search('^Life','Life is too short'))\n",
    "print(re.search('^Life', 'My Life'))\n",
    "print(re.search('short$', 'Life is too short'))\n",
    "print(re.search('short$', 'Life is too short. You need Python'))"
   ]
  },
  {
   "cell_type": "markdown",
   "metadata": {},
   "source": [
    "* \\b : Word Boundary 의미로 whitespace로 식별되는 메타 문자입니다\n",
    "* 원래 문자열 안에 사용하는 \\\\b는 백스페이스의 역할을 하는 이스케이프 문자지만\n",
    "* 정규표현식에서는 공백을 의미하도록 사용됩니다\n",
    "* 문자열 안에서 \\\\b가 백스페이스가 아닌 공백으로 인식되려면 r'\\b'와 같이 Raw String 임을 반드시 표기해야 합니다"
   ]
  },
  {
   "cell_type": "code",
   "execution_count": 4,
   "metadata": {},
   "outputs": [
    {
     "name": "stdout",
     "output_type": "stream",
     "text": [
      "<re.Match object; span=(3, 8), match='class'>\n",
      "None\n",
      "None\n"
     ]
    }
   ],
   "source": [
    "#r'\\b~~~\\b' : \\b가 백스페이스가 아닌 Word Boundary로 인식되도록 앞에 r을 표기\n",
    "# \\b는 \\s와 같은 기능으로 보면 됨\n",
    "# class 앞 뒤로 빈칸 하나씩 있는 대상을 매칭\n",
    "p = re.compile(r'\\bclass\\b')\n",
    "print(p.search('no class ar all'))\n",
    "print(p.search('the declassified algrithm'))\n",
    "print(p.search('one subclass is'))"
   ]
  },
  {
   "cell_type": "code",
   "execution_count": 7,
   "metadata": {},
   "outputs": [
    {
     "name": "stdout",
     "output_type": "stream",
     "text": [
      "None\n",
      "<re.Match object; span=(6, 11), match='class'>\n",
      "None\n"
     ]
    }
   ],
   "source": [
    "# \\B : whitespace로 구분되지 않은 그 외 다른글자로 구분되는 정규식\n",
    "p = re.compile(r'\\Bclass\\B')\n",
    "print(p.search('no class ar all'))\n",
    "print(p.search('the declassified algrithm'))\n",
    "print(p.search('one subclass is'))"
   ]
  },
  {
   "cell_type": "code",
   "execution_count": null,
   "metadata": {},
   "outputs": [],
   "source": []
  }
 ],
 "metadata": {
  "kernelspec": {
   "display_name": "Python 3",
   "language": "python",
   "name": "python3"
  },
  "language_info": {
   "codemirror_mode": {
    "name": "ipython",
    "version": 3
   },
   "file_extension": ".py",
   "mimetype": "text/x-python",
   "name": "python",
   "nbconvert_exporter": "python",
   "pygments_lexer": "ipython3",
   "version": "3.8.5"
  }
 },
 "nbformat": 4,
 "nbformat_minor": 4
}
