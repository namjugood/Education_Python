{
 "cells": [
  {
   "cell_type": "code",
   "execution_count": 1,
   "metadata": {},
   "outputs": [
    {
     "name": "stdout",
     "output_type": "stream",
     "text": [
      "<re.Match object; span=(0, 9), match='ABCABCABC'>\n",
      "ABCABCABC\n",
      "ABC\n"
     ]
    }
   ],
   "source": [
    "import re\n",
    "p = re.compile('(ABC)+')  # ABC라는 문자열이 한 번 이상 반복되는 패턴\n",
    "m = p.search('ABCABCABC OK?')\n",
    "print(m)\n",
    "# 패턴에 의해 매칭된 결과 전체\n",
    "print(m.group(0))\n",
    "#( )로 묶여있는 패턴을 하나의 그룹으로 인식하여 순서대로 인덱싱한 결과\n",
    "print(m.group(1))"
   ]
  },
  {
   "cell_type": "markdown",
   "metadata": {},
   "source": [
    "* 정규표현식에 ()는 정규표현식 일부를 하나씩 또는 여러개로 자유롭게 묶을 수 있으며 순서에 맞게 인덱스가 부여됩니다"
   ]
  },
  {
   "cell_type": "code",
   "execution_count": 2,
   "metadata": {},
   "outputs": [
    {
     "name": "stdout",
     "output_type": "stream",
     "text": [
      "park 010-1234-5678\n",
      "park\n",
      "010\n",
      "1234\n",
      "5678\n"
     ]
    }
   ],
   "source": [
    "p = re.compile(r\"(\\w+)\\s+(\\d+)[-](\\d+)[-](\\d+)\")\n",
    "# (문자반복)공백(숫자반복)-(숫자반복)-(숫자반복) 의 패턴\n",
    "m = p.search(\"park 010-1234-5678\")\n",
    "print(m.group(0))  # 패턴 매칭된 결과 문자열\n",
    "print(m.group(1))  # 첫 번째 괄호로 묶인 패턴 결과 문자열\n",
    "print(m.group(2))  # 두 번째 괄호로 묶인 패턴 결과 문자열\n",
    "print(m.group(3))  # 세 번째 괄호로 묶인 패턴 결과 문자열\n",
    "print(m.group(4))  # 네 번째 괄호로 묶인 패턴 결과 문자열"
   ]
  },
  {
   "cell_type": "code",
   "execution_count": 3,
   "metadata": {},
   "outputs": [
    {
     "name": "stdout",
     "output_type": "stream",
     "text": [
      "park 010-1234-5678\n",
      "park\n",
      "010-1234-5678\n",
      "010\n",
      "1234-5678\n",
      "1234\n",
      "5678\n"
     ]
    }
   ],
   "source": [
    "# 중첩된 괄호(Grouping)\n",
    "p = re.compile(r\"(\\w+)\\s+((\\d+)[-]((\\d+)[-](\\d+)))\")\n",
    "m = p.search(\"park 010-1234-5678\")\n",
    "print(m.group(0))\n",
    "print(m.group(1))\n",
    "print(m.group(2))\n",
    "print(m.group(3))\n",
    "print(m.group(4))\n",
    "print(m.group(5))\n",
    "print(m.group(6))\n"
   ]
  },
  {
   "cell_type": "code",
   "execution_count": 4,
   "metadata": {},
   "outputs": [
    {
     "name": "stdout",
     "output_type": "stream",
     "text": [
      "the the\n"
     ]
    }
   ],
   "source": [
    "# 하나의 그룹 정규식으로 두 번의 연속된 문자열 매칭 검색\n",
    "p = re.compile(r'(\\b\\w+)\\s+\\1')\n",
    "# \\1 : 1번 그룹의 재활용\n",
    "# 괄호가 있는 패턴을 또 사용하여 연속된 같은 글자를 검색해야 한다면,\n",
    "# 다시 똑같이 기술하지 않고, 그룹번호를 써서 표현하기도 합니다\n",
    "m = p.search('paris in the the spring')\n",
    "print(m.group())"
   ]
  },
  {
   "cell_type": "markdown",
   "metadata": {},
   "source": [
    "### 그룹핑된 문자열에 이름붙이기\n",
    "* 정규식 내에 그룹의 개수가 많아 사용상 혼란이 야기될 때 사용\n",
    "* 그룹의 개수가 많고 인덱스가 사용하기 혼란스러울 때 각 그룹에 이름을 부여하여 정확한 사용을 목적으로 함"
   ]
  },
  {
   "cell_type": "code",
   "execution_count": 8,
   "metadata": {},
   "outputs": [
    {
     "name": "stdout",
     "output_type": "stream",
     "text": [
      "park\n",
      "010-1234-5678\n",
      "010\n"
     ]
    }
   ],
   "source": [
    "# 전화번호를 매칭하는 정규표현식\n",
    "p = re.compile(r\"(\\w+)\\s+((\\d+)[-](\\d+[-]\\d+))\")\n",
    "# 정규표현식의 그룹에 이름을 부여하는 방법은 아래와 같이\n",
    "p = re.compile(r\"(?P<name>\\w+)\\s+(?P<phone>(?P<com>\\d+)[-](\\d+[-]\\d+))\")\n",
    "m = p.search(\"park 010-1234-5678\")\n",
    "print(m.group(\"name\"))\n",
    "print(m.group(\"phone\"))\n",
    "print(m.group(\"com\"))"
   ]
  },
  {
   "cell_type": "code",
   "execution_count": 10,
   "metadata": {},
   "outputs": [
    {
     "name": "stdout",
     "output_type": "stream",
     "text": [
      "the the\n",
      "the\n"
     ]
    }
   ],
   "source": [
    "p = re.compile(r'(?P<word>\\b\\w+)\\s+(?P=word)')\n",
    "m = p.search('paris in the the spring')\n",
    "print(m.group())\n",
    "print(m.group(\"word\"))"
   ]
  },
  {
   "cell_type": "code",
   "execution_count": null,
   "metadata": {},
   "outputs": [],
   "source": []
  }
 ],
 "metadata": {
  "kernelspec": {
   "display_name": "Python 3",
   "language": "python",
   "name": "python3"
  },
  "language_info": {
   "codemirror_mode": {
    "name": "ipython",
    "version": 3
   },
   "file_extension": ".py",
   "mimetype": "text/x-python",
   "name": "python",
   "nbconvert_exporter": "python",
   "pygments_lexer": "ipython3",
   "version": "3.8.5"
  }
 },
 "nbformat": 4,
 "nbformat_minor": 4
}
