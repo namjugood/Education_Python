{
 "cells": [
  {
   "cell_type": "markdown",
   "metadata": {},
   "source": [
    "### 파이썬에서 정규표현식을 지원하는 모듈 : re\n",
    "* re(Regular Expression)\n",
    "* 모듈내에서 활용가능한 함수\n",
    "    * compile() : 괄호안의 정규표현식을 해석하고 적용할 준비를 합니다\n",
    "    * match() : 문자열의 처음부터 정규식과 매칭되는지 조사합니다\n",
    "    * search() : 문자열 전체를 검색하여 정규식과 매칭되는지 조사합니다\n",
    "    * findall() : 정규식과 매칭되는 모든 문자열을 리스트 형태로 리턴합니다\n",
    "* match와 search는 매칭되는 문자열이 있을 때 해당정보를 담은\n",
    "* match객체를 리턴하고, 없을때는 None을 리턴합니다"
   ]
  },
  {
   "cell_type": "code",
   "execution_count": 1,
   "metadata": {},
   "outputs": [
    {
     "name": "stdout",
     "output_type": "stream",
     "text": [
      "<re.Match object; span=(0, 6), match='python'>\n"
     ]
    }
   ],
   "source": [
    "# 정규표현식의 활용\n",
    "# 정규식 : [a-z]:소문자, +1회 이상 반복 => 소문자로만 이루어진 문자열\n",
    "import re\n",
    "p = re.compile('[a-z]+')\n",
    "m = p.match(\"python\")\n",
    "print(m)\n",
    "# 0번째 글자부터 5번째 글자까지 소문자만 반복된 python 매칭"
   ]
  },
  {
   "cell_type": "code",
   "execution_count": 2,
   "metadata": {},
   "outputs": [
    {
     "name": "stdout",
     "output_type": "stream",
     "text": [
      "None\n",
      "<re.Match object; span=(2, 8), match='python'>\n"
     ]
    }
   ],
   "source": [
    "# match와 search의 차이점\n",
    "m = p.match(\"3 pthyon\")\n",
    "print(m)\n",
    "# match는 맨 첫부분 부터 매칭검사하므로 첫 글자가 3이 등장하는 문자열은\n",
    "# 매칭이 안됨\n",
    "m = p.search(\"3 python\")\n",
    "print(m)\n",
    "# search는 문자열 내 모든 위치 검색"
   ]
  },
  {
   "cell_type": "code",
   "execution_count": 3,
   "metadata": {},
   "outputs": [
    {
     "name": "stdout",
     "output_type": "stream",
     "text": [
      "match result :  <re.Match object; span=(0, 6), match='python'>\n",
      "match result(group) :  python\n",
      "search result :  <re.Match object; span=(4, 10), match='python'>\n",
      "search result :  python\n"
     ]
    }
   ],
   "source": [
    "# 매칭된 결과 문자열은 group함수로 얻어올 수 있다\n",
    "m = p.match(\"python java\")\n",
    "if m:\n",
    "    print(\"match result : \", m)\n",
    "    print(\"match result(group) : \", m.group())\n",
    "else:\n",
    "    print(\"No match\")\n",
    "\n",
    "m = p.search(\"123 python java\")\n",
    "if m:\n",
    "    print(\"search result : \", m)\n",
    "    print(\"search result : \", m.group())\n",
    "else:\n",
    "    print(\"No match\")"
   ]
  },
  {
   "cell_type": "code",
   "execution_count": 4,
   "metadata": {},
   "outputs": [
    {
     "name": "stdout",
     "output_type": "stream",
     "text": [
      "['life', 'is', 'too', 'short']\n"
     ]
    }
   ],
   "source": [
    "# findall() : search()함수처럼 모든 매칭 단어를 찾고 이를 리스트형태로 리턴\n",
    "# search와 match의 결과형식 : Object\n",
    "# findall의 결과 형식 : list\n",
    "result = p.findall(\"life is too short\")\n",
    "print(result)"
   ]
  },
  {
   "cell_type": "code",
   "execution_count": 7,
   "metadata": {},
   "outputs": [
    {
     "name": "stdout",
     "output_type": "stream",
     "text": [
      "<callable_iterator object at 0x000002150D6A2C40>\n",
      "<re.Match object; span=(0, 4), match='life'>  -  life\n",
      "<re.Match object; span=(5, 7), match='is'>  -  is\n",
      "<re.Match object; span=(8, 11), match='too'>  -  too\n",
      "<re.Match object; span=(12, 17), match='short'>  -  short\n"
     ]
    }
   ],
   "source": [
    "# findall()의 결과문 문자열의 리스트, \n",
    "# finditer()의 결과는 매칭된 객체의 리스트로 리턴됩니다\n",
    "result =p.finditer(\"life is too short\")\n",
    "print(result)\n",
    "# result : 매칭된 객체 리스트 : iterator와 같은 순환방문에 의해 조회 가능한 객체리스트\n",
    "for r in result:\n",
    "    print(r,\" - \", r.group())"
   ]
  },
  {
   "cell_type": "markdown",
   "metadata": {},
   "source": [
    "### 객체에 사용가능한 함수들\n",
    "* group() : 매칭된 문자열을 리턴\n",
    "* start() : 매칭된 문자열의 시작 위치 리턴\n",
    "* end() : 매칭된 문자열의 끝 위치 리턴\n",
    "* span() : 매칭된 문자열의(시작, 끝) 형태의 튜플을 리턴"
   ]
  },
  {
   "cell_type": "code",
   "execution_count": 8,
   "metadata": {},
   "outputs": [
    {
     "name": "stdout",
     "output_type": "stream",
     "text": [
      "python\n",
      "0\n",
      "6\n",
      "(0, 6)\n"
     ]
    }
   ],
   "source": [
    "m = p.match(\"python\")\n",
    "print(m.group())\n",
    "print(m.start())\n",
    "print(m.end())\n",
    "print(m.span())"
   ]
  },
  {
   "cell_type": "markdown",
   "metadata": {},
   "source": [
    "### 컴파일과 매치, 서치 등을 한 번에 간략하게 사용하는 방법"
   ]
  },
  {
   "cell_type": "code",
   "execution_count": 9,
   "metadata": {},
   "outputs": [
    {
     "name": "stdout",
     "output_type": "stream",
     "text": [
      "python\n",
      "python\n"
     ]
    }
   ],
   "source": [
    "# 기존방법\n",
    "p = re.compile('[a-z]+')\n",
    "m = p.match('python')\n",
    "print(m.group())\n",
    "# 한 번에 사용\n",
    "m = re.match('[a-z]+', 'python') # 한 라인에서 간략히 사용\n",
    "print(m.group())"
   ]
  },
  {
   "cell_type": "markdown",
   "metadata": {},
   "source": [
    "### 컴파일 옵션\n",
    "* DOTALL(S) : 줄바꿈문자를 포함하여 모든 문자와 매치할 수 있도록 하는 옵션\n",
    "* IGNORECASE(I) : 대소문자에 관계없이 매치할 수 있도록 하는 옵션\n",
    "* MULTILINE(M) : 여러줄과 매치할 수 있도록(^,$와 같은 것과 관계있음)하는 옵션\n",
    "* VERBOSE(X) : verbose모드(주석문 또는 설명구문)를 사용할 수 있게하는 옵션\n",
    "* 복잡한 정규식을 주석 등과 함께 편하게 보기 위한 옵션\n",
    "* 위 옵션들은 각각의 약어 ()안에 있는 글자로 표현하기도 한다."
   ]
  },
  {
   "cell_type": "code",
   "execution_count": 12,
   "metadata": {},
   "outputs": [
    {
     "name": "stdout",
     "output_type": "stream",
     "text": [
      "None\n"
     ]
    }
   ],
   "source": [
    "# DOTALL 옵션을 사용하지 않음\n",
    "p = re.compile('a.b')\n",
    "m = p.match('a\\nb')\n",
    "print(m)"
   ]
  },
  {
   "cell_type": "code",
   "execution_count": 13,
   "metadata": {},
   "outputs": [
    {
     "name": "stdout",
     "output_type": "stream",
     "text": [
      "a\n",
      "b\n",
      "<re.Match object; span=(0, 3), match='a\\nb'>\n"
     ]
    }
   ],
   "source": [
    "# DOTALL 옵션을 사용\n",
    "# \\n을 포함한 모든글자(글자 1개)가 a와 b사이에 있으면 매칭 대상\n",
    "p = re.compile('a.b', re.DOTALL)  # p = re.compile('a.b', re.S)\n",
    "m = p.match('a\\nb')\n",
    "print(m.group())\n",
    "print(m)"
   ]
  },
  {
   "cell_type": "code",
   "execution_count": 15,
   "metadata": {},
   "outputs": [
    {
     "name": "stdout",
     "output_type": "stream",
     "text": [
      "<re.Match object; span=(0, 6), match='python'>\n",
      "<re.Match object; span=(0, 6), match='Python'>\n",
      "<re.Match object; span=(0, 6), match='PYTHON'>\n"
     ]
    }
   ],
   "source": [
    "# IGNORECSE 옵션 사용\n",
    "# 문자(소문자)가 1회 이상 반복되는 구분 매칭\n",
    "p = re.compile('[a-z]+', re.I)\n",
    "print(p.match('python'))\n",
    "print(p.match('Python'))\n",
    "print(p.match('PYTHON'))"
   ]
  },
  {
   "cell_type": "markdown",
   "metadata": {},
   "source": [
    "### MULTILINE\n",
    "* 메타문자 ^(시작), \\$(끝)과 관련한 옵션\n",
    "* 정규표현식이^python이라면 문자열의 시작이 반드시 python으로 시작\n",
    "* 정규표현식이 python$ 이라면 문자열의 끝이 반드시 python으로 끝나는 매칭\n",
    "* 멀티라인 옵션이 없으면 멀티라인 중 첫 줄에서만 매칭을 검색합니다\n",
    "* 여러줄(모든 라인)에서 매칭을 실행하려면 re.M옵션을 반드시 추가해줍니다"
   ]
  },
  {
   "cell_type": "code",
   "execution_count": 18,
   "metadata": {},
   "outputs": [
    {
     "name": "stdout",
     "output_type": "stream",
     "text": [
      "['python one']\n"
     ]
    }
   ],
   "source": [
    "# 멀티라인 옵션이 없는 예\n",
    "# python으로 시작, 빈칸 하나, 글자들의 반복(하나이상 반복)\n",
    "p = re.compile(\"^python\\s\\w+\")\n",
    "data = \"\"\"python one\n",
    "life is too short\n",
    "python two\n",
    "you need python\n",
    "python three\"\"\"\n",
    "print(p.findall(data))"
   ]
  },
  {
   "cell_type": "code",
   "execution_count": 19,
   "metadata": {},
   "outputs": [
    {
     "name": "stdout",
     "output_type": "stream",
     "text": [
      "['python one', 'python two', 'python three']\n"
     ]
    }
   ],
   "source": [
    "# 멀티라인 옵션을 사용한 예\n",
    "p = re.compile(\"^python\\s\\w+\", re.M)\n",
    "data = \"\"\"python one\n",
    "life is too short\n",
    "python two\n",
    "you need python\n",
    "python three\"\"\"\n",
    "print(p.findall(data))"
   ]
  },
  {
   "cell_type": "markdown",
   "metadata": {},
   "source": [
    "### VERBOSE 옵션\n",
    "* 앞에서 공부한 정규표현식은 각각 대략 간단한 내용이지만 전문가들이 만든 정규식은 거의 암호수준입니다.\n",
    "* 이것을 이해하려면 모두 뜯어봐야 하지만, 이를 조금이라도 이해하기 쉽게 하기 위해 라인단위로 그리고\n",
    "주석을 붙여 사용하기도 합니다"
   ]
  },
  {
   "cell_type": "code",
   "execution_count": 36,
   "metadata": {},
   "outputs": [],
   "source": [
    "# *원래의 정규표현식\n",
    "charref = re.compile('(0(0-7)+|[0-9]+|x[0-9a-fA-F]+)')\n",
    "# *VERBOSE 옵션을 사용한 예\n",
    "charref = re.compile(r\"\"\"\n",
    "    (0[0-7]+)           #8진수 형식\n",
    "    |([0-9]+)          #10진수 형식\n",
    "    |(x[0-9a-fA-F]+)   #16진수 형식\n",
    "\"\"\", re.X)"
   ]
  },
  {
   "cell_type": "code",
   "execution_count": 42,
   "metadata": {},
   "outputs": [
    {
     "name": "stdout",
     "output_type": "stream",
     "text": [
      "[('052', ''), ('10', ''), ('xABC', '')]\n"
     ]
    }
   ],
   "source": [
    "charref = re.compile('(0(0-7)+|[0-9]+|x[0-9a-fA-F]+)')\n",
    "print(charref.findall(\"052 - 10 - xABC\"))"
   ]
  },
  {
   "cell_type": "code",
   "execution_count": 43,
   "metadata": {},
   "outputs": [
    {
     "name": "stdout",
     "output_type": "stream",
     "text": [
      "[('052', ''), ('10', ''), ('xABC', '')]\n"
     ]
    }
   ],
   "source": [
    "print(charref.findall(\"052 - 10 -  xABC\"))"
   ]
  },
  {
   "cell_type": "markdown",
   "metadata": {},
   "source": [
    "### 백슬래시 문제\n",
    "* 파이썬문법과 같이 쓸 때 '\\\\'는 여러가지 혼란을 가져옵니다\n",
    "* '\\\\'와 함께 사용하는 이스케이프 문자들과 다른 단어의 일부가 혼동되어 인식될 수 있기 때문입니다.\n",
    "* 예를 들어 '\\section'이라는 문자열을 찾기 위해 정규식을 만들면 '\\section'이라고 쓰게 되는데 위의 표현은 자칫'[\\t\\n\\r\\f\\v]ection'과 같은 의미가 될 수도 있습니다.\n",
    "* 왜냐하면 '....\\s'가 whitespace의 의미이기 때문에 그와 의미가 같은'[\\t\\n\\r\\f\\v]가 '\\s'를 대신한 것과 같기 때문입니다.\n",
    "* 이를 의도한 대로 쓰고싶다면 '\\\\section'이라고 써야하는데 파이썬에서 이를 정규식으로 쓰게 되면 p=re.compile('\\\\\\\\section')이라고 쓰게 됩니다\n",
    "* 이는 정규식 문자(\\s)와는 별개의 문제로 \\n,\\t,\\같은 문제와도 부딪히게 됩니다\n",
    "* 결국 파이썬 정규식에서 사용하려면 p = re,compile('\\\\\\\\\\\\\\\\section') 이라고 써야하는 수고스러움이 생깁니다\n",
    "* 이런 복잡함을 해결하기 위해 현재 구문은 Raw String이라는 뜻의 (r)을 붙여 사용하게 되었습니다\n",
    "\n",
    "p = re.compile(r'\\\\\\\\section')"
   ]
  },
  {
   "cell_type": "code",
   "execution_count": null,
   "metadata": {},
   "outputs": [],
   "source": []
  }
 ],
 "metadata": {
  "kernelspec": {
   "display_name": "Python 3",
   "language": "python",
   "name": "python3"
  },
  "language_info": {
   "codemirror_mode": {
    "name": "ipython",
    "version": 3
   },
   "file_extension": ".py",
   "mimetype": "text/x-python",
   "name": "python",
   "nbconvert_exporter": "python",
   "pygments_lexer": "ipython3",
   "version": "3.8.5"
  }
 },
 "nbformat": 4,
 "nbformat_minor": 4
}
