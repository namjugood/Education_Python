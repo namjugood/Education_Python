{
 "cells": [
  {
   "cell_type": "markdown",
   "metadata": {},
   "source": [
    "### 정규표현식을 지원하는 re모듈에 글자를 대체 치환하는 함수를 사용하여 일부 글자를 바꿀 수 있습니다\n",
    "* sub함수를 위하여 바꾸려는 문자열들을 compile에 정규식으로 넣어 저장합니다\n",
    "* sub(바꾸려는 문자열, 대상 문자열) : 대상 문자열에 정규식을 매칭하여 매칭되는 문자열을 바꾸려는 문자열로 교체합니다\n",
    "* 문자 함수중 replace가 1:1 치환방식이라면 sub는 정규표현식으로 매칭된 특정 다수의 스트링과의 치환하는 방식입니다"
   ]
  },
  {
   "cell_type": "code",
   "execution_count": 5,
   "metadata": {},
   "outputs": [
    {
     "name": "stdout",
     "output_type": "stream",
     "text": [
      "color socks and color socks\n"
     ]
    }
   ],
   "source": [
    "import re\n",
    "# 문장 내 blue or white or red 셋 중의 하나의 매칭 검색\n",
    "p = re.compile('blue|white|red')\n",
    "# 매칭결과에 color라는 String으로 대체\n",
    "print(p.sub('color','blue socks and red socks'))"
   ]
  },
  {
   "cell_type": "code",
   "execution_count": 4,
   "metadata": {},
   "outputs": [
    {
     "name": "stdout",
     "output_type": "stream",
     "text": [
      "color socks and red socks\n"
     ]
    }
   ],
   "source": [
    "# 대상 문자열에서 매치 대상을 모두 치환하지 않고,\n",
    "# 지정한 횟수로만 치환가능합니다.\n",
    "print(p.sub('color', 'blue socks and red socks', count=1))"
   ]
  },
  {
   "cell_type": "code",
   "execution_count": 7,
   "metadata": {},
   "outputs": [
    {
     "name": "stdout",
     "output_type": "stream",
     "text": [
      "('color socks and color socks and color socks', 3)\n",
      "변경결과 :  color socks and color socks and color socks\n",
      "변경횟수 :  3\n"
     ]
    }
   ],
   "source": [
    "# sub 함수와 유사한 subn함수\n",
    "# 동일한 기능이지만 리턴되는 결과를 튜플로 리턴\n",
    "# 리턴된 첫 번째 요소는 변경된 문자열, 두 번째 요소는 바꾸기 실행 횟수\n",
    "print(p.subn('color', 'blue socks and red socks and white socks'))\n",
    "\n",
    "a, b = p.subn('color', 'blue socks and red socks and white socks')\n",
    "print(\"변경결과 : \", a)\n",
    "print(\"변경횟수 : \", b)"
   ]
  },
  {
   "cell_type": "code",
   "execution_count": 11,
   "metadata": {},
   "outputs": [
    {
     "name": "stdout",
     "output_type": "stream",
     "text": [
      "010-1234-5678 park\n",
      "010-1234-5678 park\n",
      "010-1234-5678 park park 010-1234-5678\n"
     ]
    }
   ],
   "source": [
    "# sub 함수 사용 시 그룹 네임 사용하여 위치 조정\n",
    "p = re.compile(r\"(?P<name>\\w+)\\s+(?P<phone>(\\d+)[-]\\d+[-]\\d+)\")\n",
    "print(p.sub(\"\\g<phone> \\g<name>\", \"park 010-1234-5678\"))\n",
    "# 그룹의 인덱스로 조정가능\n",
    "p = re.compile(r\"(?P<name>\\w+)\\s+(?P<phone>(\\d+)[-]\\d+[-]\\d+)\")\n",
    "print(p.sub(\"\\g<2> \\g<1>\", \"park 010-1234-5678\"))\n",
    "print(p.sub(\"\\g<2> \\g<1> \\g<0>\", \"park 010-1234-5678\"))\n",
    "# 인덱스 1 : 첫 번째 그룹의 인덱스 번호(name)\n",
    "# 인덱스 2 : 첫 번째 그룹의 인덱스 번호(phone)\n",
    "# 인덱스 0 : 매칭된 텍스트 전체(name과 phone이 포함된 매칭결과 전체)"
   ]
  },
  {
   "cell_type": "code",
   "execution_count": 12,
   "metadata": {},
   "outputs": [
    {
     "name": "stdout",
     "output_type": "stream",
     "text": [
      "원본Text : Call 65985 for printing, 415685 for user code\n",
      "다음 십진수를  16진수로 변형하여 리턴합니다 :  65985\n",
      "다음 십진수를  16진수로 변형하여 리턴합니다 :  415685\n",
      "Call 0x101c1 for printing, 0x657c5 for user code\n"
     ]
    }
   ],
   "source": [
    "# sub 함수의 입력 인수로 함수이름을 넣고 이를 활용할 수 있습니다\n",
    "# sub 함수에 첫 번째 인수로 함수를 넣음으로써, 정규식으로 매칭된 객체들을\n",
    "# 첫 번째 인수로 입력한 함수의 인수로 전달합니다\n",
    "# 리턴 값으로 되돌아 온 값이 매칭된 문자열과 치환되어 최종 결과를 완성합니다\n",
    "\n",
    "# 매칭된 객체가 m -> 65985, 415685 -> 함수에서 변환되어 결과가 나타남\n",
    "def hexrep(m):\n",
    "    print(\"다음 십진수를  16진수로 변형하여 리턴합니다 : \", m.group() )\n",
    "    value = int( m.group() )  # 텍스트 -> 정수변환\n",
    "    return hex(value) # 정수(10진수) -> 16진수로 변환 & return\n",
    "\n",
    "print(\"원본Text : Call 65985 for printing, 415685 for user code\")\n",
    "p = re.compile(r'\\d+')\n",
    "print(p.sub(hexrep, 'Call 65985 for printing, 415685 for user code'))\n",
    "# 매칭된 객체를 전달인수로, 리턴된 결과를 치환값으로 사용합니다"
   ]
  },
  {
   "cell_type": "code",
   "execution_count": 13,
   "metadata": {},
   "outputs": [],
   "source": [
    "a=\"\"\"\n",
    "park 010-1234-5678\n",
    "kim 010-8888-9999\n",
    "lee 010-1111-2222\n",
    "\"\"\""
   ]
  },
  {
   "cell_type": "markdown",
   "metadata": {},
   "source": [
    "* 위 문자열을 정규표현식을 사용하여 park 010-1234-****\n",
    "* kim 010-8888-****\n",
    "* lee 010-1111-****\n",
    "* 위와 같이 출력하세요"
   ]
  },
  {
   "cell_type": "code",
   "execution_count": 27,
   "metadata": {},
   "outputs": [
    {
     "name": "stdout",
     "output_type": "stream",
     "text": [
      "\n",
      "park 010-1234-5678\n",
      "kim 010-8888-9999\n",
      "lee 010-1111-2222\n",
      "\n",
      "\n",
      "park 010-1234-****\n",
      "kim 010-8888-****\n",
      "lee 010-1111-****\n",
      "\n"
     ]
    }
   ],
   "source": [
    "# p=re.compile(r'\\w+\\s\\d[-]\\d[-]\\d')\n",
    "# print(p.sub('-****', a))\n",
    "\n",
    "p=re.compile('[-]\\d{4}\\n') # - 숫자4개 - 줄바꿈\n",
    "# sub함수에 multiline 옵션은 생략가능합니다\n",
    "print(p.sub('-****\\n', a))"
   ]
  },
  {
   "cell_type": "code",
   "execution_count": null,
   "metadata": {},
   "outputs": [],
   "source": []
  }
 ],
 "metadata": {
  "kernelspec": {
   "display_name": "Python 3",
   "language": "python",
   "name": "python3"
  },
  "language_info": {
   "codemirror_mode": {
    "name": "ipython",
    "version": 3
   },
   "file_extension": ".py",
   "mimetype": "text/x-python",
   "name": "python",
   "nbconvert_exporter": "python",
   "pygments_lexer": "ipython3",
   "version": "3.8.5"
  }
 },
 "nbformat": 4,
 "nbformat_minor": 4
}
