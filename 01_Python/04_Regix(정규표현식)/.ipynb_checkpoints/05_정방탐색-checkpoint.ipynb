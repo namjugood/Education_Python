{
 "cells": [
  {
   "cell_type": "markdown",
   "metadata": {},
   "source": [
    "### 정방탐색\n",
    "* 정규표현식으로 구분해내고 매칭한 결과 내용중, 정규표현식에 사용되었던 글자를 제외한 나머지를 결과로 얻고자 할때\n",
    "* 예를 들어 http://www.naver.com 에서 '글자들이 반복되고 : 으로 끝남'이라는 정규식이 있다면 결과는 http:가 되겠지만\n",
    "* 원하는 결과가 ':'를 제외한 'http'만을 목적할 때 사용하는 방식입니다"
   ]
  },
  {
   "cell_type": "code",
   "execution_count": 2,
   "metadata": {},
   "outputs": [
    {
     "name": "stdout",
     "output_type": "stream",
     "text": [
      "http:\n"
     ]
    }
   ],
   "source": [
    "# 정방탐색을 사용하지 않은 예\n",
    "import re\n",
    "p = re.compile(\".+:\")  # \\n이 아닌 모든 글자가 1회 이상 반복되다가 ':'로 끝나는 문자열 매칭\n",
    "m = p.search(\"http://www.naver.com\")\n",
    "print(m.group())"
   ]
  },
  {
   "cell_type": "code",
   "execution_count": 3,
   "metadata": {},
   "outputs": [
    {
     "name": "stdout",
     "output_type": "stream",
     "text": [
      "http\n"
     ]
    }
   ],
   "source": [
    "# 정방탐색을 사용한 예\n",
    "# 정규식 : (?=정규식 또는 글자)\n",
    "# 조건에 매칭이 된 후, 해당(?=뒤로 이어진) 정규식에 있는 글자는\n",
    "# 소모하지 않는다(취하지 않는다)\n",
    "p = re.compile(\".+(?=:)\")\n",
    "m = p.search(\"http://www.naver.com\")\n",
    "print(m.group())"
   ]
  },
  {
   "cell_type": "markdown",
   "metadata": {},
   "source": [
    "### 긍정형 전방위 탐색\n",
    "* (?=정규식 또는 글자) -> 정규식 또는 글자와 매칭되는 패턴 검색\n",
    "\n",
    "### 부정형 전방위 탐색\n",
    "* (?!정규식 또는 글자) -> 정규식 또는 글자를 제외한 매칭 검색\n",
    "\n",
    "### 긍정형, 부정형 모두 검색 결과에서 검색된 내용을 취하지 않습니다\n",
    "* 위 예제는 마지막 글자가 ':'인 결과를 검색하되 ':'는 검색결과로 취하지 않은 결과입니다\n",
    "\n",
    "### 전방위 탐색\n",
    "* 앞에서 정방탐색이라는 방법으로 매칭할 때, 버릴 문자와 취할 문자들을 앞 또는 뒤에서 검색하는 것을 말합니다. 전방위탐색은 검색하고 버릴 문자를 앞쪽에서 검색합니다.\n",
    "* ?<=정규식\n",
    "\n",
    "### 후방위 탐색\n",
    "* 검색 후 버릴 문자를 뒤에서 검색합니다\n",
    "* ?=정규식 : 기존 방식과 동일"
   ]
  },
  {
   "cell_type": "code",
   "execution_count": 8,
   "metadata": {},
   "outputs": [
    {
     "name": "stdout",
     "output_type": "stream",
     "text": [
      "['웹사이트에서 내용을 발췌합니다']\n",
      "['안녕하세요 반갑습니다']\n"
     ]
    }
   ],
   "source": [
    "html = \"\"\"<html>\n",
    "<head>\n",
    "<title>안녕하세요 반갑습니다</title>\n",
    "</head>\n",
    "<body>\n",
    "<div>웹사이트에서 내용을 발췌합니다</div>\n",
    "</body>\n",
    "</html>\n",
    "\"\"\"\n",
    "import re\n",
    "p = re.compile('(?<=<div>).*(?=</div>)', re.M)\n",
    "m = p.findall(html)\n",
    "print(m)\n",
    "\n",
    "# 전방위 탐색을 표시하기 위해 <를 하나 넣어준다\n",
    "p = re.compile('(?<=<title>).*(?=</title>)', re.M)  #title 태그안의 텍스트 추출\n",
    "m = p.findall(html)\n",
    "print(m)"
   ]
  },
  {
   "cell_type": "markdown",
   "metadata": {},
   "source": [
    "### 종합 : 여러가지 정규식 표현의 예"
   ]
  },
  {
   "cell_type": "code",
   "execution_count": 5,
   "metadata": {},
   "outputs": [
    {
     "name": "stdout",
     "output_type": "stream",
     "text": [
      "abc.txt\n",
      "autoexe.bat\n",
      "bigdata.ai\n",
      "korea.bar\n",
      "None\n"
     ]
    }
   ],
   "source": [
    "# 파일의 이름, 확장자를 나타내는 정규식\n",
    "# 글자반복 + '.' + 글자반복으로 종료\n",
    "p = re.compile('.*[.].*$')\n",
    "print(p.search('abc.txt').group())\n",
    "print(p.search('autoexe.bat').group())\n",
    "print(p.search('bigdata.ai').group())\n",
    "print(p.search('korea.bar').group())\n",
    "print(p.search('abcdefg'))"
   ]
  },
  {
   "cell_type": "code",
   "execution_count": 15,
   "metadata": {},
   "outputs": [
    {
     "name": "stdout",
     "output_type": "stream",
     "text": [
      "<re.Match object; span=(0, 7), match='abc.txt'>\n",
      "None\n",
      "<re.Match object; span=(0, 10), match='bigdata.ai'>\n",
      "None\n",
      "None\n"
     ]
    }
   ],
   "source": [
    "# 파일의 확장자 중 'b'로 시작하지 않은 파일을 매칭하세요\n",
    "p = re.compile('.*[.][^b].*$')\n",
    "print(p.search('abc.txt'))\n",
    "print(p.search('autoexe.bat'))\n",
    "print(p.search('bigdata.ai'))\n",
    "print(p.search('korea.bar'))\n",
    "print(p.search('abcdefg'))"
   ]
  },
  {
   "cell_type": "code",
   "execution_count": 18,
   "metadata": {},
   "outputs": [
    {
     "name": "stdout",
     "output_type": "stream",
     "text": [
      "<re.Match object; span=(0, 7), match='abc.txt'>\n",
      "None\n",
      "<re.Match object; span=(0, 10), match='bigdata.ai'>\n",
      "None\n",
      "None\n"
     ]
    }
   ],
   "source": [
    "# 파일이름 형식이면서,\n",
    "# b로 시작하지 않거나,\n",
    "# a로 시작하는 문자열 매칭 \n",
    "# 메타캐릭터 '^' : [ ]안에서 해당 내용을 제외한 패턴으로 사용됩니다.\n",
    "# ^가 []안에 있으면 '~가 아니다', 밖에 있으면 '~부터 시작하는'\n",
    "p = re.compile('.*[.]([^b]|[a]).*$')\n",
    "print(p.search('abc.txt'))\n",
    "print(p.search('autoexe.bat'))\n",
    "print(p.search('bigdata.ai'))\n",
    "print(p.search('korea.bar'))\n",
    "print(p.search('abcdefg'))"
   ]
  },
  {
   "cell_type": "code",
   "execution_count": 19,
   "metadata": {},
   "outputs": [
    {
     "name": "stdout",
     "output_type": "stream",
     "text": [
      "<re.Match object; span=(0, 7), match='abc.txt'>\n",
      "None\n",
      "<re.Match object; span=(0, 10), match='bigdata.ai'>\n",
      "<re.Match object; span=(0, 9), match='korea.bar'>\n",
      "None\n"
     ]
    }
   ],
   "source": [
    "p = re.compile('.*[.](?!bat$|exe$).*$')\n",
    "# '.' 뒤로 문자반복으로 끝나지만 bat 또는 exe로 끝나지 않는 부정형 정방 탐색\n",
    "print(p.search('abc.txt'))\n",
    "print(p.search('autoexe.bat'))\n",
    "print(p.search('bigdata.ai'))\n",
    "print(p.search('korea.bar'))\n",
    "print(p.search('abcdefg'))"
   ]
  },
  {
   "cell_type": "code",
   "execution_count": 20,
   "metadata": {},
   "outputs": [
    {
     "name": "stdout",
     "output_type": "stream",
     "text": [
      "<re.Match object; span=(0, 7), match='abc.txt'>\n",
      "None\n",
      "<re.Match object; span=(0, 10), match='bigdata.ai'>\n",
      "<re.Match object; span=(0, 9), match='korea.bar'>\n",
      "None\n"
     ]
    }
   ],
   "source": [
    "p = re.compile('.*[.]([^b].?.?|.[^a]?.?|..?[^t])$')\n",
    "# [^b].?.?:b로 시작하지 않는 1~3글자\n",
    "# ? : 없거나 1번 반복\n",
    "# .[^a]?.? : 두 번째 글자가 a가 아닌 1~3글자\n",
    "# ..?[^t] : 마지막이 t로 끝나지 않는 1~3글자\n",
    "print(p.search('abc.txt'))  # b로 시작하지 않은 세글자\n",
    "print(p.search('autoexe.bat'))  # b로 시작, 두번째 글자 a, 마지막 t\n",
    "print(p.search('bigdata.ai'))   # b로 시작하지 않는 두 글자\n",
    "print(p.search('korea.bar'))    # b로 시작, 두 번째 글자 a지만 마지막 글자 t가 아님\n",
    "print(p.search('abcdefg'))    # 파일형식이 아님 abc.abc"
   ]
  },
  {
   "cell_type": "code",
   "execution_count": 21,
   "metadata": {},
   "outputs": [
    {
     "name": "stdout",
     "output_type": "stream",
     "text": [
      "<re.Match object; span=(0, 14), match='park@naver.com'>\n",
      "<re.Match object; span=(0, 12), match='kim@daum.net'>\n",
      "<re.Match object; span=(0, 16), match='lee@myhome.co.kr'>\n",
      "None\n"
     ]
    }
   ],
   "source": [
    "# 이메일 주소만 검색\n",
    "p = re.compile('.*[@].*[.]*$')\n",
    "# p = re.compile('.*[@].*[.].*')\n",
    "print(p.match('park@naver.com'))\n",
    "print(p.match('kim@daum.net'))\n",
    "print(p.match('lee@myhome.co.kr'))\n",
    "print(p.match('http://abcdefg.co.kr'))"
   ]
  },
  {
   "cell_type": "code",
   "execution_count": 23,
   "metadata": {},
   "outputs": [
    {
     "name": "stdout",
     "output_type": "stream",
     "text": [
      "<re.Match object; span=(0, 14), match='park@naver.com'>\n",
      "<re.Match object; span=(0, 12), match='kim@daum.net'>\n",
      "None\n",
      "None\n"
     ]
    }
   ],
   "source": [
    "# 이메일 주소만 검색(.com과 .net만 검색)\n",
    "p = re.compile('.*[@].*[.](com$|net$)')\n",
    "print(p.match('park@naver.com'))\n",
    "print(p.match('kim@daum.net'))\n",
    "print(p.match('lee@myhome.co.kr'))\n",
    "print(p.match('http://abcdefg.co.kr'))"
   ]
  },
  {
   "cell_type": "code",
   "execution_count": 43,
   "metadata": {},
   "outputs": [
    {
     "name": "stdout",
     "output_type": "stream",
     "text": [
      "['121.66.42.15', '2.168.0.2']\n"
     ]
    }
   ],
   "source": [
    "# 아래 텍스트에서 아이피 주소만 정규식으로 매칭하여 출력하세요\n",
    "text = \"\"\"현재 접속중인 외부 아이피는 121.66.42.15 이며,\n",
    "내부아이피는 192.168.0.2 입니다\"\"\"\n",
    "# p = re.compile('..\\d[.].*\\d[.].*\\d[.].*\\d')\n",
    "# p = re.compile('\\d{3}[.].*\\d[.].*\\d[.].*\\d')\n",
    "# p = re.compile('\\d?\\d?\\d?[.]')\n",
    "# p = re.compile('[12]?[0-9]?[0-9][.]\\d{1,3}[.]\\d{1,3}[.]\\d{1,3}', re.M) # ip 앞자리 최대값 255를 거르는 방법\n",
    "p = re.compile('\\d{1,3}[.]\\d{1,3}[.]\\d{1,3}[.]\\d{1,3}', re.M)\n",
    "m = p.findall(text)\n",
    "print(m)"
   ]
  },
  {
   "cell_type": "code",
   "execution_count": 42,
   "metadata": {},
   "outputs": [
    {
     "name": "stdout",
     "output_type": "stream",
     "text": [
      "['http://www.naver.com', 'https://www.daum.net']\n"
     ]
    }
   ],
   "source": [
    "# 아래 텍스트에서 웹사이트 url만 매칭하여 출력하시오\n",
    "text = \"\"\"http://www.naver.com\n",
    "https://www.daum.net\n",
    "park@naver.com\n",
    "\"\"\"\n",
    "# p=re.compile('.*[://].*[.].*')\n",
    "p=re.compile('https?:\\/\\/.*[.].*[.].*', re.M)\n",
    "m=p.findall(text)\n",
    "print(m)"
   ]
  },
  {
   "cell_type": "code",
   "execution_count": null,
   "metadata": {},
   "outputs": [],
   "source": []
  }
 ],
 "metadata": {
  "kernelspec": {
   "display_name": "Python 3",
   "language": "python",
   "name": "python3"
  },
  "language_info": {
   "codemirror_mode": {
    "name": "ipython",
    "version": 3
   },
   "file_extension": ".py",
   "mimetype": "text/x-python",
   "name": "python",
   "nbconvert_exporter": "python",
   "pygments_lexer": "ipython3",
   "version": "3.8.5"
  }
 },
 "nbformat": 4,
 "nbformat_minor": 4
}
