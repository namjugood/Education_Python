{
 "cells": [
  {
   "cell_type": "markdown",
   "metadata": {},
   "source": [
    "### 정규표현식은 문자표현공식, 문자 탐색공식이라고 부르는 연산식과 같은 분류언어\n",
    "* 전문가가 사용한 정규표현식은 초보자에게 외계언어와 같은 느낌의 어려운식들이지만 문자 탐색과 스캔에 있어 강력한 기능을 갖고 있어, 여러분야에 많이 사용되고 있습니다\n",
    "* 파이썬에서도 re라는 모듈로 정규표현식의 적용을 지원하고 있습니다"
   ]
  },
  {
   "cell_type": "code",
   "execution_count": 1,
   "metadata": {},
   "outputs": [],
   "source": [
    "# 간단한 사용 예\n",
    "# a로 시작하면서 a만 있거나 a뒤에 b가 하나이상 반복되는 구문검색\n",
    "# 정규표현식을 사용하기위한 모듈 임포트\n",
    "import re"
   ]
  },
  {
   "cell_type": "code",
   "execution_count": 2,
   "metadata": {},
   "outputs": [
    {
     "name": "stdout",
     "output_type": "stream",
     "text": [
      "<re.Match object; span=(3, 5), match='ab'>\n"
     ]
    }
   ],
   "source": [
    "# 정규표현식 : 'ab*' => 'ab'로 시작하는 모든 단어\n",
    "# 위 정규표현식을 파이썬 모듈의 명령 또는 함수로 처리\n",
    "p = re.compile('ab*')\n",
    "m1 = p.search(\"gpyabthon\")\n",
    "print(m1)"
   ]
  },
  {
   "cell_type": "code",
   "execution_count": 3,
   "metadata": {},
   "outputs": [
    {
     "name": "stdout",
     "output_type": "stream",
     "text": [
      "<re.Match object; span=(3, 5), match='ab'>\n"
     ]
    }
   ],
   "source": [
    "# 완성된 정규표현식의 공식을 저장 : 모듈 re에 있는 compile 함수를 이용하여 변수 p에 저장\n",
    "p = re.compile('ab*')\n",
    "# '(문자)' : 문자의 반복검색(0번 이상 반복을 검색)\n",
    "# 'ab*' : a로 시작하면서, 뒤에 b가 연속해서 반복되는 구문 검색\n",
    "    # (b는 0번 반복도 검색 대상)\n",
    "# 검색 대상의 예 : 'a' 'ab' 'abb' 'abbbb' 등\n",
    "\n",
    "# p변수에 있는 공식을 gpyabthon이라는 문자열에 적용하여, 매칭 또는 탐색되는지 아닌지 판단\n",
    "# - 검색 결과 매칭 결과가 있는지에 대한 결과를 얻음\n",
    "m1 = p.search(\"gpyabthon\")\n",
    "# 매칭결과 없으면 None\n",
    "print(m1)"
   ]
  },
  {
   "cell_type": "code",
   "execution_count": 4,
   "metadata": {},
   "outputs": [
    {
     "name": "stdout",
     "output_type": "stream",
     "text": [
      "['a', 'ab', 'abbb']\n"
     ]
    }
   ],
   "source": [
    "# 매칭된 모든 구문 패턴을 리스트로 반환\n",
    "m2 = p.findall(\"apyabthonabbb\")\n",
    "print(m2)"
   ]
  },
  {
   "cell_type": "markdown",
   "metadata": {},
   "source": [
    "문자 탐색\n",
    "* [  ] : 리스트 때 썼던 대괄호로 표현\n",
    "* [  ] : 괄호 안에 검색하고자 하는 글자들을 넣고, 그 포함 유무를 판단\n",
    "* [a,b,c] : a와 b와 c가 대상 문자열 안에 하나라도 포함되었는지 판단\n",
    "    * a : Yes\n",
    "    * before : Yes\n",
    "    * dude : No\n",
    "* abc처럼 [ ]가 없는 경우 'abc'단어를 의미하지만\n",
    "* [abc]는 a또는 b또는 c를 의미합니다"
   ]
  },
  {
   "cell_type": "code",
   "execution_count": 8,
   "metadata": {},
   "outputs": [
    {
     "name": "stdout",
     "output_type": "stream",
     "text": [
      "<re.Match object; span=(0, 1), match='a'>\n",
      "['a']\n",
      "<re.Match object; span=(0, 1), match='b'>\n",
      "['b']\n",
      "None\n",
      "[]\n"
     ]
    }
   ],
   "source": [
    "p = re.compile('[abc]')\n",
    "print(p.search('a'))\n",
    "print(p.findall('a'))\n",
    "print(p.search('before'))\n",
    "print(p.findall('before'))\n",
    "print(p.search('dude'))\n",
    "print(p.findall('dude'))"
   ]
  },
  {
   "cell_type": "code",
   "execution_count": 10,
   "metadata": {},
   "outputs": [
    {
     "name": "stdout",
     "output_type": "stream",
     "text": [
      "<re.Match object; span=(4, 6), match='zc'>\n",
      "['zc']\n"
     ]
    }
   ],
   "source": [
    "p = re.compile('z[abc]') # z가 반드시 있어야 하며, 그 뒤로 abc 중 하나만 포함된 것 찾기\n",
    "print( p.search('qweqzcrew'))\n",
    "print( p.findall('qweqzcrew'))\n",
    "# [abcdefghijklmnopqrstuvwxyz] : 아무글자나 매칭 , 단 소문자만"
   ]
  },
  {
   "cell_type": "markdown",
   "metadata": {},
   "source": [
    "### 자주 사용하는 문자클래스\n",
    "* [0-9] : 숫자와 매치, 0부터 9까지의 아라비아 기호 매칭\n",
    "* [a-z] : 문자 소문자와 매치, 소문자 a부터 z까지의 글자 매칭\n",
    "* [A-Z] : 문자 대문자와 매치, 대문자 A부터 Z까지의 글자 매칭\n",
    "* [a-zA-Z] : 아라비아기호를 제외한 대소문자\n",
    "* \\d : 숫자와 매치[0-9]와 동일한 표현\n",
    "* \\D : 숫자가 아닌것과 매치[^0-9]와 동일 - ^: 다음 내용을 제외한 글자\n",
    "* \\s : whitespace와 매치(공백) [\\t\\n\\r\\f\\v]와 같은표현\n",
    "* \\S : whitespace이 아닌것과 매치 [^\\t\\n\\r\\f\\v]와 같은표현\n",
    "* \\w : 문자와 숫자들과 매치 [0-9a-zA-Z]와 같은 표현\n",
    "* \\W : 문자와 숫자가 아닌것과 매치 [^0-9a-zA-Z]와 같은 표현"
   ]
  },
  {
   "cell_type": "code",
   "execution_count": 11,
   "metadata": {},
   "outputs": [
    {
     "name": "stdout",
     "output_type": "stream",
     "text": [
      "None\n",
      "<re.Match object; span=(5, 6), match='f'>\n"
     ]
    }
   ],
   "source": [
    "p=re.compile('[a-z]') # 소문자 검색\n",
    "print(p.search('ABCDEFG'))\n",
    "print(p.search('ABCDEfG'))"
   ]
  },
  {
   "cell_type": "code",
   "execution_count": 12,
   "metadata": {},
   "outputs": [
    {
     "name": "stdout",
     "output_type": "stream",
     "text": [
      "None\n",
      "<re.Match object; span=(7, 8), match='0'>\n",
      "None\n",
      "<re.Match object; span=(4, 5), match=' '>\n",
      "None\n",
      "<re.Match object; span=(6, 7), match='K'>\n"
     ]
    }
   ],
   "source": [
    "p=re.compile('\\d')  # 숫자 검색\n",
    "print(p.search('ABCDEFG'))\n",
    "print(p.search('ABCDEFG0'))\n",
    "p=re.compile('\\s')  # 공백 검색\n",
    "print(p.search('ABCDEFG'))\n",
    "print(p.search('ABCD EFG'))\n",
    "p=re.compile('\\w')  # 글자(문자와 숫자) 검색\n",
    "print(p.search('@#$%^&*'))\n",
    "print(p.search('@#$%^&K*'))"
   ]
  },
  {
   "cell_type": "code",
   "execution_count": 14,
   "metadata": {},
   "outputs": [
    {
     "name": "stdout",
     "output_type": "stream",
     "text": [
      "정수를 반드시 입력하세요0.5\n",
      "정수가 아닌 값을 잘못 입력하셨습니다\n",
      "정수를 반드시 입력하세요!8\n",
      "정수가 아닌 값을 잘못 입력하셨습니다\n",
      "정수를 반드시 입력하세요123\n",
      "정수로 변환된 값 :  123\n"
     ]
    }
   ],
   "source": [
    "p=re.compile('\\D')\n",
    "value=input(\"정수를 반드시 입력하세요\")\n",
    "m = p.search(value)\n",
    "# search의 결과를 bool로 변환\n",
    "# 매칭결과가 있으면 True, None이면 False로 하여 while문에 활용합니다\n",
    "while bool(m):\n",
    "    print(\"정수가 아닌 값을 잘못 입력하셨습니다\")\n",
    "    value = input(\"정수를 반드시 입력하세요\")\n",
    "    m = p.search(value)\n",
    "    if not bool(m):\n",
    "        break\n",
    "print(\"정수로 변환된 값 : \", int(value))"
   ]
  },
  {
   "cell_type": "markdown",
   "metadata": {},
   "source": [
    "### Dot(.) - 줄바꿈 글자인 '\\n'을 제외한 모든 글자와 매칭\n",
    "* a.b : a와 b사이에 어떤 글자가 들어와도 매칭\n",
    "    * a + \"모든문자\" +  b\n",
    "    * aab : yes\n",
    "    * a0b : yes\n",
    "    * abb : no"
   ]
  },
  {
   "cell_type": "code",
   "execution_count": 16,
   "metadata": {},
   "outputs": [
    {
     "name": "stdout",
     "output_type": "stream",
     "text": [
      "<re.Match object; span=(0, 3), match='aab'>\n",
      "<re.Match object; span=(0, 3), match='a0b'>\n",
      "None\n"
     ]
    }
   ],
   "source": [
    "p = re.compile('a.b')\n",
    "print( p.search('aab'))\n",
    "print( p.search('a0b'))\n",
    "print( p.search('abc'))\n",
    "# 세 번째 문자열은 a 뒤로 b가 나오기 전엔 아무글자도 없기 때문에 None"
   ]
  },
  {
   "cell_type": "markdown",
   "metadata": {},
   "source": [
    "* a.b와 a[.]b의 차이점\n",
    "* [.]는 괄호안에 '\\n'을 제외한 모든 문자를 표시하는게 아니라 괄호안의 '.'을 나타냄\n",
    "* 'a.b'는 매칭되지만 'a0b'는 매칭되지 않음"
   ]
  },
  {
   "cell_type": "code",
   "execution_count": 19,
   "metadata": {},
   "outputs": [
    {
     "name": "stdout",
     "output_type": "stream",
     "text": [
      "<re.Match object; span=(0, 3), match='a.b'>\n",
      "None\n"
     ]
    }
   ],
   "source": [
    "p = re.compile('a[.]b')\n",
    "print( p.search('a.b'))  # a와 b사이의 .을 찾음\n",
    "print( p.search('a0b'))"
   ]
  },
  {
   "cell_type": "markdown",
   "metadata": {},
   "source": [
    "### 반복 * 와 +\n",
    "* '*' 는 앞에있는 글자의 반복횟수를 0회차부터 카운트하여 반복된 문자열 탐색\n",
    "* 정규표현식이 'ca*t'일 경우\n",
    "\n",
    "    * ct : yes\n",
    "    * cat : yes\n",
    "    * caaaat : yes\n",
    "* '+'는 앞에 있는 글자의 반복횟수를 1회차부터 카운트하여 반복된 문자열 탐색\n",
    "* 정규표현식이 'ca+t'일 경우\n",
    "* 앞 글자 중 모두 한 번은 무조건 나와야 함\n",
    "    * ct : no\n",
    "    * cat : yes\n",
    "    * caaaat : yes"
   ]
  },
  {
   "cell_type": "code",
   "execution_count": 20,
   "metadata": {},
   "outputs": [
    {
     "name": "stdout",
     "output_type": "stream",
     "text": [
      "<re.Match object; span=(0, 2), match='ct'>\n",
      "<re.Match object; span=(0, 3), match='cat'>\n",
      "<re.Match object; span=(0, 6), match='caaaat'>\n",
      "None\n",
      "<re.Match object; span=(0, 3), match='cat'>\n",
      "<re.Match object; span=(0, 6), match='caaaat'>\n"
     ]
    }
   ],
   "source": [
    "p = re.compile('ca*t')\n",
    "print( p.search('ct'))\n",
    "print( p.search('cat'))\n",
    "print( p.search('caaaat'))\n",
    "\n",
    "p = re.compile('ca+t')\n",
    "print( p.search('ct'))\n",
    "print( p.search('cat'))\n",
    "print( p.search('caaaat'))"
   ]
  },
  {
   "cell_type": "code",
   "execution_count": 21,
   "metadata": {},
   "outputs": [],
   "source": [
    "# ababababab : (ab)+  (ab)* 여러글자가 반복 시 ()를 사용하면 됨"
   ]
  },
  {
   "cell_type": "markdown",
   "metadata": {},
   "source": [
    "### 반복 {m,n}\n",
    "\n",
    "1. {m} : 앞에 위치한 글자의 m회 반복 매칭\n",
    "    * a{3} : a의 3회 반복\n",
    "    * 정규표현식 : 'ca{2}t'\n",
    "        * cat : no\n",
    "        * caat : yes\n",
    "2. {m,n} : 앞에 위치한 글자의 m회부터 n회 반복매칭\n",
    "    * a{2,5} : a의 2~5회 반복\n",
    "    * 정규표현식 : 'ca{2,4}t'\n",
    "        * cat : no\n",
    "        * caat : yes\n",
    "        * caaat : yes\n",
    "        * caaaaaat : no\n",
    "3. ? : 앞에 위치한 글자의 0회 또는 1회 반복 매칭\n",
    "    * a? : a의 0~1회 반복\n",
    "    * 정규표현식 : 'ca?t'\n",
    "        * ct : yes\n",
    "        * cat : yes\n",
    "        * caaaaaat : no"
   ]
  },
  {
   "cell_type": "code",
   "execution_count": 24,
   "metadata": {},
   "outputs": [
    {
     "name": "stdout",
     "output_type": "stream",
     "text": [
      "None\n",
      "<re.Match object; span=(0, 4), match='caat'>\n",
      "None\n",
      "<re.Match object; span=(0, 4), match='caat'>\n",
      "<re.Match object; span=(0, 4), match='caat'>\n",
      "None\n",
      "<re.Match object; span=(0, 2), match='ct'>\n",
      "<re.Match object; span=(0, 3), match='cat'>\n",
      "None\n"
     ]
    }
   ],
   "source": [
    "p = re.compile('ca{2}t')\n",
    "print( p.search('cat'))\n",
    "print( p.search('caat'))\n",
    "p = re.compile('ca{2,4}t')\n",
    "print( p.search('cat'))\n",
    "print( p.search('caat'))\n",
    "print( p.search('caat'))\n",
    "print( p.search('caaaaaat'))\n",
    "p = re.compile('ca?t')\n",
    "print( p.search('ct'))\n",
    "print( p.search('cat'))\n",
    "print( p.search('caaaat'))"
   ]
  },
  {
   "cell_type": "markdown",
   "metadata": {},
   "source": [
    "### 연습문제\n",
    "* 아래 문자열 중 이름을 제외한 전화번호만 findall을 이용하여 추출하세요"
   ]
  },
  {
   "cell_type": "code",
   "execution_count": 32,
   "metadata": {},
   "outputs": [
    {
     "name": "stdout",
     "output_type": "stream",
     "text": [
      "['010-1234-5678', '010-8888-9999', '011-123-2222']\n"
     ]
    }
   ],
   "source": [
    "a = \"park chan ho 010-1234-5678 kim min 010-8888-9999 lee 011-123-2222\"\n",
    "p = re.compile('\\d{3}[-]\\d{3,4}[-]\\d{4}')\n",
    "print(p.findall(a))\n",
    "# 전화번호 형식에 맞춰 자료형을 입력해서 찾으면 됨"
   ]
  },
  {
   "cell_type": "code",
   "execution_count": 48,
   "metadata": {},
   "outputs": [
    {
     "name": "stdout",
     "output_type": "stream",
     "text": [
      "['park@naver.com', 'kim@daum.net', 'lee@myhome.com']\n"
     ]
    }
   ],
   "source": [
    "a = 'park chan ho park@naver.com Kim min kim@daum.net Lee lee@myhome.com'\n",
    "p = re.compile('\\w*[@]\\w*[.]\\w*')\n",
    "print(p.findall(a))"
   ]
  },
  {
   "cell_type": "code",
   "execution_count": null,
   "metadata": {},
   "outputs": [],
   "source": []
  }
 ],
 "metadata": {
  "kernelspec": {
   "display_name": "Python 3",
   "language": "python",
   "name": "python3"
  },
  "language_info": {
   "codemirror_mode": {
    "name": "ipython",
    "version": 3
   },
   "file_extension": ".py",
   "mimetype": "text/x-python",
   "name": "python",
   "nbconvert_exporter": "python",
   "pygments_lexer": "ipython3",
   "version": "3.8.5"
  }
 },
 "nbformat": 4,
 "nbformat_minor": 4
}
