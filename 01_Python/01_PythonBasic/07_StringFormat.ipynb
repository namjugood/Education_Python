{
 "cells": [
  {
   "cell_type": "markdown",
   "metadata": {},
   "source": [
    "### 문자열 포맷팅"
   ]
  },
  {
   "cell_type": "code",
   "execution_count": 5,
   "metadata": {},
   "outputs": [
    {
     "name": "stdout",
     "output_type": "stream",
     "text": [
      "I eat 3 apple\n",
      "I eat 3 apple\n",
      "I eat 5 apple\n"
     ]
    }
   ],
   "source": [
    "#문자열 중에 수치데이터 삽입 후 출력\n",
    "print(\"I eat %d apple\" % 3)\n",
    "print(\"I eat\", 3, \"apple\")\n",
    "#java의 printf와 비슷한 형태, 그러나 단지 printf 안에서만 사용하는 것이 아니라\n",
    "#문자열의 내용을 구성하는 곳에 널리 사용되고 있습니다\n",
    "a=\"I eat %d apple\" %5\n",
    "print(a)"
   ]
  },
  {
   "cell_type": "code",
   "execution_count": 6,
   "metadata": {},
   "outputs": [
    {
     "name": "stdout",
     "output_type": "stream",
     "text": [
      "I eat 3 apple\n",
      "I eat 3 apple\n"
     ]
    }
   ],
   "source": [
    "#문자열 중에 숫자값을 저장하고 있는 변수 값 삽입 후 출력\n",
    "number=3\n",
    "print(\"I eat %d apple\" %number)\n",
    "print(\"I eat\", number, \"apple\")"
   ]
  },
  {
   "cell_type": "code",
   "execution_count": 7,
   "metadata": {},
   "outputs": [
    {
     "name": "stdout",
     "output_type": "stream",
     "text": [
      "I eat 10 apple. so I was sick for 3 days\n"
     ]
    }
   ],
   "source": [
    "#두 개 이상 삽입 후 출력\n",
    "num=10\n",
    "days=3\n",
    "print(\"I eat %d apple. so I was sick for %d days\" %(num, days))"
   ]
  },
  {
   "cell_type": "code",
   "execution_count": 8,
   "metadata": {},
   "outputs": [
    {
     "name": "stdout",
     "output_type": "stream",
     "text": [
      "I eat five apple\n",
      "I eat five apple\n"
     ]
    }
   ],
   "source": [
    "#문자열을 저장하고 있는 변수로 대입\n",
    "characters=\"five\"\n",
    "print(\"I eat %s apple\" %characters)\n",
    "print(\"I eat\", characters, \"apple\")"
   ]
  },
  {
   "cell_type": "markdown",
   "metadata": {},
   "source": [
    "* %s : 문자열\n",
    "* %c : 한글자\n",
    "* %d : 10진 정수\n",
    "* %f : 부동소수(실수)"
   ]
  },
  {
   "cell_type": "code",
   "execution_count": 10,
   "metadata": {},
   "outputs": [
    {
     "name": "stdout",
     "output_type": "stream",
     "text": [
      "Hi~!       1234 HI~!\n",
      "Hi~! 1234       HI~!\n",
      "출력결과 : 3.1236 미터\n"
     ]
    }
   ],
   "source": [
    "# %10s : 10자리를 확보 후 오른쪽 정렬\n",
    "print(\"Hi~! %10d HI~!\" %1234)\n",
    "# %-10s : 10자리를 확보 후 왼쪽 정렬\n",
    "print(\"Hi~! %-10d HI~!\" %1234)\n",
    "# %0.4f : 소수점 위 자리수와 상관없이 아래자리수 4자리 표현\n",
    "print(\"출력결과 : %0.4f 미터\" %3.1235678)"
   ]
  },
  {
   "cell_type": "markdown",
   "metadata": {},
   "source": [
    "### 특이사항 %s의 확장성\n",
    "* %s는 어떤 형태의 데이터가 와도 변환 출력 가능"
   ]
  },
  {
   "cell_type": "code",
   "execution_count": 11,
   "metadata": {},
   "outputs": [
    {
     "name": "stdout",
     "output_type": "stream",
     "text": [
      "I have 3 apple\n",
      "rate is 3.2325\n"
     ]
    }
   ],
   "source": [
    "#실제 숫자 데이터 뿐만 아니라 정수형 변수, 실수형 변수들이\n",
    "#%뒤에 위치해도 문자로 출력 가능\n",
    "print(\"I have %s apple\" %3)\n",
    "print(\"rate is %s\" %3.2325)"
   ]
  },
  {
   "cell_type": "markdown",
   "metadata": {},
   "source": [
    "### 포맷팅의 다른 형태"
   ]
  },
  {
   "cell_type": "code",
   "execution_count": 14,
   "metadata": {},
   "outputs": [
    {
     "name": "stdout",
     "output_type": "stream",
     "text": [
      "I eat 30 apples\n",
      "I eat 30 apples\n",
      "I eat 30 apples\n",
      "I eat 30 apples\n"
     ]
    }
   ],
   "source": [
    "a=30\n",
    "print(\"I eat {0} apples\".format(a))\n",
    "print(\"I eat %d apples\" %a)\n",
    "#각각의 포맷형태는 위와 같이 문자열에 직접 .format() 또는 %를 붙여 사용하거나,\n",
    "#아래와 같이 변수 뒤에 .format() 또는 %를 붙여 사용하기도 합니다\n",
    "b=30\n",
    "a=\"I eat {0} apples\"\n",
    "print(a.format(b))\n",
    "a=\"I eat %d apples\"\n",
    "print(a % b)"
   ]
  },
  {
   "cell_type": "code",
   "execution_count": 16,
   "metadata": {},
   "outputs": [
    {
     "name": "stdout",
     "output_type": "stream",
     "text": [
      "I eat five apples\n",
      "I eat 3 apples\n"
     ]
    }
   ],
   "source": [
    "# {} 포맷팅은 문자 숫자 구분없이 사용됩니다\n",
    "print(\"I eat {0} apples\".format(\"five\") )\n",
    "num=3\n",
    "print(\"I eat {0} apples\".format(num) )"
   ]
  },
  {
   "cell_type": "code",
   "execution_count": 17,
   "metadata": {},
   "outputs": [
    {
     "name": "stdout",
     "output_type": "stream",
     "text": [
      "I eat three apples. so I was sick 5 days\n"
     ]
    }
   ],
   "source": [
    "# 중괄호 안의 번호는 문자열과 같이 출력될 삽입 자료의 순서를 나타냅니다\n",
    "num=5\n",
    "days=\"three\"\n",
    "print(\"I eat {1} apples. so I was sick {0} days\".format(num, days))\n",
    "#0번에 num, 1번에 days"
   ]
  },
  {
   "cell_type": "code",
   "execution_count": 18,
   "metadata": {},
   "outputs": [
    {
     "name": "stdout",
     "output_type": "stream",
     "text": [
      "I eat 3 apples. so I was sick four days\n",
      "I eat 5 apples. so I was sick four days\n"
     ]
    }
   ],
   "source": [
    "#{}안에는 아래와 같이 변수 이름을 쓰기도 합니다\n",
    "print(\"I eat {num} apples. so I was sick {days} days\".format(num=3, days=\"four\"))\n",
    "print(\"I eat {0} apples. so I was sick {days} days\".format(5, days=\"four\"))"
   ]
  },
  {
   "cell_type": "code",
   "execution_count": 19,
   "metadata": {},
   "outputs": [
    {
     "name": "stdout",
     "output_type": "stream",
     "text": [
      "HI~!Hello     HO_!\n",
      "HI~!     HelloHO_!\n",
      "HI~!  Hello   HO_!\n"
     ]
    }
   ],
   "source": [
    "# 왼쪽 정렬\n",
    "print(\"HI~!{0:<10}HO_!\".format(\"Hello\"))\n",
    "# 오른쪽 정렬\n",
    "print(\"HI~!{0:>10}HO_!\".format(\"Hello\"))\n",
    "# 가운데 정렬\n",
    "print(\"HI~!{0:^10}HO_!\".format(\"Hello\"))"
   ]
  },
  {
   "cell_type": "code",
   "execution_count": 20,
   "metadata": {},
   "outputs": [
    {
     "name": "stdout",
     "output_type": "stream",
     "text": [
      "Hi~!$$$$$HelloHi_!\n",
      "Hi~!**Hello***Hi_!\n",
      "Hi~!Hello#####Hi_!\n"
     ]
    }
   ],
   "source": [
    "#공백채우기\n",
    "print(\"Hi~!{0:$>10}Hi_!\".format(\"Hello\"))\n",
    "print(\"Hi~!{0:*^10}Hi_!\".format(\"Hello\"))\n",
    "print(\"Hi~!{0:#<10}Hi_!\".format(\"Hello\"))"
   ]
  },
  {
   "cell_type": "code",
   "execution_count": 21,
   "metadata": {},
   "outputs": [
    {
     "name": "stdout",
     "output_type": "stream",
     "text": [
      "3.2146\n",
      "    3.2146\n",
      "3.214587000\n"
     ]
    }
   ],
   "source": [
    "#소수점 표현\n",
    "y=3.214587\n",
    "print(\"{0:0.4f}\".format(y))\n",
    "print(\"{0:10.4f}\".format(y))\n",
    "print(\"{0:0.9f}\".format(y))\n",
    "# 소수점 자리수가 잘려서 표시되지 않는 소수점 아래 자리들은 반올림됩니다\n",
    "# 소수점 윗자리 수는 0을 쓰면 필요한 만큼 자리가 할당되지만, 표시할 숫자보다\n",
    "# 더 큰 숫자를 지정하면 남은 공간만큼 빈칸으로 표시합니다.\n",
    "# 소수점 아래자리수는 필요한 자리수를 채우고 남은 공간에 0을 채워 표시합ㄴ디ㅏ"
   ]
  },
  {
   "cell_type": "code",
   "execution_count": null,
   "metadata": {},
   "outputs": [],
   "source": []
  }
 ],
 "metadata": {
  "kernelspec": {
   "display_name": "Python 3",
   "language": "python",
   "name": "python3"
  },
  "language_info": {
   "codemirror_mode": {
    "name": "ipython",
    "version": 3
   },
   "file_extension": ".py",
   "mimetype": "text/x-python",
   "name": "python",
   "nbconvert_exporter": "python",
   "pygments_lexer": "ipython3",
   "version": "3.8.5"
  }
 },
 "nbformat": 4,
 "nbformat_minor": 4
}
