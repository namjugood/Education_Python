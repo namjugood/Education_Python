{
 "cells": [
  {
   "cell_type": "markdown",
   "metadata": {},
   "source": [
    "## 문자열 연산\n",
    "* 덧셈 연산 : 같은 형끼리만 덧셈이 가능\n",
    "* 곱셈 연산\n",
    "* 인덱싱\n",
    "* 슬라이싱"
   ]
  },
  {
   "cell_type": "code",
   "execution_count": 4,
   "metadata": {},
   "outputs": [
    {
     "name": "stdout",
     "output_type": "stream",
     "text": [
      " Pytyon is easy \n",
      " is easy  Pytyon\n"
     ]
    }
   ],
   "source": [
    "# 문자열의 덧셈연산 : 연결(Concatenation)\n",
    "a = \" Pytyon\"\n",
    "b = \" is easy \"\n",
    "print(a + b)\n",
    "c = b + a\n",
    "print(c)"
   ]
  },
  {
   "cell_type": "code",
   "execution_count": 6,
   "metadata": {},
   "outputs": [
    {
     "ename": "TypeError",
     "evalue": "can only concatenate str (not \"int\") to str",
     "output_type": "error",
     "traceback": [
      "\u001b[1;31m---------------------------------------------------------------------------\u001b[0m",
      "\u001b[1;31mTypeError\u001b[0m                                 Traceback (most recent call last)",
      "\u001b[1;32m<ipython-input-6-0b63ec988a8b>\u001b[0m in \u001b[0;36m<module>\u001b[1;34m\u001b[0m\n\u001b[0;32m      1\u001b[0m \u001b[1;31m# 문자열과 숫자 데이터의 덧셈 연산은 에러를 발행합니다\u001b[0m\u001b[1;33m\u001b[0m\u001b[1;33m\u001b[0m\u001b[1;33m\u001b[0m\u001b[0m\n\u001b[1;32m----> 2\u001b[1;33m \u001b[0mprint\u001b[0m\u001b[1;33m(\u001b[0m\u001b[0ma\u001b[0m \u001b[1;33m+\u001b[0m \u001b[1;36m10\u001b[0m\u001b[1;33m)\u001b[0m\u001b[1;33m\u001b[0m\u001b[1;33m\u001b[0m\u001b[0m\n\u001b[0m",
      "\u001b[1;31mTypeError\u001b[0m: can only concatenate str (not \"int\") to str"
     ]
    }
   ],
   "source": [
    "# 문자열과 숫자 데이터의 덧셈 연산은 에러를 발행합니다\n",
    "print(a + 10)"
   ]
  },
  {
   "cell_type": "code",
   "execution_count": 7,
   "metadata": {},
   "outputs": [
    {
     "name": "stdout",
     "output_type": "stream",
     "text": [
      "30\n"
     ]
    }
   ],
   "source": [
    "# 파이썬 언어의 특성 상 변수값을 숫자로 바꾸면 위의 + 연산은 가능해집니다\n",
    "a = 10\n",
    "print(a+20)"
   ]
  },
  {
   "cell_type": "code",
   "execution_count": 8,
   "metadata": {},
   "outputs": [
    {
     "name": "stdout",
     "output_type": "stream",
     "text": [
      "PythonPythonPythonPythonPython\n"
     ]
    }
   ],
   "source": [
    "# 문자열의 곱셈 연산 : 피승수 데이터가 승수만큼 반복됨\n",
    "a = \"Python\"\n",
    "print(a * 5)"
   ]
  },
  {
   "cell_type": "code",
   "execution_count": 9,
   "metadata": {},
   "outputs": [
    {
     "name": "stdout",
     "output_type": "stream",
     "text": [
      "-------------------------------------------------------\n",
      "번호\t이름\t국어\t영어\t수학\t총점\t평균\n",
      "-------------------------------------------------------\n"
     ]
    }
   ],
   "source": [
    "print(\"-\" * 55)\n",
    "print(\"번호\\t이름\\t국어\\t영어\\t수학\\t총점\\t평균\")\n",
    "print(\"-\" * 55)"
   ]
  },
  {
   "cell_type": "markdown",
   "metadata": {},
   "source": [
    "## 문자열 인덱싱"
   ]
  },
  {
   "cell_type": "code",
   "execution_count": 10,
   "metadata": {},
   "outputs": [
    {
     "name": "stdout",
     "output_type": "stream",
     "text": [
      "L\n",
      "i\n",
      "f\n",
      " \n",
      "y\n",
      "e\n",
      "L\n"
     ]
    }
   ],
   "source": [
    "a = \"Life is too short. You need Money\" #문자열의 인덱스는 0부터 시작합니다\n",
    "print(a[0]) # 첫 번째(0번) 글자\n",
    "print(a[1]) # 두 번째(1번) 글자\n",
    "print(a[2]) # 세 번째(2번) 글자\n",
    "print(a[4]) \n",
    "print(a[-1]) # 뒤에서 첫 번째 글자\n",
    "print(a[-2]) # 뒤에서 두 번째 글자\n",
    "print(a[-0]) # 인덱스 0과 -0은 같은 인덱스로 취급합니다. 첫 번째 글자"
   ]
  },
  {
   "cell_type": "markdown",
   "metadata": {},
   "source": [
    "## 문자열 슬라이싱\n",
    "* 인덱싱이 문자열 안의 하나의 글자들을 추출하는 작업이라면,\n",
    "* 슬라이싱은 문자열 중 단어들을 추출하기 위한 작업\n",
    "* a[ 시작문자 인덱스 : 끝 문자 인덱스 +1 ]"
   ]
  },
  {
   "cell_type": "code",
   "execution_count": 12,
   "metadata": {},
   "outputs": [
    {
     "name": "stdout",
     "output_type": "stream",
     "text": [
      "Life i\n",
      "Life i\n"
     ]
    }
   ],
   "source": [
    "a = \"Life is too short. You need Money\"\n",
    "b = a[0] + a[1] + a[2] + a[3] + a[4] + a[5]\n",
    "print(b)\n",
    "b = a[0:6]\n",
    "print(b)"
   ]
  },
  {
   "cell_type": "markdown",
   "metadata": {},
   "source": [
    "## 연습문제\n",
    "* 다음 단어들을 슬라이싱을 이용하여 변수 a에서 추출하고 출력하시오\n",
    "* short, you, need\n",
    "* 다음 단어는 음수 인덱스를 이용하여 추출하고 출력하시오\n",
    "* Money"
   ]
  },
  {
   "cell_type": "code",
   "execution_count": 17,
   "metadata": {},
   "outputs": [
    {
     "name": "stdout",
     "output_type": "stream",
     "text": [
      "short, You, need\n",
      "Money\n"
     ]
    }
   ],
   "source": [
    "a = \"Life is too short. You need Money!\"\n",
    "b = a[12:17] \n",
    "c = a[19:22] \n",
    "d = a[23:27]\n",
    "print(b+\", \"+c+\", \"+d)\n",
    "\n",
    "b= a[-6:-1]\n",
    "print(b)"
   ]
  },
  {
   "cell_type": "markdown",
   "metadata": {},
   "source": [
    "* 시작문자 인덱스가 생략된 경우 : 처음부터\n",
    "* 끝문자 다음 인덱스가 생략된 경우 : 끝까지"
   ]
  },
  {
   "cell_type": "code",
   "execution_count": 18,
   "metadata": {},
   "outputs": [
    {
     "name": "stdout",
     "output_type": "stream",
     "text": [
      "Life is \n",
      "short. You need Money!\n"
     ]
    }
   ],
   "source": [
    "a = \"Life is too short. You need Money!\"\n",
    "print(a[:8])\n",
    "print(a[12:])"
   ]
  },
  {
   "cell_type": "markdown",
   "metadata": {},
   "source": [
    "* 문자열이 저장된 변수에 인덱싱을 이용하여 문자 일부를 수정하는 것은 오류입니다."
   ]
  },
  {
   "cell_type": "code",
   "execution_count": 19,
   "metadata": {},
   "outputs": [
    {
     "ename": "TypeError",
     "evalue": "'str' object does not support item assignment",
     "output_type": "error",
     "traceback": [
      "\u001b[1;31m---------------------------------------------------------------------------\u001b[0m",
      "\u001b[1;31mTypeError\u001b[0m                                 Traceback (most recent call last)",
      "\u001b[1;32m<ipython-input-19-45a3f726dc01>\u001b[0m in \u001b[0;36m<module>\u001b[1;34m\u001b[0m\n\u001b[0;32m      1\u001b[0m \u001b[0ma\u001b[0m \u001b[1;33m=\u001b[0m \u001b[1;34m\"Pithon\"\u001b[0m\u001b[1;33m\u001b[0m\u001b[1;33m\u001b[0m\u001b[0m\n\u001b[1;32m----> 2\u001b[1;33m \u001b[0ma\u001b[0m\u001b[1;33m[\u001b[0m\u001b[1;36m1\u001b[0m\u001b[1;33m]\u001b[0m \u001b[1;33m=\u001b[0m \u001b[1;34m'y'\u001b[0m \u001b[1;31m#에러\u001b[0m\u001b[1;33m\u001b[0m\u001b[1;33m\u001b[0m\u001b[0m\n\u001b[0m",
      "\u001b[1;31mTypeError\u001b[0m: 'str' object does not support item assignment"
     ]
    }
   ],
   "source": [
    "a = \"Pithon\"\n",
    "a[1] = 'y' #에러"
   ]
  },
  {
   "cell_type": "code",
   "execution_count": 20,
   "metadata": {},
   "outputs": [
    {
     "name": "stdout",
     "output_type": "stream",
     "text": [
      "Python\n"
     ]
    }
   ],
   "source": [
    "# 위 연산을 해결하는 방법\n",
    "b = a[:1] + \"y\" + a[2:] # ()+y+()형식\n",
    "print(b)"
   ]
  },
  {
   "cell_type": "code",
   "execution_count": null,
   "metadata": {},
   "outputs": [],
   "source": []
  }
 ],
 "metadata": {
  "kernelspec": {
   "display_name": "Python 3",
   "language": "python",
   "name": "python3"
  },
  "language_info": {
   "codemirror_mode": {
    "name": "ipython",
    "version": 3
   },
   "file_extension": ".py",
   "mimetype": "text/x-python",
   "name": "python",
   "nbconvert_exporter": "python",
   "pygments_lexer": "ipython3",
   "version": "3.8.5"
  }
 },
 "nbformat": 4,
 "nbformat_minor": 4
}
