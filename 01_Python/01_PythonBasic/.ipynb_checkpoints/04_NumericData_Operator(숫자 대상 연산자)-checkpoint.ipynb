{
 "cells": [
  {
   "cell_type": "markdown",
   "metadata": {},
   "source": [
    "#### 숫자 데이터들을 계산하기 위한 연산자\n",
    "* 더하기(+)\n",
    "* 빼기(-)\n",
    "* 곱하기(*)\n",
    "* 나누기(/:소수점 발생, //:소수점 미발생-버림)\n",
    "* 거듭제곱(**)\n",
    "* 나머지 계산(%)"
   ]
  },
  {
   "cell_type": "code",
   "execution_count": 3,
   "metadata": {},
   "outputs": [
    {
     "name": "stdout",
     "output_type": "stream",
     "text": [
      "93\n",
      "19\n",
      "2072\n",
      "1.5135135135135136\n",
      "1\n",
      "175616\n",
      "19\n"
     ]
    }
   ],
   "source": [
    "a = 56\n",
    "b = 37\n",
    "c = a + b #덧셈\n",
    "print(c)\n",
    "c = a - b #뺄셈\n",
    "print(c)\n",
    "print(a * b) #곱셈\n",
    "print(a / b) #나눗셈(소수점 발생)\n",
    "print(a // b) #나눗셈(소수점 아래 버림)\n",
    "print(a ** 3) #거듭제곱(a 변수값의 3제곱)\n",
    "print(a % b) #나머지 연산"
   ]
  },
  {
   "cell_type": "code",
   "execution_count": null,
   "metadata": {},
   "outputs": [],
   "source": []
  }
 ],
 "metadata": {
  "kernelspec": {
   "display_name": "Python 3",
   "language": "python",
   "name": "python3"
  },
  "language_info": {
   "codemirror_mode": {
    "name": "ipython",
    "version": 3
   },
   "file_extension": ".py",
   "mimetype": "text/x-python",
   "name": "python",
   "nbconvert_exporter": "python",
   "pygments_lexer": "ipython3",
   "version": "3.8.5"
  }
 },
 "nbformat": 4,
 "nbformat_minor": 4
}
