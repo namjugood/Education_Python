{
 "cells": [
  {
   "cell_type": "markdown",
   "metadata": {},
   "source": [
    "#### 파이썬의 문자 데이터\n",
    "* 큰 따옴표로 묶거나 작은 따옴표로 묶어서 사용합니다 - 자바스크립트처럼 필요에 의한 경우를 빼곤\n",
    "* 작은 따옴표로 큰 따옴표 구분없이 사용합니다\n",
    "* 한글, 영문, 아라비아기호, 특수문자 등 모두가 문자 대상입니다.\n",
    "* 1, 2, 3은 정수, '1', '2', '3'은 문자입니다\n",
    "* 0글자부터 다수개의 문자가 따옴표 안에 있을 수 있습니다.\n",
    "* \"\" - 0글자 문자, \"ABC\" - 3글자 문자"
   ]
  },
  {
   "cell_type": "code",
   "execution_count": 1,
   "metadata": {},
   "outputs": [
    {
     "name": "stdout",
     "output_type": "stream",
     "text": [
      "1234\n",
      "1234\n",
      "Python is Fun\n",
      "Hello World\n"
     ]
    }
   ],
   "source": [
    "print(1234) #정수출력 1234 987\n",
    "print(\"1234\") #문자출력 \"1234\" \"987\"\n",
    "# 큰 따옴표와 작은 따옴표로 문자들을 둘러싸기\n",
    "print(\"Python is Fun\")\n",
    "print('Hello World')"
   ]
  },
  {
   "cell_type": "code",
   "execution_count": 6,
   "metadata": {},
   "outputs": [
    {
     "name": "stdout",
     "output_type": "stream",
     "text": [
      "Life is short\n",
      "You need happiness\n",
      "Life is short\n",
      "You need happiness\n",
      "출력내용 :  123\n"
     ]
    }
   ],
   "source": [
    "# 작은 따옴표 또는 큰 따옴표 세개로 멀티라인 문자열을 지정할 수 있습니다\n",
    "print('''Life is short\n",
    "You need happiness''')\n",
    "print(\"\"\"Life is short\n",
    "You need happiness\"\"\")\n",
    "# 파이썬의 print는 자바의 System.out.println처럼 출력하는 함수입니다\n",
    "# 출력 후 라인을 바꾸는 기능이 포함되어 있습니다\n",
    "# 다만 형식(숫자 문자)이 다른 데이터를 하나의 print에 출력해야 한다면\n",
    "# '+' 기호로 이어써서 출력하지 않고, ','기호로 이어써서 출력합니다\n",
    "print( \"출력내용 : \" , 123 )"
   ]
  },
  {
   "cell_type": "code",
   "execution_count": 7,
   "metadata": {},
   "outputs": [
    {
     "name": "stdout",
     "output_type": "stream",
     "text": [
      "Life is short\n",
      "You need happiness\n"
     ]
    }
   ],
   "source": [
    "# 멀티라인 저장의 또 다른 예 - '\\n' : 다음라인이동 표식\n",
    "print(\"Life is short\\nYou need happiness\")"
   ]
  },
  {
   "cell_type": "code",
   "execution_count": 11,
   "metadata": {},
   "outputs": [
    {
     "name": "stdout",
     "output_type": "stream",
     "text": [
      "He said 'Python is very easy'\n",
      "He said \"Python is very easy\"\n",
      "He said 'Python is very easy'\n",
      "He said \"Python is very easy\"\n"
     ]
    }
   ],
   "source": [
    "# 문자열 안에 작은따옴표(') 포함 1\n",
    "print(\"He said 'Python is very easy'\")\n",
    "# 문자열 안에 큰 따옴표(\") 포함 1\n",
    "print('He said \"Python is very easy\"')\n",
    "\n",
    "# 문자열 안에 작은 따옴표(') 포함 2\n",
    "print('He said \\'Python is very easy\\'')\n",
    "# 문자열 안에 큰 따옴표(\") 포함 2\n",
    "print(\"He said \\\"Python is very easy\\\"\")"
   ]
  },
  {
   "cell_type": "markdown",
   "metadata": {},
   "source": [
    "#### 파이썬에서 사용되는 '\\\\' 로 표현되는 이스케이프 문자\n",
    "* \\n : 줄바꿈\n",
    "* \\t : 탭\n",
    "* \\\\\\\\ : \\글자\n",
    "* \\\\' : '글자\n",
    "* \\\\\" : \"글자\n",
    "* \\b : 백스페이스"
   ]
  },
  {
   "cell_type": "code",
   "execution_count": 12,
   "metadata": {},
   "outputs": [
    {
     "name": "stdout",
     "output_type": "stream",
     "text": [
      "겁나 쉬운 파이썬 프로그래밍\n",
      "파이썬 프로그래밍 학습 성공가능성 90\b\b100%\n",
      "\t\t ★ \\b : 백스페이스 키와 같은 역할\n",
      "\t\t ★ \\t : Tab키와 같은 역할\n"
     ]
    }
   ],
   "source": [
    "print(\"겁나 쉬운 파이썬 프로그래밍\")\n",
    "print(\"파이썬 프로그래밍 학습 성공가능성 90\\b\\b100%\")\n",
    "print(\"\\t\\t ★ \\\\b : 백스페이스 키와 같은 역할\")\n",
    "print(\"\\t\\t ★ \\\\t : Tab키와 같은 역할\")"
   ]
  },
  {
   "cell_type": "code",
   "execution_count": 27,
   "metadata": {},
   "outputs": [
    {
     "name": "stdout",
     "output_type": "stream",
     "text": [
      "\t\t\t\t ###성적표###\n",
      "      ----------------------------------------------------------------------\n",
      "      번호\t성명\t\t국어\t영어\t수학\t총점\t평균\n",
      "      1\t\t홍길동\t\t85\t56\t78\t250\t75.3\n",
      "      2\t\tGildong\t\t75\t56\t68\t230\t71.8\n",
      "      ----------------------------------------------------------------------\n",
      "      \n"
     ]
    }
   ],
   "source": [
    "print(\"\"\"\\t\\t\\t\\t ###성적표###\n",
    "      ----------------------------------------------------------------------\n",
    "      번호\\t성명\\t\\t국어\\t영어\\t수학\\t총점\\t평균\n",
    "      ----------------------------------------------------------------------\n",
    "      1\\t\\t홍길동\\t\\t85\\t56\\t78\\t250\\t75.3\n",
    "      2\\t\\tGildong\\t\\t75\\t56\\t68\\t230\\t71.8\n",
    "      ----------------------------------------------------------------------\n",
    "      \"\"\")\n"
   ]
  },
  {
   "cell_type": "code",
   "execution_count": 31,
   "metadata": {},
   "outputs": [
    {
     "name": "stdout",
     "output_type": "stream",
     "text": [
      "\t\t\t ###성적표###\n",
      "----------------------------------------------------------------------\n",
      "\n",
      "번호\t성명\t\t국어\t영어\t수학\t총점\t평균\n",
      "\n",
      "----------------------------------------------------------------------\n",
      "\n",
      "1\t홍길동\t\t85\t56\t78\t250\t75.3\n",
      "\n",
      "2\t\tGildong\t\t75\t56\t68\t230\t71.8\n",
      "\n",
      "----------------------------------------------------------------------\n",
      "\n"
     ]
    }
   ],
   "source": [
    "print(\"\\t\\t\\t ###성적표###\")\n",
    "print(\"----------------------------------------------------------------------\\n\")\n",
    "print(\"번호\\t성명\\t\\t국어\\t영어\\t수학\\t총점\\t평균\\n\")\n",
    "print(\"----------------------------------------------------------------------\\n\")\n",
    "print(\"1\\t홍길동\\t\\t85\\t56\\t78\\t250\\t75.3\\n\")\n",
    "print(\"2\\t\\tGildong\\t\\t75\\t56\\t68\\t230\\t71.8\\n\")\n",
    "print(\"----------------------------------------------------------------------\\n\")"
   ]
  },
  {
   "cell_type": "code",
   "execution_count": null,
   "metadata": {},
   "outputs": [],
   "source": []
  }
 ],
 "metadata": {
  "kernelspec": {
   "display_name": "Python 3",
   "language": "python",
   "name": "python3"
  },
  "language_info": {
   "codemirror_mode": {
    "name": "ipython",
    "version": 3
   },
   "file_extension": ".py",
   "mimetype": "text/x-python",
   "name": "python",
   "nbconvert_exporter": "python",
   "pygments_lexer": "ipython3",
   "version": "3.8.5"
  }
 },
 "nbformat": 4,
 "nbformat_minor": 4
}
