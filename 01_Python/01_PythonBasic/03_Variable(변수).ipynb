{
 "cells": [
  {
   "cell_type": "markdown",
   "metadata": {},
   "source": [
    "## Variable(변수)\n",
    "* 프로그램 실행 중 발생하여 보관되어야 할 데이터들의 임시 보관장소\n",
    "* 주 기억 장치내에 생성되며, 프로그램 종료 시 소멸되는 임시 저장장소입니다\n",
    "* 다른 프로그래밍 언어와 달리 별도의 생성명령없이 사용하면 즉시 만들어지는 특성이 있습니다.\n",
    "* 변수의 특징 중 하나로 여러 데이터를 저장가능하지만 한 번에 하나씩 저장만 가능하며,\n",
    "* 가장 마지막에 저장한 데이터만 기억 가능합니다. (새로운 데이터 저장 시 이전 데이터 소멸)\n",
    "* 저장된 데이터는 변수의 이름을 불러 저장된 값을 참조할 수 있습니다."
   ]
  },
  {
   "cell_type": "code",
   "execution_count": 3,
   "metadata": {},
   "outputs": [
    {
     "name": "stdout",
     "output_type": "stream",
     "text": [
      "100\n",
      "200\n",
      "300\n"
     ]
    }
   ],
   "source": [
    "a = 100 # a라고 이름지어진 변수에 100을 저장\n",
    "b = 200 # b라고 이름지어진 변수에 200을 저장\n",
    "\n",
    "print(a) # a 변수가 저장하고 있는 값 출력\n",
    "print(b) # b 변수가 저장하고 있는 값 출력\n",
    "\n",
    "a = 300 # a 변수에 100을 지우고 새로운 값 300을 저장\n",
    "print(a) # a 변수가 저장하고 있는 값 출력"
   ]
  },
  {
   "cell_type": "markdown",
   "metadata": {},
   "source": [
    "## 변수의 이름 만드는 규칙\n",
    "* 영문과 숫자를 섞어서 만들되 영문이 가장 앞에 오게 생성\n",
    "* 중간에 공백이 있을 수 없으며(고유명사), 특수문자는 UnderBar(_) 정도만 활용\n",
    "* 변수의 이름은 너무 길지도 않게, 너무 짧지도 않게, 약간의 의미있는 단어를 활용하여 생성\n",
    "* 의미있는 단어가 두 개 이상 조합이 되어서 생성된다면 첫 번째 단어는 소문자로, 두 번째 단어는\n",
    "  첫 자만 대문자로 표시(result + number -> resultNumber)\n",
    "* 위와 같은 표기법은 카멜 표기법이라고 합니다  \n",
    "\n",
    "## 변수의 자료형 및 활용\n",
    "* 파이썬의 변수의 자료형은 다른 프로그램 언어에서처럼 한 번 정해지면 변하지 않는 형식이 아니라,\n",
    "  저장된 값의 형식에 따라 결정됩니다."
   ]
  },
  {
   "cell_type": "code",
   "execution_count": 4,
   "metadata": {},
   "outputs": [
    {
     "name": "stdout",
     "output_type": "stream",
     "text": [
      "<class 'int'>\n",
      "<class 'str'>\n"
     ]
    }
   ],
   "source": [
    "a = 100\n",
    "# type() : 괄호안의 자료 또는 변수의 자료형을 알아볼 때 사용\n",
    "print(type(a))\n",
    "a='ABCDEF'\n",
    "print(type(a))"
   ]
  },
  {
   "cell_type": "code",
   "execution_count": null,
   "metadata": {},
   "outputs": [],
   "source": []
  }
 ],
 "metadata": {
  "kernelspec": {
   "display_name": "Python 3",
   "language": "python",
   "name": "python3"
  },
  "language_info": {
   "codemirror_mode": {
    "name": "ipython",
    "version": 3
   },
   "file_extension": ".py",
   "mimetype": "text/x-python",
   "name": "python",
   "nbconvert_exporter": "python",
   "pygments_lexer": "ipython3",
   "version": "3.8.5"
  }
 },
 "nbformat": 4,
 "nbformat_minor": 4
}
