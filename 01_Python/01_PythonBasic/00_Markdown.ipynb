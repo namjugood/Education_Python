{
 "cells": [
  {
   "cell_type": "code",
   "execution_count": 4,
   "metadata": {},
   "outputs": [
    {
     "name": "stdout",
     "output_type": "stream",
     "text": [
      "겁나 쉬운 파이썬\n"
     ]
    }
   ],
   "source": [
    "#주석문 : 셀 안에 작성은 하지만 명령어로 인식되지 않고 실행되지 않는 설명들\n",
    "#주석문은 지금과 같이 맨 앞에 '#'을 붙이고 작성합니다\n",
    "#명령의 실행 : 셀 단위로 실행되며, shift+  Enter로 셀의 내용을 실행시킵니다\n",
    "print(\"겁나 쉬운 파이썬\")\n",
    "#셀은 한 번에 실행하고자 하는 코드들을 작성하는 작성단위 및 실행단위입니다."
   ]
  },
  {
   "cell_type": "code",
   "execution_count": 5,
   "metadata": {},
   "outputs": [],
   "source": [
    "#제목이나 강조하고자 하는 별도의 주석문은 MarkDown이라는 형식으로 표시합니다\n",
    "\n",
    "#MarkDown : 셀 하나를 통째로 주석이나 다음 셀의 제목 등으로 사용하고자 할 때 사용하는 특별 주석문입니다\n",
    "#사용방법 : 셀을 code에서 markdown으로 변경하고 markdown 양식으로 작성합니다"
   ]
  },
  {
   "cell_type": "markdown",
   "metadata": {},
   "source": [
    "### MarkDown의 사용법\n",
    "### '#'의 개수로 글자의 크기를 조절하여 사용합니다"
   ]
  },
  {
   "cell_type": "markdown",
   "metadata": {},
   "source": [
    "# 제목1\n",
    "## 제목2\n",
    "### 제목3\n",
    "#### 제목4\n",
    "##### 제목5\n",
    "###### 제목6"
   ]
  },
  {
   "cell_type": "markdown",
   "metadata": {},
   "source": [
    "#### 강조(Emphasis\n",
    "\n",
    "*This text will be italic* 이탤릭\n",
    "\n",
    "_This will also be italic_ 이탤릭(UnderBar 1개)\n",
    "\n",
    "**This text will be bold** 굵은 글자\n",
    "\n",
    "__This will also be bold__ 굵은 글자(UnderBar 2개)\n",
    "\n",
    "~~취소선~~ (Tild(~) 기호 2개)"
   ]
  },
  {
   "cell_type": "markdown",
   "metadata": {},
   "source": [
    "### 리스트1\n",
    "\n",
    "#### Unordered\n",
    "* Item 1\n",
    "* Item 2\n",
    "    * Item 2a\n",
    "    * Item 2b\n",
    "        * Item 2ba\n",
    "        * Item 2bb"
   ]
  },
  {
   "cell_type": "markdown",
   "metadata": {},
   "source": [
    "# 리스트2\n",
    "Ordered\n",
    "1. Item 1\n",
    "1. Item 2\n",
    "1. Item 3\n",
    "    1. Item 3a\n",
    "    1. Item 3b\n",
    "        1. Item 3ba\n",
    "        1. Item 3bb"
   ]
  },
  {
   "cell_type": "markdown",
   "metadata": {},
   "source": [
    "### 인용상자\n",
    "#### As Grace Hopper said:\n",
    "\n",
    "> I've always been more interested.\n",
    "> in the future than in the past."
   ]
  },
  {
   "cell_type": "markdown",
   "metadata": {},
   "source": [
    "# 인라인 코드(Inline code)\n",
    "\n",
    "문단 중간에 `Code`를 넣을 수 있습니다.\n",
    "\n",
    "예를 들어 `print(\"hello world!\"):` 이런식으로 들어갑니다"
   ]
  },
  {
   "cell_type": "markdown",
   "metadata": {},
   "source": [
    "### 수평선(hr)\n",
    "\n",
    "---\n",
    "***\n",
    "___"
   ]
  },
  {
   "cell_type": "code",
   "execution_count": null,
   "metadata": {},
   "outputs": [],
   "source": []
  }
 ],
 "metadata": {
  "kernelspec": {
   "display_name": "Python 3",
   "language": "python",
   "name": "python3"
  },
  "language_info": {
   "codemirror_mode": {
    "name": "ipython",
    "version": 3
   },
   "file_extension": ".py",
   "mimetype": "text/x-python",
   "name": "python",
   "nbconvert_exporter": "python",
   "pygments_lexer": "ipython3",
   "version": "3.8.5"
  }
 },
 "nbformat": 4,
 "nbformat_minor": 4
}
