{
 "cells": [
  {
   "cell_type": "markdown",
   "metadata": {},
   "source": [
    "#### 데이터 타입(Type)\n",
    "* 정수형(int)\n",
    "* 실수형(float)\n",
    "* 문자형(str)\n",
    "* 진위형(bool)\n",
    "\n",
    "#### 데이터의 타입을 리턴해주는 type() 함수\n",
    "* 사용법 : type(Data 또는 변수)\n",
    "* 결과 : 괄호안의 데이터의 Type을 리턴"
   ]
  },
  {
   "cell_type": "code",
   "execution_count": 1,
   "metadata": {},
   "outputs": [
    {
     "name": "stdout",
     "output_type": "stream",
     "text": [
      "a변수의 자료형(Data Type) :  <class 'int'>\n",
      "b변수의 자료형(Data Type) :  <class 'float'>\n",
      "c변수의 자료형(Data Type) :  <class 'str'>\n",
      "e변수의 자료형(Data Type) :  <class 'bool'>\n"
     ]
    }
   ],
   "source": [
    "# 현재 자료의 자료형을 확인하는 도구(함수) type\n",
    "a = 123\n",
    "print(\"a변수의 자료형(Data Type) : \", type(a))\n",
    "b = 123.45\n",
    "print(\"b변수의 자료형(Data Type) : \", type(b))\n",
    "c = \"123\"\n",
    "print(\"c변수의 자료형(Data Type) : \", type(c))\n",
    "e = True\n",
    "print(\"e변수의 자료형(Data Type) : \", type(e))"
   ]
  },
  {
   "cell_type": "markdown",
   "metadata": {},
   "source": [
    "#### 데이터 형변환 Data Type Casting\n",
    "* 문자와 정수\n",
    "* 문자와 실수\n",
    "* 실수와 정수 등의 자료사이의 서로간의 형변환 가능"
   ]
  },
  {
   "cell_type": "code",
   "execution_count": 8,
   "metadata": {},
   "outputs": [
    {
     "name": "stdout",
     "output_type": "stream",
     "text": [
      "a: 10.0  b: 10  c: 76.23  d: 123  e: 123  f: 123.456\n",
      "a: <class 'float'>  b: <class 'int'>  c: <class 'float'>  d: <class 'int'>  e: <class 'str'>  f: <class 'str'>\n"
     ]
    }
   ],
   "source": [
    "a = float(10)  # int -> float\n",
    "b = int(10.6)  # float -> int\n",
    "c = float(\"76.23\")  #str -> float\n",
    "d = int(\"123\")  #str -> int\n",
    "e = str(123)  #int -> str\n",
    "f = str(123.456)  #float ->str\n",
    "print(\"a:\",a , \" b:\",b , \" c:\",c , \" d:\",d ,\" e:\",e ,\" f:\",f)\n",
    "print(\"a:\",type(a) , \" b:\",type(b) , \" c:\",type(c) , \" d:\",type(d) ,\" e:\",type(e) , \" f:\",type(f))"
   ]
  },
  {
   "cell_type": "markdown",
   "metadata": {},
   "source": [
    "#### 사용자 입력\n",
    "* 콘솔 화면에서 사용자에게 입력을 받아 변수에 저장하는 함수\n",
    "* a = input()\n",
    "* 입력받는 값은 기본값으로 String 형으로 입력받아지며\n",
    "* 다른형으로 사용되어야 할 시, 위의 캐스팅 연산을 통해 변환하여 사용한다"
   ]
  },
  {
   "cell_type": "code",
   "execution_count": 7,
   "metadata": {},
   "outputs": [
    {
     "name": "stdout",
     "output_type": "stream",
     "text": [
      "1234\n",
      "입력값 :  1234  자료형 :  <class 'str'>\n",
      "변환값 :  1234  자료형 :  <class 'int'>\n"
     ]
    }
   ],
   "source": [
    "a = input()\n",
    "b = int(a)\n",
    "print(\"입력값 : \",a ,\" 자료형 : \",type(a))\n",
    "print(\"변환값 : \",b ,\" 자료형 : \",type(b))"
   ]
  },
  {
   "cell_type": "code",
   "execution_count": 9,
   "metadata": {},
   "outputs": [
    {
     "name": "stdout",
     "output_type": "stream",
     "text": [
      "정수를 입력하세요\n",
      "1234\n"
     ]
    }
   ],
   "source": [
    "print(\"정수를 입력하세요\") # 입력 안내문구\n",
    "a = int(input())  # 입력과 동시에 정수로 변환"
   ]
  },
  {
   "cell_type": "code",
   "execution_count": 12,
   "metadata": {},
   "outputs": [
    {
     "name": "stdout",
     "output_type": "stream",
     "text": [
      "정수를 입력하세요 : \n",
      "1234\n",
      "입력값 :  1234  자료형 :  <class 'str'>\n",
      "변환값 :  1234  자료형 :  <class 'int'>\n"
     ]
    }
   ],
   "source": [
    "# input() 함수 안에 안내문구를 같이 넣어서 안내한 후 입력받을 수 있다\n",
    "a = input(\"정수를 입력하세요 : \\n\")\n",
    "b = int(a)\n",
    "print(\"입력값 : \",a ,\" 자료형 : \",type(a))\n",
    "print(\"변환값 : \",b ,\" 자료형 : \",type(b))"
   ]
  },
  {
   "cell_type": "code",
   "execution_count": 14,
   "metadata": {},
   "outputs": [
    {
     "name": "stdout",
     "output_type": "stream",
     "text": [
      "정수를 입력하세요 : 56\n",
      "정수를 하나 더 입력하세요 : 78\n",
      "56 와  78 의 덧셈 결과 :  134\n",
      "56 와  78 의 뺄셈 결과 :  -22\n",
      "56 와  78 의 곱셈 결과 :  4368\n",
      "56 와  78 의 나눗셈 결과 :  0.717948717948718\n"
     ]
    }
   ],
   "source": [
    "# 두 개의 정수를 입력받아서 두 수의 합, 차, 곱, 나눗셈의 결과를 출력하세요\n",
    "a = input(\"정수를 입력하세요 : \")\n",
    "b = input(\"정수를 하나 더 입력하세요 : \")\n",
    "c = int(a)\n",
    "d = int(b)\n",
    "\n",
    "print(c,\"와 \",d,\"의 덧셈 결과 : \", c+d)\n",
    "print(c,\"와 \",d,\"의 뺄셈 결과 : \", c-d)\n",
    "print(c,\"와 \" ,d,\"의 곱셈 결과 : \", c*d)\n",
    "print(c,\"와 \" ,d,\"의 나눗셈 결과 : \", c/d)"
   ]
  },
  {
   "cell_type": "markdown",
   "metadata": {},
   "source": [
    "## 연습문제\n",
    "\n",
    "### 삼각형의 밑변과 높이를 입력받아서 삼각형의 넓이를 출력합니다\n",
    "* 밑변을 입력받을 변수 : a\n",
    "* 높이를 입력받을 변수 : b\n",
    "* 넓이를 계산하고 저장할 변수 : n\n",
    "* 삼각형 넓이 공식 : 밑변 * 높이*0.5\n",
    "\n",
    "## 연습문제\n",
    "\n",
    "### 원의 반지름을 입력받아서 넓이와 둘레를 출력하는 프로그램\n",
    "* 반지름 변수이름 : ban\n",
    "* 넓이 변수 이름 : n(공식: 반지름 x 반지름 x 3.141592)\n",
    "* 둘레 변수 이름 ; d(공식: 반지름 x 2 x 3.141592)"
   ]
  },
  {
   "cell_type": "code",
   "execution_count": 24,
   "metadata": {},
   "outputs": [
    {
     "name": "stdout",
     "output_type": "stream",
     "text": [
      "밑변의 길이를 입력하시오 : 3\n",
      "높이를 입력하시오 : 4\n",
      "넓이 :  6.0\n"
     ]
    }
   ],
   "source": [
    "a = int(input(\"밑변의 길이를 입력하시오 : \"))\n",
    "b = int(input(\"높이를 입력하시오 : \"))\n",
    "n = a*b*0.5\n",
    "print(\"넓이 : \",n)"
   ]
  },
  {
   "cell_type": "code",
   "execution_count": 25,
   "metadata": {},
   "outputs": [
    {
     "name": "stdout",
     "output_type": "stream",
     "text": [
      "반지름을 입력하세요 : 5\n",
      "입력한 원의 넓이 :  78.5398\n",
      "입력한 원의 둘레 :  31.41592\n"
     ]
    }
   ],
   "source": [
    "ban=int(input(\"반지름을 입력하세요 : \"))\n",
    "n = ban * ban * 3.141592\n",
    "d = 2 * ban * 3.141592\n",
    "print(\"입력한 원의 넓이 : \", n)\n",
    "print(\"입력한 원의 둘레 : \", d)"
   ]
  },
  {
   "cell_type": "code",
   "execution_count": null,
   "metadata": {},
   "outputs": [],
   "source": []
  }
 ],
 "metadata": {
  "kernelspec": {
   "display_name": "Python 3",
   "language": "python",
   "name": "python3"
  },
  "language_info": {
   "codemirror_mode": {
    "name": "ipython",
    "version": 3
   },
   "file_extension": ".py",
   "mimetype": "text/x-python",
   "name": "python",
   "nbconvert_exporter": "python",
   "pygments_lexer": "ipython3",
   "version": "3.8.5"
  }
 },
 "nbformat": 4,
 "nbformat_minor": 4
}
