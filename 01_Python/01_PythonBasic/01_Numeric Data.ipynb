{
 "cells": [
  {
   "cell_type": "markdown",
   "metadata": {},
   "source": [
    "### 숫자형 자료\n",
    "\n",
    "* 정수(int) : 소수점 아래 자리수가 없는 숫자\n",
    "* 실수(float) : 소수점 아래 표현이 가능한 숫자\n",
    "* 복소수: 실수부와 허수부로 이루어진 수학표현식\n",
    "* 8진수 : 0 1 2 3 4 5 6 7까지의 한 자리수로 이루어진 수 체계\n",
    "* 16진수 : 1 2 3 4 5 6 7 8 9 A B C D E F로 이루어진 수 체계"
   ]
  },
  {
   "cell_type": "code",
   "execution_count": 1,
   "metadata": {},
   "outputs": [
    {
     "name": "stdout",
     "output_type": "stream",
     "text": [
      "1234\n",
      "1234.123\n",
      "42400000000.0\n",
      "0.000424\n",
      "127\n",
      "2748\n"
     ]
    }
   ],
   "source": [
    "print(1234) # 정수 - 소수점 표현 없이 사용\n",
    "print(1234.123) # 실수 - 소수점을 넣고 소수점 아래 수치를 표기\n",
    "print(4.24E10) #지수 표현 : E뒤에 자승 숫자(10의 10승)를 표현하여 사용\n",
    "print(4.24E-4)\n",
    "print(0o177) # 8진수 - 숫자 '0'과 알파엣 'o'를 앞에 붙여서 사용\n",
    "print(0xABC) # 16진수 - 숫자 '0'과 알파벳 'x'를 앞에 붙여서 사용"
   ]
  },
  {
   "cell_type": "code",
   "execution_count": null,
   "metadata": {},
   "outputs": [],
   "source": []
  }
 ],
 "metadata": {
  "kernelspec": {
   "display_name": "Python 3",
   "language": "python",
   "name": "python3"
  },
  "language_info": {
   "codemirror_mode": {
    "name": "ipython",
    "version": 3
   },
   "file_extension": ".py",
   "mimetype": "text/x-python",
   "name": "python",
   "nbconvert_exporter": "python",
   "pygments_lexer": "ipython3",
   "version": "3.8.5"
  }
 },
 "nbformat": 4,
 "nbformat_minor": 4
}
