{
 "cells": [
  {
   "cell_type": "markdown",
   "metadata": {},
   "source": [
    "### 집합(set)\n",
    "* set([ ]) 명령으로 생성하는 데이터\n",
    "* 순서없고, 중복허용도 안됨"
   ]
  },
  {
   "cell_type": "code",
   "execution_count": 2,
   "metadata": {},
   "outputs": [
    {
     "name": "stdout",
     "output_type": "stream",
     "text": [
      "{1, 2, 3}\n",
      "{'l', 'e', 'H', 'o'}\n"
     ]
    }
   ],
   "source": [
    "s1 = set([1,2,3])\n",
    "print(s1)\n",
    "s2 = set(\"Hello\")\n",
    "print(s2)"
   ]
  },
  {
   "cell_type": "code",
   "execution_count": 3,
   "metadata": {},
   "outputs": [
    {
     "name": "stdout",
     "output_type": "stream",
     "text": [
      "[1, 2, 3] 1\n",
      "(1, 2, 3) 2\n"
     ]
    }
   ],
   "source": [
    "# Set를 순서(인덱스 사용이 가능한)를 부여한 리스트나 튜플로 변환하여 사용하기도 합니다\n",
    "s1 = set([1,2,3])\n",
    "l1 = list(s1)\n",
    "print(l1, l1[0])\n",
    "\n",
    "s1 = set([1,2,3])\n",
    "l1 = tuple(s1)\n",
    "print(l1, l1[1])"
   ]
  },
  {
   "cell_type": "markdown",
   "metadata": {},
   "source": [
    "### Set의 활용 및 연산"
   ]
  },
  {
   "cell_type": "code",
   "execution_count": 4,
   "metadata": {},
   "outputs": [
    {
     "name": "stdout",
     "output_type": "stream",
     "text": [
      "{4, 5, 6}\n"
     ]
    }
   ],
   "source": [
    "# 교집합 - a.intersection(b) 또는 a & b로  표현\n",
    "# 두 개의 집합에 동시 존재하는 요소들을 골라내는 동작\n",
    "a = set([1,2,3,4,5,6])\n",
    "b = set([4,5,6,7,8,9])\n",
    "print(a.intersection(b))"
   ]
  },
  {
   "cell_type": "code",
   "execution_count": 5,
   "metadata": {},
   "outputs": [
    {
     "name": "stdout",
     "output_type": "stream",
     "text": [
      "{1, 2, 3, 4, 5, 6, 7, 8, 9}\n",
      "{1, 2, 3}\n"
     ]
    }
   ],
   "source": [
    "# 합집합 - a.union(b) 또는 a|b로 표현\n",
    "# 중복을 제거한 두 집합의 요소를 모두\n",
    "print(a.union(b))\n",
    "# 차집합 - a.difference(b) 또는 a-b로 표현\n",
    "# a집합에서 b집합의 요소들을 제거\n",
    "print(a.difference(b))"
   ]
  },
  {
   "cell_type": "code",
   "execution_count": 6,
   "metadata": {},
   "outputs": [
    {
     "name": "stdout",
     "output_type": "stream",
     "text": [
      "{1, 2, 3, 4, 5, 6, 9}\n",
      "{1, 2, 3, 4, 5, 6, 7, 8, 9}\n",
      "{1, 2, 3, 4, 6, 7, 8, 9}\n"
     ]
    }
   ],
   "source": [
    "# 관련 도구(함수)들\n",
    "# 값 1개 추가\n",
    "a.add(9)\n",
    "print(a)\n",
    "\n",
    "# 여러개 추가\n",
    "a.update([7,8])\n",
    "print(a)\n",
    "\n",
    "# 특정값 제거\n",
    "a.remove(5)\n",
    "print(a)"
   ]
  },
  {
   "cell_type": "code",
   "execution_count": null,
   "metadata": {},
   "outputs": [],
   "source": []
  }
 ],
 "metadata": {
  "kernelspec": {
   "display_name": "Python 3",
   "language": "python",
   "name": "python3"
  },
  "language_info": {
   "codemirror_mode": {
    "name": "ipython",
    "version": 3
   },
   "file_extension": ".py",
   "mimetype": "text/x-python",
   "name": "python",
   "nbconvert_exporter": "python",
   "pygments_lexer": "ipython3",
   "version": "3.8.5"
  }
 },
 "nbformat": 4,
 "nbformat_minor": 4
}
