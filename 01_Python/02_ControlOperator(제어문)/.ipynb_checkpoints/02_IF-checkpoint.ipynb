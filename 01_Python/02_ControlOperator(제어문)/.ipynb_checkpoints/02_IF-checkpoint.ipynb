{
 "cells": [
  {
   "cell_type": "markdown",
   "metadata": {},
   "source": [
    "### if문\n",
    "\n",
    "* 조건(a>10과 같은 True/Flase가 결과인 수식)을 기술하고 조건이 True이면 해당문단을 실행, 아니면 실행하지 않고 뛰어넘는 형식의 순서제어문입니다.\n",
    "* 타 프로그래밍에서 표시하는 실행영역표시가 따로 없습니다\n",
    "* 파이썬에서는 실행영역의 구분으로 'tab'- 들여쓰기가 사용됩니다\n",
    "* if 조건문 :\n",
    "* ...실행문 1\n",
    "* ...실행문 2\n",
    "* 실행문3\n",
    "\n",
    "* 실행문 1\\~2 에서 조건문이 참일때 실행할 명령, 거짓일 때 1\\~2를 건너띄고 3 실행\n",
    "* 조건문 뒤에는 반드시 \":\"를 써야합니다\n",
    "* 들여쓰기에 대부분 tab을 사용하기 때문에 간격이 일정하게 맞춰지긴하나 혹 간격이 맞지 않으면 에러가 발생합니다\n",
    "* 스페이스바를 사용할 때 오류가 많이 발생함. 세 칸 들여쓰기와 네 칸 들여쓰기가 섞여도 오류입니다"
   ]
  },
  {
   "cell_type": "code",
   "execution_count": 1,
   "metadata": {},
   "outputs": [
    {
     "name": "stdout",
     "output_type": "stream",
     "text": [
      "정수입력 : -20\n",
      "음수입니다\n"
     ]
    }
   ],
   "source": [
    "a = int( input(\"정수입력 : \"))\n",
    "a = int(a)\n",
    "if a>0:\n",
    "    print(\"양수입니다\")\n",
    "    \n",
    "if a<0:\n",
    "    print(\"음수입니다\")"
   ]
  },
  {
   "cell_type": "code",
   "execution_count": 2,
   "metadata": {},
   "outputs": [
    {
     "name": "stdout",
     "output_type": "stream",
     "text": [
      "정수입력 : 80\n",
      "짝수입니다\n"
     ]
    }
   ],
   "source": [
    "a = int( input(\"정수입력 : \"))\n",
    "a = int(a)\n",
    "b = a % 2\n",
    "if b==0:\n",
    "    print(\"짝수입니다\")\n",
    "    \n",
    "if b==1:\n",
    "    print(\"홀수입니다\")"
   ]
  },
  {
   "cell_type": "code",
   "execution_count": 5,
   "metadata": {},
   "outputs": [
    {
     "name": "stdout",
     "output_type": "stream",
     "text": [
      "정수입력0\n",
      "0입니다\n"
     ]
    }
   ],
   "source": [
    "a = int( input(\"정수입력\") )\n",
    "a = int(a)\n",
    "if a>0:\n",
    "    print(\"양수입니다\")\n",
    "elif a<0 :   # else if 의 역할\n",
    "    print(\"음수입니다\")\n",
    "else :\n",
    "    print(\"0입니다\")"
   ]
  },
  {
   "cell_type": "code",
   "execution_count": 6,
   "metadata": {},
   "outputs": [
    {
     "name": "stdout",
     "output_type": "stream",
     "text": [
      "점수 입력 : 70\n",
      "C학점\n"
     ]
    }
   ],
   "source": [
    "a = int( input(\"점수 입력 : \"))\n",
    "if a>=90:\n",
    "    print(\"A학점\")\n",
    "elif a>=80 and a<=90:   # 80 <= ㅁ < 90 에러\n",
    "    print(\"B학점\")\n",
    "elif a>=70 and a<=80:\n",
    "    print(\"C학점\")\n",
    "elif a>=60 and a<=70:\n",
    "    print(\"D학점\")\n",
    "else:\n",
    "    print(\"F학점\")"
   ]
  },
  {
   "cell_type": "code",
   "execution_count": 10,
   "metadata": {},
   "outputs": [
    {
     "name": "stdout",
     "output_type": "stream",
     "text": [
      "점수 입력 : 59\n",
      "E학점\n"
     ]
    }
   ],
   "source": [
    "a = int( input(\"점수 입력 : \"))\n",
    "if a>=90:\n",
    "    print(\"A학점\")\n",
    "elif a>=80:   \n",
    "    print(\"B학점\")\n",
    "elif a>=70:\n",
    "    print(\"C학점\")\n",
    "elif a>=60:\n",
    "    print(\"D학점\")\n",
    "else:\n",
    "    print(\"E학점\")"
   ]
  },
  {
   "cell_type": "markdown",
   "metadata": {},
   "source": [
    "### 연습문제1\n",
    "* 출생년도를 입력받아서 나이를 계산하고\n",
    "* 1~12세 : 어린이\n",
    "* 13~19세 : 청소년\n",
    "* 20~35세 : 청년\n",
    "* 36~59세 : 중년\n",
    "* 60~ : 노년\n",
    "* 나이계산 : 2020년 - 출생년도 +1"
   ]
  },
  {
   "cell_type": "code",
   "execution_count": 16,
   "metadata": {},
   "outputs": [
    {
     "name": "stdout",
     "output_type": "stream",
     "text": [
      "출생년도 : 1989\n",
      "현재 나이는 :  32 세 입니다\n",
      "청년입니다\n"
     ]
    }
   ],
   "source": [
    "a = int( input(\"출생년도 : \"))\n",
    "age = 2020 - a +1\n",
    "print(\"현재 나이는 : \",age,\"세 입니다\")\n",
    "if age>=60:\n",
    "    print(\"노년입니다\")\n",
    "elif age>=36:\n",
    "    print(\"중년입니다\")\n",
    "elif age>=20:\n",
    "    print(\"청년입니다\")\n",
    "elif age>=13:\n",
    "    print(\"청소년입니다\")\n",
    "else:\n",
    "    print(\"어린이입니다\")"
   ]
  },
  {
   "cell_type": "markdown",
   "metadata": {},
   "source": [
    "### 연습문제 2\n",
    "* 직급(사원, 주임, 대리, 과장, 부장)과 기본급을 입력받고,\n",
    "* 상여금을 계산하여, 기본급 + 상여금을 출력하세요\n",
    "* 상여금 비율\n",
    "* 사원 : 기본급의 50%\n",
    "* 주임 : 기본급의 60% \n",
    "* 대리 : 기본급의 70%\n",
    "* 과장 : 기본급의 80%\n",
    "* 부장 : 기본급의 90%"
   ]
  },
  {
   "cell_type": "code",
   "execution_count": 18,
   "metadata": {},
   "outputs": [
    {
     "name": "stdout",
     "output_type": "stream",
     "text": [
      "직급을 입력하세요 : 과장\n",
      "급여를 입력하세요 : 5000000\n",
      "기본급 :  5000000  + 상여금 :  4000000.0 , 총 지급액 :  9000000.0\n"
     ]
    }
   ],
   "source": [
    "grade = input(\"직급을 입력하세요 : \")\n",
    "salary = int(input(\"급여를 입력하세요 : \"))\n",
    "if grade==\"부장\":\n",
    "    bonus=salary*0.9\n",
    "elif grade==\"과장\":\n",
    "    bonus=salary*0.8\n",
    "elif grade==\"대리\":\n",
    "    bonus=salary*0.7\n",
    "elif grade==\"주임\":\n",
    "    bonus=salary*0.6\n",
    "else:\n",
    "    bonus=salary*0.5\n",
    "print(\"기본급 : \",salary,\" + 상여금 : \",bonus,\", 총 지급액 : \",salary+bonus)    "
   ]
  },
  {
   "cell_type": "markdown",
   "metadata": {},
   "source": [
    "### 연습문제3\n",
    "* 2021년 1월 1일은 금요일입니다.\n",
    "* 2021년에 한해서 월과 일을 입력받고, 그 날짜가 무슨요일인지 출력합니다\n",
    "* 2021년 1월 1일부터 입력한 날짜까지 몇 일이 지났나 계산하고, 이를 7로 나눈 나머지를 구하고,\n",
    "* 그 값이 1이면 금요일로 계산하여 상대적 출력을 if와 elif안에서 실행하게 합니다\n",
    "* 입력한 날짜까지 지나온 날 수 를 계산하는 방법\n",
    "    * 입력한 월의 바로 전 달까지 각 월의 날짜들을 모두 더합니다\n",
    "    * 그 결과에 입력한 일을 더합니다"
   ]
  },
  {
   "cell_type": "code",
   "execution_count": 20,
   "metadata": {},
   "outputs": [
    {
     "name": "stdout",
     "output_type": "stream",
     "text": [
      "월을 입력하세요 : 2\n",
      "일을 입력하세요 : 15\n",
      "월요일입니다\n"
     ]
    }
   ],
   "source": [
    "month=int( input(\"월을 입력하세요 : \"))\n",
    "day=int( input(\"일을 입력하세요 : \"))\n",
    "\n",
    "if month==1: total=0\n",
    "elif month==2 : total=31\n",
    "elif month==3 : total=31+28\n",
    "elif month==4 : total=31+28+31\n",
    "elif month==5 : total=31+28+31+30\n",
    "elif month==6 : total=31+28+31+30+31\n",
    "elif month==7 : total=31+28+31+30+31+30\n",
    "elif month==8 : total=31+28+31+30+31+30+31\n",
    "elif month==9 : total=31+28+31+30+31+30+31+31\n",
    "elif month==10 : total=31+28+31+30+31+30+31+31+30\n",
    "elif month==11 : total=31+28+31+30+31+30+31+31+30+31\n",
    "elif month==12 : total=31+28+31+30+31+30+31+31+30+31+30 \n",
    "\n",
    "# 조건에 걸린 명령이 한 개만 있다면 위와같이 if 또는 elif가 나란히 표기가 가능합니다\n",
    "\n",
    "total = total + day\n",
    "n = total % 7\n",
    "if n==1: print(\"금요일입니다\")\n",
    "elif n==2 : print(\"토요일입니다\")\n",
    "elif n==3 : print(\"일요일입니다\")\n",
    "elif n==4 : print(\"월요일입니다\")\n",
    "elif n==5 : print(\"화요일입니다\")\n",
    "elif n==6 : print(\"수요일입니다\")\n",
    "elif n==0 : print(\"목요일입니다\")"
   ]
  },
  {
   "cell_type": "markdown",
   "metadata": {},
   "source": [
    "### 연습문제 4\n",
    "* 년도를 입력받고, 그 해가 윤년인지 평년인지 출력하세요\n",
    "* 윤년의 조건\n",
    "    * 4의 배수면서, 100의 배수가 아니거나, 400의 배수인 해"
   ]
  },
  {
   "cell_type": "code",
   "execution_count": 21,
   "metadata": {},
   "outputs": [
    {
     "name": "stdout",
     "output_type": "stream",
     "text": [
      "년도를 입력하세요 : 2020\n",
      "윤년입니다\n"
     ]
    }
   ],
   "source": [
    "y = int(input(\"년도를 입력하세요 : \"))\n",
    "# 자바에 있던 연산우선순위(산술연산 > 관계연산 > 논리연산)가 없기 때문에 아래와 같이 연산하려면 먼저 계산되어야 할 관계연산에\n",
    "# 반드시 괄호를 써야 합니다\n",
    "# 곱셈 나눗셈보다 덧셈 뺄셈의 연산순위가 높은 점은 그대로 유지됩니다.\n",
    "if (y%4==0) and (y%100!=0) or (y%400==0):    \n",
    "    print(\"윤년입니다\")\n",
    "else:\n",
    "    print(\"평년입니다\")\n",
    "    \n",
    "    \n",
    "#a = year % 4\n",
    "#b = year % 100\n",
    "#c = year % 400\n",
    "#if (a==0) and (not b==0) or (c==0):\n",
    "#    print(\"윤년입니다\")\n",
    "#else : \n",
    "#    print(\"평년입니다\")"
   ]
  },
  {
   "cell_type": "code",
   "execution_count": null,
   "metadata": {},
   "outputs": [],
   "source": []
  }
 ],
 "metadata": {
  "kernelspec": {
   "display_name": "Python 3",
   "language": "python",
   "name": "python3"
  },
  "language_info": {
   "codemirror_mode": {
    "name": "ipython",
    "version": 3
   },
   "file_extension": ".py",
   "mimetype": "text/x-python",
   "name": "python",
   "nbconvert_exporter": "python",
   "pygments_lexer": "ipython3",
   "version": "3.8.5"
  }
 },
 "nbformat": 4,
 "nbformat_minor": 4
}
