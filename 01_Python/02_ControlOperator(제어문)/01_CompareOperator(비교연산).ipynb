{
 "cells": [
  {
   "cell_type": "markdown",
   "metadata": {},
   "source": [
    "### 비교(관계) 연산자\n",
    "* '>', '>=', '<', '<=', '==', '!='\n",
    "* is, is not"
   ]
  },
  {
   "cell_type": "code",
   "execution_count": 1,
   "metadata": {},
   "outputs": [
    {
     "name": "stdout",
     "output_type": "stream",
     "text": [
      "False\n",
      "<class 'bool'>\n",
      "a==b :  True\n",
      "a==c :  False\n",
      "a!=c :  True\n",
      "a>c :  False\n",
      "a<c :  True\n",
      "a<=b :  True\n",
      "a is b :  True\n"
     ]
    }
   ],
   "source": [
    "a = 3>6\n",
    "print(a)  # -> false\n",
    "print(type(a)) #-> bool\n",
    "\n",
    "a = 3\n",
    "b = 3\n",
    "c = 10\n",
    "print(\"a==b : \",a==b)\n",
    "print(\"a==c : \",a==c)\n",
    "print(\"a!=c : \",a!=c)\n",
    "print(\"a>c : \",a>c)\n",
    "print(\"a<c : \",a<c)\n",
    "print(\"a<=b : \",a<=b)\n",
    "print(\"a is b : \",a is b)"
   ]
  },
  {
   "cell_type": "markdown",
   "metadata": {},
   "source": [
    "### 논리연산자 : True False 값을 피연산자로 하는 연산자\n",
    "* and : 이항연산, 피연산자가 모두 True여야 결과가 True, 나머지 모두 False\n",
    "* or : 이항연산, 피연산자가 모두 False여야 결과가 False, 나머지 모두 True\n",
    "* not : 단항연산, 피연잔자 값의 반대값(True->False/False->True)"
   ]
  },
  {
   "cell_type": "code",
   "execution_count": 3,
   "metadata": {},
   "outputs": [
    {
     "name": "stdout",
     "output_type": "stream",
     "text": [
      "Ture and True :  True\n",
      "False and True :  False\n",
      "True and False :  False\n",
      "False and False :  False\n",
      "True or True :  True\n",
      "False or False :  False\n",
      "True or False :  True\n",
      "False or False :  False\n",
      "not False :  True\n",
      "not True :  False\n"
     ]
    }
   ],
   "source": [
    "print(\"Ture and True : \", True and True)\n",
    "print(\"False and True : \", False and True)\n",
    "print(\"True and False : \", True and False)\n",
    "print(\"False and False : \", False and False)\n",
    "print(\"True or True : \", True or True)\n",
    "print(\"False or False : \", False or False)\n",
    "print(\"True or False : \", True or False)\n",
    "print(\"False or False : \", False or False)\n",
    "print(\"not False : \", not False)\n",
    "print(\"not True : \", not True)"
   ]
  },
  {
   "cell_type": "code",
   "execution_count": 5,
   "metadata": {},
   "outputs": [
    {
     "name": "stdout",
     "output_type": "stream",
     "text": [
      "정수입력70\n",
      "a>=50 and a<=100 :  True\n",
      "정수입력120\n",
      "a>=50 and a<=100 :  False\n"
     ]
    }
   ],
   "source": [
    "a = input(\"정수입력\")\n",
    "a = int(a)\n",
    "print(\"a>=50 and a<=100 : \", a>=50 and a<=100)\n",
    "a = input(\"정수입력\")\n",
    "a = int(a)\n",
    "print(\"a>=50 and a<=100 : \", a>=50 and a<=100)"
   ]
  },
  {
   "cell_type": "code",
   "execution_count": null,
   "metadata": {},
   "outputs": [],
   "source": []
  }
 ],
 "metadata": {
  "kernelspec": {
   "display_name": "Python 3",
   "language": "python",
   "name": "python3"
  },
  "language_info": {
   "codemirror_mode": {
    "name": "ipython",
    "version": 3
   },
   "file_extension": ".py",
   "mimetype": "text/x-python",
   "name": "python",
   "nbconvert_exporter": "python",
   "pygments_lexer": "ipython3",
   "version": "3.8.5"
  }
 },
 "nbformat": 4,
 "nbformat_minor": 4
}
