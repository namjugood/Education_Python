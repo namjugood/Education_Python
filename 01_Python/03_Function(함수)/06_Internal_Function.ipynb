{
 "cells": [
  {
   "cell_type": "markdown",
   "metadata": {},
   "source": [
    "## 절대값을 구하는 abs()\n",
    "print( abs(-100) )\n",
    "print( abs(-100.123) )"
   ]
  },
  {
   "cell_type": "code",
   "execution_count": 6,
   "metadata": {},
   "outputs": [
    {
     "name": "stdout",
     "output_type": "stream",
     "text": [
      "True\n",
      "False\n"
     ]
    }
   ],
   "source": [
    "# all() - 함수의 인수로 중복을 허용하면서 여러개의 인수를 리스트로 입력받아\n",
    "# 모두가 참( 0 이 아닌 숫자, 비어있지 않은 문자열 등 )이면 결과를 True로,\n",
    "# 하나라도 거짓이 있으면 False를 리턴\n",
    "print( all([5,4,7,8,96,1]))\n",
    "print( all([5,\"\"]))"
   ]
  },
  {
   "cell_type": "markdown",
   "metadata": {},
   "source": [
    "### 여러 자료형이 품고 있는 참(True)과 거짓(False) 값\n",
    "\n",
    "#### 각 자료형들을 bool값으로 변형했을 때 표시되는 값 들\n",
    "\n",
    "* 문자열\n",
    "    * \"python\" -> Ture\n",
    "    * \"\" -> False\n",
    "    * 문자는 한 글자라도 포함된 자료가 True로 표현됩니다\n",
    "    * 아무것도 없는 경우 False로 표현됩니다"
   ]
  },
  {
   "cell_type": "code",
   "execution_count": 7,
   "metadata": {},
   "outputs": [
    {
     "name": "stdout",
     "output_type": "stream",
     "text": [
      "'pythone' :  True\n",
      "'' :  False\n",
      "'0' :  True\n"
     ]
    }
   ],
   "source": [
    "print(\"'pythone' : \", bool(\"pythone\"))\n",
    "print(\"'' : \", bool(''))\n",
    "print(\"'0' : \", bool('0'))"
   ]
  },
  {
   "cell_type": "markdown",
   "metadata": {},
   "source": [
    "* 리스트 : [1,2,3] -> True  ,  [] -> False\n",
    "* 튜플(1,2,3) -> True  ,  () -> False\n",
    "* 딕셔너리 {1:1, 2:2, 3:3} -> True  ,  {} -> False\n",
    "* 숫자 0이 아닌 숫자 -> True  ,  0 -> False\n",
    "* 기타 None : 거짓"
   ]
  },
  {
   "cell_type": "code",
   "execution_count": 8,
   "metadata": {},
   "outputs": [
    {
     "name": "stdout",
     "output_type": "stream",
     "text": [
      "True False\n",
      "True False\n",
      "True False\n",
      "True False\n",
      "False\n"
     ]
    }
   ],
   "source": [
    "print(bool([1,2,3]), bool([]))\n",
    "print(bool((1,2,3)), bool(()))\n",
    "print(bool({1:1,2:2,3:3}), bool({}))\n",
    "print(bool(100), bool(0))\n",
    "print(bool(None))"
   ]
  },
  {
   "cell_type": "code",
   "execution_count": 9,
   "metadata": {},
   "outputs": [
    {
     "name": "stdout",
     "output_type": "stream",
     "text": [
      "True\n",
      "False\n"
     ]
    }
   ],
   "source": [
    "# any() - 인수중에서 하나라도 참이 있으면 True를 리턴\n",
    "print( any([0,0,0,1,0]))\n",
    "print( any([0,\"\"]))"
   ]
  },
  {
   "cell_type": "code",
   "execution_count": 13,
   "metadata": {},
   "outputs": [
    {
     "name": "stdout",
     "output_type": "stream",
     "text": [
      "A B a b\n",
      "& ' ( )\n",
      "0 1 2 3\n",
      "65 66 97 98\n"
     ]
    }
   ],
   "source": [
    "# chr() - 인수로 아스키 코드값을 넣어주면 해당 문자가 리턴\n",
    "print( chr(65),chr(66),chr(97),chr(98) )\n",
    "print( chr(38),chr(39),chr(40),chr(41) )\n",
    "print( chr(48),chr(49),chr(50),chr(51) )\n",
    "\n",
    "# ord() - 문자를 아스키코드로 변환\n",
    "print( ord('A'),ord('B'),ord('a'),ord('b') )"
   ]
  },
  {
   "cell_type": "code",
   "execution_count": 14,
   "metadata": {},
   "outputs": [
    {
     "name": "stdout",
     "output_type": "stream",
     "text": [
      "(3, 1)\n",
      "(3, 3)\n"
     ]
    }
   ],
   "source": [
    "# divmod() - 두 개의 인수를 입력하고, 첫 번째 인수를 두 번째 인수로\n",
    "# 나눈 몫(정수형)과 나머지를 튜플로 리턴합니다\n",
    "print( divmod(10, 3) )\n",
    "print( divmod(15, 4) )"
   ]
  },
  {
   "cell_type": "code",
   "execution_count": 15,
   "metadata": {},
   "outputs": [
    {
     "name": "stdout",
     "output_type": "stream",
     "text": [
      "0 body 1 foo 2 bar \n",
      "(0, 'body') (1, 'foo') (2, 'bar') "
     ]
    }
   ],
   "source": [
    "# enumerate() - 열거하다의 뜻으로 리스트와 같은 자료형을 입력받아 인덱스 값과 \n",
    "# 구성요소 값을 리턴합니다\n",
    "for i, name in enumerate(['body','foo','bar']):\n",
    "    print(i, name, end=\" \")\n",
    "# enumerate의 전달값은 ','로 구분된 튜플값이므로 하나의 변수만 지정하면 매 반복마다\n",
    "# 튜플형식의 데이터리스트가 하나의 변수에 저장됩니다\n",
    "print()\n",
    "for k in enumerate(['body','foo','bar']):\n",
    "    print(k, end=\" \")"
   ]
  },
  {
   "cell_type": "code",
   "execution_count": 17,
   "metadata": {},
   "outputs": [
    {
     "name": "stdout",
     "output_type": "stream",
     "text": [
      "0x4d2\n",
      "0o2322\n",
      "0b10011010010\n"
     ]
    }
   ],
   "source": [
    "# hex(), oct(), bin() : 정수를 인수로 하여\n",
    "# 16진수 또는 8진수, 2진수로 출력\n",
    "print( hex(1234))\n",
    "print( oct(1234))\n",
    "print( bin(1234))"
   ]
  },
  {
   "cell_type": "code",
   "execution_count": 19,
   "metadata": {},
   "outputs": [
    {
     "name": "stdout",
     "output_type": "stream",
     "text": [
      "6 7 2 7 6 3 "
     ]
    }
   ],
   "source": [
    "# len() - 입력된 요소의 개수를 카운트\n",
    "print( len(\"Python\"), end=\" \" )  # 문자의 개수\n",
    "print( len([4,3,4,5,6,7,9]), end=\" \" )  # 리스트 요소의 개수\n",
    "print( len( [1, \"a\"]), end=\" \")\n",
    "print( len((4,3,4,5,6,7,9)), end=\" \" )  # 튜플 요소의 개수\n",
    "print( len({4,3,4,5,6,7,9}), end=\" \" )  # 집합 요소의 개수\n",
    "print( len({4:3,5:6,7:9}), end=\" \" )  # 딕셔너리 요소의 개수"
   ]
  },
  {
   "cell_type": "code",
   "execution_count": 22,
   "metadata": {},
   "outputs": [
    {
     "name": "stdout",
     "output_type": "stream",
     "text": [
      "큰 값 :  a   작은 값 :  a   거듭제곱 :  1024\n",
      "[1, 7, 13, 19, 25, 31, 37, 43, 49, 55, 61, 67, 73, 79, 85, 91, 97]\n",
      "range(1, 101, 6)\n"
     ]
    }
   ],
   "source": [
    "# max() - 인수중 가장 큰 숫자 또는 가장 아스키 값이 큰 문자를 리턴\n",
    "print( \"큰 값 : \", max(['a', 'A']), end=\"   \")\n",
    "# min() - 인수 중 가장 작은 숫자 또는 가장 아스키 값이 작은 문자 리턴\n",
    "print( \"작은 값 : \", max(['a', 'A']), end=\"   \")\n",
    "# pow() - 첫 번째 인수를 두 번째 인수로 거듭제곱한 결과 리턴\n",
    "print( \"거듭제곱 : \", pow(2,10))\n",
    "# range() - 첫 번째 인수부터 두 번째 인수 바로 전까지\n",
    "# 세 번째 인수만큼의 인터벌 간격에 맞춰 숫자 발생\n",
    "print(list(range(1, 101, 6)))\n",
    "print(range(1, 101, 6)) # range그대로 출력됨"
   ]
  },
  {
   "cell_type": "code",
   "execution_count": 23,
   "metadata": {},
   "outputs": [
    {
     "name": "stdout",
     "output_type": "stream",
     "text": [
      "b = sorted(a) - a :  [2, 4, 5, 1, 9]\n",
      "b = sorted(a) - b :  [1, 2, 4, 5, 9]\n",
      "a.sort() - a :  [1, 2, 4, 5, 9]\n"
     ]
    }
   ],
   "source": [
    "# sorted() - 인수로 전달된 리스트를 정렬하고 결과를 리턴 : 원본 보존\n",
    "a = [2,4,5,1,9]\n",
    "b = sorted(a)  #내림차순 srted(a, reverse=Trure)\n",
    "print(\"b = sorted(a) - a : \", a)\n",
    "print(\"b = sorted(a) - b : \", b)\n",
    "# a.sort() : a 리스트 안의 데이터를 순서대로 재배치 : 원본 변경\n",
    "a.sort()  # 내림차순 a.sort(reverse=True)\n",
    "print(\"a.sort() - a : \",a)"
   ]
  },
  {
   "cell_type": "code",
   "execution_count": 24,
   "metadata": {},
   "outputs": [
    {
     "name": "stdout",
     "output_type": "stream",
     "text": [
      "[(1, 4), (2, 5), (3, 6)]\n",
      "[(1, 4, 7), (2, 5, 8), (3, 6, 9)]\n",
      "[('a', 'c', 'e'), ('b', 'd', 'f')]\n",
      "[(1, 4), (2, 5)]\n"
     ]
    }
   ],
   "source": [
    "# zip() - 동일한 개수로 이루어진 자료형을 순서적으로 수집하여 그룹화\n",
    "print( list( zip( [1,2,3] , [4,5,6] )))\n",
    "print( list( zip( [1,2,3] , [4,5,6] , [7,8,9] )))\n",
    "print( list( zip( ['a', 'b'] , ['c', 'd'] , ['e', 'f'] )))\n",
    "# 각 요소를 수집할 데이터들을 갖고 있는 리스트의 개수가 서로 다르면\n",
    "# 쌍을 이룰수 있는 최소의 수집만 실행합니다\n",
    "print( list( zip( [1,2,3] , [4,5 ])))"
   ]
  },
  {
   "cell_type": "code",
   "execution_count": 25,
   "metadata": {},
   "outputs": [
    {
     "name": "stdout",
     "output_type": "stream",
     "text": [
      "12\n",
      "625\n"
     ]
    }
   ],
   "source": [
    "# lambda - 최근 발표되어 사용되고 있는 함수 제작 명령\n",
    "# def 와 동일한 역할\n",
    "# 비교적 짧고 간단한 함수를 제작할 때 많이 사용합니다\n",
    "mul = lambda a, b: a * b  # 함수의 정의 - a, b가 매개변수, a*b는 리턴값\n",
    "#def mul(a, b):\n",
    "#    c = a*b\n",
    "#    return a * b\n",
    "\n",
    "print(mul(3,4))  # 함수의 호출\n",
    "# a, b는 매개변수 - a * b는 리턴값\n",
    "\n",
    "squar = lambda x : x*x\n",
    "print( squar(25) )\n",
    "# x : 매개변수 - x*x : 리턴값"
   ]
  },
  {
   "cell_type": "markdown",
   "metadata": {},
   "source": [
    "### map() \n",
    "* 첫 번째 인수로 함수의 이름, 두 번째 인수로는 리스트와 같은 연속 데이터를 씁니다\n",
    "* 연속데이터 하나하나를 함수의 입력값으로 넣고 그 결과들이 리스트로 리턴됩니다"
   ]
  },
  {
   "cell_type": "code",
   "execution_count": 26,
   "metadata": {},
   "outputs": [
    {
     "name": "stdout",
     "output_type": "stream",
     "text": [
      "36\n"
     ]
    }
   ],
   "source": [
    "# 일반적인 함수의 사용 예\n",
    "def self_mul(x):\n",
    "    return x*x\n",
    "\n",
    "a = self_mul(6)\n",
    "print(a)"
   ]
  },
  {
   "cell_type": "code",
   "execution_count": 36,
   "metadata": {},
   "outputs": [
    {
     "name": "stdout",
     "output_type": "stream",
     "text": [
      "16 25 36 49\n",
      "[16, 25, 36, 49]\n",
      "[16, 25, 36, 49]\n",
      "[16, 25, 36, 49]\n"
     ]
    }
   ],
   "source": [
    "# 함수를 리스트데이터에 적용하고자 할 때\n",
    "p = [4,5,6,7]\n",
    "# 방법1\n",
    "print( self_mul( p[0]), end=\" \")\n",
    "print( self_mul( p[1]), end=\" \")\n",
    "print( self_mul( p[2]), end=\" \")\n",
    "print( self_mul( p[3]))\n",
    "\n",
    "# 방법2\n",
    "result = []\n",
    "for i in p:\n",
    "    result.append(self_mul(i))\n",
    "print(result)\n",
    "    \n",
    "# 방법3\n",
    "def self_mul_2(x):\n",
    "    result = []\n",
    "    for i in x:\n",
    "        result.append( i*i )\n",
    "    return result\n",
    "print( self_mul_2(p) )\n",
    "\n",
    "# 방법4\n",
    "print( list( map( self_mul, p)))"
   ]
  },
  {
   "cell_type": "code",
   "execution_count": null,
   "metadata": {},
   "outputs": [],
   "source": []
  }
 ],
 "metadata": {
  "kernelspec": {
   "display_name": "Python 3",
   "language": "python",
   "name": "python3"
  },
  "language_info": {
   "codemirror_mode": {
    "name": "ipython",
    "version": 3
   },
   "file_extension": ".py",
   "mimetype": "text/x-python",
   "name": "python",
   "nbconvert_exporter": "python",
   "pygments_lexer": "ipython3",
   "version": "3.8.5"
  }
 },
 "nbformat": 4,
 "nbformat_minor": 4
}
