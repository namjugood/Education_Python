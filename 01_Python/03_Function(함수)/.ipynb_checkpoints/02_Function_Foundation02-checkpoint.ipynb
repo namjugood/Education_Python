{
 "cells": [
  {
   "cell_type": "markdown",
   "metadata": {},
   "source": [
    "### 반지름을 입력받아 넓이와 둘레를 출력하세요"
   ]
  },
  {
   "cell_type": "code",
   "execution_count": 20,
   "metadata": {},
   "outputs": [],
   "source": [
    "# 반지름 입력\n",
    "def inputData():\n",
    "    ban=int(input(\"반지름을 입력하시오 : \"))\n",
    "    return ban"
   ]
  },
  {
   "cell_type": "code",
   "execution_count": 21,
   "metadata": {},
   "outputs": [],
   "source": [
    "def cal_n(ban):\n",
    "    n = ban*ban*3.14\n",
    "    return n"
   ]
  },
  {
   "cell_type": "code",
   "execution_count": 22,
   "metadata": {},
   "outputs": [],
   "source": [
    "def cal_d(ban):\n",
    "    d = ban*2*3.14\n",
    "    return d"
   ]
  },
  {
   "cell_type": "code",
   "execution_count": 23,
   "metadata": {},
   "outputs": [],
   "source": [
    "def prnResult(n, d):\n",
    "    print(\"원의 넓이 : %0.2f\" % n)\n",
    "    print(\"원의 지름 : %0.2f\" % d)"
   ]
  },
  {
   "cell_type": "code",
   "execution_count": 24,
   "metadata": {
    "scrolled": true
   },
   "outputs": [
    {
     "name": "stdout",
     "output_type": "stream",
     "text": [
      "반지름을 입력하시오 : 5\n",
      "원의 넓이 : 78.50\n",
      "원의 지름 : 31.40\n"
     ]
    }
   ],
   "source": [
    "ban = inputData()\n",
    "n = cal_n(ban)\n",
    "d = cal_d(ban)\n",
    "prnResult(n,d)"
   ]
  },
  {
   "cell_type": "markdown",
   "metadata": {},
   "source": [
    "### 숫자 하나를 입력받아서 입력받은 숫자의 팩토리얼을 계산하는 함수를 만들어 이용하고 출력하시오\n",
    "* 정수입력 : 6\n",
    "* 6! = 1x2x3x4x5x6 = 720"
   ]
  },
  {
   "cell_type": "code",
   "execution_count": 25,
   "metadata": {},
   "outputs": [],
   "source": [
    "def inputData():\n",
    "    return int( input(\"정수입력 : \"))"
   ]
  },
  {
   "cell_type": "code",
   "execution_count": 27,
   "metadata": {},
   "outputs": [],
   "source": [
    "def calFact(n):\n",
    "    fact = 1\n",
    "    for i in range(1,n+1):\n",
    "        print(\"%dx\" % i, end=\"\")\n",
    "        fact *= i\n",
    "    return fact"
   ]
  },
  {
   "cell_type": "code",
   "execution_count": 29,
   "metadata": {},
   "outputs": [
    {
     "name": "stdout",
     "output_type": "stream",
     "text": [
      "정수입력 : 5\n",
      "5! = 1x2x3x4x5 = 120\n"
     ]
    }
   ],
   "source": [
    "n = inputData()\n",
    "print(\"%d! = \" % n, end=\"\")\n",
    "factorial = calFact(n)\n",
    "print(\"\\b = %d\" % factorial)\n"
   ]
  },
  {
   "cell_type": "code",
   "execution_count": null,
   "metadata": {},
   "outputs": [],
   "source": []
  }
 ],
 "metadata": {
  "kernelspec": {
   "display_name": "Python 3",
   "language": "python",
   "name": "python3"
  },
  "language_info": {
   "codemirror_mode": {
    "name": "ipython",
    "version": 3
   },
   "file_extension": ".py",
   "mimetype": "text/x-python",
   "name": "python",
   "nbconvert_exporter": "python",
   "pygments_lexer": "ipython3",
   "version": "3.8.5"
  }
 },
 "nbformat": 4,
 "nbformat_minor": 4
}
