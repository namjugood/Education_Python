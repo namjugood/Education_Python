{
 "cells": [
  {
   "cell_type": "markdown",
   "metadata": {},
   "source": [
    "### 전달인수의 개수가 정해지지 않은 함수\n",
    "* *args라는 이름으로 매개변수를 작성\n",
    "* 전달인수의 갯수에 상관없이 전달된 모든 데이터를 튜플로 저장\n",
    "* 아래와 같이 반복실행의 요소로 사용"
   ]
  },
  {
   "cell_type": "code",
   "execution_count": 1,
   "metadata": {},
   "outputs": [],
   "source": [
    "def sum_many(*args):\n",
    "    print(args)\n",
    "    sum = 0\n",
    "    for k in args:\n",
    "        sum = sum+k\n",
    "    return sum"
   ]
  },
  {
   "cell_type": "code",
   "execution_count": 2,
   "metadata": {},
   "outputs": [
    {
     "name": "stdout",
     "output_type": "stream",
     "text": [
      "(2, 3)\n",
      "5\n",
      "(2, 3, 4, 5, 6, 7, 8, 9, 9, 7, 90, 23, 45, 4, 67, 8, 8, 9, 1, 2, 3)\n",
      "320\n"
     ]
    }
   ],
   "source": [
    "s = sum_many(2,3)\n",
    "print(s)\n",
    "s = sum_many(2,3,4,5,6,7,8,9,9,7,90,23,45,4,67,8,8,9,1,2,3)\n",
    "print(s)"
   ]
  },
  {
   "cell_type": "code",
   "execution_count": 3,
   "metadata": {},
   "outputs": [
    {
     "name": "stdout",
     "output_type": "stream",
     "text": [
      "(3, 5, 6, '5')\n"
     ]
    },
    {
     "ename": "TypeError",
     "evalue": "unsupported operand type(s) for +: 'int' and 'str'",
     "output_type": "error",
     "traceback": [
      "\u001b[1;31m---------------------------------------------------------------------------\u001b[0m",
      "\u001b[1;31mTypeError\u001b[0m                                 Traceback (most recent call last)",
      "\u001b[1;32m<ipython-input-3-a395058d3975>\u001b[0m in \u001b[0;36m<module>\u001b[1;34m\u001b[0m\n\u001b[0;32m      1\u001b[0m \u001b[1;31m# 개수가 정해지지 않은 전달인수로 서로 다른 자료형의 데이터를 전달하는 경우\u001b[0m\u001b[1;33m\u001b[0m\u001b[1;33m\u001b[0m\u001b[1;33m\u001b[0m\u001b[0m\n\u001b[1;32m----> 2\u001b[1;33m \u001b[0ms\u001b[0m \u001b[1;33m=\u001b[0m \u001b[0msum_many\u001b[0m\u001b[1;33m(\u001b[0m\u001b[1;36m3\u001b[0m\u001b[1;33m,\u001b[0m\u001b[1;36m5\u001b[0m\u001b[1;33m,\u001b[0m\u001b[1;36m6\u001b[0m\u001b[1;33m,\u001b[0m\u001b[1;34m'5'\u001b[0m\u001b[1;33m)\u001b[0m\u001b[1;33m\u001b[0m\u001b[1;33m\u001b[0m\u001b[0m\n\u001b[0m\u001b[0;32m      3\u001b[0m \u001b[1;31m# 전달하는 것까지는 문제가 없으나 그 안에서 서로간 연산이 일어나서 나오는 에러는 주의해야 함\u001b[0m\u001b[1;33m\u001b[0m\u001b[1;33m\u001b[0m\u001b[1;33m\u001b[0m\u001b[0m\n",
      "\u001b[1;32m<ipython-input-1-d39251620ba7>\u001b[0m in \u001b[0;36msum_many\u001b[1;34m(*args)\u001b[0m\n\u001b[0;32m      3\u001b[0m     \u001b[0msum\u001b[0m \u001b[1;33m=\u001b[0m \u001b[1;36m0\u001b[0m\u001b[1;33m\u001b[0m\u001b[1;33m\u001b[0m\u001b[0m\n\u001b[0;32m      4\u001b[0m     \u001b[1;32mfor\u001b[0m \u001b[0mk\u001b[0m \u001b[1;32min\u001b[0m \u001b[0margs\u001b[0m\u001b[1;33m:\u001b[0m\u001b[1;33m\u001b[0m\u001b[1;33m\u001b[0m\u001b[0m\n\u001b[1;32m----> 5\u001b[1;33m         \u001b[0msum\u001b[0m \u001b[1;33m=\u001b[0m \u001b[0msum\u001b[0m\u001b[1;33m+\u001b[0m\u001b[0mk\u001b[0m\u001b[1;33m\u001b[0m\u001b[1;33m\u001b[0m\u001b[0m\n\u001b[0m\u001b[0;32m      6\u001b[0m     \u001b[1;32mreturn\u001b[0m \u001b[0msum\u001b[0m\u001b[1;33m\u001b[0m\u001b[1;33m\u001b[0m\u001b[0m\n",
      "\u001b[1;31mTypeError\u001b[0m: unsupported operand type(s) for +: 'int' and 'str'"
     ]
    }
   ],
   "source": [
    "# 개수가 정해지지 않은 전달인수로 서로 다른 자료형의 데이터를 전달하는 경우\n",
    "s = sum_many(3,5,6,'5')\n",
    "# 전달하는 것까지는 문제가 없으나 그 안에서 서로간 연산이 일어나서 나오는 에러는 주의해야 함"
   ]
  },
  {
   "cell_type": "markdown",
   "metadata": {},
   "source": [
    "### *args와 함께 사용하는 별도의 전달인수\n",
    "* 반드시 args보다 왼쪽에 있어야 합니다(args가 가장 오른쪽에 위치)\n",
    "* 만약 위치가 다르면(*args의 오른쪽에 다른 매개변수가 있다면) 함수 호출 시 별도의 변수에 전달되는 값과 *args에 전달되는 값들의 경계를 구분할 수가 없습니다\n",
    "* 왼쪽에 매개변수가 하나라면, 전달된 인수들 중 왼쪽 하나만 그 변수에 전달되고 나머지는 튜플로 *args에 전달됩니다"
   ]
  },
  {
   "cell_type": "markdown",
   "metadata": {},
   "source": [
    "### 관련예제\n",
    "* *args를 이용하여 데이터를 전달해 주되, op매개변수를 만들고, 연산자를 전달하여 연산자별 계산의 결과를 리턴해서 출력하시오\n",
    "* 연산자는 +-/*"
   ]
  },
  {
   "cell_type": "code",
   "execution_count": 4,
   "metadata": {},
   "outputs": [],
   "source": [
    "def cal_number(op, *args):\n",
    "    result=0\n",
    "    if op =='+':\n",
    "        for i in args:\n",
    "            result+=i\n",
    "    elif op =='-':\n",
    "        for i in args:\n",
    "            result-=i\n",
    "    elif op =='*':\n",
    "        for i in args:\n",
    "            result*=i\n",
    "    elif op =='/':\n",
    "        for i in args:\n",
    "            result/=i\n",
    "    return result"
   ]
  },
  {
   "cell_type": "code",
   "execution_count": 5,
   "metadata": {},
   "outputs": [
    {
     "name": "stdout",
     "output_type": "stream",
     "text": [
      "80\n",
      "-80\n",
      "0\n",
      "0.0\n"
     ]
    }
   ],
   "source": [
    "print( cal_number('+', 5,6,9,8,7,45))\n",
    "print( cal_number('-', 5,6,9,8,7,45))\n",
    "print( cal_number('*', 5,6,9,8,7,45))\n",
    "print( cal_number('/', 5,6,9,8,7,45))"
   ]
  },
  {
   "cell_type": "code",
   "execution_count": 1,
   "metadata": {},
   "outputs": [],
   "source": [
    "def cal_tot_ave(op, *args):\n",
    "    tot=0\n",
    "    for k in args:\n",
    "        tot = tot + k\n",
    "    if op=='총점':\n",
    "        return tot\n",
    "    else:\n",
    "        return tot / len(args)\n",
    "    # len(목록형 변수이름) -> 자료요소의 개수"
   ]
  },
  {
   "cell_type": "code",
   "execution_count": 2,
   "metadata": {},
   "outputs": [
    {
     "name": "stdout",
     "output_type": "stream",
     "text": [
      "총점:437\t평균:87.40\n",
      "총점:221\t평균:73.67\n"
     ]
    }
   ],
   "source": [
    "s = cal_tot_ave(\"총점\", 98,87,58,96,98)\n",
    "a = cal_tot_ave(\"평균\", 98,87,58,96,98)\n",
    "print(\"총점:%d\\t평균:%0.2f\" % (s, a) )\n",
    "s = cal_tot_ave(\"총점\", 87,45,89)\n",
    "a = cal_tot_ave(\"평균\", 87,45,89)\n",
    "print(\"총점:%d\\t평균:%0.2f\" % (s, a) )"
   ]
  },
  {
   "cell_type": "code",
   "execution_count": null,
   "metadata": {},
   "outputs": [],
   "source": []
  }
 ],
 "metadata": {
  "kernelspec": {
   "display_name": "Python 3",
   "language": "python",
   "name": "python3"
  },
  "language_info": {
   "codemirror_mode": {
    "name": "ipython",
    "version": 3
   },
   "file_extension": ".py",
   "mimetype": "text/x-python",
   "name": "python",
   "nbconvert_exporter": "python",
   "pygments_lexer": "ipython3",
   "version": "3.8.5"
  }
 },
 "nbformat": 4,
 "nbformat_minor": 4
}
