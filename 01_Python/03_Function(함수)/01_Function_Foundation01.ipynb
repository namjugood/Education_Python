{
 "cells": [
  {
   "cell_type": "markdown",
   "metadata": {},
   "source": [
    "### 함수(Function)\n",
    "* 입력값을 주면 해당하는 연산 후 출력값을 내어놓는 도구\n",
    "* 필요에 따라 입력값이나 출력값을 생략하고 해당하는 연산 및 명령실행만 이루어지는 함수도 있습니다\n",
    "* 함수는 고유한 이름을 갖고 있으며, 사용시 이름과 그 옆에 괄호를 항상 표시해서 사용합니다"
   ]
  },
  {
   "cell_type": "code",
   "execution_count": 9,
   "metadata": {
    "scrolled": true
   },
   "outputs": [
    {
     "name": "stdout",
     "output_type": "stream",
     "text": [
      "1 번 학생의 1 번째 과목  입력 : 12\n",
      "1 번 학생의 2 번째 과목  입력 : 45\n",
      "1 번 학생의 3 번째 과목  입력 : 78\n",
      "2 번 학생의 1 번째 과목  입력 : 98\n",
      "2 번 학생의 2 번째 과목  입력 : 65\n",
      "2 번 학생의 3 번째 과목  입력 : 32\n",
      "3 번 학생의 1 번째 과목  입력 : 14\n",
      "3 번 학생의 2 번째 과목  입력 : 25\n",
      "3 번 학생의 3 번째 과목  입력 : 36\n",
      "\t\t### 성적표 ###\n",
      "--------------------------------------------------\n",
      "번호\t국어\t영어\t수학\t총점\t평균\n",
      "--------------------------------------------------\n",
      "1\t12\t45\t78\t135\t45.00\n",
      "2\t98\t65\t32\t195\t65.00\n",
      "3\t14\t25\t36\t75\t25.00\n",
      "--------------------------------------------------\n"
     ]
    }
   ],
   "source": [
    "# 점수 입력 후 입력된 점수들을 리스트에 저장\n",
    "score = [] # 비어있는 데이터 생성 - 3명의 학생들의 각각 3과목의 점수들이 저장될 2차원 리스트\n",
    "for i in range(0,3):   # 세 과목을 입력받기 위한 반복실행문\n",
    "    t = [] # 비어있는 리스트 생성 - 3과목의 점수를 저장하기 위한 1차원 리스트\n",
    "    for j in range(0,3):\n",
    "        # 점수 입력\n",
    "        print(\"%d 번 학생의 %d 번째 과목 \" % (i+1, j+1), end=\" \")\n",
    "        jumsoo = int( input(\"입력 : \"))\n",
    "        # 입력된 점수를 t 리스트에 추가(append 함수 이용)\n",
    "        t.append(jumsoo)\n",
    "        # 98입력 -> t:[98], 85입력 -> t:[98, 85], 88입력 -> t:[98,85,88]\n",
    "        #print(\"t 리스트 : \",t)\n",
    "    score.append(t)\n",
    "    #print(\"score 리스트 : \",score)\n",
    "    # s.append(t) -> s:[ [98,85,88] ] : 이와같은 동작을 3번 반복\n",
    "    # 최종 s:[ [98,85,88],[xx,xx,xx],[xx,xx,xx] ] 완성\n",
    "\n",
    "# 총점 계산\n",
    "# print(score)\n",
    "total = []\n",
    "for sc in score: # score 리스트에 있던 각 1차원 리스트들을 sc에 하나씩 할당\n",
    "    sum = 0  # sum을 0으로 초기화\n",
    "    for s in sc: # sc리스트에 있던 각 점수들을 s에 하나씩 할당\n",
    "        sum = sum + s\n",
    "    total.append(sum)\n",
    "\n",
    "# 평균 계산    \n",
    "average = []\n",
    "for t in total : \n",
    "    average.append(t/(j+1))\n",
    "\n",
    "# 성적표 타이틀 출력\n",
    "print(\"\\t\\t### 성적표 ###\")\n",
    "print(\"-\"*50)\n",
    "print(\"번호\\t국어\\t영어\\t수학\\t총점\\t평균\")\n",
    "print(\"-\"*50)\n",
    "\n",
    "# 성적 출력\n",
    "for i in range(0,3):\n",
    "    print(\"%d\\t\" % (i+1), end=\"\") # 번호 출력\n",
    "    for j in range(0,3):\n",
    "        print(\"%d\\t\" % (score[i][j]), end=\"\") # 과목점수들 출력\n",
    "    print(\"%d\\t%0.2f\" % (total[i],average[i])) # 총점 평균들 출력\n",
    "print(\"-\"*50)"
   ]
  },
  {
   "cell_type": "markdown",
   "metadata": {},
   "source": [
    "### 함수의 생성\n",
    "* def 함수이름():\n",
    "* 명령문1\n",
    "* 명령문2\n",
    "* ...\n",
    "* 위와 같이 생성하고 함수의 이름으로 호출해서 사용합니다"
   ]
  },
  {
   "cell_type": "code",
   "execution_count": 22,
   "metadata": {},
   "outputs": [],
   "source": [
    "# 첫 번째 함수 : 입력값 없고, 출력값 없으며, 해당 명령만 실행하는 예\n",
    "# 실행 내용만을 포함한 함수, 전달인수, 리턴값 없음\n",
    "def prnTitle():\n",
    "    print(\"\\t\\t### 성적표 ###\")\n",
    "    print(\"-\"*50)\n",
    "    print(\"번호\\t국어\\t영어\\t수학\\t총점\\t평균\")\n",
    "    print(\"-\"*50)"
   ]
  },
  {
   "cell_type": "code",
   "execution_count": 23,
   "metadata": {},
   "outputs": [],
   "source": [
    "# 두 번째 함수 : 리턴값 있고, 전달인수 없는 예\n",
    "def inputData():\n",
    "    score = [] \n",
    "    for i in range(0,3):\n",
    "        t = [] \n",
    "        for j in range(0,3):\n",
    "            # 점수 입력\n",
    "            print(\"%d 번 학생의 %d 번째 과목 \" % (i+1, j+1), end=\"\")\n",
    "            jumsoo = int( input(\"입력 : \"))\n",
    "            t.append(jumsoo)\n",
    "        score.append(t)\n",
    "    return score\n",
    "# 본 프로그램의 score변수와 inputData 함수의 score변수는 서로 다른 지역 변수입니다.\n",
    "# 이름만 같을 분 다른 변수로 인식합니다."
   ]
  },
  {
   "cell_type": "code",
   "execution_count": 27,
   "metadata": {},
   "outputs": [],
   "source": [
    "# 세 번째 함수 : 전달인수 있고, 리턴값 있는 예\n",
    "def calTot( score ):\n",
    "    total = []\n",
    "    for sc in score:\n",
    "        sum = 0  \n",
    "        for s in sc: \n",
    "            sum = sum + s\n",
    "        total.append(sum)\n",
    "    return total\n",
    "\n",
    "# 평균계산하는 함수\n",
    "def calAverage(total):\n",
    "    average = []\n",
    "    for t in total:\n",
    "        average.append(t/3)\n",
    "    return average"
   ]
  },
  {
   "cell_type": "code",
   "execution_count": 28,
   "metadata": {},
   "outputs": [],
   "source": [
    "# 네 번째 함수 : 전달인수 있고, 리턴값 없고\n",
    "def prnScore(score, total, average):\n",
    "    for i in range(0,3):\n",
    "        print(\"%d\\t\" % (i+1), end=\"\") \n",
    "        for j in range(0,3):\n",
    "            print(\"%d\\t\" % (score[i][j]), end=\"\")\n",
    "        print(\"%d\\t%0.2f\" % (total[i],average[i]))\n",
    "    print(\"-\"*50)"
   ]
  },
  {
   "cell_type": "code",
   "execution_count": 29,
   "metadata": {},
   "outputs": [
    {
     "name": "stdout",
     "output_type": "stream",
     "text": [
      "1 번 학생의 1 번째 과목 입력 : 12\n",
      "1 번 학생의 2 번째 과목 입력 : 11\n",
      "1 번 학생의 3 번째 과목 입력 : 11\n",
      "2 번 학생의 1 번째 과목 입력 : 11\n",
      "2 번 학생의 2 번째 과목 입력 : 11\n",
      "2 번 학생의 3 번째 과목 입력 : 11\n",
      "3 번 학생의 1 번째 과목 입력 : 11\n",
      "3 번 학생의 2 번째 과목 입력 : 11\n",
      "3 번 학생의 3 번째 과목 입력 : 11\n",
      "\t\t### 성적표 ###\n",
      "--------------------------------------------------\n",
      "번호\t국어\t영어\t수학\t총점\t평균\n",
      "--------------------------------------------------\n",
      "1\t12\t11\t11\t34\t11.33\n",
      "2\t11\t11\t11\t33\t11.00\n",
      "3\t11\t11\t11\t33\t11.00\n",
      "--------------------------------------------------\n"
     ]
    }
   ],
   "source": [
    "# 점수 입력\n",
    "score = inputData()\n",
    "\n",
    "# 총점 계산\n",
    "# total.append( calTot(score[0]) )\n",
    "# total.append( calTot(score[1]) )\n",
    "# total.append( calTot(score[2]) )\n",
    "total = calTot(score)\n",
    "\n",
    "# 평균 계산    \n",
    "average = calAverage(total)\n",
    "\n",
    "# 성적표 타이틀 출력\n",
    "prnTitle()\n",
    "\n",
    "# 성적 출력\n",
    "prnScore(score, total, average)"
   ]
  },
  {
   "cell_type": "code",
   "execution_count": null,
   "metadata": {},
   "outputs": [],
   "source": []
  }
 ],
 "metadata": {
  "kernelspec": {
   "display_name": "Python 3",
   "language": "python",
   "name": "python3"
  },
  "language_info": {
   "codemirror_mode": {
    "name": "ipython",
    "version": 3
   },
   "file_extension": ".py",
   "mimetype": "text/x-python",
   "name": "python",
   "nbconvert_exporter": "python",
   "pygments_lexer": "ipython3",
   "version": "3.8.5"
  }
 },
 "nbformat": 4,
 "nbformat_minor": 4
}
