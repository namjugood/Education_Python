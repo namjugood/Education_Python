{
 "cells": [
  {
   "cell_type": "markdown",
   "metadata": {},
   "source": [
    "### 파이썬의 함수는 여러개의 리턴값을 리턴할 수 있습니다\n",
    "* return 리턴값1, 리턴값2\n",
    "* 위와 같이 정의하며, 함수를 호출한 곳에서는 두 개의 값을 받아줄 수 있게 변수 두 개가 기다리고 있으면 됩니다\n",
    "    * 함수의 호출 : a, b = 함수()\n",
    "    *\n",
    "    * def함수():\n",
    "    * ....return a, b"
   ]
  },
  {
   "cell_type": "code",
   "execution_count": 4,
   "metadata": {},
   "outputs": [],
   "source": [
    "def sum_and_mul(num1, num2):\n",
    "    a = num1+num2\n",
    "    b = num1*num2\n",
    "    return a, b"
   ]
  },
  {
   "cell_type": "code",
   "execution_count": 5,
   "metadata": {},
   "outputs": [
    {
     "name": "stdout",
     "output_type": "stream",
     "text": [
      "79\n",
      "1288\n"
     ]
    }
   ],
   "source": [
    "# 두 개의 전달인수를 전달하고, 그 두 전달인수의 덧셈의 결과와 곱셈의 결과를\n",
    "# 한 번에 리턴받는 함수의 실행\n",
    "s, m = sum_and_mul(23,56)  # s, m: 튜플 형태\n",
    "print(s)\n",
    "print(m)"
   ]
  },
  {
   "cell_type": "code",
   "execution_count": 6,
   "metadata": {},
   "outputs": [
    {
     "name": "stdout",
     "output_type": "stream",
     "text": [
      "(79, 1288)\n",
      "79\n",
      "1288\n"
     ]
    }
   ],
   "source": [
    "# 멀티리턴값이 하나의 변수로 전달된다면, 튜플형식으로 전달되어 저장됩니다\n",
    "result = sum_and_mul(23,56)  # result = (s, m)\n",
    "print(result)\n",
    "print(result[0])\n",
    "print(result[1])"
   ]
  },
  {
   "cell_type": "markdown",
   "metadata": {},
   "source": [
    "* 멀티 리턴의 값은 리턴될 때 그 개수에 상관없이 위와 같은 튜플로 묶입니다\n",
    "* (괄호가 없어도 ','로 구분되는 데이터는 튜플로 인식합니다)\n",
    "* 그 값이 전달되어 돌아온 곳에 변수가 하나 있으면 하나의 변수에 전달된 튜플로 저장됩니다\n",
    "* 전달되어 돌아온 곳에 변수가 튜플을 이루는 데이터 개수만큼 있다면 각각의 변수에 각 요소가 저장됩니다"
   ]
  },
  {
   "cell_type": "code",
   "execution_count": 58,
   "metadata": {},
   "outputs": [],
   "source": [
    "def prnScore(s, t, a):\n",
    "    for i in range(0,3):\n",
    "        print(\"%d\\t\" % (i+1), end=\"\")\n",
    "        for j in range(0,3):\n",
    "            print(\"%d\\t\" % (score[i][j]), end=\"\")\n",
    "        print(\"%d\\t%0.2f\" % (t[i], a[i]) )\n",
    "    print(\"-\"*50)"
   ]
  },
  {
   "cell_type": "code",
   "execution_count": 51,
   "metadata": {},
   "outputs": [],
   "source": [
    "def prnTitle():\n",
    "    print(\"\\t\\t### 성적표 ###\\n\", \"-\"*50)\n",
    "    print(\"번호\\t국어\\t영어\\t수학\\t총점\\t평균\\n\", \"-\"*50)"
   ]
  },
  {
   "cell_type": "code",
   "execution_count": 54,
   "metadata": {},
   "outputs": [],
   "source": [
    "def calTotAve(score):\n",
    "    tot = []\n",
    "    ave = []\n",
    "    for i in score:\n",
    "        sum = 0\n",
    "        for j in i:\n",
    "            sum = sum + j\n",
    "        tot.append(sum)\n",
    "        ave.append(sum/3)\n",
    "    return total, average"
   ]
  },
  {
   "cell_type": "code",
   "execution_count": 59,
   "metadata": {},
   "outputs": [
    {
     "name": "stdout",
     "output_type": "stream",
     "text": [
      "\t\t### 성적표 ###\n",
      " --------------------------------------------------\n",
      "번호\t국어\t영어\t수학\t총점\t평균\n",
      " --------------------------------------------------\n",
      "1\t87\t98\t69\t254\t84.67\n",
      "2\t78\t89\t58\t225\t75.00\n",
      "3\t77\t88\t99\t264\t88.00\n",
      "--------------------------------------------------\n"
     ]
    }
   ],
   "source": [
    "score = [ [87,98,69], [78,89,58], [77,88,99]]\n",
    "total, average = calTotAve( score )\n",
    "prnTitle()\n",
    "prnScore(score, total, average)"
   ]
  },
  {
   "cell_type": "code",
   "execution_count": null,
   "metadata": {},
   "outputs": [],
   "source": []
  }
 ],
 "metadata": {
  "kernelspec": {
   "display_name": "Python 3",
   "language": "python",
   "name": "python3"
  },
  "language_info": {
   "codemirror_mode": {
    "name": "ipython",
    "version": 3
   },
   "file_extension": ".py",
   "mimetype": "text/x-python",
   "name": "python",
   "nbconvert_exporter": "python",
   "pygments_lexer": "ipython3",
   "version": "3.8.5"
  }
 },
 "nbformat": 4,
 "nbformat_minor": 4
}
