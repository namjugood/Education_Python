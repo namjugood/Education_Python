{
 "cells": [
  {
   "cell_type": "markdown",
   "metadata": {},
   "source": [
    "* Internal Function이 미리 내장된 함수를 불러 사용하는 것이라면, External Function은 \n",
    "외부에 준비된 함수들의 그룹(모듈)을 import하여 사용하는 것을 말합니다\n",
    "* External Function은 외부에 있는 모듈을 불러와야 하기 때문에 해당 함수가 포함된 모듈을\n",
    "import해야 사용할 수 있으며, 필요에 따라 추가로 설치(install)작업을 실행해야 할 때도 있습니다."
   ]
  },
  {
   "cell_type": "code",
   "execution_count": 1,
   "metadata": {},
   "outputs": [],
   "source": [
    "# 랜덤한 숫자를 추출하기 위한 모듈 random\n",
    "import random"
   ]
  },
  {
   "cell_type": "code",
   "execution_count": 2,
   "metadata": {},
   "outputs": [
    {
     "name": "stdout",
     "output_type": "stream",
     "text": [
      "87 78 50 60 41 71 94 48 11 75 78 47 27 29 21 42 78 83 98 44 22 7 27 77 26 50 29 81 68 12 "
     ]
    }
   ],
   "source": [
    "# 1부터 100 사이의 숫자중 랜덤한 숫자를 골라 30번 출력합니다\n",
    "for i in range(0,30):\n",
    "    a = random.randint(1,100)\n",
    "    print(a, end=\" \")"
   ]
  },
  {
   "cell_type": "markdown",
   "metadata": {},
   "source": [
    "### 1부터 45사이의 숫자 6개를 뽑아서 오름차순 정렬한 후 출력하세요"
   ]
  },
  {
   "cell_type": "code",
   "execution_count": 2,
   "metadata": {},
   "outputs": [
    {
     "name": "stdout",
     "output_type": "stream",
     "text": [
      "[8, 11, 18, 26, 28, 36]\n"
     ]
    }
   ],
   "source": [
    "import random  # 지역적으로 다시 실행해야 에러가 나지 않음(위와 중첩을 피하기 위함)\n",
    "lotto = []\n",
    "for i in range(6):\n",
    "    a= random.randint(1,45)\n",
    "    lotto.append(a)\n",
    "lotto.sort()\n",
    "print(lotto)"
   ]
  },
  {
   "cell_type": "code",
   "execution_count": 10,
   "metadata": {},
   "outputs": [
    {
     "name": "stdout",
     "output_type": "stream",
     "text": [
      "[16, 17, 30, 34, 41, 43]\n"
     ]
    }
   ],
   "source": [
    "# 중복을 제거한 로또 번호 발생 #1\n",
    "# 집합(Set) 발생 - 6개 숫자 랜덤 생성 - set에 추가(lotto.add() )\n",
    "# set를 list로 변환 - list 정렬 - 출력\n",
    "\n",
    "import random\n",
    "lotto = set()\n",
    "#for i in range(6):\n",
    "while len(lotto)<6:\n",
    "    a = random.randint(1,45)\n",
    "    lotto.add(a)\n",
    "lotto=list(lotto)\n",
    "lotto.sort()\n",
    "print(lotto)"
   ]
  },
  {
   "cell_type": "code",
   "execution_count": 18,
   "metadata": {},
   "outputs": [
    {
     "name": "stdout",
     "output_type": "stream",
     "text": [
      "[8, 30, 33, 34, 38, 42]\n"
     ]
    }
   ],
   "source": [
    "# 중복을 제거한 로또 번호 발생 #2\n",
    "# list생성 - 6번 반복에 의해 6개의 랜덤숫자 생성 - \n",
    "# 기존 발생숫자와 같은 값이 나오면 다시 생성(in 명령 사용)\n",
    "# 정렬 후 출력\n",
    "\n",
    "import random\n",
    "lotto = []\n",
    "#for i in range(6):\n",
    "while len(lotto)<6:\n",
    "    a = random.randint(1,45)\n",
    "    if a in lotto:\n",
    "        a = random.randint(1,45)\n",
    "    lotto.append(a)\n",
    "lotto.sort()\n",
    "print(lotto)"
   ]
  },
  {
   "cell_type": "code",
   "execution_count": 24,
   "metadata": {},
   "outputs": [
    {
     "name": "stdout",
     "output_type": "stream",
     "text": [
      "26 27 31 32 36 39 \n",
      " 4 31 32 37 41 45 \n",
      " 3 17 21 25 32 40 \n",
      " 2  6 17 19 26 45 \n",
      " 6  9 11 34 36 40 \n"
     ]
    }
   ],
   "source": [
    "# 방법 1, 2중 하나를 선택해서 5세트를 출력해 주세요\n",
    "\n",
    "import random\n",
    "for i in range(5):\n",
    "    lotto = set()\n",
    "    while len(lotto)<6:\n",
    "        a = random.randint(1,45)\n",
    "        lotto.add(a)\n",
    "    lotto=list(lotto)\n",
    "    lotto.sort()\n",
    "    for k in lotto:\n",
    "        print(\"%2d\" % k, end=\" \")\n",
    "    print()"
   ]
  },
  {
   "cell_type": "code",
   "execution_count": null,
   "metadata": {},
   "outputs": [],
   "source": []
  }
 ],
 "metadata": {
  "kernelspec": {
   "display_name": "Python 3",
   "language": "python",
   "name": "python3"
  },
  "language_info": {
   "codemirror_mode": {
    "name": "ipython",
    "version": 3
   },
   "file_extension": ".py",
   "mimetype": "text/x-python",
   "name": "python",
   "nbconvert_exporter": "python",
   "pygments_lexer": "ipython3",
   "version": "3.8.5"
  }
 },
 "nbformat": 4,
 "nbformat_minor": 4
}
