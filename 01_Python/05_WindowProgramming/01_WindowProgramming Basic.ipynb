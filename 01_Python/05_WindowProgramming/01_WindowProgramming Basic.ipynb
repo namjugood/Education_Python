{
 "cells": [
  {
   "cell_type": "markdown",
   "metadata": {},
   "source": [
    "### 윈도우 프로그래밍의 기본\n",
    "* 파이썬에서 필요한 외부 모듈을 import하면 윈도우 프로그램이 가능합니다\n",
    "* 필요한 구성요소들을 위젯이라고 부르며, 필요한 위젯을 위해 tkinter 모듈을 import합니다"
   ]
  },
  {
   "cell_type": "code",
   "execution_count": 1,
   "metadata": {},
   "outputs": [],
   "source": [
    "# tkinter 모듈의 모든 구성요소(하위 모듈 제외)\n",
    "from tkinter import *"
   ]
  },
  {
   "cell_type": "code",
   "execution_count": 20,
   "metadata": {},
   "outputs": [],
   "source": [
    "# tkinter 모듈내 하위 모듈중 messagegox 모듈\n",
    "from tkinter import messagebox\n",
    "def func():\n",
    "    messagebox.showinfo(\"Button click\", \"버튼을 클릭하셨습니다\")"
   ]
  },
  {
   "cell_type": "code",
   "execution_count": 21,
   "metadata": {},
   "outputs": [],
   "source": [
    "# 윈도우 객체를 생성 -> 그 레퍼런스 값을 main 변수로 저장 -> \n",
    "# 생성된 윈도우의 컨트롤 변수로 사용합니다\n",
    "main = Tk()\n",
    "\n",
    "# 1. 윈도우의 타이틀을 설정\n",
    "main.title(\"윈도우 프로그램의 시작\")\n",
    "\n",
    "main.geometry()\n",
    "# 괄호안에 넣을 수 있는 항목\n",
    "# '300x300-300+300' - '가로x세로-가로위치+세로위치'\n",
    "# 위와 같이 값을 넣지 않으면 기본 크기 윈도우가 설정됩니다\n",
    "\n",
    "# 라벨 생성 - main 위에 위치시킬 라벨\n",
    "label = Label(main, text=\"윈도우 프로그래밍을 시작합니다\")\n",
    "# 변수에 저장해서 컨트롤 변수로 사용합니다\n",
    "\n",
    "# 라벨의 환경설정\n",
    "label.config(font=('굴림', 18))\n",
    "\n",
    "# 메인 윈도우 위에서의 상세위치 결정을 위해 grid모드를 사용합니다\n",
    "label.grid(row=0,column=0,columnspan=4)\n",
    "# grid : 격자 형식의 화면분할\n",
    "# row=0, column=0 : 첫 번째 열, 첫 번째 행에 표시\n",
    "# columnspan=4 : column 4개를 차지하며 위치함\n",
    "\n",
    "# 버튼의 생성\n",
    "btn = Button(main, text=\"클릭하면 메시지가 나옴\", command=lambda:func())\n",
    "btn.config( font=('굴림', 18) )\n",
    "btn.grid(row=1, column=0, columnspan=4)\n",
    "\n"
   ]
  },
  {
   "cell_type": "code",
   "execution_count": 22,
   "metadata": {},
   "outputs": [],
   "source": [
    "# 생성한 윈도우를 화면에 나타냅니다\n",
    "main.mainloop()"
   ]
  },
  {
   "cell_type": "code",
   "execution_count": null,
   "metadata": {},
   "outputs": [],
   "source": []
  }
 ],
 "metadata": {
  "kernelspec": {
   "display_name": "Python 3",
   "language": "python",
   "name": "python3"
  },
  "language_info": {
   "codemirror_mode": {
    "name": "ipython",
    "version": 3
   },
   "file_extension": ".py",
   "mimetype": "text/x-python",
   "name": "python",
   "nbconvert_exporter": "python",
   "pygments_lexer": "ipython3",
   "version": "3.8.5"
  }
 },
 "nbformat": 4,
 "nbformat_minor": 4
}
