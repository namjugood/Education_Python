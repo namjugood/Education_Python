{
 "cells": [
  {
   "cell_type": "code",
   "execution_count": 10,
   "metadata": {},
   "outputs": [],
   "source": [
    "from tkinter import *\n",
    "from tkinter import ttk"
   ]
  },
  {
   "cell_type": "code",
   "execution_count": 11,
   "metadata": {},
   "outputs": [],
   "source": [
    "main = Tk()\n",
    "main.title(\"계산기\")\n",
    "main.geometry()\n",
    "label = Label(main, text=\"버튼을 이용한 계산기\")\n",
    "label.config( font=('굴림', 18))\n",
    "label.grid(row=0, column=0, columnspan=4)\n",
    "\n",
    "str1 = StringVar()\n",
    "textbox = ttk.Entry(main, width=40, textvariable=str1)\n",
    "textbox.config(font=('굴림',18))\n",
    "textbox.config(justify='right')   # 오른쪽 정렬\n",
    "textbox.grid(row=1,column=0,columnspan=4)\n",
    "textbox.insert(\"\",\"0\")  # 최초값 0으로 초기화\n",
    "\n",
    "btn1 = Button(main, text='1', width=10, command=lambda:btn1Click())\n",
    "btn1.config(font=('굴림', 18))\n",
    "btn1.grid(row=2, column=0, columnspan=1)\n",
    "btn2 = Button(main, text='2', width=10, command=lambda:btn2Click())\n",
    "btn2.config(font=('굴림', 18))\n",
    "btn2.grid(row=2, column=1, columnspan=1)\n",
    "btn3 = Button(main, text='3', width=10, command=lambda:btn3Click())\n",
    "btn3.config(font=('굴림', 18))\n",
    "btn3.grid(row=2, column=2, columnspan=1)\n",
    "btnP = Button(main, text='+', width=10, command=lambda:btnPClick())\n",
    "btnP.config(font=('굴림', 18))\n",
    "btnP.grid(row=2, column=3, columnspan=1)\n",
    "\n",
    "btn4 = Button(main, text='4', width=10, command=lambda:btn4Click())\n",
    "btn4.config(font=('굴림', 18))\n",
    "btn4.grid(row=3, column=0, columnspan=1)\n",
    "btn5 = Button(main, text='5', width=10, command=lambda:btn5Click())\n",
    "btn5.config(font=('굴림', 18))\n",
    "btn5.grid(row=3, column=1, columnspan=1)\n",
    "btn6 = Button(main, text='6', width=10, command=lambda:btn6Click())\n",
    "btn6.config(font=('굴림', 18))\n",
    "btn6.grid(row=3, column=2, columnspan=1)\n",
    "btnM = Button(main, text='-', width=10, command=lambda:btnMClick())\n",
    "btnM.config(font=('굴림', 18))\n",
    "btnM.grid(row=3, column=3, columnspan=1)\n",
    "\n",
    "btn7 = Button(main, text='7', width=10, command=lambda:btn7Click())\n",
    "btn7.config(font=('굴림', 18))\n",
    "btn7.grid(row=4, column=0, columnspan=1)\n",
    "btn8 = Button(main, text='8', width=10, command=lambda:btn8Click())\n",
    "btn8.config(font=('굴림', 18))\n",
    "btn8.grid(row=4, column=1, columnspan=1)\n",
    "btn9 = Button(main, text='9', width=10, command=lambda:btn9Click())\n",
    "btn9.config(font=('굴림', 18))\n",
    "btn9.grid(row=4, column=2, columnspan=1)\n",
    "btnX = Button(main, text='×', width=10, command=lambda:btnXClick())\n",
    "btnX.config(font=('굴림', 18))\n",
    "btnX.grid(row=4, column=3, columnspan=1)\n",
    "\n",
    "btnC = Button(main, text='C', width=10, command=lambda:btnCClick())\n",
    "btnC.config(font=('굴림', 18))\n",
    "btnC.grid(row=5, column=0, columnspan=1)\n",
    "btn0 = Button(main, text='0', width=10, command=lambda:btn0Click())\n",
    "btn0.config(font=('굴림', 18))\n",
    "btn0.grid(row=5, column=1, columnspan=1)\n",
    "btnE = Button(main, text='=', width=10, command=lambda:btnEClick())\n",
    "btnE.config(font=('굴림', 18))\n",
    "btnE.grid(row=5, column=2, columnspan=1)\n",
    "btnD = Button(main, text='÷', width=10, command=lambda:btnDClick())\n",
    "btnD.config(font=('굴림', 18))\n",
    "btnD.grid(row=5, column=3, columnspan=1)\n",
    "main.mainloop()"
   ]
  },
  {
   "cell_type": "code",
   "execution_count": null,
   "metadata": {},
   "outputs": [],
   "source": []
  }
 ],
 "metadata": {
  "kernelspec": {
   "display_name": "Python 3",
   "language": "python",
   "name": "python3"
  },
  "language_info": {
   "codemirror_mode": {
    "name": "ipython",
    "version": 3
   },
   "file_extension": ".py",
   "mimetype": "text/x-python",
   "name": "python",
   "nbconvert_exporter": "python",
   "pygments_lexer": "ipython3",
   "version": "3.8.5"
  }
 },
 "nbformat": 4,
 "nbformat_minor": 4
}
