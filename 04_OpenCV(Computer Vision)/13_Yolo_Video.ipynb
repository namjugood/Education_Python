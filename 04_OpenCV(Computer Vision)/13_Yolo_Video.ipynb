{
 "cells": [
  {
   "cell_type": "code",
   "execution_count": 52,
   "metadata": {},
   "outputs": [],
   "source": [
    "# 모듈 임포트\n",
    "import cv2\n",
    "import numpy as np\n",
    "import time"
   ]
  },
  {
   "cell_type": "code",
   "execution_count": 53,
   "metadata": {},
   "outputs": [],
   "source": [
    "# 모델 로딩(파일 설정, min_confidence 설정)\n",
    "file_name = \"video/yolo_01.mp4\"\n",
    "min_confidence = 0.5\n",
    "net = cv2.dnn.readNet(\"yolo/yolov3.weights\", \"yolo/yolov3.cfg\")"
   ]
  },
  {
   "cell_type": "code",
   "execution_count": 54,
   "metadata": {},
   "outputs": [],
   "source": [
    "# 클래스 이름 및 출력레이어 설정\n",
    "classes = []\n",
    "with open(\"yolo/coco.names\", \"r\")as f:\n",
    "    classes = [line.strip() for line in f.readlines()]\n",
    "layer_names = net.getLayerNames()\n",
    "output_layers = [layer_names[i[0] - 1] for i in net.getUnconnectedOutLayers()]\n",
    "colors = np.random.uniform(0, 255, size=(len(classes), 3))"
   ]
  },
  {
   "cell_type": "code",
   "execution_count": 59,
   "metadata": {},
   "outputs": [],
   "source": [
    "# detectAndDisplay 제작\n",
    "def detectAndDisplay(frame):\n",
    "    # 프레임 작업 시작 시간 저장\n",
    "    start_time = time.time()\n",
    "    \n",
    "    img = cv2.resize(frame, None, fx=0.4, fy=0.4)\n",
    "    height, width, channels = img.shape\n",
    "    \n",
    "    # 이미지 형식 변형\n",
    "    blob = cv2.dnn.blobFromImage(img, 0.00392, (416, 416), (0,0,0), True, crop=False) \n",
    "    # 모델에 이미지 세트\n",
    "    net.setInput(blob)\n",
    "    # 인식된 사물의 정보 추출\n",
    "    outs = net.forward(output_layers)\n",
    "    # 비어있는 리스트 준비\n",
    "    class_ids = []\n",
    "    confidences = []\n",
    "    boxes = []\n",
    "    # 이미지 작업\n",
    "    \n",
    "    for out in outs:\n",
    "        for detection in out:\n",
    "            scores = detection[5:]\n",
    "            class_id = np.argmax(scores)\n",
    "            confidence = scores[class_id]\n",
    "            if confidence > min_confidence:\n",
    "                center_x = int(detection[0] * width)\n",
    "                center_y = int(detection[1] * height)\n",
    "                w = int(detection[2] * width)\n",
    "                h = int(detection[3] * height)\n",
    "                x = int(center_x - w / 2)\n",
    "                y = int(center_y - h / 2)\n",
    "                boxes.append([x, y, w, h])\n",
    "                confidences.append(float(confidence))\n",
    "                class_ids.append(class_id)\n",
    "    indexes = cv2.dnn.NMSBoxes(boxes, confidences, min_confidence, 0.4)\n",
    "    font = cv2.FONT_HERSHEY_PLAIN\n",
    "    for i in range(len(boxes)):\n",
    "        if i in indexes:\n",
    "            x, y, w, h = boxes[i]\n",
    "            label = \"{}: {:.2f}\".format(classes[class_ids[i]], confidences[i]*100)\n",
    "            # print(i, label)\n",
    "            color = colors[i]\n",
    "            cv2.rectangle(img, (x, y), (x+w, y+h), color, 2)\n",
    "            cv2.putText(img, label, (x, y+30), font, 2, (0, 255, 0), 1)\n",
    "    cv2.imshow(\"YOLO Video\", img)\n",
    "    \n",
    "    # 프레임 작업 종료 시간 저장\n",
    "    end_time = time.time()\n",
    "    # 종료시간 - 시작시간\n",
    "    process_time = end_time - start_time\n",
    "    print(\"=== A frame took {:.3f} seconds\".format(process_time))"
   ]
  },
  {
   "cell_type": "code",
   "execution_count": 61,
   "metadata": {},
   "outputs": [
    {
     "name": "stdout",
     "output_type": "stream",
     "text": [
      "=== A frame took 0.575 seconds\n",
      "=== A frame took 0.420 seconds\n",
      "=== A frame took 0.411 seconds\n",
      "=== A frame took 0.393 seconds\n",
      "=== A frame took 0.378 seconds\n",
      "=== A frame took 0.395 seconds\n",
      "=== A frame took 0.387 seconds\n",
      "=== A frame took 0.433 seconds\n",
      "=== A frame took 0.382 seconds\n",
      "=== A frame took 0.402 seconds\n",
      "=== A frame took 0.426 seconds\n",
      "=== A frame took 0.390 seconds\n",
      "=== A frame took 0.384 seconds\n",
      "=== A frame took 0.380 seconds\n",
      "=== A frame took 0.379 seconds\n",
      "=== A frame took 0.382 seconds\n"
     ]
    }
   ],
   "source": [
    "# 동영상에서 추출한 프레임들을 detectAndDisplay 호출 시 전달\n",
    "cap = cv2.VideoCapture(file_name)\n",
    "if not cap.isOpened:\n",
    "    print('--(!)Error opening video cascade')\n",
    "    exit(0)\n",
    "\n",
    "while True:\n",
    "    ret, file_name = cap.read() # 캡쳐해서 하나씩 읽어옴\n",
    "    if file_name is None:\n",
    "        print('--(!) No captured frame -- Break!')\n",
    "        break\n",
    "    \n",
    "    detectAndDisplay(file_name)\n",
    "    if cv2.waitKey(1) & 0xFF == ord('q'):\n",
    "        break\n",
    "cv2.destroyAllWindows()"
   ]
  },
  {
   "cell_type": "code",
   "execution_count": null,
   "metadata": {},
   "outputs": [],
   "source": []
  }
 ],
 "metadata": {
  "kernelspec": {
   "display_name": "Python 3",
   "language": "python",
   "name": "python3"
  },
  "language_info": {
   "codemirror_mode": {
    "name": "ipython",
    "version": 3
   },
   "file_extension": ".py",
   "mimetype": "text/x-python",
   "name": "python",
   "nbconvert_exporter": "python",
   "pygments_lexer": "ipython3",
   "version": "3.8.5"
  },
  "varInspector": {
   "cols": {
    "lenName": 16,
    "lenType": 16,
    "lenVar": 40
   },
   "kernels_config": {
    "python": {
     "delete_cmd_postfix": "",
     "delete_cmd_prefix": "del ",
     "library": "var_list.py",
     "varRefreshCmd": "print(var_dic_list())"
    },
    "r": {
     "delete_cmd_postfix": ") ",
     "delete_cmd_prefix": "rm(",
     "library": "var_list.r",
     "varRefreshCmd": "cat(var_dic_list()) "
    }
   },
   "oldHeight": 413.99278,
   "position": {
    "height": "40px",
    "left": "1191.11px",
    "right": "20px",
    "top": "120px",
    "width": "250px"
   },
   "types_to_exclude": [
    "module",
    "function",
    "builtin_function_or_method",
    "instance",
    "_Feature"
   ],
   "varInspector_section_display": "none",
   "window_display": true
  }
 },
 "nbformat": 4,
 "nbformat_minor": 4
}
