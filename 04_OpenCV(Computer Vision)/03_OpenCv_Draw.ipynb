{
 "cells": [
  {
   "cell_type": "code",
   "execution_count": 1,
   "metadata": {},
   "outputs": [
    {
     "name": "stdout",
     "output_type": "stream",
     "text": [
      "pixels & channels : (600, 600, 3)\n",
      "width: 600 pixels\n",
      "height: 600 pixels\n",
      "channels: 3\n"
     ]
    }
   ],
   "source": [
    "import cv2\n",
    "img = cv2.imread(\"./image/20200526.png\")\n",
    "print(\"pixels & channels : {}\".format(img.shape))\n",
    "print(\"width: {} pixels\".format(img.shape[1]))\n",
    "print(\"height: {} pixels\".format(img.shape[0]))\n",
    "print(\"channels: {}\".format(img.shape[2]))"
   ]
  },
  {
   "cell_type": "code",
   "execution_count": 2,
   "metadata": {},
   "outputs": [],
   "source": [
    "# img.shape의 마지막 값(img.shape[2])은 색상값 (0~255ㅡ 0~255, 0~255)\n",
    "# 한 개의 픽셀을 흰색으로 변환\n",
    "img[100, 100] = (255,255,255)\n",
    "cv2.imshow(\"shinchon20200526\", img)\n",
    "cv2.waitKey(0)\n",
    "cv2.destroyAllWindows()"
   ]
  },
  {
   "cell_type": "code",
   "execution_count": 11,
   "metadata": {},
   "outputs": [],
   "source": [
    "# 여러 픽셀의 색깔을 빨간색으로 변환\n",
    "img[350:400, 250:300] = (0,0,255)\n",
    "cv2.imshow(\"shinchon20200526\", img)\n",
    "cv2.waitKey(0)\n",
    "cv2.destroyAllWindows()"
   ]
  },
  {
   "cell_type": "code",
   "execution_count": 29,
   "metadata": {},
   "outputs": [],
   "source": [
    "# 위 예제의 빨간 사각형을 이미지의 왼쪽 아래 모서리에 붙이기\n",
    "img = cv2.imread(\"./image/20200526.png\")\n",
    "img[550:599, 0:49] = (0,0,255)\n",
    "cv2.imshow(\"shinchon20200526\", img)\n",
    "cv2.waitKey(0)\n",
    "cv2.destroyAllWindows()"
   ]
  },
  {
   "cell_type": "code",
   "execution_count": 36,
   "metadata": {},
   "outputs": [],
   "source": [
    "def readImg():\n",
    "    image = cv2.imread(\"./image/20200526.png\")\n",
    "    return image"
   ]
  },
  {
   "cell_type": "code",
   "execution_count": 37,
   "metadata": {},
   "outputs": [],
   "source": [
    "def showImg(image):\n",
    "    cv2.imshow(\"shinchon20200526\", img)\n",
    "    cv2.waitKey(0)\n",
    "    cv2.destroyAllWindows()"
   ]
  },
  {
   "cell_type": "code",
   "execution_count": 33,
   "metadata": {},
   "outputs": [],
   "source": [
    "# 위 예제의 빨간 사각형을 이미지의 왼쪽 아래 모서리에 붙이기\n",
    "img = readImg()\n",
    "img[550:599, 0:49] = (0,0,255)\n",
    "showImg(img)"
   ]
  },
  {
   "cell_type": "markdown",
   "metadata": {},
   "source": [
    "# 사각형 그리기\n",
    "* 왼쪽 위 모서리 좌표:(150, 50) / 오른쪽 아래 모서리 좌표:(200,100)\n",
    "* 색깔:(0,255,0) / 굵기:5"
   ]
  },
  {
   "cell_type": "code",
   "execution_count": 39,
   "metadata": {},
   "outputs": [],
   "source": [
    "img = readImg()\n",
    "cv2.rectangle(img, (150,50), (200,100), (0, 255, 0), 5)\n",
    "showImg(img)"
   ]
  },
  {
   "cell_type": "markdown",
   "metadata": {},
   "source": [
    "# 원 그리기\n",
    "* 중점좌표:(275, 75) / 반지름:30 / 색:(0,255,255) / 선굵기:-1\n",
    "* 선굵기가 -1이면 선 없이 내부를 채움"
   ]
  },
  {
   "cell_type": "code",
   "execution_count": 40,
   "metadata": {},
   "outputs": [],
   "source": [
    "img = readImg()\n",
    "cv2.circle(img, (275,75), 30, (0,255,255), -1)\n",
    "showImg(img)"
   ]
  },
  {
   "cell_type": "markdown",
   "metadata": {},
   "source": [
    "# 선 그리기\n",
    "* 한쪽 끝 좌표:(350,100) / 반대쪽좌표:(400,100) / 선색(255,255,0) / 굵기:5"
   ]
  },
  {
   "cell_type": "code",
   "execution_count": 41,
   "metadata": {},
   "outputs": [],
   "source": [
    "img = readImg()\n",
    "cv2.line(img, (350,100), (400,100), (255,255,0), 5)\n",
    "showImg(img)"
   ]
  },
  {
   "cell_type": "markdown",
   "metadata": {},
   "source": [
    "# 텍스트 써넣기\n",
    "* 위치:(450,100) / 폰트:(cv2.FONT_HERSHEY_SIMPLEX(cv2내장웹폰트) )\n",
    "* 글자크기:1 / 글자색:(255,255,255) / 굵기:4"
   ]
  },
  {
   "cell_type": "code",
   "execution_count": 42,
   "metadata": {},
   "outputs": [],
   "source": [
    "img = readImg()\n",
    "cv2.putText(img, 'Raining Sinchon', (150,150), cv2.FONT_HERSHEY_SIMPLEX, 1,\\\n",
    "           (255,255,255,), 4)\n",
    "showImg(img)"
   ]
  }
 ],
 "metadata": {
  "kernelspec": {
   "display_name": "Python 3",
   "language": "python",
   "name": "python3"
  },
  "language_info": {
   "codemirror_mode": {
    "name": "ipython",
    "version": 3
   },
   "file_extension": ".py",
   "mimetype": "text/x-python",
   "name": "python",
   "nbconvert_exporter": "python",
   "pygments_lexer": "ipython3",
   "version": "3.8.5"
  },
  "varInspector": {
   "cols": {
    "lenName": 16,
    "lenType": 16,
    "lenVar": 40
   },
   "kernels_config": {
    "python": {
     "delete_cmd_postfix": "",
     "delete_cmd_prefix": "del ",
     "library": "var_list.py",
     "varRefreshCmd": "print(var_dic_list())"
    },
    "r": {
     "delete_cmd_postfix": ") ",
     "delete_cmd_prefix": "rm(",
     "library": "var_list.r",
     "varRefreshCmd": "cat(var_dic_list()) "
    }
   },
   "types_to_exclude": [
    "module",
    "function",
    "builtin_function_or_method",
    "instance",
    "_Feature"
   ],
   "window_display": false
  }
 },
 "nbformat": 4,
 "nbformat_minor": 4
}
