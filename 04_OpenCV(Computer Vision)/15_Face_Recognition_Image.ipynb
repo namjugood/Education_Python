{
 "cells": [
  {
   "cell_type": "code",
   "execution_count": 1,
   "metadata": {},
   "outputs": [],
   "source": [
    "import cv2\n",
    "import face_recognition\n",
    "import pickle\n",
    "import time"
   ]
  },
  {
   "cell_type": "code",
   "execution_count": 2,
   "metadata": {},
   "outputs": [],
   "source": [
    "image_file = \"image/marathon_03.jpg\"\n",
    "encoding_file = \"encodings.pickle\"\n",
    "unknown_name = \"Unknown\"\n",
    "model_method = \"cnn\""
   ]
  },
  {
   "cell_type": "code",
   "execution_count": 11,
   "metadata": {},
   "outputs": [],
   "source": [
    "def detectAndDisplay(image):\n",
    "    # 시작시간 저장\n",
    "    start_time = time.time()\n",
    "    \n",
    "    # 읽어온 이미지를 RGB모드로 변환\n",
    "    rgb = cv2.cvtColor(image, cv2.COLOR_BGR2RGB)\n",
    "    #이미지에 있는 모든 얼굴을 인식하여 boxes에 저장\n",
    "    boxes = face_recognition.face_locations(rgb, model=model_method)\n",
    "    # 얼굴인식 형태의 인코딩을 거쳐 encodings 리스트에 저장\n",
    "    encodings = face_recognition.face_encodings(rgb, boxes)\n",
    "    \n",
    "    # 표시할 이름들의 리스트 생성\n",
    "    # (Son, Tedy, Unknown 셋 중 하나의 값들로 저장될 리스트) \n",
    "    names = []\n",
    "    \n",
    "    # 읽어온 이미지에서 인식된 얼굴 개수만큼 반복 실행\n",
    "    for encoding in encodings:\n",
    "        # 반복실행 중, 현재 얼굴(encoding)과 모듈의 얼굴들(data)을 비교합니다\n",
    "        matches = face_recognition.compare_faces(data[\"encodings\"], encoding)\n",
    "        \n",
    "        # 현재얼굴의 최초 이름은 \"Unknown\"으로 저장\n",
    "        name = unknown_name\n",
    "        \n",
    "        # 얼굴이 매칭되면, (아래) \n",
    "        if True in matches:\n",
    "            # True 자리의 인덱스값들 저장\n",
    "            matchedidxs = [i for (i,b) in enumerate(matches) if b]\n",
    "            counts={}\n",
    "            # 매칭된 얼굴의 이름을 추출 저장\n",
    "            for i in matchedidxs:\n",
    "                # True였던 자리의 인덱스를 이용하여 이름 추출\n",
    "                name = data[\"names\"][i]\n",
    "                # 현재이름의 출현회수를 counts라는 dictionary에 각 name을 키 값으로\n",
    "                # 회수를 카운트합니다\n",
    "                counts[name] = counts.get(name, 0) + 1\n",
    "            # 위에서 집계한 True 값의 개수가 가장 많았던 이름을 name에 업데이트\n",
    "            name = max(counts, key=counts.get)\n",
    "        # 결정된 \"Unknown\" or \"Son\" or \"Tedy\"를 append\n",
    "        names.append(name)\n",
    "    \n",
    "    # 박스데이터와 해당 이름들을 조합한 데이터 개수만큼 반복실행\n",
    "    for((top, right, bottom, left), name) in zip(boxes, names):\n",
    "        # 텍스트가 입력될 좌표 계산\n",
    "        y = top -15 if top -15 > 15 else top + 15\n",
    "        # 섹 지정(녹색), 라인 굵기 2\n",
    "        color = (0,255,0)\n",
    "        line=2\n",
    "        # 이름이 Unknown과 같으면, (아래)\n",
    "        if(name == unknown_name):\n",
    "            color = (0,255,255) # 빨간색\n",
    "            line = 1 # 라인굵기 1\n",
    "            name = '' # 이름 : 빈칸으로\n",
    "        cv2.rectangle(image, (left, top), (right, bottom), color, line)\n",
    "        cv2.putText(image, name, (left, y), cv2.FONT_HERSHEY_SIMPLEX, 0.75, \\\n",
    "                                                                    color, line)\n",
    "    \n",
    "    # 종료시간 저장\n",
    "    end_time = time.time()\n",
    "    # 경과시간 계산 & 출력\n",
    "    process_time = end_time - start_time\n",
    "    print(\"===A frame took {:.3f} seconds\".format(process_time))\n",
    "    \n",
    "    cv2.imshow(\"Recognition\", image)"
   ]
  },
  {
   "cell_type": "code",
   "execution_count": 13,
   "metadata": {},
   "outputs": [
    {
     "name": "stdout",
     "output_type": "stream",
     "text": [
      "===A frame took 75.005 seconds\n"
     ]
    }
   ],
   "source": [
    "data = pickle.loads(open(encoding_file, \"rb\").read())\n",
    "image = cv2.imread(image_file)\n",
    "detectAndDisplay(image)\n",
    "\n",
    "cv2.waitKey(0)\n",
    "cv2.destroyAllWindows()"
   ]
  },
  {
   "cell_type": "code",
   "execution_count": null,
   "metadata": {},
   "outputs": [],
   "source": []
  }
 ],
 "metadata": {
  "kernelspec": {
   "display_name": "Python 3",
   "language": "python",
   "name": "python3"
  },
  "language_info": {
   "codemirror_mode": {
    "name": "ipython",
    "version": 3
   },
   "file_extension": ".py",
   "mimetype": "text/x-python",
   "name": "python",
   "nbconvert_exporter": "python",
   "pygments_lexer": "ipython3",
   "version": "3.8.5"
  },
  "varInspector": {
   "cols": {
    "lenName": 16,
    "lenType": 16,
    "lenVar": 40
   },
   "kernels_config": {
    "python": {
     "delete_cmd_postfix": "",
     "delete_cmd_prefix": "del ",
     "library": "var_list.py",
     "varRefreshCmd": "print(var_dic_list())"
    },
    "r": {
     "delete_cmd_postfix": ") ",
     "delete_cmd_prefix": "rm(",
     "library": "var_list.r",
     "varRefreshCmd": "cat(var_dic_list()) "
    }
   },
   "position": {
    "height": "315.208px",
    "left": "1091.11px",
    "right": "20px",
    "top": "120px",
    "width": "350px"
   },
   "types_to_exclude": [
    "module",
    "function",
    "builtin_function_or_method",
    "instance",
    "_Feature"
   ],
   "window_display": true
  }
 },
 "nbformat": 4,
 "nbformat_minor": 4
}
