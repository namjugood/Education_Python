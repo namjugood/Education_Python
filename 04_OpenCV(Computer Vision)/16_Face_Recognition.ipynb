{
 "cells": [
  {
   "cell_type": "code",
   "execution_count": 1,
   "metadata": {},
   "outputs": [],
   "source": [
    "import cv2\n",
    "import face_recognition\n",
    "import pickle\n",
    "import time\n",
    "from tkinter import *\n",
    "from PIL import Image\n",
    "from PIL import ImageTk\n",
    "from tkinter import filedialog"
   ]
  },
  {
   "cell_type": "code",
   "execution_count": 2,
   "metadata": {},
   "outputs": [],
   "source": [
    "image_file = 'image/marathon_01.jpg'\n",
    "encoding_file = 'encodings.pickle'\n",
    "unknown_name = 'Unknown'\n",
    "title_name = 'Face Recognition'\n",
    "model_method = 'cnn'"
   ]
  },
  {
   "cell_type": "code",
   "execution_count": 3,
   "metadata": {},
   "outputs": [],
   "source": [
    "# selectFile() 제작\n",
    "def selectFile():\n",
    "    file_name = filedialog.askopenfilename(initialdir = \"./image\", \\\n",
    "      title=\"Select file\", filetypes = ((\"jpeg files\", \"*.jpg\"), (\"all files\", \"*.*\")))\n",
    "    print('File name : ', file_name) # 디렉토리에서 선택한 파일명 출력\n",
    "    read_image = cv2.imread(file_name)\n",
    "    image = cv2.cvtColor(read_image, cv2.COLOR_BGR2RGB)\n",
    "    image = Image.fromarray(image)\n",
    "    imgtk = ImageTk.PhotoImage(image=image)\n",
    "    (height, width) = read_image.shape[:2]\n",
    "    detectAndDisplay(read_image)"
   ]
  },
  {
   "cell_type": "code",
   "execution_count": 4,
   "metadata": {},
   "outputs": [],
   "source": [
    "# detectAndDisplay(image) 함수 제작\n",
    "def detectAndDisplay(image):\n",
    "    start_time = time.time()\n",
    "    rgb = cv2.cvtColor(image, cv2.COLOR_BGR2RGB)\n",
    "    boxes = face_recognition.face_locations(rgb, model=model_method)\n",
    "    encodings = face_recognition.face_encodings(rgb, boxes)\n",
    "    names = []\n",
    "    for encoding in encodings:\n",
    "        matches = face_recognition.compare_faces(data[\"encodings\"], encoding)\n",
    "        name = unknown_name\n",
    "        if True in matches:\n",
    "            matchedidxs = [i for (i,b) in enumerate(matches) if b]\n",
    "            counts={}\n",
    "            for i in matchedidxs:\n",
    "                name = data[\"names\"][i]\n",
    "                counts[name] = counts.get(name, 0) + 1\n",
    "            name = max(counts, key=counts.get)\n",
    "        names.append(name)\n",
    "    for((top, right, bottom, left), name) in zip(boxes, names):\n",
    "        y = top -15 if top -15 > 15 else top + 15\n",
    "        color = (0,255,0)\n",
    "        if(name == unknown_name):\n",
    "            color = (0,255,255) # 빨간색\n",
    "            name = '' # 이름 : 빈칸으로\n",
    "        cv2.rectangle(image, (left, top), (right, bottom), color)\n",
    "        cv2.putText(image, name, (left, y), cv2.FONT_HERSHEY_SIMPLEX, 0.75, color)\n",
    "    image = cv2.cvtColor(image, cv2.COLOR_BGR2RGB)\n",
    "    image = Image.fromarray(image)\n",
    "    imgtk = ImageTk.PhotoImage(image=image)\n",
    "    detection.config(image=imgtk)\n",
    "    detection.image=imgtk"
   ]
  },
  {
   "cell_type": "code",
   "execution_count": 5,
   "metadata": {},
   "outputs": [
    {
     "name": "stdout",
     "output_type": "stream",
     "text": [
      "File name :  C:/Users/204/Python/04_OpenCV(Computer Vision)/image/soccer_02.jpg\n"
     ]
    }
   ],
   "source": [
    "main = Tk()\n",
    "main.title(title_name)\n",
    "main.geometry()\n",
    "data = pickle.loads(open(encoding_file, \"rb\").read())\n",
    "# 이미지 로딩\n",
    "read_image = cv2.imread(image_file)\n",
    "image = cv2.cvtColor(read_image, cv2.COLOR_BGR2RGB)\n",
    "image = Image.fromarray(image)\n",
    "imgtk = ImageTk.PhotoImage(image=image)\n",
    "\n",
    "# 윈도우에 제목라벨 \n",
    "label = Label(main, text=title_name)\n",
    "label.config(font=(\"Courier\", 18))\n",
    "label.grid(row=0, column=0, columnspan=4)\n",
    "# 파일 선택버튼(styicky : 상하좌우 경계선 확장 맞춤)\n",
    "btn = Button(main, text=\"File Select\", height=2, command=lambda:selectFile())\n",
    "btn.grid(row=1, column=0, columnspan=4, sticky=(W, E))\n",
    "# 그림들어갈 라벨 각 한줄씩 차지하여 생성\n",
    "detection = Label(main, image=imgtk)\n",
    "detection.grid(row=2, column=0, columnspan=4)\n",
    "# detectAndDisplay 호출\n",
    "detectAndDisplay(read_image)\n",
    "# 프로그램 타이틀 표시   \n",
    "main.mainloop()"
   ]
  }
 ],
 "metadata": {
  "kernelspec": {
   "display_name": "Python 3",
   "language": "python",
   "name": "python3"
  },
  "language_info": {
   "codemirror_mode": {
    "name": "ipython",
    "version": 3
   },
   "file_extension": ".py",
   "mimetype": "text/x-python",
   "name": "python",
   "nbconvert_exporter": "python",
   "pygments_lexer": "ipython3",
   "version": "3.8.5"
  },
  "varInspector": {
   "cols": {
    "lenName": 16,
    "lenType": 16,
    "lenVar": 40
   },
   "kernels_config": {
    "python": {
     "delete_cmd_postfix": "",
     "delete_cmd_prefix": "del ",
     "library": "var_list.py",
     "varRefreshCmd": "print(var_dic_list())"
    },
    "r": {
     "delete_cmd_postfix": ") ",
     "delete_cmd_prefix": "rm(",
     "library": "var_list.r",
     "varRefreshCmd": "cat(var_dic_list()) "
    }
   },
   "types_to_exclude": [
    "module",
    "function",
    "builtin_function_or_method",
    "instance",
    "_Feature"
   ],
   "window_display": false
  }
 },
 "nbformat": 4,
 "nbformat_minor": 4
}
