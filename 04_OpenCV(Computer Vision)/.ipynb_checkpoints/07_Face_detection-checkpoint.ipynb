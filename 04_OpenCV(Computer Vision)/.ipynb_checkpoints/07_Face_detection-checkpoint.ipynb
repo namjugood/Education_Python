{
 "cells": [
  {
   "cell_type": "code",
   "execution_count": 14,
   "metadata": {},
   "outputs": [],
   "source": [
    "import cv2\n",
    "import numpy as np\n",
    "img = cv2.imread(\"./image/marathon_02.jpg\")\n",
    "(height, width) = img.shape[:2]"
   ]
  },
  {
   "cell_type": "code",
   "execution_count": 20,
   "metadata": {},
   "outputs": [],
   "source": [
    "# 얼굴인식 모델이 있는 경로와 파일 이름을 저장\n",
    "face_cascade_name = './data/haarcascade_frontalface_alt.xml'\n",
    "eyes_cascade_name = './data/haarcascade_eye_tree_eyeglasses.xml'"
   ]
  },
  {
   "cell_type": "code",
   "execution_count": 21,
   "metadata": {},
   "outputs": [],
   "source": [
    "# 얼굴과 눈 분류모델 객체 생성\n",
    "face_cascade = cv2.CascadeClassifier()\n",
    "eyes_cascade = cv2.CascadeClassifier()"
   ]
  },
  {
   "cell_type": "code",
   "execution_count": 22,
   "metadata": {},
   "outputs": [],
   "source": [
    "# 식별 객체 로딩을 테스트하여 실패하였을 경우 메세지 전송하고 프로그램 종료\n",
    "if not face_cascade.load(cv2.samples.findFile(face_cascade_name)):\n",
    "    print('--(!)Error loading face cascade')\n",
    "    exit(0)\n",
    "if not eyes_cascade.load(cv2.samples.findFile(eyes_cascade_name)):\n",
    "    print('--(!)Error loading eyes cascade')\n",
    "    exit(0)"
   ]
  },
  {
   "cell_type": "code",
   "execution_count": 24,
   "metadata": {},
   "outputs": [],
   "source": [
    "def showImg(image):\n",
    "    cv2.imshow(\"Face Detect\", image)\n",
    "    cv2.waitKey(0)\n",
    "    cv2.destroyAllWindows()"
   ]
  },
  {
   "cell_type": "code",
   "execution_count": 25,
   "metadata": {},
   "outputs": [],
   "source": [
    "showImg(img)"
   ]
  },
  {
   "cell_type": "code",
   "execution_count": 27,
   "metadata": {},
   "outputs": [],
   "source": [
    "# 그레이 스케일로 변환\n",
    "# pc가 인식함에 있어 색깔의 구분에 민감하므로 색을 평준화시켜줌\n",
    "frame_gray = cv2.cvtColor(img, cv2.COLOR_BGR2GRAY)\n",
    "showImg(frame_gray)"
   ]
  },
  {
   "cell_type": "code",
   "execution_count": 28,
   "metadata": {},
   "outputs": [],
   "source": [
    "# 색상 간격(채도수치 간격)을 넓혀줍니다\n",
    "frame_gray = cv2.equalizeHist(frame_gray)\n",
    "showImg(frame_gray)"
   ]
  },
  {
   "cell_type": "code",
   "execution_count": 29,
   "metadata": {},
   "outputs": [
    {
     "name": "stdout",
     "output_type": "stream",
     "text": [
      "[[ 82  41 106 106]]\n"
     ]
    }
   ],
   "source": [
    "# 얼굴인식 실행(결가 : 인식된 얼굴의 좌표들의 리스트)\n",
    "faces = face_cascade.detectMultiScale(frame_gray)\n",
    "print(faces)\n",
    "# [[ 82  41 106 106]] : x좌표, y좌표, 가로길이, 세로길이"
   ]
  },
  {
   "cell_type": "code",
   "execution_count": 30,
   "metadata": {},
   "outputs": [
    {
     "data": {
      "text/plain": [
       "(1, 4)"
      ]
     },
     "execution_count": 30,
     "metadata": {},
     "output_type": "execute_result"
    }
   ],
   "source": [
    "faces.shape"
   ]
  },
  {
   "cell_type": "code",
   "execution_count": 34,
   "metadata": {},
   "outputs": [],
   "source": [
    "def detectAndDisplay(frame):    \n",
    "    for (x,y,w,h) in faces:\n",
    "        # 인식된 얼굴 영역을 하나씩 반복실행문에서 전달받아 사각형을 그립니다\n",
    "        frame = cv2.rectangle(frame, (x, y), (x+w, y+h), (0, 255, 0), 2)\n",
    "        # frame_gray에서 인식한 얼굴의 좌표와 크기로 frame에 사각형을 그립니다\n",
    "\n",
    "        # 현재 얼굴의 픽셀 영역을 faceROI에 저장\n",
    "        faceROI = frame_gray[y:y+h, x:x+w]\n",
    "\n",
    "        # faceROI영역을 대상으로 눈(안구)인식 실행\n",
    "        eyes = eyes_cascade.detectMultiScale(faceROI)\n",
    "\n",
    "        for (x2, y2, w2, h2) in eyes:\n",
    "            # 그려넣을 원의 중점 계산:\n",
    "            # x:얼굴의 x좌표  x2:얼굴 내에서 계산한 눈의 x좌표, w2:눈의 가로크기\n",
    "            # y:얼굴의 y좌표  y2:얼굴 내에서 계산한 눈의 y좌표, h2:눈의 세로크기\n",
    "            eye_center = (x + x2 + w2//2, y + y2 + h2//2)\n",
    "\n",
    "            # (가로+세로)의 1/4로 반지름 계산\n",
    "            radius = int(round( (w2+h2)*0.25))\n",
    "\n",
    "            # 계산된 눈의 위치에 원을 그러 넣습니다\n",
    "            frame = cv2.circle(frame, eye_center, radius, (255,255,0), 2)\n",
    "    showImg(frame)"
   ]
  },
  {
   "cell_type": "code",
   "execution_count": 35,
   "metadata": {},
   "outputs": [],
   "source": [
    "# 식별함수 호출\n",
    "detectAndDisplay(img)\n",
    "# 얼굴사진이 너무 작거나 흑인, 황인은 인식이 어려울 수 있음"
   ]
  }
 ],
 "metadata": {
  "kernelspec": {
   "display_name": "Python 3",
   "language": "python",
   "name": "python3"
  },
  "language_info": {
   "codemirror_mode": {
    "name": "ipython",
    "version": 3
   },
   "file_extension": ".py",
   "mimetype": "text/x-python",
   "name": "python",
   "nbconvert_exporter": "python",
   "pygments_lexer": "ipython3",
   "version": "3.8.5"
  },
  "varInspector": {
   "cols": {
    "lenName": 16,
    "lenType": 16,
    "lenVar": 40
   },
   "kernels_config": {
    "python": {
     "delete_cmd_postfix": "",
     "delete_cmd_prefix": "del ",
     "library": "var_list.py",
     "varRefreshCmd": "print(var_dic_list())"
    },
    "r": {
     "delete_cmd_postfix": ") ",
     "delete_cmd_prefix": "rm(",
     "library": "var_list.r",
     "varRefreshCmd": "cat(var_dic_list()) "
    }
   },
   "types_to_exclude": [
    "module",
    "function",
    "builtin_function_or_method",
    "instance",
    "_Feature"
   ],
   "window_display": false
  }
 },
 "nbformat": 4,
 "nbformat_minor": 4
}
