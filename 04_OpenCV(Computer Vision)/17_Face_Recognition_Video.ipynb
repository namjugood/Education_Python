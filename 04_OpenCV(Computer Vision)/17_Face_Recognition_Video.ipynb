{
 "cells": [
  {
   "cell_type": "code",
   "execution_count": 14,
   "metadata": {},
   "outputs": [],
   "source": [
    "import cv2\n",
    "import face_recognition\n",
    "import pickle\n",
    "import time\n",
    "file_name = 'video/son_02.mp4'\n",
    "encoding_file = 'encodings.pickle'\n",
    "unknown_name = 'Unknown'\n",
    "model_method = 'hog' # cnn보다 인식률은 낮으나 검색속도가 빠름\n",
    "output_name = 'video/output_' + model_method + '1.avi'"
   ]
  },
  {
   "cell_type": "code",
   "execution_count": 15,
   "metadata": {},
   "outputs": [],
   "source": [
    "def detectAndDisplay(image):\n",
    "    # 얼굴인식이미지(Face_Recognition_Image) 코드를 참고하여 함수를 제작하세요\n",
    "    # 이미지 하나당 처리시간 계산을 위한 시작시간\n",
    "    start_time = time.time()\n",
    "    # 색상모드 변경\n",
    "    rgb = cv2.cvtColor(image, cv2.COLOR_BGR2RGB)\n",
    "    # 해당 모델을 이용한 얼굴인식 데이터 추출\n",
    "    boxes = face_recognition.face_locations(rgb, model=model_method)\n",
    "    # 추출한 얼굴들의 인코딩\n",
    "    encodings = face_recognition.face_encodings(rgb, boxes)\n",
    "    names = [] # 인식된 얼굴들의 이름을 저장할 리스트\n",
    "    # 추출한 얼굴 개수만큼 반복실행\n",
    "    for encoding in encodings:\n",
    "        # 저장된 인코딩 데이터들과 현재 인식된 얼굴들을 비교\n",
    "        matches = face_recognition.compare_faces(data[\"encodings\"], encoding)\n",
    "        name = unknown_name\n",
    "        if True in matches:\n",
    "            matchedIdxs = [i for (i,b) in enumerate(matches) if b]\n",
    "            counts={}\n",
    "            for i in matchedIdxs:\n",
    "                name = data[\"names\"][i]\n",
    "                counts[name] = counts.get(name, 0) + 1\n",
    "            name = max(counts, key=counts.get)\n",
    "        names.append(name)  # 각 얼굴들에 결정된 이름들의 리스트(Unknown, son, tedy)\n",
    "    \n",
    "    # 박스와 이름표시\n",
    "    for((top, right, bottom, left), name) in zip(boxes, names):\n",
    "        y = top -15 if top -15 > 15 else top + 15\n",
    "        color = (0,255,0)\n",
    "        if(name == unknown_name):\n",
    "            color = (0,0,255) # 빨간색\n",
    "            name = '' # 이름 : 빈칸으로\n",
    "        cv2.rectangle(image, (left, top), (right, bottom), color, 2)\n",
    "        cv2.putText(image, name, (left, y), cv2.FONT_HERSHEY_SIMPLEX, 0.75, \\\n",
    "                                                                    color, 2)\n",
    "    end_time = time.time()\n",
    "    process_time = end_time - start_time\n",
    "    print(\"===A frame took {:.3f} seconds\".format(process_time))\n",
    "    image = cv2.resize(image, None, fx=0.5, fy=0.5)\n",
    "    cv2.imshow(\"Recognition\", image)\n",
    "    \n",
    "    global writer\n",
    "    if writer is None and output_name is not None:\n",
    "        fourcc = cv2.VideoWriter_fourcc(*\"MJPG\")\n",
    "        writer = cv2.VideoWriter(output_name, fourcc, 24, (image.shape[1], \\\n",
    "                                                          image.shape[0]), True)\n",
    "    if writer is not None:\n",
    "        writer.write(image)"
   ]
  },
  {
   "cell_type": "code",
   "execution_count": 16,
   "metadata": {},
   "outputs": [
    {
     "name": "stdout",
     "output_type": "stream",
     "text": [
      "===A frame took 2.680 seconds\n",
      "===A frame took 2.647 seconds\n",
      "===A frame took 2.651 seconds\n",
      "===A frame took 2.662 seconds\n",
      "===A frame took 2.684 seconds\n",
      "===A frame took 2.672 seconds\n",
      "===A frame took 2.656 seconds\n",
      "===A frame took 2.676 seconds\n",
      "===A frame took 2.703 seconds\n",
      "===A frame took 2.676 seconds\n",
      "===A frame took 2.714 seconds\n",
      "===A frame took 2.645 seconds\n",
      "===A frame took 2.655 seconds\n",
      "===A frame took 2.679 seconds\n",
      "===A frame took 2.649 seconds\n",
      "===A frame took 2.665 seconds\n",
      "===A frame took 2.649 seconds\n",
      "===A frame took 2.648 seconds\n",
      "===A frame took 2.651 seconds\n",
      "===A frame took 2.666 seconds\n",
      "===A frame took 2.648 seconds\n",
      "===A frame took 2.653 seconds\n",
      "===A frame took 2.674 seconds\n",
      "===A frame took 2.671 seconds\n",
      "===A frame took 2.681 seconds\n",
      "===A frame took 2.655 seconds\n",
      "===A frame took 2.737 seconds\n",
      "===A frame took 2.664 seconds\n",
      "===A frame took 2.634 seconds\n",
      "===A frame took 2.675 seconds\n",
      "===A frame took 2.647 seconds\n",
      "===A frame took 2.675 seconds\n",
      "===A frame took 2.680 seconds\n",
      "===A frame took 2.646 seconds\n",
      "===A frame took 2.657 seconds\n",
      "===A frame took 2.708 seconds\n",
      "===A frame took 2.685 seconds\n",
      "===A frame took 2.641 seconds\n",
      "===A frame took 2.664 seconds\n",
      "===A frame took 2.644 seconds\n",
      "--(!) No captured frame -- Break!\n"
     ]
    }
   ],
   "source": [
    "data = pickle.loads(open(encoding_file, \"rb\").read())\n",
    "cap = cv2.VideoCapture(file_name)\n",
    "writer = None\n",
    "if not cap.isOpened:\n",
    "    print('--(!)Error opening video capture')\n",
    "    exit(0)\n",
    "while True:\n",
    "    ret, frame = cap.read()\n",
    "    if frame is None:\n",
    "        print('--(!) No captured frame -- Break!')\n",
    "        cap.release()\n",
    "        writer.release()\n",
    "        break\n",
    "    detectAndDisplay(frame)\n",
    "    if cv2.waitKey(1) & 0xFF == ord('q'):\n",
    "        break\n",
    "cv2.destroyAllWindows()"
   ]
  },
  {
   "cell_type": "code",
   "execution_count": null,
   "metadata": {},
   "outputs": [],
   "source": []
  }
 ],
 "metadata": {
  "kernelspec": {
   "display_name": "Python 3",
   "language": "python",
   "name": "python3"
  },
  "language_info": {
   "codemirror_mode": {
    "name": "ipython",
    "version": 3
   },
   "file_extension": ".py",
   "mimetype": "text/x-python",
   "name": "python",
   "nbconvert_exporter": "python",
   "pygments_lexer": "ipython3",
   "version": "3.8.5"
  },
  "varInspector": {
   "cols": {
    "lenName": 16,
    "lenType": 16,
    "lenVar": 40
   },
   "kernels_config": {
    "python": {
     "delete_cmd_postfix": "",
     "delete_cmd_prefix": "del ",
     "library": "var_list.py",
     "varRefreshCmd": "print(var_dic_list())"
    },
    "r": {
     "delete_cmd_postfix": ") ",
     "delete_cmd_prefix": "rm(",
     "library": "var_list.r",
     "varRefreshCmd": "cat(var_dic_list()) "
    }
   },
   "types_to_exclude": [
    "module",
    "function",
    "builtin_function_or_method",
    "instance",
    "_Feature"
   ],
   "window_display": false
  }
 },
 "nbformat": 4,
 "nbformat_minor": 4
}
