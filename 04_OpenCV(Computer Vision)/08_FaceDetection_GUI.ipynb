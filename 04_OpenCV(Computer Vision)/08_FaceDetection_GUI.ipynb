{
 "cells": [
  {
   "cell_type": "code",
   "execution_count": 1,
   "metadata": {},
   "outputs": [],
   "source": [
    "import cv2\n",
    "import numpy as np\n",
    "from tkinter import *\n",
    "from PIL import Image\n",
    "from PIL import ImageTk\n",
    "from tkinter import filedialog"
   ]
  },
  {
   "cell_type": "code",
   "execution_count": 2,
   "metadata": {},
   "outputs": [],
   "source": [
    "# 얼굴인식 모델이 있는 경로와 파일 이름을 저장\n",
    "face_cascade_name = './data/haarcascade_frontalface_alt.xml'\n",
    "eyes_cascade_name = './data/haarcascade_eye_tree_eyeglasses.xml'"
   ]
  },
  {
   "cell_type": "code",
   "execution_count": 3,
   "metadata": {},
   "outputs": [],
   "source": [
    "frame_width=500"
   ]
  },
  {
   "cell_type": "code",
   "execution_count": 4,
   "metadata": {},
   "outputs": [],
   "source": [
    "def detectAndDisplay(frame):\n",
    "    frame_gray = cv2.cvtColor(frame, cv2.COLOR_BGR2GRAY)\n",
    "    frame_gray = cv2.equalizeHist(frame_gray)\n",
    "    faces = face_cascade.detectMultiScale(frame_gray)\n",
    "    for (x,y,w,h) in faces:\n",
    "        center = (x + w // 2, y + h // 2)\n",
    "        frame = cv2.rectangle(frame, (x, y), (x+w, y+h), (0, 255, 0), 4)\n",
    "        faceROI = frame_gray[y:y+h, x:x+w]\n",
    "        eyes = eyes_cascade.detectMultiScale(faceROI)\n",
    "        for (x2, y2, w2, h2) in eyes:\n",
    "            eye_center = (x + x2 + w2//2, y + y2 + h2//2)\n",
    "            radius = int(round( (w2+h2)*0.25))\n",
    "            frame = cv2.circle(frame, eye_center, radius, (255,255,0), 4)\n",
    "    image = cv2.cvtColor(read_image, cv2.COLOR_BGR2RGB)\n",
    "    image = Image.fromarray(image)\n",
    "    imgtk = ImageTk.PhotoImage(image=image)\n",
    "    detection.config(image=imgtk)\n",
    "    detection.image=imgtk"
   ]
  },
  {
   "cell_type": "code",
   "execution_count": 5,
   "metadata": {},
   "outputs": [],
   "source": [
    "def selectFile():\n",
    "    # initialdir : 최초 보여질 폴더 위치\n",
    "    # title : 다이얼로그 창 타이틀\n",
    "    # filetypes : 표시할 파일 형식\n",
    "    file_name = filedialog.askopenfilename(initialdir = \"./image\", \\\n",
    "      title=\"Select file\", filetypes = ((\"jpeg files\", \"*.jpg\"), (\"all files\", \"*.*\")))\n",
    "    print('File name : ', file_name) # 디렉토리에서 선택한 파일명 출력\n",
    "    read_image = cv2.imread(file_name)\n",
    "    (height, width) = read_image.shape[:2]\n",
    "    frameSize = int(sizeSpin.get())  # 사용자가 변경한 가로크기를 스핀박스에서 읽음\n",
    "    ratio = frameSize / width\n",
    "    dimension = (frameSize, int(height * ratio))\n",
    "    read_image = cv2.resize(read_image, dimension)\n",
    "    image = cv2.cvtColor(read_image, cv2.COLOR_BGR2RGB)\n",
    "    image = Image.fromarray(image)\n",
    "    imgtk = ImageTk.PhotoImage(image=image)\n",
    "    \n",
    "    detectAndDisplay(read_image)"
   ]
  },
  {
   "cell_type": "code",
   "execution_count": 6,
   "metadata": {},
   "outputs": [
    {
     "name": "stdout",
     "output_type": "stream",
     "text": [
      "File name :  C:/Users/204/Python/04_OpenCV(Computer Vision)/image/marathon_02.jpg\n",
      "File name :  C:/Users/204/Python/04_OpenCV(Computer Vision)/image/soccer_01.jpg\n",
      "File name :  C:/Users/204/Python/04_OpenCV(Computer Vision)/image/marathon_02.jpg\n",
      "File name :  C:/Users/204/Python/04_OpenCV(Computer Vision)/image/marathon_03.jpg\n"
     ]
    }
   ],
   "source": [
    "# main\n",
    "main = Tk()\n",
    "main.title('Haar cascade object detection')\n",
    "main.geometry()\n",
    "\n",
    "# 이미지 로딩\n",
    "read_image = cv2.imread(\"./image/marathon_01.jpg\")\n",
    "# 세로, 가로 크기 추출\n",
    "(height, width) = read_image.shape[:2]\n",
    "# 500픽셀에 맞춘 frame_width의 비율 계산\n",
    "ratio = frame_width / width\n",
    "# 계산한 비율에 맞춘 최종 표시 이미지 크기 저장\n",
    "dimension = (frame_width, int(height * ratio))\n",
    "# 크기 조정\n",
    "read_image = cv2.resize(read_image, dimension)\n",
    "\n",
    "# 얼굴 인식, 안구인식 객체 생성\n",
    "face_cascade = cv2.CascadeClassifier()\n",
    "eyes_cascade = cv2.CascadeClassifier()\n",
    "if not face_cascade.load(cv2.samples.findFile(face_cascade_name)):\n",
    "    print('--(!)Error loading face cascade')\n",
    "    exit(0)\n",
    "if not eyes_cascade.load(cv2.samples.findFile(eyes_cascade_name)):\n",
    "    print('--(!)Error loading eyes cascade')\n",
    "    exit(0)\n",
    "\n",
    "# 프로그램 타이틀 표시    \n",
    "label = Label(main, text='Haar cascade object detection')\n",
    "label.config(font=(\"굴림\", 18))\n",
    "label.grid(row=0, column=0, columnspan=4)\n",
    "\n",
    "# 스핀박스의 제목\n",
    "sizeLabel = Label(main, text='Frame width :')\n",
    "sizeLabel.grid(row=1, column=0)\n",
    "\n",
    "#가로크기를 지정할 스핀박스\n",
    "sizeVal = IntVar(value=frame_width)\n",
    "sizeSpin = Spinbox(main, textvariable = sizeVal, from_=0, to=2000, increment=100)\n",
    "sizeSpin.grid(row=1, column=1)\n",
    "\n",
    "btn = Button(main, text=\"File Select\", height=2, command=lambda:selectFile())\n",
    "btn.grid(row=1, column=2, columnspan=2, sticky=(W, E))\n",
    "\n",
    "# 윈도우에 표시될 이미지 형식으로의 변환\n",
    "image = cv2.cvtColor(read_image, cv2.COLOR_BGR2RGB) # cv2의 BGR -> RGB\n",
    "image = Image.fromarray(image)  # 이미지 배열 형식 변환\n",
    "imgtk = ImageTk.PhotoImage(image=image)  # ImageTk 객체에서 표시 가능한 형식 변환\n",
    "\n",
    "# ImageTk.PhotoImage -> Label에 이미지로 표시\n",
    "detection = Label(main, image=imgtk)\n",
    "detection.grid(row=2, column=0, columnspan=4)\n",
    "\n",
    "detectAndDisplay(read_image)\n",
    "\n",
    "main.mainloop()"
   ]
  },
  {
   "cell_type": "code",
   "execution_count": null,
   "metadata": {},
   "outputs": [],
   "source": []
  }
 ],
 "metadata": {
  "kernelspec": {
   "display_name": "Python 3",
   "language": "python",
   "name": "python3"
  },
  "language_info": {
   "codemirror_mode": {
    "name": "ipython",
    "version": 3
   },
   "file_extension": ".py",
   "mimetype": "text/x-python",
   "name": "python",
   "nbconvert_exporter": "python",
   "pygments_lexer": "ipython3",
   "version": "3.8.5"
  },
  "varInspector": {
   "cols": {
    "lenName": 16,
    "lenType": 16,
    "lenVar": 40
   },
   "kernels_config": {
    "python": {
     "delete_cmd_postfix": "",
     "delete_cmd_prefix": "del ",
     "library": "var_list.py",
     "varRefreshCmd": "print(var_dic_list())"
    },
    "r": {
     "delete_cmd_postfix": ") ",
     "delete_cmd_prefix": "rm(",
     "library": "var_list.r",
     "varRefreshCmd": "cat(var_dic_list()) "
    }
   },
   "types_to_exclude": [
    "module",
    "function",
    "builtin_function_or_method",
    "instance",
    "_Feature"
   ],
   "window_display": false
  }
 },
 "nbformat": 4,
 "nbformat_minor": 4
}
