{
 "cells": [
  {
   "cell_type": "markdown",
   "metadata": {},
   "source": [
    "# DNN 모델을 이용하여 동영상 파일 내의 얼굴에 사각형 및 원 표시를 추가 및 플레이"
   ]
  },
  {
   "cell_type": "code",
   "execution_count": 1,
   "metadata": {},
   "outputs": [],
   "source": [
    "# 필요모듈 import\n",
    "import cv2\n",
    "import numpy as np\n",
    "model_name = 'res10_300x300_ssd_iter_140000.caffemodel'\n",
    "prototxt_name = 'deploy.prototxt.txt'"
   ]
  },
  {
   "cell_type": "code",
   "execution_count": 9,
   "metadata": {},
   "outputs": [],
   "source": [
    "# 얼굴인식 모델 경로 및 min_confidense 설정(동영상 파일 경로 및 파일명 저장)\n",
    "min_confidence = 0.5\n",
    "file_name = \"video/obama_01.mp4\""
   ]
  },
  {
   "cell_type": "code",
   "execution_count": 10,
   "metadata": {},
   "outputs": [],
   "source": [
    "face_cascade = cv2.CascadeClassifier()\n",
    "face_cascade_name = './data/haarcascade_frontalface_alt.xml'\n",
    "# 모듈로딩 : 실패하면 프로그램 종료\n",
    "if not face_cascade.load(cv2.samples.findFile(face_cascade_name)):\n",
    "    print('--(!)Error loading face cascade')\n",
    "    exit(0)"
   ]
  },
  {
   "cell_type": "code",
   "execution_count": 11,
   "metadata": {},
   "outputs": [],
   "source": [
    "# detectAndDisplay 함수 제작(이미지 형식 변환 및 얼굴인식 표시 추가  & display)\n",
    "def detectAndDisplay(frame):\n",
    "    # 모델 생성\n",
    "    model = cv2.dnn.readNetFromCaffe(prototxt_name, model_name)\n",
    "    # 형식 변환\n",
    "    blob = cv2.dnn.blobFromImage(cv2.resize(frame, (300, 300)), 1.0, (300, 300), \\\n",
    "                                (104.0, 177.0, 123.0))\n",
    "    # 모델에 이미지 set\n",
    "    model.setInput(blob)\n",
    "    # 얼굴인식 자료 추출\n",
    "    detections = model.forward()  \n",
    "    # 추출한 자료의 개수만큼 반복실행\n",
    "    for i in range(0, detections.shape[2]):\n",
    "        # 얼굴로 인식된 자료가 진자 얼굴인지 표시한 확률추출\n",
    "        confidence = detections[0,0,i,2]\n",
    "        # 확률이 50%(0.5)보다 초과인 데이터에 대해서 해당위치에 이미지 및 확률 표시\n",
    "        if confidence > min_confidence:\n",
    "            # 이미지 세로 가로 크기 추출\n",
    "            (height, width) = frame.shape[:2]\n",
    "            # 얼굴 위치의 좌표(0.0~1.0 사이의 상대적 좌표)와 세로 가로 길이를 곱해서\n",
    "            # 얼굴 위치의 좌표를 픽셀값으로 계산\n",
    "            box = detections[0,0,i,3:7] * np.array([width, height, width, height])\n",
    "            # 최종 정수로 변환해서 좌측 위 꼭지점과 우측아래 꼭지점 좌표로 사각형의 위치 확정\n",
    "            (startX, startY, endX, endY) = box.astype(\"int\")\n",
    "            # 표시한 확률 제작\n",
    "            text = \"{:.2f}%\".format(confidence*100)\n",
    "            # 확률 표시할 위치 선정\n",
    "            # 표시할 위치가 이미지를 벗어나는 경우 y좌표에 +10 위치로 조정\n",
    "            # 이미지를 벗어나지 않는 경우, 얼굴 사각형의 바로 위(startY-10)로 설정\n",
    "            y = startY - 10 if startY- 10 > 10 else startY + 10\n",
    "            # 사각형 표시\n",
    "            cv2.rectangle(frame, (startX, startY), (endX, endY), (0,255,0), 2)\n",
    "            # 확률 표시(+폰트설정)\n",
    "            cv2.putText(frame, text, (startX, y), \n",
    "            cv2.FONT_HERSHEY_SIMPLEX, 0.5, (0, 255, 0), 1)\n",
    "    # 완성된 이미지 화면 표시\n",
    "    cv2.imshow('Capture - Face detection by DNN', frame)"
   ]
  },
  {
   "cell_type": "code",
   "execution_count": 12,
   "metadata": {},
   "outputs": [],
   "source": [
    "# 동영상 캡쳐화면을 이용한 detectAndDisplay 함수 호출\n",
    "cap = cv2.VideoCapture(file_name)\n",
    "if not cap.isOpened:\n",
    "    print('--(!)Error opening video cascade')\n",
    "    exit(0)\n",
    "\n",
    "while True:\n",
    "    ret, frame = cap.read() # 캡쳐해서 하나씩 읽어옴\n",
    "    if frame is None:\n",
    "        print('--(!) No captured frame -- Break!')\n",
    "        break\n",
    "        \n",
    "    \n",
    "    detectAndDisplay(frame)\n",
    "    if cv2.waitKey(1) & 0xFF == ord('q'):\n",
    "        break\n",
    "cv2.destroyAllWindows()"
   ]
  },
  {
   "cell_type": "code",
   "execution_count": null,
   "metadata": {},
   "outputs": [],
   "source": []
  }
 ],
 "metadata": {
  "kernelspec": {
   "display_name": "Python 3",
   "language": "python",
   "name": "python3"
  },
  "language_info": {
   "codemirror_mode": {
    "name": "ipython",
    "version": 3
   },
   "file_extension": ".py",
   "mimetype": "text/x-python",
   "name": "python",
   "nbconvert_exporter": "python",
   "pygments_lexer": "ipython3",
   "version": "3.8.5"
  },
  "varInspector": {
   "cols": {
    "lenName": 16,
    "lenType": 16,
    "lenVar": 40
   },
   "kernels_config": {
    "python": {
     "delete_cmd_postfix": "",
     "delete_cmd_prefix": "del ",
     "library": "var_list.py",
     "varRefreshCmd": "print(var_dic_list())"
    },
    "r": {
     "delete_cmd_postfix": ") ",
     "delete_cmd_prefix": "rm(",
     "library": "var_list.r",
     "varRefreshCmd": "cat(var_dic_list()) "
    }
   },
   "types_to_exclude": [
    "module",
    "function",
    "builtin_function_or_method",
    "instance",
    "_Feature"
   ],
   "window_display": false
  }
 },
 "nbformat": 4,
 "nbformat_minor": 4
}
