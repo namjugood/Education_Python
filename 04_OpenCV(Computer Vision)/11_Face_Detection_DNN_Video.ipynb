{
 "cells": [
  {
   "cell_type": "markdown",
   "metadata": {},
   "source": [
    "# DNN 모델을 이용하여 동영상 파일 내의 얼굴에 사각형 및 원 표시를 추가 및 플레이"
   ]
  },
  {
   "cell_type": "code",
   "execution_count": 1,
   "metadata": {},
   "outputs": [],
   "source": [
    "# 필요모듈 import\n",
    "import cv2\n",
    "import numpy as np\n",
    "model_name = 'res10_300x300_ssd_iter_140000.caffemodel'\n",
    "prototxt_name = 'deploy.prototxt.txt'"
   ]
  },
  {
   "cell_type": "code",
   "execution_count": 9,
   "metadata": {},
   "outputs": [],
   "source": [
    "# 얼굴인식 모델 경로 및 min_confidense 설정(동영상 파일 경로 및 파일명 저장)\n",
    "min_confidence = 0.8\n",
    "file_name = \"video/obama_01.mp4\""
   ]
  },
  {
   "cell_type": "code",
   "execution_count": 10,
   "metadata": {},
   "outputs": [],
   "source": [
    "face_cascade = cv2.CascadeClassifier()\n",
    "face_cascade_name = './data/haarcascade_frontalface_alt.xml'\n",
    "# 모듈로딩 : 실패하면 프로그램 종료\n",
    "if not face_cascade.load(cv2.samples.findFile(face_cascade_name)):\n",
    "    print('--(!)Error loading face cascade')\n",
    "    exit(0)"
   ]
  },
  {
   "cell_type": "code",
   "execution_count": 11,
   "metadata": {},
   "outputs": [],
   "source": [
    "# detectAndDisplay 함수 제작(이미지 형식 변환 및 얼굴인식 표시 추가  & display)\n",
    "def detectAndDisplay(frame):\n",
    "    model = cv2.dnn.readNetFromCaffe(prototxt_name, model_name)\n",
    "    blob = cv2.dnn.blobFromImage(cv2.resize(frame, (500, 300)), 1.0, (500, 300), \\\n",
    "                                (104.0, 177.0, 123.0))\n",
    "    model.setInput(blob)\n",
    "    detections = model.forward()  # 얼굴인식에 의한 리턴값 리스트\n",
    "    # print(detections.shape)\n",
    "    # print(detections[0])\n",
    "\n",
    "    for i in range(0, detections.shape[2]):\n",
    "        confidence = detections[0,0,i,2]\n",
    "        if confidence > min_confidence:\n",
    "            box = detections[0,0,i,3:7] * np.array([width, height, width, height])\n",
    "            (startX, startY, endX, endY) = box.astype(\"int\")\n",
    "            text = \"{:.2f}%\".format(confidence*100)\n",
    "            # 박스가 너무 위에 있어 확률표시가 어렵다면 박스 안쪽에 확률표시\n",
    "            y = startY - 10 if startY- 10 > 10 else startY + 10\n",
    "            cv2.rectangle(frame, (startX, startY), (endX, endY), (0,255,0), 2)\n",
    "            cv2.putText(frame, text, (startX, y), \n",
    "            cv2.FONT_HERSHEY_SIMPLEX, 0.5, (0, 255, 0), 1)\n",
    "    cv2.imshow('Capture - Face detection by DNN', frame)"
   ]
  },
  {
   "cell_type": "code",
   "execution_count": null,
   "metadata": {},
   "outputs": [],
   "source": [
    "# 동영상 캡쳐화면을 이용한 detectAndDisplay 함수 호출\n",
    "cap = cv2.VideoCapture(file_name)\n",
    "if not cap.isOpened:\n",
    "    print('--(!)Error opening video cascade')\n",
    "    exit(0)\n",
    "\n",
    "while True:\n",
    "    ret, frame = cap.read()\n",
    "    if frame is None:\n",
    "        print('--(!) No captured frame -- Break!')\n",
    "        break\n",
    "        \n",
    "    (height, width) = frame.shape[:2]\n",
    "    detectAndDisplay(frame)\n",
    "    if cv2.waitKey(1) & 0xFF == ord('q'):\n",
    "        break\n",
    "\n",
    "cv2.destroyAllWindows()"
   ]
  },
  {
   "cell_type": "code",
   "execution_count": null,
   "metadata": {},
   "outputs": [],
   "source": []
  }
 ],
 "metadata": {
  "kernelspec": {
   "display_name": "Python 3",
   "language": "python",
   "name": "python3"
  },
  "language_info": {
   "codemirror_mode": {
    "name": "ipython",
    "version": 3
   },
   "file_extension": ".py",
   "mimetype": "text/x-python",
   "name": "python",
   "nbconvert_exporter": "python",
   "pygments_lexer": "ipython3",
   "version": "3.8.5"
  },
  "varInspector": {
   "cols": {
    "lenName": 16,
    "lenType": 16,
    "lenVar": 40
   },
   "kernels_config": {
    "python": {
     "delete_cmd_postfix": "",
     "delete_cmd_prefix": "del ",
     "library": "var_list.py",
     "varRefreshCmd": "print(var_dic_list())"
    },
    "r": {
     "delete_cmd_postfix": ") ",
     "delete_cmd_prefix": "rm(",
     "library": "var_list.r",
     "varRefreshCmd": "cat(var_dic_list()) "
    }
   },
   "types_to_exclude": [
    "module",
    "function",
    "builtin_function_or_method",
    "instance",
    "_Feature"
   ],
   "window_display": false
  }
 },
 "nbformat": 4,
 "nbformat_minor": 4
}
