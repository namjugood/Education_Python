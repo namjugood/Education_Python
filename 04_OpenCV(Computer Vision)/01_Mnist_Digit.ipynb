{
 "cells": [
  {
   "cell_type": "markdown",
   "metadata": {},
   "source": [
    "# 손글씨 출력\n",
    "* 텐서플로와 케라스를 이용하면 학습률 및 적중률이 높아짐"
   ]
  },
  {
   "cell_type": "code",
   "execution_count": 1,
   "metadata": {},
   "outputs": [],
   "source": [
    "from keras.datasets import mnist"
   ]
  },
  {
   "cell_type": "code",
   "execution_count": 2,
   "metadata": {},
   "outputs": [],
   "source": [
    "import numpy as np\n",
    "import matplotlib.pyplot as plt"
   ]
  },
  {
   "cell_type": "code",
   "execution_count": 3,
   "metadata": {},
   "outputs": [
    {
     "name": "stdout",
     "output_type": "stream",
     "text": [
      "Downloading data from https://storage.googleapis.com/tensorflow/tf-keras-datasets/mnist.npz\n",
      "11493376/11490434 [==============================] - 1s 0us/step\n"
     ]
    }
   ],
   "source": [
    "(x_train, y_train), (x_test, y_test) = mnist.load_data()"
   ]
  },
  {
   "cell_type": "code",
   "execution_count": 4,
   "metadata": {},
   "outputs": [
    {
     "name": "stdout",
     "output_type": "stream",
     "text": [
      "(60000, 28, 28) (10000, 28, 28)\n"
     ]
    }
   ],
   "source": [
    "print(x_train.shape, x_test.shape) # feature들의 데이터 개수 조회"
   ]
  },
  {
   "cell_type": "code",
   "execution_count": 6,
   "metadata": {},
   "outputs": [
    {
     "name": "stdout",
     "output_type": "stream",
     "text": [
      "(60000,)\n",
      "4\n",
      "[5 0 4 ... 5 6 8]\n"
     ]
    }
   ],
   "source": [
    "selected_image = 150\n",
    "print(y_train.shape)\n",
    "print(y_train[selected_image]) # 6만개 데이터 중 150번째 target값 출력\n",
    "print(y_train) # 6만개의 target 출력"
   ]
  },
  {
   "cell_type": "code",
   "execution_count": 7,
   "metadata": {},
   "outputs": [
    {
     "name": "stdout",
     "output_type": "stream",
     "text": [
      "(60000, 28, 28)\n"
     ]
    }
   ],
   "source": [
    "print(x_train.shape)  # 28행 28열의 데이터가 6만개"
   ]
  },
  {
   "cell_type": "code",
   "execution_count": 8,
   "metadata": {},
   "outputs": [
    {
     "name": "stdout",
     "output_type": "stream",
     "text": [
      "[[  0   0   0   0   0   0   0   0   0   0   0   0   0   0   0   0   0   0\n",
      "    0   0   0   0   0   0   0   0   0   0]\n",
      " [  0   0   0   0   0   0   0   0   0   0   0   0   0   0   0   0   0   0\n",
      "    0   0   0   0   0   0   0   0   0   0]\n",
      " [  0   0   0   0   0   0   0   0   0   0   0   0   0   0   0   0   0   0\n",
      "    0   0   0   0   0   0   0   0   0   0]\n",
      " [  0   0   0   0   0   0   0   0   0   0   0   0   0   0   0   0   0   0\n",
      "    0   0   0   0   0   0   0   0   0   0]\n",
      " [  0   0   0   0   0   0   0   0   0   0   0   0   0   0   0   0   0   0\n",
      "    0   0   0   0   0   0   0   0   0   0]\n",
      " [  0   0   0   0   0   0   0   0   0   0   0   0   0   0   0  19 221 254\n",
      "   11   0   0   0   0   0   0   0   0   0]\n",
      " [  0   0   0   0   0   0   0   0   0   0   0   0   0   0   0 139 253 227\n",
      "    8   0   0   0   0   0   0   0   0   0]\n",
      " [  0   0   0   0   0   0   0   0   0   0   0   0   0   0 135 254 253  63\n",
      "    0   0   0   0   0   0   0   0   0   0]\n",
      " [  0   0   0   0   0   0   0   0   0   0   0   0   4 138 252 254 253  44\n",
      "    0   0   0   0   0   0   0   0   0   0]\n",
      " [  0   0   0   0   0   0   0   0   0   0   0   3 138 253 253 254 253  44\n",
      "    0   0   0   0   0   0   0   0   0   0]\n",
      " [  0   0   0   0   0   0   0   0   0   0  31 144 253 253 253 254 230  29\n",
      "    0   0   0   0   0   0   0   0   0   0]\n",
      " [  0   0   0   0   0   0   0   0   0  80 216 253 247 127 224 254 187   0\n",
      "    0   0   0   0   0   0   0   0   0   0]\n",
      " [  0   0   0   0   0   0   0   0 101 219 253 247  39   0 221 254 168   0\n",
      "    0   0   0   0   0   0   0   0   0   0]\n",
      " [  0   0   0   0   0   0  21  78 246 253 188  63   0  58 245 254  77   0\n",
      "    0   0   0   0   0   0   0   0   0   0]\n",
      " [  0   0   0   0   0  15 196 253 253 157  21   0   0 127 253 254  77   0\n",
      "    0   0   0   0  68 111  15   0   0   0]\n",
      " [  0   0   0   0   0 193 254 254 245  72  34  34  13 189 254 227  34  34\n",
      "   34  58 144 197 255 244  77   0   0   0]\n",
      " [  0   0   0   0   0 107 204 253 253 253 253 253 207 234 253 254 253 253\n",
      "  253 253 253 253 213  82   0   0   0   0]\n",
      " [  0   0   0   0   0   0  12  87 154 219 253 253 253 253 253 254 253 253\n",
      "  245 154 154  53  17   0   0   0   0   0]\n",
      " [  0   0   0   0   0   0   0   0   0   7  10 112 144 253 253 223  10  10\n",
      "   10   0   0   0   0   0   0   0   0   0]\n",
      " [  0   0   0   0   0   0   0   0   0   0   0   0  16 211 253 221   0   0\n",
      "    0   0   0   0   0   0   0   0   0   0]\n",
      " [  0   0   0   0   0   0   0   0   0   0   0   0   0 188 253 134   0   0\n",
      "    0   0   0   0   0   0   0   0   0   0]\n",
      " [  0   0   0   0   0   0   0   0   0   0   0   0  22 219 253  58   0   0\n",
      "    0   0   0   0   0   0   0   0   0   0]\n",
      " [  0   0   0   0   0   0   0   0   0   0   0   0  45 253 253   0   0   0\n",
      "    0   0   0   0   0   0   0   0   0   0]\n",
      " [  0   0   0   0   0   0   0   0   0   0   0   0  45 253 253   0   0   0\n",
      "    0   0   0   0   0   0   0   0   0   0]\n",
      " [  0   0   0   0   0   0   0   0   0   0   0   0   6 148 205   0   0   0\n",
      "    0   0   0   0   0   0   0   0   0   0]\n",
      " [  0   0   0   0   0   0   0   0   0   0   0   0   0   0   0   0   0   0\n",
      "    0   0   0   0   0   0   0   0   0   0]\n",
      " [  0   0   0   0   0   0   0   0   0   0   0   0   0   0   0   0   0   0\n",
      "    0   0   0   0   0   0   0   0   0   0]\n",
      " [  0   0   0   0   0   0   0   0   0   0   0   0   0   0   0   0   0   0\n",
      "    0   0   0   0   0   0   0   0   0   0]]\n"
     ]
    }
   ],
   "source": [
    "print(x_train[selected_image])  # 150번째 feature 한 개 출력"
   ]
  },
  {
   "cell_type": "code",
   "execution_count": 10,
   "metadata": {},
   "outputs": [
    {
     "data": {
      "image/png": "[encoded data removed]",
      "text/plain": [
       "<Figure size 360x360 with 1 Axes>"
      ]
     },
     "metadata": {
      "needs_background": "light"
     },
     "output_type": "display_data"
    }
   ],
   "source": [
    "fig = plt.figure(figsize=(5,5)) # 차트크기 5:5\n",
    "ax = fig.add_subplot(111) # 1행 1열의 서브 차트에 1번 위치에 서브차트 생성\n",
    "major_ticks = np.arange(0, 29, 5) # 0부터 29까지 5의 인터벌로 숫자들 생성\n",
    "minor_ticks = np.arange(0, 29, 1) # 0부터 29까지 1의 인터벌로 숫자들 생성\n",
    "ax.set_xticks(major_ticks)  # x축 주눈금 설정\n",
    "ax.set_xticks(minor_ticks, minor=True)  # x축 보조눈금 설정\n",
    "ax.set_yticks(major_ticks)  # y축 주는금 설정\n",
    "ax.set_yticks(minor_ticks, minor=True)  # y축 보조눈금 설정\n",
    "ax.grid(which='both')  # 격자무늬 생성\n",
    "ax.grid(which='minor', alpha=0.2)  # 주격자 간격과 무늬 투명도\n",
    "ax.grid(which='major', alpha=0.5)  # 보조격자 간격과 무늬 투명도\n",
    "\n",
    "ax.imshow(x_train[selected_image], cmap=plt.cm.Blues)  # 차트에 내용 표시\n",
    "# cmap_lst : [plt.cm.rainbow, plt.cm.Blues, plt.cm.autumn, plt.cm.RdYlGn]\n",
    "plt.show()"
   ]
  },
  {
   "cell_type": "code",
   "execution_count": null,
   "metadata": {},
   "outputs": [],
   "source": []
  },
  {
   "cell_type": "code",
   "execution_count": null,
   "metadata": {},
   "outputs": [],
   "source": [
    "# 손글씨 출력\n",
    "* 텐서플로와 케라스를 이용하면 학습률 및 적중률이 높아짐\n",
    "\n",
    "from keras.datasets import mnist\n",
    "\n",
    "import numpy as np\n",
    "import matplotlib.pyplot as plt\n",
    "\n",
    "(x_train, y_train), (x_test, y_test) = mnist.load_data()\n",
    "\n",
    "print(x_train.shape, x_test.shape) # feature들의 데이터 개수 조회\n",
    "\n",
    "selected_image = 150\n",
    "print(y_train.shape)\n",
    "print(y_train[selected_image]) # 6만개 데이터 중 150번째 target값 출력\n",
    "print(y_train) # 6만개의 target 출력\n",
    "\n",
    "print(x_train.shape)  # 28행 28열의 데이터가 6만개\n",
    "\n",
    "print(x_train[selected_image])  # 150번째 feature 한 개 출력\n",
    "\n",
    "fig = plt.figure(figsize=(5,5)) # 차트크기 5:5\n",
    "ax = fig.add_subplot(111) # 1행 1열의 서브 차트에 1번 위치에 서브차트 생성\n",
    "major_ticks = np.arange(0, 29, 5) # 0부터 29까지 5의 인터벌로 숫자들 생성\n",
    "minor_ticks = np.arange(0, 29, 1) # 0부터 29까지 1의 인터벌로 숫자들 생성\n",
    "ax.set_xticks(major_ticks)  # x축 주눈금 설정\n",
    "ax.set_xticks(minor_ticks, minor=True)  # x축 보조눈금 설정\n",
    "ax.set_yticks(major_ticks)  # y축 주는금 설정\n",
    "ax.set_yticks(minor_ticks, minor=True)  # y축 보조눈금 설정\n",
    "ax.grid(which='both')  # 격자무늬 생성\n",
    "ax.grid(which='minor', alpha=0.2)  # 주격자 간격과 무늬 투명도\n",
    "ax.grid(which='major', alpha=0.5)  # 보조격자 간격과 무늬 투명도\n",
    "\n",
    "ax.imshow(x_train[selected_image], cmap=plt.cm.Blues)  # 차트에 내용 표시\n",
    "# cmap_lst : [plt.cm.rainbow, plt.cm.Blues, plt.cm.autumn, plt.cm.RdYlGn]\n",
    "plt.show()\n",
    "\n"
   ]
  }
 ],
 "metadata": {
  "kernelspec": {
   "display_name": "Python 3",
   "language": "python",
   "name": "python3"
  },
  "language_info": {
   "codemirror_mode": {
    "name": "ipython",
    "version": 3
   },
   "file_extension": ".py",
   "mimetype": "text/x-python",
   "name": "python",
   "nbconvert_exporter": "python",
   "pygments_lexer": "ipython3",
   "version": "3.8.5"
  },
  "varInspector": {
   "cols": {
    "lenName": 16,
    "lenType": 16,
    "lenVar": 40
   },
   "kernels_config": {
    "python": {
     "delete_cmd_postfix": "",
     "delete_cmd_prefix": "del ",
     "library": "var_list.py",
     "varRefreshCmd": "print(var_dic_list())"
    },
    "r": {
     "delete_cmd_postfix": ") ",
     "delete_cmd_prefix": "rm(",
     "library": "var_list.r",
     "varRefreshCmd": "cat(var_dic_list()) "
    }
   },
   "types_to_exclude": [
    "module",
    "function",
    "builtin_function_or_method",
    "instance",
    "_Feature"
   ],
   "window_display": false
  }
 },
 "nbformat": 4,
 "nbformat_minor": 4
}
