{
 "cells": [
  {
   "cell_type": "code",
   "execution_count": 1,
   "metadata": {},
   "outputs": [],
   "source": [
    "import cv2\n",
    "import numpy as np\n",
    "min_confidence = 0.5"
   ]
  },
  {
   "cell_type": "code",
   "execution_count": 2,
   "metadata": {},
   "outputs": [],
   "source": [
    "# 모델 로딩\n",
    "net = cv2.dnn.readNet(\"yolo/yolov3.weights\", \"yolo/yolov3.cfg\")"
   ]
  },
  {
   "cell_type": "code",
   "execution_count": 3,
   "metadata": {},
   "outputs": [
    {
     "name": "stdout",
     "output_type": "stream",
     "text": [
      "['person', 'bicycle', 'car', 'motorbike', 'aeroplane', 'bus', 'train', 'truck', 'boat', 'traffic light', 'fire hydrant', 'stop sign', 'parking meter', 'bench', 'bird', 'cat', 'dog', 'horse', 'sheep', 'cow', 'elephant', 'bear', 'zebra', 'giraffe', 'backpack', 'umbrella', 'handbag', 'tie', 'suitcase', 'frisbee', 'skis', 'snowboard', 'sports ball', 'kite', 'baseball bat', 'baseball glove', 'skateboard', 'surfboard', 'tennis racket', 'bottle', 'wine glass', 'cup', 'fork', 'knife', 'spoon', 'bowl', 'banana', 'apple', 'sandwich', 'orange', 'broccoli', 'carrot', 'hot dog', 'pizza', 'donut', 'cake', 'chair', 'sofa', 'pottedplant', 'bed', 'diningtable', 'toilet', 'tvmonitor', 'laptop', 'mouse', 'remote', 'keyboard', 'cell phone', 'microwave', 'oven', 'toaster', 'sink', 'refrigerator', 'book', 'clock', 'vase', 'scissors', 'teddy bear', 'hair drier', 'toothbrush']\n"
     ]
    }
   ],
   "source": [
    "# 화면에 표시될 사물의 이름들을 기록한 파일을 열어서 로딩, 저장해둡니다\n",
    "with open(\"yolo/coco.names\", \"r\")as f:\n",
    "    classes = [line.strip() for line in f.readlines()]\n",
    "    print(classes)"
   ]
  },
  {
   "cell_type": "code",
   "execution_count": 4,
   "metadata": {},
   "outputs": [
    {
     "name": "stdout",
     "output_type": "stream",
     "text": [
      "[[5.08232282e+01 1.07748641e+02 2.89673038e+01]\n",
      " [5.37304956e+01 9.97087313e+01 2.05644232e+02]\n",
      " [1.49335847e+02 2.25002570e+02 2.21486841e+02]\n",
      " [1.74147084e+02 9.02361475e+01 2.37123144e+01]\n",
      " [1.21375860e+02 1.60732222e+02 1.92820705e+02]\n",
      " [7.84876895e+01 1.50098977e+02 6.79513694e+00]\n",
      " [1.47684200e+02 1.35195098e+02 6.65227455e+01]\n",
      " [1.95008437e+02 1.70649810e+02 6.08865501e+00]\n",
      " [1.19269531e+02 8.18881579e+01 6.29186261e+01]\n",
      " [2.30526549e+02 1.48635632e+01 2.15440032e+02]\n",
      " [2.18913014e+02 2.95490091e+01 2.34469390e+02]\n",
      " [8.99502321e+01 6.68294781e+01 1.12072057e+02]\n",
      " [1.56166665e+02 2.16631697e+02 5.96575107e+01]\n",
      " [2.24456396e+02 1.47740930e+02 2.02301611e+02]\n",
      " [5.04043499e+01 4.29524312e+01 8.27246476e+01]\n",
      " [1.90974340e+02 9.08646735e+01 1.42913834e+02]\n",
      " [1.44342509e+01 4.37801354e+01 1.95941680e+02]\n",
      " [1.78330469e+02 2.06432444e+02 5.18498743e+00]\n",
      " [1.71809421e+02 3.54308950e+01 1.63197951e+01]\n",
      " [1.86334809e+02 3.50975799e+00 1.17715837e+01]\n",
      " [1.67127835e+02 7.75607789e+01 4.86669280e+01]\n",
      " [1.15004144e+02 1.75816209e+02 2.24979563e+02]\n",
      " [1.96488216e+02 1.96361410e+02 5.37530113e+01]\n",
      " [1.07534087e+02 6.54914342e+01 1.74011950e+02]\n",
      " [7.39335082e+01 7.14374247e+01 2.18150449e+01]\n",
      " [1.60130678e+02 4.30892872e+01 6.38919070e+00]\n",
      " [8.45290047e+01 1.59161728e+02 1.00419197e+02]\n",
      " [2.58708678e+01 5.40646280e+01 9.70137883e+01]\n",
      " [2.03548764e+02 1.00685264e+02 2.10508547e+02]\n",
      " [3.74632177e+01 1.56633269e+02 6.98304935e+01]\n",
      " [1.33936097e+02 1.47661203e+02 2.44641537e+02]\n",
      " [1.19089418e+01 1.80176990e+02 1.30668510e+02]\n",
      " [1.17953224e+02 7.99400620e+01 1.83306218e+02]\n",
      " [1.34162124e+02 1.53010747e+02 9.67076657e+01]\n",
      " [1.98310716e+02 9.93676508e+01 1.82387141e+02]\n",
      " [6.56003214e+01 2.18286839e+02 1.19457186e+02]\n",
      " [7.32267587e+01 4.02288851e+01 2.47392051e+02]\n",
      " [2.31190468e+02 2.37763778e+02 1.87031928e+02]\n",
      " [1.11931340e+01 3.84476002e+01 4.87198751e+01]\n",
      " [1.16047249e+02 2.27996099e+01 1.61470495e+02]\n",
      " [1.06972224e+02 8.41249896e+01 2.52958522e+02]\n",
      " [1.29122041e+02 7.72290733e+01 2.21230961e+02]\n",
      " [5.96673140e+01 2.17790554e+02 7.89849174e+01]\n",
      " [1.17613528e+02 6.67904421e+01 5.58211428e+01]\n",
      " [1.01066640e+02 1.97804320e+02 1.19815277e+01]\n",
      " [1.43095266e+02 1.56490203e+02 3.84014303e+00]\n",
      " [9.02212932e+01 1.54631628e+02 1.50998756e+02]\n",
      " [2.17650746e+01 2.20045370e+02 2.44950610e+02]\n",
      " [2.22580077e+02 1.91945070e+02 2.37738110e+02]\n",
      " [1.32546956e+02 8.48974214e+01 9.40369478e+01]\n",
      " [2.39894548e+02 9.72411693e+01 2.48926886e+02]\n",
      " [6.19059072e+01 1.48826321e+02 1.15377311e+02]\n",
      " [4.13401181e+01 1.31160076e+02 2.31487766e+02]\n",
      " [1.41918969e+02 7.44434091e+01 1.18984167e+02]\n",
      " [1.41170307e+02 1.31338299e+02 1.79023873e+02]\n",
      " [1.18093231e+02 2.24087489e-01 2.45731100e+02]\n",
      " [1.48547560e+02 1.61882496e+02 5.88689583e+01]\n",
      " [2.24993355e+02 2.21137288e+02 6.10248530e+01]\n",
      " [1.24331470e+02 8.79489811e+01 7.10129136e+00]\n",
      " [1.84570632e+02 1.88436301e+01 7.73807063e+01]\n",
      " [2.14588331e+02 1.84369519e+02 2.68282369e+01]\n",
      " [1.76062741e+02 2.41584076e+02 2.29421533e+02]\n",
      " [4.57655478e+01 4.73652403e+01 3.21418734e+01]\n",
      " [1.65174215e+02 7.73495330e+01 2.22726996e+02]\n",
      " [8.75023493e+01 1.31821303e+02 1.42205196e+02]\n",
      " [2.09968983e+02 1.00477555e+02 1.22399966e+02]\n",
      " [8.57389739e+01 3.06827201e+01 1.23536372e+02]\n",
      " [1.00103703e+02 1.26678455e+02 4.57339639e+01]\n",
      " [1.61810249e+02 5.65284959e+01 5.89270340e+01]\n",
      " [6.66349594e+01 1.53057754e+02 2.17088720e+02]\n",
      " [7.40190314e+01 1.36817879e+02 5.81095768e+01]\n",
      " [5.54756100e+01 4.20663265e+01 1.13193105e+02]\n",
      " [3.27056466e+01 5.62931249e+01 1.03556017e+02]\n",
      " [7.05720389e+01 1.39058141e+02 9.15356457e+01]\n",
      " [2.26221596e+01 9.65642483e+01 1.97403541e+02]\n",
      " [6.11968000e+01 7.98669181e+01 8.35246759e+01]\n",
      " [2.25774680e+02 2.17780564e+02 2.68925402e+01]\n",
      " [2.33937021e+02 2.31721333e+02 1.05694638e+02]\n",
      " [2.09319688e+02 1.77835881e+02 2.43550644e+02]\n",
      " [1.14820115e+02 1.31147966e+02 1.49157235e+02]]\n"
     ]
    }
   ],
   "source": [
    "# 랜덤의 색상 결정\n",
    "colors = np.random.uniform(0, 255, size=(len(classes), 3))\n",
    "print(colors)"
   ]
  },
  {
   "cell_type": "code",
   "execution_count": 5,
   "metadata": {},
   "outputs": [],
   "source": [
    "# net 변수에 로딩된 모델에서, 출력양식(인식된 사물의 추가정보) 설정 내용을 추출합니다\n",
    "layer_names = net.getLayerNames()\n",
    "output_layers = [layer_names[i[0] - 1] for i in net.getUnconnectedOutLayers()]"
   ]
  },
  {
   "cell_type": "code",
   "execution_count": 6,
   "metadata": {},
   "outputs": [],
   "source": [
    "# 이미지 로딩 & 크기 추출\n",
    "img = cv2.imread(\"image/shinchon_copy.jpg\")\n",
    "height, width, channels = img.shape"
   ]
  },
  {
   "cell_type": "code",
   "execution_count": 7,
   "metadata": {},
   "outputs": [],
   "source": [
    "# 이미지 형식 변환\n",
    "blob = cv2.dnn.blobFromImage(img, 0.00392, (416, 416), (0,0,0), True, crop=False)\n",
    "# 모델에 이미지 set\n",
    "net.setInput(blob)\n",
    "# 이미지 내부에 있는 사물 인식 실행\n",
    "outs = net.forward(output_layers)\n",
    "# 표시할 사물의 사각형 및 확률 등을 저장할 리스트 생성\n",
    "class_ids = []\n",
    "confidences = []\n",
    "boxes = []"
   ]
  },
  {
   "cell_type": "code",
   "execution_count": 8,
   "metadata": {},
   "outputs": [
    {
     "name": "stdout",
     "output_type": "stream",
     "text": [
      "(507, 85)\n"
     ]
    }
   ],
   "source": [
    "print(outs[0].shape)"
   ]
  },
  {
   "cell_type": "code",
   "execution_count": 9,
   "metadata": {},
   "outputs": [],
   "source": [
    "# 인식된 사물의 개수만큼 반복실행\n",
    "for out in outs:\n",
    "    # 인식된 사물의 판별 정보별로 반복실행\n",
    "    for detection in out:\n",
    "        # 인식 가능한 사물일 가능성이 담긴 확률들을 먼저 추출\n",
    "        scores = detection[5:]\n",
    "        # 확률들을 정렬하고 가장 높은 확률의 인덱스 추출\n",
    "        class_id = np.argmax(scores)\n",
    "        # 해당 인덱스의 확률 추출\n",
    "        confidence = scores[class_id]\n",
    "        # 추출한 확률이 50%(0.5 이상인 경우)\n",
    "        if confidence > min_confidence:\n",
    "            # 해당 사물의 중점 좌표 계산\n",
    "            center_x = int(detection[0] * width)\n",
    "            center_y = int(detection[1] * height)\n",
    "            # 가로 세로 길이 및 시작 좌표 계산\n",
    "            w = int(detection[2] * width)\n",
    "            h = int(detection[3] * height)\n",
    "            x = int(center_x - w / 2)\n",
    "            y = int(center_y - h / 2)\n",
    "            # 계산된 좌표 정보 및 확률 그리고 사물이름(class_id) 정보를 각 리스트에 저장합니다\n",
    "            boxes.append([x, y, w, h])\n",
    "            confidences.append(float(confidence))\n",
    "            class_ids.append(class_id)"
   ]
  },
  {
   "cell_type": "code",
   "execution_count": 10,
   "metadata": {},
   "outputs": [
    {
     "data": {
      "text/plain": [
       "[0, 0, 0, 0, 0, 0, 0, 0, 0]"
      ]
     },
     "execution_count": 10,
     "metadata": {},
     "output_type": "execute_result"
    }
   ],
   "source": [
    "class_ids"
   ]
  },
  {
   "cell_type": "code",
   "execution_count": 11,
   "metadata": {},
   "outputs": [
    {
     "name": "stdout",
     "output_type": "stream",
     "text": [
      "2 person\n",
      "4 person\n",
      "7 person\n"
     ]
    }
   ],
   "source": [
    "# 작성할 텍스트의 포트 설정\n",
    "font = cv2.FONT_HERSHEY_PLAIN\n",
    "\n",
    "# 인식된 사물에 대한 노이즈 제거작업(중복박스 제거)\n",
    "indexes = cv2.dnn.NMSBoxes(boxes, confidences, min_confidence, 0.4)\n",
    "# boxes : 사각형 정보들\n",
    "# confidences : 모든 박스들의 확률값\n",
    "# min_confidence : 1차 임계값\n",
    "# 0.4 : 동일 박스들에서 실제 사물에 해당되는 것을 제외한 나머지를 제거할 2차 임계값\n",
    "#       (표시할 box의 내용이 담긴 인덱스만 추출)\n",
    "\n",
    "for i in range(len(boxes)):\n",
    "    if i in indexes:\n",
    "        x, y, w, h = boxes[i]\n",
    "        label = str(classes[class_ids[i]])\n",
    "        print(i, label)\n",
    "        color = colors[i]\n",
    "        cv2.rectangle(img, (x, y), (x+w, y+h), color, 2)\n",
    "        cv2.putText(img, label, (x, y+30), font, 2, (0, 255, 0), 1)\n",
    "cv2.imshow(\"YOLO Image\", img)\n",
    "cv2.waitKey(0)\n",
    "cv2.destroyAllWindows()"
   ]
  }
 ],
 "metadata": {
  "kernelspec": {
   "display_name": "Python 3",
   "language": "python",
   "name": "python3"
  },
  "language_info": {
   "codemirror_mode": {
    "name": "ipython",
    "version": 3
   },
   "file_extension": ".py",
   "mimetype": "text/x-python",
   "name": "python",
   "nbconvert_exporter": "python",
   "pygments_lexer": "ipython3",
   "version": "3.8.5"
  },
  "varInspector": {
   "cols": {
    "lenName": 16,
    "lenType": 16,
    "lenVar": 40
   },
   "kernels_config": {
    "python": {
     "delete_cmd_postfix": "",
     "delete_cmd_prefix": "del ",
     "library": "var_list.py",
     "varRefreshCmd": "print(var_dic_list())"
    },
    "r": {
     "delete_cmd_postfix": ") ",
     "delete_cmd_prefix": "rm(",
     "library": "var_list.r",
     "varRefreshCmd": "cat(var_dic_list()) "
    }
   },
   "types_to_exclude": [
    "module",
    "function",
    "builtin_function_or_method",
    "instance",
    "_Feature"
   ],
   "window_display": false
  }
 },
 "nbformat": 4,
 "nbformat_minor": 4
}
