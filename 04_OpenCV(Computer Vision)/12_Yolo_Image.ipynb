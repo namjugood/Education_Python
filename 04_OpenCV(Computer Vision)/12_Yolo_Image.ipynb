{
 "cells": [
  {
   "cell_type": "code",
   "execution_count": 1,
   "metadata": {},
   "outputs": [],
   "source": [
    "import cv2\n",
    "import numpy as np\n",
    "min_confidence = 0.5"
   ]
  },
  {
   "cell_type": "code",
   "execution_count": 2,
   "metadata": {},
   "outputs": [],
   "source": [
    "# 모델 로딩\n",
    "net = cv2.dnn.readNet(\"yolo/yolov3.weights\", \"yolo/yolov3.cfg\")"
   ]
  },
  {
   "cell_type": "code",
   "execution_count": 3,
   "metadata": {},
   "outputs": [
    {
     "name": "stdout",
     "output_type": "stream",
     "text": [
      "['person', 'bicycle', 'car', 'motorbike', 'aeroplane', 'bus', 'train', 'truck', 'boat', 'traffic light', 'fire hydrant', 'stop sign', 'parking meter', 'bench', 'bird', 'cat', 'dog', 'horse', 'sheep', 'cow', 'elephant', 'bear', 'zebra', 'giraffe', 'backpack', 'umbrella', 'handbag', 'tie', 'suitcase', 'frisbee', 'skis', 'snowboard', 'sports ball', 'kite', 'baseball bat', 'baseball glove', 'skateboard', 'surfboard', 'tennis racket', 'bottle', 'wine glass', 'cup', 'fork', 'knife', 'spoon', 'bowl', 'banana', 'apple', 'sandwich', 'orange', 'broccoli', 'carrot', 'hot dog', 'pizza', 'donut', 'cake', 'chair', 'sofa', 'pottedplant', 'bed', 'diningtable', 'toilet', 'tvmonitor', 'laptop', 'mouse', 'remote', 'keyboard', 'cell phone', 'microwave', 'oven', 'toaster', 'sink', 'refrigerator', 'book', 'clock', 'vase', 'scissors', 'teddy bear', 'hair drier', 'toothbrush']\n"
     ]
    }
   ],
   "source": [
    "# 화면에 표시될 사물의 이름들을 기록한 파일을 열어서 로딩, 저장해둡니다\n",
    "with open(\"yolo/coco.names\", \"r\")as f:\n",
    "    classes = [line.strip() for line in f.readlines()]\n",
    "    print(classes)"
   ]
  },
  {
   "cell_type": "code",
   "execution_count": 4,
   "metadata": {},
   "outputs": [
    {
     "name": "stdout",
     "output_type": "stream",
     "text": [
      "[[138.76252197  94.51908763  32.35830485]\n",
      " [ 91.63851452 103.68945857   4.88476922]\n",
      " [110.34011773 148.80243748  53.51295001]\n",
      " [100.03143954  94.14607557  65.22162556]\n",
      " [ 45.42500275 246.70618628 126.50625312]\n",
      " [102.43132475  50.25902681 141.51531389]\n",
      " [110.48974537  79.44393509  59.53183826]\n",
      " [242.62994198 241.63424363 205.52524958]\n",
      " [130.38881237 193.43506387 113.48700899]\n",
      " [216.21124234  68.343151   176.88522907]\n",
      " [134.56314309 217.07896553 233.92968916]\n",
      " [ 72.25614487 116.74760559 100.81610047]\n",
      " [ 41.89495373  18.50489921  61.31135642]\n",
      " [100.76257752 145.31445912  76.48138883]\n",
      " [ 83.98992601  54.91798571 114.81488064]\n",
      " [ 71.46142719 223.6381611   40.48453118]\n",
      " [ 49.68610991 124.98921561 181.30473247]\n",
      " [139.61183312 151.05449913 240.01634833]\n",
      " [ 82.45153555   8.74445565 158.28181661]\n",
      " [ 73.13339177 144.05566249  49.52774721]\n",
      " [ 65.33130661 148.5152322   27.85216615]\n",
      " [ 97.13557228  11.23101922  21.97701114]\n",
      " [ 24.39216915 140.69606984  16.0273057 ]\n",
      " [233.73328298 209.23399815 251.9421105 ]\n",
      " [112.35204539 195.68064641  21.20540576]\n",
      " [231.63638258  73.61728746 146.82500274]\n",
      " [ 68.07548994  19.49565582 250.94013693]\n",
      " [242.99872818 200.05311332  50.02253102]\n",
      " [105.34296608  41.3065099  131.10289005]\n",
      " [  6.62665448 212.91905467 251.49106077]\n",
      " [  7.62555633  58.5308004  169.89592699]\n",
      " [157.51218216 204.99009552 239.13529528]\n",
      " [121.54078301  72.6894276   22.75729601]\n",
      " [220.49702674 237.46794708 201.61385282]\n",
      " [201.2259575   33.26632065 217.25235609]\n",
      " [ 57.02119913 141.88684265 128.45088487]\n",
      " [129.16866432  12.15382311   1.97585581]\n",
      " [ 97.54259993  47.76148097  62.67455076]\n",
      " [180.99430226 179.80686369  64.09394544]\n",
      " [218.41522692 111.9716844  175.88101963]\n",
      " [ 74.89860976  19.0881556  240.02349683]\n",
      " [ 24.5134657  220.175546   183.65057479]\n",
      " [ 70.23899595  60.22475316 107.17819026]\n",
      " [213.62807284  38.0511366  174.28900789]\n",
      " [169.92672936 248.96640535  36.77373462]\n",
      " [120.83446499  25.60186398  77.13637575]\n",
      " [213.90221511 246.33712949 163.56157038]\n",
      " [133.23783745 125.66908361  95.57825862]\n",
      " [211.64047064 134.89321896 124.98612162]\n",
      " [199.38872376  62.72360905  23.85587812]\n",
      " [198.18305988 117.08721906  40.2987922 ]\n",
      " [233.68819981 197.32183814  99.93448022]\n",
      " [232.1170402   94.63586041  62.41659536]\n",
      " [180.33597478  81.02013721  25.40462511]\n",
      " [130.23788835 214.37818126 214.01056955]\n",
      " [ 56.85745534 144.38194481   5.15584643]\n",
      " [205.2074756  250.76461146  45.22207547]\n",
      " [146.3634606   57.87076725 247.22709396]\n",
      " [252.53055456  74.88509289 190.37048502]\n",
      " [ 83.92562435  90.58936814  76.11784902]\n",
      " [220.91444239 247.40415039  17.57965029]\n",
      " [140.31304311  37.28993922 160.54724351]\n",
      " [166.01391818   0.75039332 136.25382332]\n",
      " [186.47402199 203.89504712 118.20280386]\n",
      " [ 76.17373128 146.35039118 115.01365518]\n",
      " [251.19438325 106.8836797  155.19581597]\n",
      " [ 44.15283095  17.76748635  25.40328693]\n",
      " [234.27620052 138.12146117  59.14780987]\n",
      " [239.6848252   88.96993412   4.50006002]\n",
      " [235.60500708 164.71401448 125.16022305]\n",
      " [162.78021211 253.70570406 117.56291018]\n",
      " [215.28015225 108.59043357  21.73304986]\n",
      " [ 53.68738243 185.43975871 233.50654646]\n",
      " [249.73097365 122.76564382 110.20756439]\n",
      " [237.23851644 226.17585358  14.66691452]\n",
      " [ 98.86152465  19.70109362 213.11428214]\n",
      " [211.35135429 227.37924294 110.30805873]\n",
      " [239.96376261 126.23375187 134.22321358]\n",
      " [  8.25813688  67.74648345   5.21882335]\n",
      " [128.69916957 198.20419971 220.31613957]]\n"
     ]
    }
   ],
   "source": [
    "# 랜덤의 색상 결정\n",
    "colors = np.random.uniform(0, 255, size=(len(classes), 3))\n",
    "print(colors)"
   ]
  },
  {
   "cell_type": "code",
   "execution_count": 5,
   "metadata": {},
   "outputs": [],
   "source": [
    "# net 변수에 로딩된 모델에서, 출력양식(인식된 사물의 추가정보) 설정 내용을 추출합니다\n",
    "layer_names = net.getLayerNames()\n",
    "output_layers = [layer_names[i[0] - 1] for i in net.getUnconnectedOutLayers()]"
   ]
  },
  {
   "cell_type": "code",
   "execution_count": 6,
   "metadata": {},
   "outputs": [],
   "source": [
    "# 이미지 로딩 & 크기 추출\n",
    "img = cv2.imread(\"image/yolo_01.jpg\")\n",
    "height, width, channels = img.shape"
   ]
  },
  {
   "cell_type": "code",
   "execution_count": 7,
   "metadata": {},
   "outputs": [],
   "source": [
    "# 이미지 형식 변환\n",
    "blob = cv2.dnn.blobFromImage(img, 0.00392, (416, 416), (0,0,0), True, crop=False)\n",
    "# 모델에 이미지 set\n",
    "net.setInput(blob)\n",
    "# 이미지 내부에 있는 사물 인식 실행\n",
    "outs = net.forward(output_layers)\n",
    "# 표시할 사물의 사각형 및 확률 등을 저장할 리스트 생성\n",
    "class_ids = []\n",
    "confidences = []\n",
    "boxes = []"
   ]
  },
  {
   "cell_type": "code",
   "execution_count": 8,
   "metadata": {},
   "outputs": [
    {
     "name": "stdout",
     "output_type": "stream",
     "text": [
      "(507, 85)\n"
     ]
    }
   ],
   "source": [
    "print(outs[0].shape)"
   ]
  },
  {
   "cell_type": "code",
   "execution_count": 9,
   "metadata": {},
   "outputs": [],
   "source": [
    "# 인식된 사물의 개수만큼 반복실행\n",
    "for out in outs:\n",
    "    # 인식된 사물의 판별 정보별로 반복실행\n",
    "    for detection in out:\n",
    "        # 인식 가능한 사물일 가능성이 담긴 확률들을 먼저 추출\n",
    "        scores = detection[5:]\n",
    "        # 확률들을 정렬하고 가장 높은 확률의 인덱스 추출\n",
    "        class_id = np.argmax(scores)\n",
    "        # 해당 인덱스의 확률 추출\n",
    "        confidence = scores[class_id]\n",
    "        # 추출한 확률이 50%(0.5 이상인 경우)\n",
    "        if confidence > min_confidence:\n",
    "            # 해당 사물의 중점 좌표 계산\n",
    "            center_x = int(detection[0] * width)\n",
    "            center_y = int(detection[1] * height)\n",
    "            # 가로 세로 길이 및 시작 좌표 계산\n",
    "            w = int(detection[2] * width)\n",
    "            h = int(detection[3] * height)\n",
    "            x = int(center_x - w / 2)\n",
    "            y = int(center_y - h / 2)\n",
    "            # 계산된 좌표 정보 및 확률 그리고 사물이름(class_id) 정보를 각 리스트에 저장합니다\n",
    "            boxes.append([x, y, w, h])\n",
    "            confidences.append(float(confidence))\n",
    "            class_ids.append(class_id)"
   ]
  },
  {
   "cell_type": "code",
   "execution_count": 10,
   "metadata": {},
   "outputs": [
    {
     "data": {
      "text/plain": [
       "[2, 2, 2, 2, 2, 2, 2, 2, 0, 0, 2, 2, 0, 0, 3, 3, 2, 0, 0, 2, 2, 0, 0, 0]"
      ]
     },
     "execution_count": 10,
     "metadata": {},
     "output_type": "execute_result"
    }
   ],
   "source": [
    "class_ids"
   ]
  },
  {
   "cell_type": "code",
   "execution_count": 11,
   "metadata": {},
   "outputs": [
    {
     "ename": "TypeError",
     "evalue": "only integer scalar arrays can be converted to a scalar index",
     "output_type": "error",
     "traceback": [
      "\u001b[1;31m---------------------------------------------------------------------------\u001b[0m",
      "\u001b[1;31mTypeError\u001b[0m                                 Traceback (most recent call last)",
      "\u001b[1;32m<ipython-input-11-29263333928a>\u001b[0m in \u001b[0;36m<module>\u001b[1;34m\u001b[0m\n\u001b[0;32m     12\u001b[0m \u001b[1;32mfor\u001b[0m \u001b[0mi\u001b[0m \u001b[1;32min\u001b[0m \u001b[0mrange\u001b[0m\u001b[1;33m(\u001b[0m\u001b[0mlen\u001b[0m\u001b[1;33m(\u001b[0m\u001b[0mboxes\u001b[0m\u001b[1;33m)\u001b[0m\u001b[1;33m)\u001b[0m\u001b[1;33m:\u001b[0m\u001b[1;33m\u001b[0m\u001b[1;33m\u001b[0m\u001b[0m\n\u001b[0;32m     13\u001b[0m     \u001b[1;32mfor\u001b[0m \u001b[0mi\u001b[0m \u001b[1;32min\u001b[0m \u001b[0mindexes\u001b[0m\u001b[1;33m:\u001b[0m\u001b[1;33m\u001b[0m\u001b[1;33m\u001b[0m\u001b[0m\n\u001b[1;32m---> 14\u001b[1;33m         \u001b[0mx\u001b[0m\u001b[1;33m,\u001b[0m \u001b[0my\u001b[0m\u001b[1;33m,\u001b[0m \u001b[0mw\u001b[0m\u001b[1;33m,\u001b[0m \u001b[0mh\u001b[0m \u001b[1;33m=\u001b[0m \u001b[0mboxes\u001b[0m\u001b[1;33m[\u001b[0m\u001b[0mi\u001b[0m\u001b[1;33m]\u001b[0m\u001b[1;33m\u001b[0m\u001b[1;33m\u001b[0m\u001b[0m\n\u001b[0m\u001b[0;32m     15\u001b[0m         \u001b[0mlabel\u001b[0m \u001b[1;33m=\u001b[0m \u001b[0mstr\u001b[0m\u001b[1;33m(\u001b[0m\u001b[0mclasses\u001b[0m\u001b[1;33m[\u001b[0m\u001b[0mclass_ids\u001b[0m\u001b[1;33m[\u001b[0m\u001b[0mi\u001b[0m\u001b[1;33m]\u001b[0m\u001b[1;33m]\u001b[0m\u001b[1;33m)\u001b[0m\u001b[1;33m\u001b[0m\u001b[1;33m\u001b[0m\u001b[0m\n\u001b[0;32m     16\u001b[0m         \u001b[0mprint\u001b[0m\u001b[1;33m(\u001b[0m\u001b[0mi\u001b[0m\u001b[1;33m,\u001b[0m \u001b[0mlabel\u001b[0m\u001b[1;33m)\u001b[0m\u001b[1;33m\u001b[0m\u001b[1;33m\u001b[0m\u001b[0m\n",
      "\u001b[1;31mTypeError\u001b[0m: only integer scalar arrays can be converted to a scalar index"
     ]
    }
   ],
   "source": [
    "# 작성할 텍스트의 포트 설정\n",
    "font = cv2.FONT_HERSHEY_PLAIN\n",
    "\n",
    "# 인식된 사물에 대한 노이즈 제거작업(중복박스 제거)\n",
    "indexes = cv2.dnn.NMSBoxes(boxes, confidences, min_confidence, 0.4)\n",
    "# boxes : 사각형 정보들\n",
    "# confidences : 모든 박스들의 확률값\n",
    "# min_confidence : 1차 임계값\n",
    "# 0.4 : 동일 박스들에서 실제 사물에 해당되는 것을 제외한 나머지를 제거할 2차 임계값\n",
    "#       (표시할 box의 내용이 담긴 인덱스만 추출)\n",
    "\n",
    "for i in range(len(boxes)):\n",
    "    for i in indexes:\n",
    "        x, y, w, h = boxes[i]\n",
    "        label = str(classes[class_ids[i]])\n",
    "        print(i, label)\n",
    "        color = colors[i]\n",
    "        cv2.rectangle(img, (x, y), (x+w, y+h), color, 2)\n",
    "        cv2.putText(img, label, (x, y+30), font, 2, (0, 255, 0), 1)\n",
    "cv2.imshow(\"YOLO Image\", img)\n",
    "cv2.waitKey(0)\n",
    "cv2.destroyAllWindows()"
   ]
  },
  {
   "cell_type": "code",
   "execution_count": null,
   "metadata": {},
   "outputs": [],
   "source": []
  }
 ],
 "metadata": {
  "kernelspec": {
   "display_name": "Python 3",
   "language": "python",
   "name": "python3"
  },
  "language_info": {
   "codemirror_mode": {
    "name": "ipython",
    "version": 3
   },
   "file_extension": ".py",
   "mimetype": "text/x-python",
   "name": "python",
   "nbconvert_exporter": "python",
   "pygments_lexer": "ipython3",
   "version": "3.8.5"
  },
  "varInspector": {
   "cols": {
    "lenName": 16,
    "lenType": 16,
    "lenVar": 40
   },
   "kernels_config": {
    "python": {
     "delete_cmd_postfix": "",
     "delete_cmd_prefix": "del ",
     "library": "var_list.py",
     "varRefreshCmd": "print(var_dic_list())"
    },
    "r": {
     "delete_cmd_postfix": ") ",
     "delete_cmd_prefix": "rm(",
     "library": "var_list.r",
     "varRefreshCmd": "cat(var_dic_list()) "
    }
   },
   "types_to_exclude": [
    "module",
    "function",
    "builtin_function_or_method",
    "instance",
    "_Feature"
   ],
   "window_display": false
  }
 },
 "nbformat": 4,
 "nbformat_minor": 4
}
