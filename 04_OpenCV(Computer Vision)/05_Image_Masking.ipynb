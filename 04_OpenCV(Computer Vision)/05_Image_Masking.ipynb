{
 "cells": [
  {
   "cell_type": "code",
   "execution_count": 1,
   "metadata": {},
   "outputs": [],
   "source": [
    "import cv2\n",
    "import numpy as np"
   ]
  },
  {
   "cell_type": "code",
   "execution_count": 2,
   "metadata": {},
   "outputs": [],
   "source": [
    "def readImg():\n",
    "    image = cv2.imread(\"./image/20200526.png\")\n",
    "    return image\n",
    "\n",
    "def showImg(image):\n",
    "    cv2.imshow(\"shinchon20200526\", image)\n",
    "    cv2.waitKey(0)\n",
    "    cv2.destroyAllWindows()\n",
    "img = readImg()\n",
    "showImg(img)"
   ]
  },
  {
   "cell_type": "code",
   "execution_count": 3,
   "metadata": {},
   "outputs": [],
   "source": [
    "(height, width) = img.shape[:2]\n",
    "center = (width // 2, height // 2)"
   ]
  },
  {
   "cell_type": "code",
   "execution_count": 6,
   "metadata": {},
   "outputs": [
    {
     "name": "stdout",
     "output_type": "stream",
     "text": [
      "(600, 600)\n",
      "[[0 0 0 ... 0 0 0]\n",
      " [0 0 0 ... 0 0 0]\n",
      " [0 0 0 ... 0 0 0]\n",
      " ...\n",
      " [0 0 0 ... 0 0 0]\n",
      " [0 0 0 ... 0 0 0]\n",
      " [0 0 0 ... 0 0 0]]\n"
     ]
    }
   ],
   "source": [
    "# 원ㅂ논 이미지와 가로 세로 비율이 똑같고, 모두 0으로 채워진 배열(이미지) 생성\n",
    "mask = np.zeros(img.shape[:2], dtype=\"uint8\")\n",
    "print(mask.shape)\n",
    "print(mask)\n",
    "showImg(mask)"
   ]
  },
  {
   "cell_type": "code",
   "execution_count": 8,
   "metadata": {},
   "outputs": [
    {
     "name": "stdout",
     "output_type": "stream",
     "text": [
      "[[0 0 0 ... 0 0 0]\n",
      " [0 0 0 ... 0 0 0]\n",
      " [0 0 0 ... 0 0 0]\n",
      " ...\n",
      " [0 0 0 ... 0 0 0]\n",
      " [0 0 0 ... 0 0 0]\n",
      " [0 0 0 ... 0 0 0]]\n"
     ]
    }
   ],
   "source": [
    "# 중점 좌표 center, 반지름 300짜리 원을 흰색으로 채워서 mask 이미지에 그림\n",
    "cv2.circle(mask, center, 300, (255,255,255), -1)\n",
    "print(mask)\n",
    "showImg(mask)"
   ]
  },
  {
   "cell_type": "code",
   "execution_count": 9,
   "metadata": {},
   "outputs": [],
   "source": [
    "# img와 mask 이미지를 mask 방식으로 합칩니다(and 연산 : 둘 다 True면 1, 아닌 나머지는 0)\n",
    "# mask 이미지의 원은 모두 1, 나머지는 0이므로 원의 내부에서 합쳐지는 img 이미지가 표시되고, 이미\n",
    "# 모두 0인 mask의 원 외부영역은 img 이미지에 무엇이 있든 모두 0으로 계산됨\n",
    "masked = cv2.bitwise_and(img, img, mask=mask)\n",
    "# () = 앞 img = img + mask 를 의미\n",
    "showImg(masked)"
   ]
  },
  {
   "cell_type": "code",
   "execution_count": null,
   "metadata": {},
   "outputs": [],
   "source": [
    "# 11111111 and 10100011  ->  10100011\n",
    "# 0과 and 연산된 A -> 0\n",
    "# 1과 and 연산된 A -> A"
   ]
  }
 ],
 "metadata": {
  "kernelspec": {
   "display_name": "Python 3",
   "language": "python",
   "name": "python3"
  },
  "language_info": {
   "codemirror_mode": {
    "name": "ipython",
    "version": 3
   },
   "file_extension": ".py",
   "mimetype": "text/x-python",
   "name": "python",
   "nbconvert_exporter": "python",
   "pygments_lexer": "ipython3",
   "version": "3.8.5"
  },
  "varInspector": {
   "cols": {
    "lenName": 16,
    "lenType": 16,
    "lenVar": 40
   },
   "kernels_config": {
    "python": {
     "delete_cmd_postfix": "",
     "delete_cmd_prefix": "del ",
     "library": "var_list.py",
     "varRefreshCmd": "print(var_dic_list())"
    },
    "r": {
     "delete_cmd_postfix": ") ",
     "delete_cmd_prefix": "rm(",
     "library": "var_list.r",
     "varRefreshCmd": "cat(var_dic_list()) "
    }
   },
   "types_to_exclude": [
    "module",
    "function",
    "builtin_function_or_method",
    "instance",
    "_Feature"
   ],
   "window_display": false
  }
 },
 "nbformat": 4,
 "nbformat_minor": 4
}
